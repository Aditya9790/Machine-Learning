{
  "nbformat": 4,
  "nbformat_minor": 0,
  "metadata": {
    "colab": {
      "name": "Linear Regression.ipynb",
      "provenance": [],
      "collapsed_sections": [],
      "mount_file_id": "1a_frM27TfPeRcW65x3NzmRuEI3BYG8M0",
      "authorship_tag": "ABX9TyM3m9E83hAvOjz5TjmSxrbf",
      "include_colab_link": true
    },
    "kernelspec": {
      "name": "python3",
      "display_name": "Python 3"
    },
    "language_info": {
      "name": "python"
    }
  },
  "cells": [
    {
      "cell_type": "markdown",
      "metadata": {
        "id": "view-in-github",
        "colab_type": "text"
      },
      "source": [
        "<a href=\"https://colab.research.google.com/github/Aditya9790/Machine-Learning/blob/main/Linear_Regression.ipynb\" target=\"_parent\"><img src=\"https://colab.research.google.com/assets/colab-badge.svg\" alt=\"Open In Colab\"/></a>"
      ]
    },
    {
      "cell_type": "code",
      "metadata": {
        "id": "leVNkpWRTVrH"
      },
      "source": [
        "import pandas as pd\n",
        "import numpy as np\n",
        "import matplotlib.pyplot as plt\n",
        "import seaborn as sns"
      ],
      "execution_count": null,
      "outputs": []
    },
    {
      "cell_type": "code",
      "metadata": {
        "colab": {
          "base_uri": "https://localhost:8080/"
        },
        "id": "vi98vTYSSL0E",
        "outputId": "10ac8633-83d2-44a9-b9f9-3535cea0c238"
      },
      "source": [
        "from google.colab import drive\n",
        "drive.mount('/content/drive')"
      ],
      "execution_count": null,
      "outputs": [
        {
          "output_type": "stream",
          "name": "stdout",
          "text": [
            "Drive already mounted at /content/drive; to attempt to forcibly remount, call drive.mount(\"/content/drive\", force_remount=True).\n"
          ]
        }
      ]
    },
    {
      "cell_type": "code",
      "source": [
        "health = '/content/drive/MyDrive/Colab Notebooks/healthdrink.xlsx'\n",
        "health_df = pd.read_excel(health)"
      ],
      "metadata": {
        "id": "e_7U6CvHQtlN"
      },
      "execution_count": null,
      "outputs": []
    },
    {
      "cell_type": "markdown",
      "metadata": {
        "id": "4Ntxa8teFfYO"
      },
      "source": [
        "#Linear Regression one Variable\n",
        "Build a model that calculates the salary of the person"
      ]
    },
    {
      "cell_type": "markdown",
      "metadata": {
        "id": "-1jsPbTu389C"
      },
      "source": [
        "## Taking insights from the data"
      ]
    },
    {
      "cell_type": "code",
      "metadata": {
        "colab": {
          "base_uri": "https://localhost:8080/",
          "height": 206
        },
        "id": "AWM2_NbeSVWi",
        "outputId": "8f2d9470-98f2-4a80-ae26-924e9d99065b"
      },
      "source": [
        "mba_file = '/content/drive/MyDrive/Colab Notebooks/MBA Salary.csv'\n",
        "mba_salary_df = pd.read_csv(mba_file)\n",
        "mba_salary_df.head()"
      ],
      "execution_count": null,
      "outputs": [
        {
          "output_type": "execute_result",
          "data": {
            "text/html": [
              "\n",
              "  <div id=\"df-9844e526-48bc-4a95-b73a-d2227782922c\">\n",
              "    <div class=\"colab-df-container\">\n",
              "      <div>\n",
              "<style scoped>\n",
              "    .dataframe tbody tr th:only-of-type {\n",
              "        vertical-align: middle;\n",
              "    }\n",
              "\n",
              "    .dataframe tbody tr th {\n",
              "        vertical-align: top;\n",
              "    }\n",
              "\n",
              "    .dataframe thead th {\n",
              "        text-align: right;\n",
              "    }\n",
              "</style>\n",
              "<table border=\"1\" class=\"dataframe\">\n",
              "  <thead>\n",
              "    <tr style=\"text-align: right;\">\n",
              "      <th></th>\n",
              "      <th>S. No.</th>\n",
              "      <th>Percentage in Grade 10</th>\n",
              "      <th>Salary</th>\n",
              "    </tr>\n",
              "  </thead>\n",
              "  <tbody>\n",
              "    <tr>\n",
              "      <th>0</th>\n",
              "      <td>1</td>\n",
              "      <td>62.00</td>\n",
              "      <td>270000</td>\n",
              "    </tr>\n",
              "    <tr>\n",
              "      <th>1</th>\n",
              "      <td>2</td>\n",
              "      <td>76.33</td>\n",
              "      <td>200000</td>\n",
              "    </tr>\n",
              "    <tr>\n",
              "      <th>2</th>\n",
              "      <td>3</td>\n",
              "      <td>72.00</td>\n",
              "      <td>240000</td>\n",
              "    </tr>\n",
              "    <tr>\n",
              "      <th>3</th>\n",
              "      <td>4</td>\n",
              "      <td>60.00</td>\n",
              "      <td>250000</td>\n",
              "    </tr>\n",
              "    <tr>\n",
              "      <th>4</th>\n",
              "      <td>5</td>\n",
              "      <td>61.00</td>\n",
              "      <td>180000</td>\n",
              "    </tr>\n",
              "  </tbody>\n",
              "</table>\n",
              "</div>\n",
              "      <button class=\"colab-df-convert\" onclick=\"convertToInteractive('df-9844e526-48bc-4a95-b73a-d2227782922c')\"\n",
              "              title=\"Convert this dataframe to an interactive table.\"\n",
              "              style=\"display:none;\">\n",
              "        \n",
              "  <svg xmlns=\"http://www.w3.org/2000/svg\" height=\"24px\"viewBox=\"0 0 24 24\"\n",
              "       width=\"24px\">\n",
              "    <path d=\"M0 0h24v24H0V0z\" fill=\"none\"/>\n",
              "    <path d=\"M18.56 5.44l.94 2.06.94-2.06 2.06-.94-2.06-.94-.94-2.06-.94 2.06-2.06.94zm-11 1L8.5 8.5l.94-2.06 2.06-.94-2.06-.94L8.5 2.5l-.94 2.06-2.06.94zm10 10l.94 2.06.94-2.06 2.06-.94-2.06-.94-.94-2.06-.94 2.06-2.06.94z\"/><path d=\"M17.41 7.96l-1.37-1.37c-.4-.4-.92-.59-1.43-.59-.52 0-1.04.2-1.43.59L10.3 9.45l-7.72 7.72c-.78.78-.78 2.05 0 2.83L4 21.41c.39.39.9.59 1.41.59.51 0 1.02-.2 1.41-.59l7.78-7.78 2.81-2.81c.8-.78.8-2.07 0-2.86zM5.41 20L4 18.59l7.72-7.72 1.47 1.35L5.41 20z\"/>\n",
              "  </svg>\n",
              "      </button>\n",
              "      \n",
              "  <style>\n",
              "    .colab-df-container {\n",
              "      display:flex;\n",
              "      flex-wrap:wrap;\n",
              "      gap: 12px;\n",
              "    }\n",
              "\n",
              "    .colab-df-convert {\n",
              "      background-color: #E8F0FE;\n",
              "      border: none;\n",
              "      border-radius: 50%;\n",
              "      cursor: pointer;\n",
              "      display: none;\n",
              "      fill: #1967D2;\n",
              "      height: 32px;\n",
              "      padding: 0 0 0 0;\n",
              "      width: 32px;\n",
              "    }\n",
              "\n",
              "    .colab-df-convert:hover {\n",
              "      background-color: #E2EBFA;\n",
              "      box-shadow: 0px 1px 2px rgba(60, 64, 67, 0.3), 0px 1px 3px 1px rgba(60, 64, 67, 0.15);\n",
              "      fill: #174EA6;\n",
              "    }\n",
              "\n",
              "    [theme=dark] .colab-df-convert {\n",
              "      background-color: #3B4455;\n",
              "      fill: #D2E3FC;\n",
              "    }\n",
              "\n",
              "    [theme=dark] .colab-df-convert:hover {\n",
              "      background-color: #434B5C;\n",
              "      box-shadow: 0px 1px 3px 1px rgba(0, 0, 0, 0.15);\n",
              "      filter: drop-shadow(0px 1px 2px rgba(0, 0, 0, 0.3));\n",
              "      fill: #FFFFFF;\n",
              "    }\n",
              "  </style>\n",
              "\n",
              "      <script>\n",
              "        const buttonEl =\n",
              "          document.querySelector('#df-9844e526-48bc-4a95-b73a-d2227782922c button.colab-df-convert');\n",
              "        buttonEl.style.display =\n",
              "          google.colab.kernel.accessAllowed ? 'block' : 'none';\n",
              "\n",
              "        async function convertToInteractive(key) {\n",
              "          const element = document.querySelector('#df-9844e526-48bc-4a95-b73a-d2227782922c');\n",
              "          const dataTable =\n",
              "            await google.colab.kernel.invokeFunction('convertToInteractive',\n",
              "                                                     [key], {});\n",
              "          if (!dataTable) return;\n",
              "\n",
              "          const docLinkHtml = 'Like what you see? Visit the ' +\n",
              "            '<a target=\"_blank\" href=https://colab.research.google.com/notebooks/data_table.ipynb>data table notebook</a>'\n",
              "            + ' to learn more about interactive tables.';\n",
              "          element.innerHTML = '';\n",
              "          dataTable['output_type'] = 'display_data';\n",
              "          await google.colab.output.renderOutput(dataTable, element);\n",
              "          const docLink = document.createElement('div');\n",
              "          docLink.innerHTML = docLinkHtml;\n",
              "          element.appendChild(docLink);\n",
              "        }\n",
              "      </script>\n",
              "    </div>\n",
              "  </div>\n",
              "  "
            ],
            "text/plain": [
              "   S. No.  Percentage in Grade 10  Salary\n",
              "0       1                   62.00  270000\n",
              "1       2                   76.33  200000\n",
              "2       3                   72.00  240000\n",
              "3       4                   60.00  250000\n",
              "4       5                   61.00  180000"
            ]
          },
          "metadata": {},
          "execution_count": 5
        }
      ]
    },
    {
      "cell_type": "code",
      "metadata": {
        "id": "_XHnWmXJTdlQ",
        "colab": {
          "base_uri": "https://localhost:8080/"
        },
        "outputId": "8785ae8e-19e0-44ab-9d58-f59911b7bf7f"
      },
      "source": [
        "# get more insights about data\n",
        "# As all values are numerical so no needed for preprocessing\n",
        "mba_salary_df.info()"
      ],
      "execution_count": null,
      "outputs": [
        {
          "output_type": "stream",
          "name": "stdout",
          "text": [
            "<class 'pandas.core.frame.DataFrame'>\n",
            "RangeIndex: 50 entries, 0 to 49\n",
            "Data columns (total 3 columns):\n",
            " #   Column                  Non-Null Count  Dtype  \n",
            "---  ------                  --------------  -----  \n",
            " 0   S. No.                  50 non-null     int64  \n",
            " 1   Percentage in Grade 10  50 non-null     float64\n",
            " 2   Salary                  50 non-null     int64  \n",
            "dtypes: float64(1), int64(2)\n",
            "memory usage: 1.3 KB\n"
          ]
        }
      ]
    },
    {
      "cell_type": "markdown",
      "metadata": {
        "id": "aJvy6SGw_4ok"
      },
      "source": [
        "Import staysmodel.api to estimate the regression coefficient $\\beta_0$ and $\\beta_1$ <br>\n",
        "Regression line will be \n",
        "$Y$ = $\\beta_0$ + $\\beta_1$$x$ + $\\epsilon$\n",
        "\n",
        "The OLS API will only estimate coefficient of X parameter $i.e.$ $\\beta_1$. <br>\n",
        "So to get $\\beta_0$ we will add a constant $1$ throughout the column."
      ]
    },
    {
      "cell_type": "code",
      "metadata": {
        "colab": {
          "base_uri": "https://localhost:8080/",
          "height": 261
        },
        "id": "QfkkeLh9_XKZ",
        "outputId": "37ecedcb-7008-4f0f-bd13-e40eaa644df4"
      },
      "source": [
        "# Here X is feature set/dependent variable and \n",
        "# Outcome variable is Y\n",
        "\n",
        "import statsmodels.api as sm\n",
        "X = sm.add_constant(mba_salary_df['Percentage in Grade 10'])\n",
        "X.head()"
      ],
      "execution_count": null,
      "outputs": [
        {
          "output_type": "stream",
          "name": "stderr",
          "text": [
            "/usr/local/lib/python3.7/dist-packages/statsmodels/tools/_testing.py:19: FutureWarning: pandas.util.testing is deprecated. Use the functions in the public API at pandas.testing instead.\n",
            "  import pandas.util.testing as tm\n"
          ]
        },
        {
          "output_type": "execute_result",
          "data": {
            "text/html": [
              "<div>\n",
              "<style scoped>\n",
              "    .dataframe tbody tr th:only-of-type {\n",
              "        vertical-align: middle;\n",
              "    }\n",
              "\n",
              "    .dataframe tbody tr th {\n",
              "        vertical-align: top;\n",
              "    }\n",
              "\n",
              "    .dataframe thead th {\n",
              "        text-align: right;\n",
              "    }\n",
              "</style>\n",
              "<table border=\"1\" class=\"dataframe\">\n",
              "  <thead>\n",
              "    <tr style=\"text-align: right;\">\n",
              "      <th></th>\n",
              "      <th>const</th>\n",
              "      <th>Percentage in Grade 10</th>\n",
              "    </tr>\n",
              "  </thead>\n",
              "  <tbody>\n",
              "    <tr>\n",
              "      <th>0</th>\n",
              "      <td>1.0</td>\n",
              "      <td>62.00</td>\n",
              "    </tr>\n",
              "    <tr>\n",
              "      <th>1</th>\n",
              "      <td>1.0</td>\n",
              "      <td>76.33</td>\n",
              "    </tr>\n",
              "    <tr>\n",
              "      <th>2</th>\n",
              "      <td>1.0</td>\n",
              "      <td>72.00</td>\n",
              "    </tr>\n",
              "    <tr>\n",
              "      <th>3</th>\n",
              "      <td>1.0</td>\n",
              "      <td>60.00</td>\n",
              "    </tr>\n",
              "    <tr>\n",
              "      <th>4</th>\n",
              "      <td>1.0</td>\n",
              "      <td>61.00</td>\n",
              "    </tr>\n",
              "  </tbody>\n",
              "</table>\n",
              "</div>"
            ],
            "text/plain": [
              "   const  Percentage in Grade 10\n",
              "0    1.0                   62.00\n",
              "1    1.0                   76.33\n",
              "2    1.0                   72.00\n",
              "3    1.0                   60.00\n",
              "4    1.0                   61.00"
            ]
          },
          "metadata": {},
          "execution_count": 7
        }
      ]
    },
    {
      "cell_type": "code",
      "metadata": {
        "colab": {
          "base_uri": "https://localhost:8080/"
        },
        "id": "sbPgQwImDNxL",
        "outputId": "74bc917d-135d-40c6-c39a-49e7012c61fb"
      },
      "source": [
        "Y = mba_salary_df['Salary'] # dependent variable\n",
        "Y.head()"
      ],
      "execution_count": null,
      "outputs": [
        {
          "output_type": "execute_result",
          "data": {
            "text/plain": [
              "0    270000\n",
              "1    200000\n",
              "2    240000\n",
              "3    250000\n",
              "4    180000\n",
              "Name: Salary, dtype: int64"
            ]
          },
          "metadata": {},
          "execution_count": 8
        }
      ]
    },
    {
      "cell_type": "markdown",
      "metadata": {
        "id": "JlYtM86HFSB4"
      },
      "source": [
        "## Split data into training, test and fit the model"
      ]
    },
    {
      "cell_type": "markdown",
      "metadata": {
        "id": "zEUtSvU03sC_"
      },
      "source": [
        "1. Now split the data randomly into training and validation set\n",
        "2. Trainig Data = Data used for model training\n",
        "> a. train_X = Training data of independent var<br>\n",
        "> b. train_Y = Training data of dependent var\n",
        "3. test Data = Data on which model will be tested after training\n",
        "> a. test_X = test data for $X$ $i.e.$ independent var<br>\n",
        "> b. test_Y = test data for $Y$ $i.e.$ dependent var<br>\n",
        "\n",
        "\n",
        "X_train, X_test, y_train, y_test = model_selection.train_test_split(X, y, train_size=\\*, random_state=\\*) <br>\n",
        "\n",
        "train_test_split takes four parameters\n",
        "\n",
        "1. X = Value of X\n",
        "2. Y = Value of Y\n",
        "3. test_size = Size of training data in % here 80% of data is used for training so 0.8\n",
        "4. random_stats = If we want to select our data randomly, generally taken as 42.<br>\n",
        "\n",
        "Now with use of OLS function and *fit*  method we will build the model.<br>\n",
        "\n",
        "sm.OLS takes two parameters **train_Y, train_X** this data is used for training the model.<br>\n",
        "1. First parameter train_Y = dependent variable\n",
        "2. Second Parameter train_X = The independent variable matrix $i.e.$ **X** in our case.\n"
      ]
    },
    {
      "cell_type": "code",
      "metadata": {
        "id": "JjYyFU61E58Y"
      },
      "source": [
        "from sklearn.model_selection import train_test_split\n",
        "train_X, test_X, train_Y, test_Y = train_test_split(X, Y, train_size = 0.8, random_state = 42)\n",
        "\n",
        "#print(len(train_X['const']), len(train_Y))\n",
        "\n",
        "# model_fitting\n",
        "mba_salary_LRM = sm.OLS(train_Y, train_X).fit()\n"
      ],
      "execution_count": null,
      "outputs": []
    },
    {
      "cell_type": "code",
      "metadata": {
        "colab": {
          "base_uri": "https://localhost:8080/"
        },
        "id": "ETudQiiuIEtC",
        "outputId": "8193fbeb-5443-4a7c-d8c2-125df8169c70"
      },
      "source": [
        "# here const = β0 and Percentage in Grade 10 = β1\n",
        "print(mba_salary_LRM.params)"
      ],
      "execution_count": null,
      "outputs": [
        {
          "output_type": "stream",
          "name": "stdout",
          "text": [
            "const                     106610.493930\n",
            "Percentage in Grade 10      2374.229302\n",
            "dtype: float64\n"
          ]
        }
      ]
    },
    {
      "cell_type": "markdown",
      "metadata": {
        "id": "hQm5qrto32xZ"
      },
      "source": [
        "MBA _salary = $\\beta_0$ +$\\beta_1x$\n",
        "\n",
        "MBA_salary = $const$ + $(Percentage\\_in \\_Grade\\_10)x$ <br><br>"
      ]
    },
    {
      "cell_type": "markdown",
      "metadata": {
        "id": "k7QW4Na4o83Q"
      },
      "source": [
        "## Following are the steps taken to validate our/ Diagnose our Model:<br>"
      ]
    },
    {
      "cell_type": "markdown",
      "metadata": {
        "id": "o-AN4_2i3lBc"
      },
      "source": [
        "1. Co-efficient of determination ($R^2$)\n",
        "2. Hypothests testing for Regression Coefficients\n",
        "3. Analysis of variance for overall model validity (ANOVA)(Mostly done for multiple Regression)\n",
        "4. Residual Analysis to validate the regression model assumptions\n",
        "5. Outlier Analysis"
      ]
    },
    {
      "cell_type": "code",
      "metadata": {
        "colab": {
          "base_uri": "https://localhost:8080/",
          "height": 322
        },
        "id": "G9yBbr9MngqA",
        "outputId": "6882bc8b-40de-4f15-dd32-8482d3b5298e"
      },
      "source": [
        "#1. Co-efficient of determination ( R^2 )\n",
        "# here R^2 is 0.092\n",
        "mba_salary_LRM.summary2()"
      ],
      "execution_count": null,
      "outputs": [
        {
          "output_type": "execute_result",
          "data": {
            "text/html": [
              "<table class=\"simpletable\">\n",
              "<tr>\n",
              "        <td>Model:</td>               <td>OLS</td>         <td>Adj. R-squared:</td>      <td>0.068</td>  \n",
              "</tr>\n",
              "<tr>\n",
              "  <td>Dependent Variable:</td>      <td>Salary</td>             <td>AIC:</td>          <td>1012.9356</td>\n",
              "</tr>\n",
              "<tr>\n",
              "         <td>Date:</td>        <td>2021-12-05 04:18</td>        <td>BIC:</td>          <td>1016.3133</td>\n",
              "</tr>\n",
              "<tr>\n",
              "   <td>No. Observations:</td>         <td>40</td>          <td>Log-Likelihood:</td>     <td>-504.47</td> \n",
              "</tr>\n",
              "<tr>\n",
              "       <td>Df Model:</td>              <td>1</td>           <td>F-statistic:</td>        <td>3.830</td>  \n",
              "</tr>\n",
              "<tr>\n",
              "     <td>Df Residuals:</td>           <td>38</td>        <td>Prob (F-statistic):</td>   <td>0.0577</td>  \n",
              "</tr>\n",
              "<tr>\n",
              "      <td>R-squared:</td>            <td>0.092</td>            <td>Scale:</td>        <td>5.5486e+09</td>\n",
              "</tr>\n",
              "</table>\n",
              "<table class=\"simpletable\">\n",
              "<tr>\n",
              "             <td></td>               <th>Coef.</th>     <th>Std.Err.</th>     <th>t</th>    <th>P>|t|</th>   <th>[0.025</th>      <th>0.975]</th>   \n",
              "</tr>\n",
              "<tr>\n",
              "  <th>const</th>                  <td>106610.4939</td> <td>78693.8223</td> <td>1.3548</td> <td>0.1835</td> <td>-52696.8208</td> <td>265917.8087</td>\n",
              "</tr>\n",
              "<tr>\n",
              "  <th>Percentage in Grade 10</th>  <td>2374.2293</td>   <td>1213.1166</td> <td>1.9571</td> <td>0.0577</td>  <td>-81.5968</td>    <td>4830.0554</td> \n",
              "</tr>\n",
              "</table>\n",
              "<table class=\"simpletable\">\n",
              "<tr>\n",
              "     <td>Omnibus:</td>    <td>0.978</td>  <td>Durbin-Watson:</td>   <td>2.242</td>\n",
              "</tr>\n",
              "<tr>\n",
              "  <td>Prob(Omnibus):</td> <td>0.613</td> <td>Jarque-Bera (JB):</td> <td>0.903</td>\n",
              "</tr>\n",
              "<tr>\n",
              "       <td>Skew:</td>     <td>0.147</td>     <td>Prob(JB):</td>     <td>0.637</td>\n",
              "</tr>\n",
              "<tr>\n",
              "     <td>Kurtosis:</td>   <td>2.326</td>  <td>Condition No.:</td>    <td>434</td> \n",
              "</tr>\n",
              "</table>"
            ],
            "text/plain": [
              "<class 'statsmodels.iolib.summary2.Summary'>\n",
              "\"\"\"\n",
              "                          Results: Ordinary least squares\n",
              "===================================================================================\n",
              "Model:                    OLS                   Adj. R-squared:          0.068     \n",
              "Dependent Variable:       Salary                AIC:                     1012.9356 \n",
              "Date:                     2021-12-05 04:18      BIC:                     1016.3133 \n",
              "No. Observations:         40                    Log-Likelihood:          -504.47   \n",
              "Df Model:                 1                     F-statistic:             3.830     \n",
              "Df Residuals:             38                    Prob (F-statistic):      0.0577    \n",
              "R-squared:                0.092                 Scale:                   5.5486e+09\n",
              "-----------------------------------------------------------------------------------\n",
              "                          Coef.     Std.Err.    t    P>|t|     [0.025      0.975]  \n",
              "-----------------------------------------------------------------------------------\n",
              "const                  106610.4939 78693.8223 1.3548 0.1835 -52696.8208 265917.8087\n",
              "Percentage in Grade 10   2374.2293  1213.1166 1.9571 0.0577    -81.5968   4830.0554\n",
              "-----------------------------------------------------------------------------------\n",
              "Omnibus:                    0.978              Durbin-Watson:                 2.242\n",
              "Prob(Omnibus):              0.613              Jarque-Bera (JB):              0.903\n",
              "Skew:                       0.147              Prob(JB):                      0.637\n",
              "Kurtosis:                   2.326              Condition No.:                 434  \n",
              "===================================================================================\n",
              "\n",
              "\"\"\""
            ]
          },
          "metadata": {},
          "execution_count": 11
        }
      ]
    },
    {
      "cell_type": "markdown",
      "metadata": {
        "id": "ln57bQlI0UAg"
      },
      "source": [
        "Here $p-value > \\alpha$<br>\n",
        "There is relation between $X$ and $Y$"
      ]
    },
    {
      "cell_type": "markdown",
      "metadata": {
        "id": "D4X1BfAq3jMS"
      },
      "source": [
        "## Residual Analysis"
      ]
    },
    {
      "cell_type": "markdown",
      "metadata": {
        "id": "iBpCC91w3eMG"
      },
      "source": [
        "While doing Residual Analysis Check:\n",
        "\n",
        "1. Errors Normally distributed or not = This can be checked by using p-p plot\n",
        "2. Variance of error is constant (Homoscedasticity\n",
        ") if $\\sigma^2$ not constant then called Heteroscedasticity\n",
        "3. Functional form  of regression is correct\n",
        "4. No outliers"
      ]
    },
    {
      "cell_type": "code",
      "metadata": {
        "colab": {
          "base_uri": "https://localhost:8080/",
          "height": 283
        },
        "id": "ZejyAsP4w_Sm",
        "outputId": "9cc32f55-efda-40e1-fee4-c30571d4a038"
      },
      "source": [
        "# Check Normal Distribution of Errors \n",
        "# Draw P-P Plot(Probability-Probability Plot) of residuals\n",
        "# Residuals are CDF of two probab distributions\n",
        "# i.e. theoretical probab vs sample probab\n",
        "\n",
        "# If the PP Plot is along the 45 degree line then we can say that \n",
        "# the error follow normal distribution\n",
        "residuals = mba_salary_LRM.resid\n",
        "pp_plot = sm.ProbPlot(residuals)\n",
        "pp_plot.ppplot(line = '45')\n",
        "plt.show()"
      ],
      "execution_count": null,
      "outputs": [
        {
          "output_type": "display_data",
          "data": {
            "image/png": "[encoded data removed]",
            "text/plain": [
              "<Figure size 432x288 with 1 Axes>"
            ]
          },
          "metadata": {
            "needs_background": "light"
          }
        }
      ]
    },
    {
      "cell_type": "code",
      "metadata": {
        "colab": {
          "base_uri": "https://localhost:8080/"
        },
        "id": "U8IFeCp154a6",
        "outputId": "1ad85f34-42fd-45ca-e1b3-781814b653cd"
      },
      "source": [
        "mba_salary_LRM.resid.head()"
      ],
      "execution_count": null,
      "outputs": [
        {
          "output_type": "execute_result",
          "data": {
            "text/plain": [
              "12    164690.372155\n",
              "4     -71438.481336\n",
              "37      5929.582379\n",
              "8     121803.319885\n",
              "3        935.747965\n",
              "dtype: float64"
            ]
          },
          "metadata": {},
          "execution_count": 13
        }
      ]
    },
    {
      "cell_type": "code",
      "metadata": {
        "colab": {
          "base_uri": "https://localhost:8080/",
          "height": 297
        },
        "id": "4fDMlbQv_2Er",
        "outputId": "48215a4c-7da3-471a-fced-d968154c4dde"
      },
      "source": [
        "X = np.linspace(30, 90, 100)\n",
        "Y = mba_salary_LRM.params[0] + np.dot(X, mba_salary_LRM.params[1])\n",
        "sns.scatterplot(data = mba_salary_df, y = 'Salary', x = 'Percentage in Grade 10')\n",
        "plt.plot(X, Y)"
      ],
      "execution_count": null,
      "outputs": [
        {
          "output_type": "execute_result",
          "data": {
            "text/plain": [
              "[<matplotlib.lines.Line2D at 0x7f937c3607d0>]"
            ]
          },
          "metadata": {},
          "execution_count": 14
        },
        {
          "output_type": "display_data",
          "data": {
            "image/png": "[encoded data removed]",
            "text/plain": [
              "<Figure size 432x288 with 1 Axes>"
            ]
          },
          "metadata": {
            "needs_background": "light"
          }
        }
      ]
    },
    {
      "cell_type": "code",
      "metadata": {
        "colab": {
          "base_uri": "https://localhost:8080/",
          "height": 313
        },
        "id": "4LstyJd1EaVX",
        "outputId": "e8225989-36a2-4f3d-af6d-0428a66399a5"
      },
      "source": [
        "# Variance of residuals constant (Homo scedasticity)\n",
        "def get_standard_values(vals):\n",
        "    return ((vals-vals.mean())/vals.std())\n",
        "\n",
        "plt.scatter(get_standard_values(mba_salary_LRM.fittedvalues), residuals)\n",
        "plt.xlabel('Predicted Values-->')\n",
        "plt.ylabel('Residuals-->')\n",
        "plt.title('Fig: Residual Plot')\n",
        "# Since plot is not scattered therefore the variance of the \n",
        "# residuals is constant."
      ],
      "execution_count": null,
      "outputs": [
        {
          "output_type": "execute_result",
          "data": {
            "text/plain": [
              "Text(0.5, 1.0, 'Fig: Residual Plot')"
            ]
          },
          "metadata": {},
          "execution_count": 15
        },
        {
          "output_type": "display_data",
          "data": {
            "image/png": "[encoded data removed]",
            "text/plain": [
              "<Figure size 432x288 with 1 Axes>"
            ]
          },
          "metadata": {
            "needs_background": "light"
          }
        }
      ]
    },
    {
      "cell_type": "markdown",
      "metadata": {
        "id": "GL56Aaeieqmo"
      },
      "source": [
        "## Outlier Analysis Methods"
      ]
    },
    {
      "cell_type": "markdown",
      "metadata": {
        "id": "GJcUnuKS3V2X"
      },
      "source": [
        "1. Z-Score\n",
        "2. Mahalanobis Distance\n",
        "3. Cook's Distance\n",
        "4. Leverage Values\n",
        "\n",
        "\\begin{align}\n",
        "        Z-Score = \\frac{Y_i - \\bar{Y}}{\\sigma_Y}\n",
        "    \\end{align}<br>\n",
        "\n",
        "If the z-score is between 3 and -3 then that observation is not an outlier.\n"
      ]
    },
    {
      "cell_type": "code",
      "metadata": {
        "colab": {
          "base_uri": "https://localhost:8080/",
          "height": 49
        },
        "id": "NWNXIQhJYiMl",
        "outputId": "62189c54-93de-47bc-b8b8-153471dfdb02"
      },
      "source": [
        "# Z-Score is the distance of the observation from mean of data\n",
        "from scipy.stats import zscore\n",
        "mba_salary_df['z_score'] = zscore(mba_salary_df.Salary)\n",
        "mba_salary_df[(mba_salary_df.z_score > 3.0) | (mba_salary_df.z_score < -3.0)]"
      ],
      "execution_count": null,
      "outputs": [
        {
          "output_type": "execute_result",
          "data": {
            "text/html": [
              "<div>\n",
              "<style scoped>\n",
              "    .dataframe tbody tr th:only-of-type {\n",
              "        vertical-align: middle;\n",
              "    }\n",
              "\n",
              "    .dataframe tbody tr th {\n",
              "        vertical-align: top;\n",
              "    }\n",
              "\n",
              "    .dataframe thead th {\n",
              "        text-align: right;\n",
              "    }\n",
              "</style>\n",
              "<table border=\"1\" class=\"dataframe\">\n",
              "  <thead>\n",
              "    <tr style=\"text-align: right;\">\n",
              "      <th></th>\n",
              "      <th>S. No.</th>\n",
              "      <th>Percentage in Grade 10</th>\n",
              "      <th>Salary</th>\n",
              "      <th>z_score</th>\n",
              "    </tr>\n",
              "  </thead>\n",
              "  <tbody>\n",
              "  </tbody>\n",
              "</table>\n",
              "</div>"
            ],
            "text/plain": [
              "Empty DataFrame\n",
              "Columns: [S. No., Percentage in Grade 10, Salary, z_score]\n",
              "Index: []"
            ]
          },
          "metadata": {},
          "execution_count": 16
        }
      ]
    },
    {
      "cell_type": "markdown",
      "metadata": {
        "id": "Q5SGZli8imi_"
      },
      "source": [
        "Since no values are beyonf the interval [-3.0, 3.0] so we do not get any output that means that there aren't any outliers in the given data"
      ]
    },
    {
      "cell_type": "markdown",
      "metadata": {
        "id": "nfPfY7zzyZnJ"
      },
      "source": [
        "## Accuracy of model and performing prediction\n",
        "\n",
        "Predction is made on test data and based on it the accuracy is calculated"
      ]
    },
    {
      "cell_type": "code",
      "metadata": {
        "colab": {
          "base_uri": "https://localhost:8080/"
        },
        "id": "p4F8iJzDgxpy",
        "outputId": "363a2690-0f9a-43b9-ac65-bd2588ac941a"
      },
      "source": [
        "# Model Variable is mba_salary_LRM\n",
        "# we will predict on X as we are predicting based on the \n",
        "# given values of X\n",
        "pred_y = mba_salary_LRM.predict(test_X)\n",
        "pred_y"
      ],
      "execution_count": null,
      "outputs": [
        {
          "output_type": "execute_result",
          "data": {
            "text/plain": [
              "13    303671.525975\n",
              "39    230070.417621\n",
              "30    284677.691561\n",
              "45    243318.617125\n",
              "17    269007.778169\n",
              "48    263309.627845\n",
              "26    225321.959017\n",
              "25    259985.706823\n",
              "32    237193.105526\n",
              "19    246690.022733\n",
              "dtype: float64"
            ]
          },
          "metadata": {},
          "execution_count": 17
        }
      ]
    },
    {
      "cell_type": "markdown",
      "metadata": {
        "id": "hl3--vKyzl_f"
      },
      "source": [
        "Measuring Accuracy\n",
        "\n",
        "1. Mean Square Error (MSE)\n",
        "2. Root Mean Squared Error (RMSE)\n",
        "3. Mean Absolute Percentage Error (MAPE)<br>\n",
        "\n",
        "This can be calculated with the help of **sklearn.matrics** liabrary"
      ]
    },
    {
      "cell_type": "code",
      "metadata": {
        "colab": {
          "base_uri": "https://localhost:8080/"
        },
        "id": "Wr196z6hzaY_",
        "outputId": "2468df1b-615f-4855-8f8c-07b703d4b6c6"
      },
      "source": [
        "from sklearn.metrics import r2_score, mean_squared_error\n",
        "# Error is calculated from two parameters\n",
        "# first test_Y(test data) and second pred_y(predicted value of Y)\n",
        "r2_error = np.abs(r2_score(test_Y, pred_y))\n",
        "r2_error"
      ],
      "execution_count": null,
      "outputs": [
        {
          "output_type": "execute_result",
          "data": {
            "text/plain": [
              "0.3805122592921434"
            ]
          },
          "metadata": {},
          "execution_count": 18
        }
      ]
    },
    {
      "cell_type": "markdown",
      "metadata": {
        "id": "umTml9w04lXL"
      },
      "source": [
        "Since r2_error = 0.1566458 <br>\n",
        "that means there is  $15.66\\%$ deviation from the origional or in the validation set"
      ]
    },
    {
      "cell_type": "markdown",
      "metadata": {
        "id": "LvyAMZxjM60T"
      },
      "source": [
        "## RMSE = Root Mean Squared Error\n",
        "\n",
        "\\begin{align}\n",
        "        RMSE = \\sqrt[2]{mean({Y-Y_i})}\n",
        "    \\end{align}<br>\n",
        "\n",
        "$Y = Actual\\ value\\  from\\   test data$<br>\n",
        "$Y_i = Predicted\\  value\\  from\\  model$"
      ]
    },
    {
      "cell_type": "code",
      "metadata": {
        "id": "Fq-DuxvV0VAt",
        "colab": {
          "base_uri": "https://localhost:8080/"
        },
        "outputId": "8def2e20-de87-48d4-9952-024caf9bb9e3"
      },
      "source": [
        "# RMSE = Root Mean Squared Error\n",
        "# Lower the RMSE better the model\n",
        "# test_Y = actual value & pred_Y = calculated from model\n",
        "rmse = np.sqrt(mean_squared_error(test_Y, pred_y))\n",
        "rmse"
      ],
      "execution_count": null,
      "outputs": [
        {
          "output_type": "execute_result",
          "data": {
            "text/plain": [
              "58996.22616661721"
            ]
          },
          "metadata": {},
          "execution_count": 19
        }
      ]
    },
    {
      "cell_type": "markdown",
      "metadata": {
        "id": "q8SWL1uJB7WQ"
      },
      "source": [
        "Here RMSE = 73458.04 which is quite high so our model is not actually very good"
      ]
    },
    {
      "cell_type": "markdown",
      "metadata": {
        "id": "AL31J_O7EhvO"
      },
      "source": [
        "# Multiple Regression\n",
        "Build the model from the data that predicts the sold price of a player."
      ]
    },
    {
      "cell_type": "markdown",
      "metadata": {
        "id": "9DHKs6-LFThO"
      },
      "source": [
        "##Taking insights from data\n",
        "\n",
        "Our model will look like:<br>\n",
        "$Y_i = \\beta_0 + \\beta_1x_{1i} + \\beta_2x_{2i}+......+\\beta_nx_{ni}$"
      ]
    },
    {
      "cell_type": "code",
      "metadata": {
        "colab": {
          "base_uri": "https://localhost:8080/"
        },
        "id": "lp9dijd3FAEn",
        "outputId": "ee3590ef-a33f-425e-daf2-85ae78d602bb"
      },
      "source": [
        "ipl_df = pd.read_csv('/content/drive/MyDrive/Colab Notebooks/IPL IMB381IPL2013.csv')\n",
        "ipl_df.head()"
      ],
      "execution_count": null,
      "outputs": [
        {
          "output_type": "execute_result",
          "data": {
            "text/html": [
              "<div>\n",
              "<style scoped>\n",
              "    .dataframe tbody tr th:only-of-type {\n",
              "        vertical-align: middle;\n",
              "    }\n",
              "\n",
              "    .dataframe tbody tr th {\n",
              "        vertical-align: top;\n",
              "    }\n",
              "\n",
              "    .dataframe thead th {\n",
              "        text-align: right;\n",
              "    }\n",
              "</style>\n",
              "<table border=\"1\" class=\"dataframe\">\n",
              "  <thead>\n",
              "    <tr style=\"text-align: right;\">\n",
              "      <th></th>\n",
              "      <th>Sl.NO.</th>\n",
              "      <th>PLAYER NAME</th>\n",
              "      <th>AGE</th>\n",
              "      <th>COUNTRY</th>\n",
              "      <th>TEAM</th>\n",
              "      <th>PLAYING ROLE</th>\n",
              "      <th>T-RUNS</th>\n",
              "      <th>T-WKTS</th>\n",
              "      <th>ODI-RUNS-S</th>\n",
              "      <th>ODI-SR-B</th>\n",
              "      <th>ODI-WKTS</th>\n",
              "      <th>ODI-SR-BL</th>\n",
              "      <th>CAPTAINCY EXP</th>\n",
              "      <th>RUNS-S</th>\n",
              "      <th>HS</th>\n",
              "      <th>AVE</th>\n",
              "      <th>SR-B</th>\n",
              "      <th>SIXERS</th>\n",
              "      <th>RUNS-C</th>\n",
              "      <th>WKTS</th>\n",
              "      <th>AVE-BL</th>\n",
              "      <th>ECON</th>\n",
              "      <th>SR-BL</th>\n",
              "      <th>AUCTION YEAR</th>\n",
              "      <th>BASE PRICE</th>\n",
              "      <th>SOLD PRICE</th>\n",
              "    </tr>\n",
              "  </thead>\n",
              "  <tbody>\n",
              "    <tr>\n",
              "      <th>0</th>\n",
              "      <td>1</td>\n",
              "      <td>Abdulla, YA</td>\n",
              "      <td>2</td>\n",
              "      <td>SA</td>\n",
              "      <td>KXIP</td>\n",
              "      <td>Allrounder</td>\n",
              "      <td>0</td>\n",
              "      <td>0</td>\n",
              "      <td>0</td>\n",
              "      <td>0.00</td>\n",
              "      <td>0</td>\n",
              "      <td>0.0</td>\n",
              "      <td>0</td>\n",
              "      <td>0</td>\n",
              "      <td>0</td>\n",
              "      <td>0.00</td>\n",
              "      <td>0.00</td>\n",
              "      <td>0</td>\n",
              "      <td>307</td>\n",
              "      <td>15</td>\n",
              "      <td>20.47</td>\n",
              "      <td>8.90</td>\n",
              "      <td>13.93</td>\n",
              "      <td>2009</td>\n",
              "      <td>50000</td>\n",
              "      <td>50000</td>\n",
              "    </tr>\n",
              "    <tr>\n",
              "      <th>1</th>\n",
              "      <td>2</td>\n",
              "      <td>Abdur Razzak</td>\n",
              "      <td>2</td>\n",
              "      <td>BAN</td>\n",
              "      <td>RCB</td>\n",
              "      <td>Bowler</td>\n",
              "      <td>214</td>\n",
              "      <td>18</td>\n",
              "      <td>657</td>\n",
              "      <td>71.41</td>\n",
              "      <td>185</td>\n",
              "      <td>37.6</td>\n",
              "      <td>0</td>\n",
              "      <td>0</td>\n",
              "      <td>0</td>\n",
              "      <td>0.00</td>\n",
              "      <td>0.00</td>\n",
              "      <td>0</td>\n",
              "      <td>29</td>\n",
              "      <td>0</td>\n",
              "      <td>0.00</td>\n",
              "      <td>14.50</td>\n",
              "      <td>0.00</td>\n",
              "      <td>2008</td>\n",
              "      <td>50000</td>\n",
              "      <td>50000</td>\n",
              "    </tr>\n",
              "    <tr>\n",
              "      <th>2</th>\n",
              "      <td>3</td>\n",
              "      <td>Agarkar, AB</td>\n",
              "      <td>2</td>\n",
              "      <td>IND</td>\n",
              "      <td>KKR</td>\n",
              "      <td>Bowler</td>\n",
              "      <td>571</td>\n",
              "      <td>58</td>\n",
              "      <td>1269</td>\n",
              "      <td>80.62</td>\n",
              "      <td>288</td>\n",
              "      <td>32.9</td>\n",
              "      <td>0</td>\n",
              "      <td>167</td>\n",
              "      <td>39</td>\n",
              "      <td>18.56</td>\n",
              "      <td>121.01</td>\n",
              "      <td>5</td>\n",
              "      <td>1059</td>\n",
              "      <td>29</td>\n",
              "      <td>36.52</td>\n",
              "      <td>8.81</td>\n",
              "      <td>24.90</td>\n",
              "      <td>2008</td>\n",
              "      <td>200000</td>\n",
              "      <td>350000</td>\n",
              "    </tr>\n",
              "    <tr>\n",
              "      <th>3</th>\n",
              "      <td>4</td>\n",
              "      <td>Ashwin, R</td>\n",
              "      <td>1</td>\n",
              "      <td>IND</td>\n",
              "      <td>CSK</td>\n",
              "      <td>Bowler</td>\n",
              "      <td>284</td>\n",
              "      <td>31</td>\n",
              "      <td>241</td>\n",
              "      <td>84.56</td>\n",
              "      <td>51</td>\n",
              "      <td>36.8</td>\n",
              "      <td>0</td>\n",
              "      <td>58</td>\n",
              "      <td>11</td>\n",
              "      <td>5.80</td>\n",
              "      <td>76.32</td>\n",
              "      <td>0</td>\n",
              "      <td>1125</td>\n",
              "      <td>49</td>\n",
              "      <td>22.96</td>\n",
              "      <td>6.23</td>\n",
              "      <td>22.14</td>\n",
              "      <td>2011</td>\n",
              "      <td>100000</td>\n",
              "      <td>850000</td>\n",
              "    </tr>\n",
              "    <tr>\n",
              "      <th>4</th>\n",
              "      <td>5</td>\n",
              "      <td>Badrinath, S</td>\n",
              "      <td>2</td>\n",
              "      <td>IND</td>\n",
              "      <td>CSK</td>\n",
              "      <td>Batsman</td>\n",
              "      <td>63</td>\n",
              "      <td>0</td>\n",
              "      <td>79</td>\n",
              "      <td>45.93</td>\n",
              "      <td>0</td>\n",
              "      <td>0.0</td>\n",
              "      <td>0</td>\n",
              "      <td>1317</td>\n",
              "      <td>71</td>\n",
              "      <td>32.93</td>\n",
              "      <td>120.71</td>\n",
              "      <td>28</td>\n",
              "      <td>0</td>\n",
              "      <td>0</td>\n",
              "      <td>0.00</td>\n",
              "      <td>0.00</td>\n",
              "      <td>0.00</td>\n",
              "      <td>2011</td>\n",
              "      <td>100000</td>\n",
              "      <td>800000</td>\n",
              "    </tr>\n",
              "  </tbody>\n",
              "</table>\n",
              "</div>"
            ],
            "text/plain": [
              "   Sl.NO.   PLAYER NAME  AGE  ... AUCTION YEAR BASE PRICE SOLD PRICE\n",
              "0       1   Abdulla, YA    2  ...         2009      50000      50000\n",
              "1       2  Abdur Razzak    2  ...         2008      50000      50000\n",
              "2       3   Agarkar, AB    2  ...         2008     200000     350000\n",
              "3       4     Ashwin, R    1  ...         2011     100000     850000\n",
              "4       5  Badrinath, S    2  ...         2011     100000     800000\n",
              "\n",
              "[5 rows x 26 columns]"
            ]
          },
          "metadata": {},
          "execution_count": 20
        }
      ]
    },
    {
      "cell_type": "markdown",
      "metadata": {
        "id": "RugoiMKgHGXe"
      },
      "source": [
        "Get the basic information from data and delete un necessary data like Sr No, Name that has no role to play in prediction."
      ]
    },
    {
      "cell_type": "code",
      "metadata": {
        "colab": {
          "base_uri": "https://localhost:8080/"
        },
        "id": "sN-l4Zq_FLSo",
        "outputId": "8273e705-efbd-4efb-fa23-e66091f712f1"
      },
      "source": [
        "ipl_df.info()"
      ],
      "execution_count": null,
      "outputs": [
        {
          "output_type": "stream",
          "name": "stdout",
          "text": [
            "<class 'pandas.core.frame.DataFrame'>\n",
            "RangeIndex: 130 entries, 0 to 129\n",
            "Data columns (total 26 columns):\n",
            " #   Column         Non-Null Count  Dtype  \n",
            "---  ------         --------------  -----  \n",
            " 0   Sl.NO.         130 non-null    int64  \n",
            " 1   PLAYER NAME    130 non-null    object \n",
            " 2   AGE            130 non-null    int64  \n",
            " 3   COUNTRY        130 non-null    object \n",
            " 4   TEAM           130 non-null    object \n",
            " 5   PLAYING ROLE   130 non-null    object \n",
            " 6   T-RUNS         130 non-null    int64  \n",
            " 7   T-WKTS         130 non-null    int64  \n",
            " 8   ODI-RUNS-S     130 non-null    int64  \n",
            " 9   ODI-SR-B       130 non-null    float64\n",
            " 10  ODI-WKTS       130 non-null    int64  \n",
            " 11  ODI-SR-BL      130 non-null    float64\n",
            " 12  CAPTAINCY EXP  130 non-null    int64  \n",
            " 13  RUNS-S         130 non-null    int64  \n",
            " 14  HS             130 non-null    int64  \n",
            " 15  AVE            130 non-null    float64\n",
            " 16  SR-B           130 non-null    float64\n",
            " 17  SIXERS         130 non-null    int64  \n",
            " 18  RUNS-C         130 non-null    int64  \n",
            " 19  WKTS           130 non-null    int64  \n",
            " 20  AVE-BL         130 non-null    float64\n",
            " 21  ECON           130 non-null    float64\n",
            " 22  SR-BL          130 non-null    float64\n",
            " 23  AUCTION YEAR   130 non-null    int64  \n",
            " 24  BASE PRICE     130 non-null    int64  \n",
            " 25  SOLD PRICE     130 non-null    int64  \n",
            "dtypes: float64(7), int64(15), object(4)\n",
            "memory usage: 26.5+ KB\n"
          ]
        }
      ]
    },
    {
      "cell_type": "markdown",
      "metadata": {
        "id": "ZI87scrUHY_i"
      },
      "source": [
        "## Choose relevant parameters\n",
        "Only take relevant features and store it in X_features.\n",
        "\n",
        "Using $data\\_frame\\_name['Param\\_Name'].unique()$ we can get all the categories in the particular column.<br>\n",
        "\n",
        "Here in Playing Role we have Allrounder, Bowler, etc"
      ]
    },
    {
      "cell_type": "code",
      "metadata": {
        "colab": {
          "base_uri": "https://localhost:8080/"
        },
        "id": "YIKqeljpG5XQ",
        "outputId": "cbbb021a-05fc-4e3f-979e-204782c0daa5"
      },
      "source": [
        "X_features = ['AGE', 'COUNTRY', 'PLAYING ROLE',\n",
        "       'T-RUNS', 'T-WKTS', 'ODI-RUNS-S', 'ODI-SR-B', 'ODI-WKTS', 'ODI-SR-BL',\n",
        "       'CAPTAINCY EXP', 'RUNS-S', 'HS', 'AVE', 'SR-B', 'SIXERS', 'RUNS-C',\n",
        "       'WKTS', 'AVE-BL', 'ECON', 'SR-BL']\n",
        "\n",
        "# We need to encode categorical variables like COUNTRY, CAPTAINCY so that we can predict\n",
        "ipl_df['PLAYING ROLE'].unique()"
      ],
      "execution_count": null,
      "outputs": [
        {
          "output_type": "execute_result",
          "data": {
            "text/plain": [
              "array(['Allrounder', 'Bowler', 'Batsman', 'W. Keeper'], dtype=object)"
            ]
          },
          "metadata": {},
          "execution_count": 22
        }
      ]
    },
    {
      "cell_type": "code",
      "metadata": {
        "id": "xw4VFlarLu38",
        "colab": {
          "base_uri": "https://localhost:8080/"
        },
        "outputId": "cad5b327-0ccc-42a1-85fd-1b9a7f553a10"
      },
      "source": [
        "# Create a dummy variable for Playing Role\n",
        "\n",
        "pd.get_dummies(ipl_df['PLAYING ROLE'], drop_first=True).head(5)"
      ],
      "execution_count": null,
      "outputs": [
        {
          "output_type": "execute_result",
          "data": {
            "text/html": [
              "<div>\n",
              "<style scoped>\n",
              "    .dataframe tbody tr th:only-of-type {\n",
              "        vertical-align: middle;\n",
              "    }\n",
              "\n",
              "    .dataframe tbody tr th {\n",
              "        vertical-align: top;\n",
              "    }\n",
              "\n",
              "    .dataframe thead th {\n",
              "        text-align: right;\n",
              "    }\n",
              "</style>\n",
              "<table border=\"1\" class=\"dataframe\">\n",
              "  <thead>\n",
              "    <tr style=\"text-align: right;\">\n",
              "      <th></th>\n",
              "      <th>Batsman</th>\n",
              "      <th>Bowler</th>\n",
              "      <th>W. Keeper</th>\n",
              "    </tr>\n",
              "  </thead>\n",
              "  <tbody>\n",
              "    <tr>\n",
              "      <th>0</th>\n",
              "      <td>0</td>\n",
              "      <td>0</td>\n",
              "      <td>0</td>\n",
              "    </tr>\n",
              "    <tr>\n",
              "      <th>1</th>\n",
              "      <td>0</td>\n",
              "      <td>1</td>\n",
              "      <td>0</td>\n",
              "    </tr>\n",
              "    <tr>\n",
              "      <th>2</th>\n",
              "      <td>0</td>\n",
              "      <td>1</td>\n",
              "      <td>0</td>\n",
              "    </tr>\n",
              "    <tr>\n",
              "      <th>3</th>\n",
              "      <td>0</td>\n",
              "      <td>1</td>\n",
              "      <td>0</td>\n",
              "    </tr>\n",
              "    <tr>\n",
              "      <th>4</th>\n",
              "      <td>1</td>\n",
              "      <td>0</td>\n",
              "      <td>0</td>\n",
              "    </tr>\n",
              "  </tbody>\n",
              "</table>\n",
              "</div>"
            ],
            "text/plain": [
              "   Batsman  Bowler  W. Keeper\n",
              "0        0       0          0\n",
              "1        0       1          0\n",
              "2        0       1          0\n",
              "3        0       1          0\n",
              "4        1       0          0"
            ]
          },
          "metadata": {},
          "execution_count": 23
        }
      ]
    },
    {
      "cell_type": "code",
      "metadata": {
        "colab": {
          "base_uri": "https://localhost:8080/"
        },
        "id": "1VYRXhVOMvOg",
        "outputId": "2e08ab22-de78-404d-e58d-4582791be444"
      },
      "source": [
        "# We will create n-1 dummy variables as we did for PLAYING ROLE\n",
        "pd.get_dummies(ipl_df['PLAYING ROLE'], drop_first=True).head()\n",
        "\n",
        "categorical_features = ['AGE', 'COUNTRY', 'PLAYING ROLE', 'CAPTAINCY EXP']\n",
        "\n",
        "# pd.get_dummies(data_frame, columns)\n",
        "# here we have to mention column names of the columns\n",
        "# on which we want to do encoding\n",
        "ipl_df_encoded = pd.get_dummies(ipl_df[X_features], columns = categorical_features, drop_first=True)\n",
        "ipl_df_encoded.head()"
      ],
      "execution_count": null,
      "outputs": [
        {
          "output_type": "execute_result",
          "data": {
            "text/html": [
              "<div>\n",
              "<style scoped>\n",
              "    .dataframe tbody tr th:only-of-type {\n",
              "        vertical-align: middle;\n",
              "    }\n",
              "\n",
              "    .dataframe tbody tr th {\n",
              "        vertical-align: top;\n",
              "    }\n",
              "\n",
              "    .dataframe thead th {\n",
              "        text-align: right;\n",
              "    }\n",
              "</style>\n",
              "<table border=\"1\" class=\"dataframe\">\n",
              "  <thead>\n",
              "    <tr style=\"text-align: right;\">\n",
              "      <th></th>\n",
              "      <th>T-RUNS</th>\n",
              "      <th>T-WKTS</th>\n",
              "      <th>ODI-RUNS-S</th>\n",
              "      <th>ODI-SR-B</th>\n",
              "      <th>ODI-WKTS</th>\n",
              "      <th>ODI-SR-BL</th>\n",
              "      <th>RUNS-S</th>\n",
              "      <th>HS</th>\n",
              "      <th>AVE</th>\n",
              "      <th>SR-B</th>\n",
              "      <th>SIXERS</th>\n",
              "      <th>RUNS-C</th>\n",
              "      <th>WKTS</th>\n",
              "      <th>AVE-BL</th>\n",
              "      <th>ECON</th>\n",
              "      <th>SR-BL</th>\n",
              "      <th>AGE_2</th>\n",
              "      <th>AGE_3</th>\n",
              "      <th>COUNTRY_BAN</th>\n",
              "      <th>COUNTRY_ENG</th>\n",
              "      <th>COUNTRY_IND</th>\n",
              "      <th>COUNTRY_NZ</th>\n",
              "      <th>COUNTRY_PAK</th>\n",
              "      <th>COUNTRY_SA</th>\n",
              "      <th>COUNTRY_SL</th>\n",
              "      <th>COUNTRY_WI</th>\n",
              "      <th>COUNTRY_ZIM</th>\n",
              "      <th>PLAYING ROLE_Batsman</th>\n",
              "      <th>PLAYING ROLE_Bowler</th>\n",
              "      <th>PLAYING ROLE_W. Keeper</th>\n",
              "      <th>CAPTAINCY EXP_1</th>\n",
              "    </tr>\n",
              "  </thead>\n",
              "  <tbody>\n",
              "    <tr>\n",
              "      <th>0</th>\n",
              "      <td>0</td>\n",
              "      <td>0</td>\n",
              "      <td>0</td>\n",
              "      <td>0.00</td>\n",
              "      <td>0</td>\n",
              "      <td>0.0</td>\n",
              "      <td>0</td>\n",
              "      <td>0</td>\n",
              "      <td>0.00</td>\n",
              "      <td>0.00</td>\n",
              "      <td>0</td>\n",
              "      <td>307</td>\n",
              "      <td>15</td>\n",
              "      <td>20.47</td>\n",
              "      <td>8.90</td>\n",
              "      <td>13.93</td>\n",
              "      <td>1</td>\n",
              "      <td>0</td>\n",
              "      <td>0</td>\n",
              "      <td>0</td>\n",
              "      <td>0</td>\n",
              "      <td>0</td>\n",
              "      <td>0</td>\n",
              "      <td>1</td>\n",
              "      <td>0</td>\n",
              "      <td>0</td>\n",
              "      <td>0</td>\n",
              "      <td>0</td>\n",
              "      <td>0</td>\n",
              "      <td>0</td>\n",
              "      <td>0</td>\n",
              "    </tr>\n",
              "    <tr>\n",
              "      <th>1</th>\n",
              "      <td>214</td>\n",
              "      <td>18</td>\n",
              "      <td>657</td>\n",
              "      <td>71.41</td>\n",
              "      <td>185</td>\n",
              "      <td>37.6</td>\n",
              "      <td>0</td>\n",
              "      <td>0</td>\n",
              "      <td>0.00</td>\n",
              "      <td>0.00</td>\n",
              "      <td>0</td>\n",
              "      <td>29</td>\n",
              "      <td>0</td>\n",
              "      <td>0.00</td>\n",
              "      <td>14.50</td>\n",
              "      <td>0.00</td>\n",
              "      <td>1</td>\n",
              "      <td>0</td>\n",
              "      <td>1</td>\n",
              "      <td>0</td>\n",
              "      <td>0</td>\n",
              "      <td>0</td>\n",
              "      <td>0</td>\n",
              "      <td>0</td>\n",
              "      <td>0</td>\n",
              "      <td>0</td>\n",
              "      <td>0</td>\n",
              "      <td>0</td>\n",
              "      <td>1</td>\n",
              "      <td>0</td>\n",
              "      <td>0</td>\n",
              "    </tr>\n",
              "    <tr>\n",
              "      <th>2</th>\n",
              "      <td>571</td>\n",
              "      <td>58</td>\n",
              "      <td>1269</td>\n",
              "      <td>80.62</td>\n",
              "      <td>288</td>\n",
              "      <td>32.9</td>\n",
              "      <td>167</td>\n",
              "      <td>39</td>\n",
              "      <td>18.56</td>\n",
              "      <td>121.01</td>\n",
              "      <td>5</td>\n",
              "      <td>1059</td>\n",
              "      <td>29</td>\n",
              "      <td>36.52</td>\n",
              "      <td>8.81</td>\n",
              "      <td>24.90</td>\n",
              "      <td>1</td>\n",
              "      <td>0</td>\n",
              "      <td>0</td>\n",
              "      <td>0</td>\n",
              "      <td>1</td>\n",
              "      <td>0</td>\n",
              "      <td>0</td>\n",
              "      <td>0</td>\n",
              "      <td>0</td>\n",
              "      <td>0</td>\n",
              "      <td>0</td>\n",
              "      <td>0</td>\n",
              "      <td>1</td>\n",
              "      <td>0</td>\n",
              "      <td>0</td>\n",
              "    </tr>\n",
              "    <tr>\n",
              "      <th>3</th>\n",
              "      <td>284</td>\n",
              "      <td>31</td>\n",
              "      <td>241</td>\n",
              "      <td>84.56</td>\n",
              "      <td>51</td>\n",
              "      <td>36.8</td>\n",
              "      <td>58</td>\n",
              "      <td>11</td>\n",
              "      <td>5.80</td>\n",
              "      <td>76.32</td>\n",
              "      <td>0</td>\n",
              "      <td>1125</td>\n",
              "      <td>49</td>\n",
              "      <td>22.96</td>\n",
              "      <td>6.23</td>\n",
              "      <td>22.14</td>\n",
              "      <td>0</td>\n",
              "      <td>0</td>\n",
              "      <td>0</td>\n",
              "      <td>0</td>\n",
              "      <td>1</td>\n",
              "      <td>0</td>\n",
              "      <td>0</td>\n",
              "      <td>0</td>\n",
              "      <td>0</td>\n",
              "      <td>0</td>\n",
              "      <td>0</td>\n",
              "      <td>0</td>\n",
              "      <td>1</td>\n",
              "      <td>0</td>\n",
              "      <td>0</td>\n",
              "    </tr>\n",
              "    <tr>\n",
              "      <th>4</th>\n",
              "      <td>63</td>\n",
              "      <td>0</td>\n",
              "      <td>79</td>\n",
              "      <td>45.93</td>\n",
              "      <td>0</td>\n",
              "      <td>0.0</td>\n",
              "      <td>1317</td>\n",
              "      <td>71</td>\n",
              "      <td>32.93</td>\n",
              "      <td>120.71</td>\n",
              "      <td>28</td>\n",
              "      <td>0</td>\n",
              "      <td>0</td>\n",
              "      <td>0.00</td>\n",
              "      <td>0.00</td>\n",
              "      <td>0.00</td>\n",
              "      <td>1</td>\n",
              "      <td>0</td>\n",
              "      <td>0</td>\n",
              "      <td>0</td>\n",
              "      <td>1</td>\n",
              "      <td>0</td>\n",
              "      <td>0</td>\n",
              "      <td>0</td>\n",
              "      <td>0</td>\n",
              "      <td>0</td>\n",
              "      <td>0</td>\n",
              "      <td>1</td>\n",
              "      <td>0</td>\n",
              "      <td>0</td>\n",
              "      <td>0</td>\n",
              "    </tr>\n",
              "  </tbody>\n",
              "</table>\n",
              "</div>"
            ],
            "text/plain": [
              "   T-RUNS  T-WKTS  ...  PLAYING ROLE_W. Keeper  CAPTAINCY EXP_1\n",
              "0       0       0  ...                       0                0\n",
              "1     214      18  ...                       0                0\n",
              "2     571      58  ...                       0                0\n",
              "3     284      31  ...                       0                0\n",
              "4      63       0  ...                       0                0\n",
              "\n",
              "[5 rows x 31 columns]"
            ]
          },
          "metadata": {},
          "execution_count": 24
        }
      ]
    },
    {
      "cell_type": "code",
      "metadata": {
        "colab": {
          "base_uri": "https://localhost:8080/"
        },
        "id": "d3gOZrNcPNRE",
        "outputId": "99f9d847-f4cc-4be0-b2bf-0bd615a69405"
      },
      "source": [
        "# All the categorical variables will be changes into numerical variables\n",
        "ipl_df_encoded.info()"
      ],
      "execution_count": null,
      "outputs": [
        {
          "output_type": "stream",
          "name": "stdout",
          "text": [
            "<class 'pandas.core.frame.DataFrame'>\n",
            "RangeIndex: 130 entries, 0 to 129\n",
            "Data columns (total 31 columns):\n",
            " #   Column                  Non-Null Count  Dtype  \n",
            "---  ------                  --------------  -----  \n",
            " 0   T-RUNS                  130 non-null    int64  \n",
            " 1   T-WKTS                  130 non-null    int64  \n",
            " 2   ODI-RUNS-S              130 non-null    int64  \n",
            " 3   ODI-SR-B                130 non-null    float64\n",
            " 4   ODI-WKTS                130 non-null    int64  \n",
            " 5   ODI-SR-BL               130 non-null    float64\n",
            " 6   RUNS-S                  130 non-null    int64  \n",
            " 7   HS                      130 non-null    int64  \n",
            " 8   AVE                     130 non-null    float64\n",
            " 9   SR-B                    130 non-null    float64\n",
            " 10  SIXERS                  130 non-null    int64  \n",
            " 11  RUNS-C                  130 non-null    int64  \n",
            " 12  WKTS                    130 non-null    int64  \n",
            " 13  AVE-BL                  130 non-null    float64\n",
            " 14  ECON                    130 non-null    float64\n",
            " 15  SR-BL                   130 non-null    float64\n",
            " 16  AGE_2                   130 non-null    uint8  \n",
            " 17  AGE_3                   130 non-null    uint8  \n",
            " 18  COUNTRY_BAN             130 non-null    uint8  \n",
            " 19  COUNTRY_ENG             130 non-null    uint8  \n",
            " 20  COUNTRY_IND             130 non-null    uint8  \n",
            " 21  COUNTRY_NZ              130 non-null    uint8  \n",
            " 22  COUNTRY_PAK             130 non-null    uint8  \n",
            " 23  COUNTRY_SA              130 non-null    uint8  \n",
            " 24  COUNTRY_SL              130 non-null    uint8  \n",
            " 25  COUNTRY_WI              130 non-null    uint8  \n",
            " 26  COUNTRY_ZIM             130 non-null    uint8  \n",
            " 27  PLAYING ROLE_Batsman    130 non-null    uint8  \n",
            " 28  PLAYING ROLE_Bowler     130 non-null    uint8  \n",
            " 29  PLAYING ROLE_W. Keeper  130 non-null    uint8  \n",
            " 30  CAPTAINCY EXP_1         130 non-null    uint8  \n",
            "dtypes: float64(7), int64(9), uint8(15)\n",
            "memory usage: 18.3 KB\n"
          ]
        }
      ]
    },
    {
      "cell_type": "code",
      "metadata": {
        "colab": {
          "base_uri": "https://localhost:8080/"
        },
        "id": "vMXL687qPuh9",
        "outputId": "4c526a31-b023-4f1a-adaa-349eab7b36d3"
      },
      "source": [
        "# Reassign all the encoded columns to X-Features so that\n",
        "# X_features will be having these new features\n",
        "# We have changes X_features\n",
        "X_features = ipl_df_encoded.columns\n",
        "X_features"
      ],
      "execution_count": null,
      "outputs": [
        {
          "output_type": "execute_result",
          "data": {
            "text/plain": [
              "Index(['T-RUNS', 'T-WKTS', 'ODI-RUNS-S', 'ODI-SR-B', 'ODI-WKTS', 'ODI-SR-BL',\n",
              "       'RUNS-S', 'HS', 'AVE', 'SR-B', 'SIXERS', 'RUNS-C', 'WKTS', 'AVE-BL',\n",
              "       'ECON', 'SR-BL', 'AGE_2', 'AGE_3', 'COUNTRY_BAN', 'COUNTRY_ENG',\n",
              "       'COUNTRY_IND', 'COUNTRY_NZ', 'COUNTRY_PAK', 'COUNTRY_SA', 'COUNTRY_SL',\n",
              "       'COUNTRY_WI', 'COUNTRY_ZIM', 'PLAYING ROLE_Batsman',\n",
              "       'PLAYING ROLE_Bowler', 'PLAYING ROLE_W. Keeper', 'CAPTAINCY EXP_1'],\n",
              "      dtype='object')"
            ]
          },
          "metadata": {},
          "execution_count": 26
        }
      ]
    },
    {
      "cell_type": "markdown",
      "metadata": {
        "id": "Fho0NPCCR5J4"
      },
      "source": [
        "## Start Building the model"
      ]
    },
    {
      "cell_type": "code",
      "metadata": {
        "id": "Ke2Li1WgQzBB"
      },
      "source": [
        "import statsmodels.api as sm\n",
        "# X is a set of independent variables\n",
        "# we will add constant to our processed dataset which is\n",
        "# ipl_df_encoded\n",
        "X = sm.add_constant(ipl_df_encoded)\n",
        "# Dependent Variable\n",
        "Y = ipl_df['SOLD PRICE']\n",
        "\n",
        "from sklearn.model_selection import train_test_split\n",
        "\n",
        "train_X, test_X, train_Y, test_Y = train_test_split(X, Y, train_size = 0.8, random_state = 42)\n",
        "\n",
        "# Actual Model\n",
        "\n",
        "ipl_model = sm.OLS(train_Y, train_X).fit()"
      ],
      "execution_count": null,
      "outputs": []
    },
    {
      "cell_type": "code",
      "metadata": {
        "colab": {
          "base_uri": "https://localhost:8080/"
        },
        "id": "lKHG3IWUXOW8",
        "outputId": "6cc82d72-29ff-4f12-e070-be7ce9319fe5"
      },
      "source": [
        "test_X.head()\n",
        "#test_Y.head()"
      ],
      "execution_count": null,
      "outputs": [
        {
          "output_type": "execute_result",
          "data": {
            "text/html": [
              "<div>\n",
              "<style scoped>\n",
              "    .dataframe tbody tr th:only-of-type {\n",
              "        vertical-align: middle;\n",
              "    }\n",
              "\n",
              "    .dataframe tbody tr th {\n",
              "        vertical-align: top;\n",
              "    }\n",
              "\n",
              "    .dataframe thead th {\n",
              "        text-align: right;\n",
              "    }\n",
              "</style>\n",
              "<table border=\"1\" class=\"dataframe\">\n",
              "  <thead>\n",
              "    <tr style=\"text-align: right;\">\n",
              "      <th></th>\n",
              "      <th>const</th>\n",
              "      <th>T-RUNS</th>\n",
              "      <th>T-WKTS</th>\n",
              "      <th>ODI-RUNS-S</th>\n",
              "      <th>ODI-SR-B</th>\n",
              "      <th>ODI-WKTS</th>\n",
              "      <th>ODI-SR-BL</th>\n",
              "      <th>RUNS-S</th>\n",
              "      <th>HS</th>\n",
              "      <th>AVE</th>\n",
              "      <th>SR-B</th>\n",
              "      <th>SIXERS</th>\n",
              "      <th>RUNS-C</th>\n",
              "      <th>WKTS</th>\n",
              "      <th>AVE-BL</th>\n",
              "      <th>ECON</th>\n",
              "      <th>SR-BL</th>\n",
              "      <th>AGE_2</th>\n",
              "      <th>AGE_3</th>\n",
              "      <th>COUNTRY_BAN</th>\n",
              "      <th>COUNTRY_ENG</th>\n",
              "      <th>COUNTRY_IND</th>\n",
              "      <th>COUNTRY_NZ</th>\n",
              "      <th>COUNTRY_PAK</th>\n",
              "      <th>COUNTRY_SA</th>\n",
              "      <th>COUNTRY_SL</th>\n",
              "      <th>COUNTRY_WI</th>\n",
              "      <th>COUNTRY_ZIM</th>\n",
              "      <th>PLAYING ROLE_Batsman</th>\n",
              "      <th>PLAYING ROLE_Bowler</th>\n",
              "      <th>PLAYING ROLE_W. Keeper</th>\n",
              "      <th>CAPTAINCY EXP_1</th>\n",
              "    </tr>\n",
              "  </thead>\n",
              "  <tbody>\n",
              "    <tr>\n",
              "      <th>55</th>\n",
              "      <td>1.0</td>\n",
              "      <td>1451</td>\n",
              "      <td>310</td>\n",
              "      <td>1100</td>\n",
              "      <td>82.45</td>\n",
              "      <td>377</td>\n",
              "      <td>29.2</td>\n",
              "      <td>103</td>\n",
              "      <td>25</td>\n",
              "      <td>11.44</td>\n",
              "      <td>121.18</td>\n",
              "      <td>6</td>\n",
              "      <td>1009</td>\n",
              "      <td>21</td>\n",
              "      <td>48.05</td>\n",
              "      <td>7.56</td>\n",
              "      <td>38.24</td>\n",
              "      <td>1</td>\n",
              "      <td>0</td>\n",
              "      <td>0</td>\n",
              "      <td>0</td>\n",
              "      <td>0</td>\n",
              "      <td>0</td>\n",
              "      <td>0</td>\n",
              "      <td>0</td>\n",
              "      <td>0</td>\n",
              "      <td>0</td>\n",
              "      <td>0</td>\n",
              "      <td>0</td>\n",
              "      <td>1</td>\n",
              "      <td>0</td>\n",
              "      <td>0</td>\n",
              "    </tr>\n",
              "    <tr>\n",
              "      <th>40</th>\n",
              "      <td>1.0</td>\n",
              "      <td>1944</td>\n",
              "      <td>2</td>\n",
              "      <td>10</td>\n",
              "      <td>43.47</td>\n",
              "      <td>0</td>\n",
              "      <td>0.0</td>\n",
              "      <td>130</td>\n",
              "      <td>50</td>\n",
              "      <td>16.25</td>\n",
              "      <td>107.44</td>\n",
              "      <td>3</td>\n",
              "      <td>0</td>\n",
              "      <td>0</td>\n",
              "      <td>0.00</td>\n",
              "      <td>0.00</td>\n",
              "      <td>0.00</td>\n",
              "      <td>1</td>\n",
              "      <td>0</td>\n",
              "      <td>0</td>\n",
              "      <td>0</td>\n",
              "      <td>1</td>\n",
              "      <td>0</td>\n",
              "      <td>0</td>\n",
              "      <td>0</td>\n",
              "      <td>0</td>\n",
              "      <td>0</td>\n",
              "      <td>0</td>\n",
              "      <td>0</td>\n",
              "      <td>0</td>\n",
              "      <td>0</td>\n",
              "      <td>0</td>\n",
              "    </tr>\n",
              "    <tr>\n",
              "      <th>19</th>\n",
              "      <td>1.0</td>\n",
              "      <td>654</td>\n",
              "      <td>11</td>\n",
              "      <td>2536</td>\n",
              "      <td>84.00</td>\n",
              "      <td>25</td>\n",
              "      <td>47.6</td>\n",
              "      <td>978</td>\n",
              "      <td>74</td>\n",
              "      <td>36.22</td>\n",
              "      <td>119.27</td>\n",
              "      <td>35</td>\n",
              "      <td>377</td>\n",
              "      <td>10</td>\n",
              "      <td>37.70</td>\n",
              "      <td>7.11</td>\n",
              "      <td>31.80</td>\n",
              "      <td>1</td>\n",
              "      <td>0</td>\n",
              "      <td>0</td>\n",
              "      <td>0</td>\n",
              "      <td>0</td>\n",
              "      <td>0</td>\n",
              "      <td>0</td>\n",
              "      <td>1</td>\n",
              "      <td>0</td>\n",
              "      <td>0</td>\n",
              "      <td>0</td>\n",
              "      <td>1</td>\n",
              "      <td>0</td>\n",
              "      <td>0</td>\n",
              "      <td>0</td>\n",
              "    </tr>\n",
              "    <tr>\n",
              "      <th>31</th>\n",
              "      <td>1.0</td>\n",
              "      <td>199</td>\n",
              "      <td>46</td>\n",
              "      <td>48</td>\n",
              "      <td>100.00</td>\n",
              "      <td>44</td>\n",
              "      <td>23.4</td>\n",
              "      <td>115</td>\n",
              "      <td>17</td>\n",
              "      <td>10.45</td>\n",
              "      <td>107.48</td>\n",
              "      <td>3</td>\n",
              "      <td>975</td>\n",
              "      <td>44</td>\n",
              "      <td>22.16</td>\n",
              "      <td>7.71</td>\n",
              "      <td>17.27</td>\n",
              "      <td>1</td>\n",
              "      <td>0</td>\n",
              "      <td>0</td>\n",
              "      <td>0</td>\n",
              "      <td>0</td>\n",
              "      <td>0</td>\n",
              "      <td>0</td>\n",
              "      <td>0</td>\n",
              "      <td>0</td>\n",
              "      <td>0</td>\n",
              "      <td>0</td>\n",
              "      <td>0</td>\n",
              "      <td>1</td>\n",
              "      <td>0</td>\n",
              "      <td>0</td>\n",
              "    </tr>\n",
              "    <tr>\n",
              "      <th>115</th>\n",
              "      <td>1.0</td>\n",
              "      <td>541</td>\n",
              "      <td>157</td>\n",
              "      <td>368</td>\n",
              "      <td>69.04</td>\n",
              "      <td>154</td>\n",
              "      <td>32.2</td>\n",
              "      <td>39</td>\n",
              "      <td>24</td>\n",
              "      <td>13.00</td>\n",
              "      <td>205.26</td>\n",
              "      <td>5</td>\n",
              "      <td>184</td>\n",
              "      <td>12</td>\n",
              "      <td>15.33</td>\n",
              "      <td>8.17</td>\n",
              "      <td>11.20</td>\n",
              "      <td>1</td>\n",
              "      <td>0</td>\n",
              "      <td>0</td>\n",
              "      <td>0</td>\n",
              "      <td>0</td>\n",
              "      <td>0</td>\n",
              "      <td>1</td>\n",
              "      <td>0</td>\n",
              "      <td>0</td>\n",
              "      <td>0</td>\n",
              "      <td>0</td>\n",
              "      <td>0</td>\n",
              "      <td>1</td>\n",
              "      <td>0</td>\n",
              "      <td>0</td>\n",
              "    </tr>\n",
              "  </tbody>\n",
              "</table>\n",
              "</div>"
            ],
            "text/plain": [
              "     const  T-RUNS  ...  PLAYING ROLE_W. Keeper  CAPTAINCY EXP_1\n",
              "55     1.0    1451  ...                       0                0\n",
              "40     1.0    1944  ...                       0                0\n",
              "19     1.0     654  ...                       0                0\n",
              "31     1.0     199  ...                       0                0\n",
              "115    1.0     541  ...                       0                0\n",
              "\n",
              "[5 rows x 32 columns]"
            ]
          },
          "metadata": {},
          "execution_count": 28
        }
      ]
    },
    {
      "cell_type": "code",
      "metadata": {
        "colab": {
          "base_uri": "https://localhost:8080/"
        },
        "id": "dvghay29SIVg",
        "outputId": "86dfbfe0-9b5b-4ebf-8b3b-088ee5517cd6"
      },
      "source": [
        "# These are the parameters balues of B0, B1, ..., Bn\n",
        "print(ipl_model.params)"
      ],
      "execution_count": null,
      "outputs": [
        {
          "output_type": "stream",
          "name": "stdout",
          "text": [
            "const                     375827.199059\n",
            "T-RUNS                       -53.789030\n",
            "T-WKTS                      -132.596723\n",
            "ODI-RUNS-S                    57.959956\n",
            "ODI-SR-B                    -524.144970\n",
            "ODI-WKTS                     815.394424\n",
            "ODI-SR-BL                   -773.309199\n",
            "RUNS-S                       114.720547\n",
            "HS                         -5516.335398\n",
            "AVE                        21560.275955\n",
            "SR-B                       -1324.721784\n",
            "SIXERS                      4264.100109\n",
            "RUNS-C                        69.825020\n",
            "WKTS                        3075.242189\n",
            "AVE-BL                      5182.933487\n",
            "ECON                       -6820.778058\n",
            "SR-BL                      -7658.809364\n",
            "AGE_2                    -230767.646329\n",
            "AGE_3                    -216827.080829\n",
            "COUNTRY_BAN              -122103.519643\n",
            "COUNTRY_ENG               672410.765359\n",
            "COUNTRY_IND               155306.401120\n",
            "COUNTRY_NZ                194218.912037\n",
            "COUNTRY_PAK                75921.766953\n",
            "COUNTRY_SA                 64283.389419\n",
            "COUNTRY_SL                 17360.153006\n",
            "COUNTRY_WI                 10607.779196\n",
            "COUNTRY_ZIM              -145494.479329\n",
            "PLAYING ROLE_Batsman       75724.764262\n",
            "PLAYING ROLE_Bowler        15395.875247\n",
            "PLAYING ROLE_W. Keeper    -71358.627992\n",
            "CAPTAINCY EXP_1           164113.397202\n",
            "dtype: float64\n"
          ]
        }
      ]
    },
    {
      "cell_type": "code",
      "metadata": {
        "colab": {
          "base_uri": "https://localhost:8080/"
        },
        "id": "f11P8f2KUGb6",
        "outputId": "bb2d73c6-afa9-4e54-8a1f-add13daaf50b"
      },
      "source": [
        "ipl_model.summary2()"
      ],
      "execution_count": null,
      "outputs": [
        {
          "output_type": "execute_result",
          "data": {
            "text/html": [
              "<table class=\"simpletable\">\n",
              "<tr>\n",
              "        <td>Model:</td>               <td>OLS</td>         <td>Adj. R-squared:</td>      <td>0.362</td>  \n",
              "</tr>\n",
              "<tr>\n",
              "  <td>Dependent Variable:</td>    <td>SOLD PRICE</td>           <td>AIC:</td>          <td>2965.2841</td>\n",
              "</tr>\n",
              "<tr>\n",
              "         <td>Date:</td>        <td>2021-12-05 04:18</td>        <td>BIC:</td>          <td>3049.9046</td>\n",
              "</tr>\n",
              "<tr>\n",
              "   <td>No. Observations:</td>         <td>104</td>         <td>Log-Likelihood:</td>     <td>-1450.6</td> \n",
              "</tr>\n",
              "<tr>\n",
              "       <td>Df Model:</td>             <td>31</td>           <td>F-statistic:</td>        <td>2.883</td>  \n",
              "</tr>\n",
              "<tr>\n",
              "     <td>Df Residuals:</td>           <td>72</td>        <td>Prob (F-statistic):</td>  <td>0.000114</td> \n",
              "</tr>\n",
              "<tr>\n",
              "      <td>R-squared:</td>            <td>0.554</td>            <td>Scale:</td>        <td>1.1034e+11</td>\n",
              "</tr>\n",
              "</table>\n",
              "<table class=\"simpletable\">\n",
              "<tr>\n",
              "             <td></td>                <th>Coef.</th>     <th>Std.Err.</th>      <th>t</th>     <th>P>|t|</th>    <th>[0.025</th>       <th>0.975]</th>   \n",
              "</tr>\n",
              "<tr>\n",
              "  <th>const</th>                   <td>375827.1991</td> <td>228849.9306</td> <td>1.6422</td>  <td>0.1049</td>  <td>-80376.7996</td>  <td>832031.1978</td>\n",
              "</tr>\n",
              "<tr>\n",
              "  <th>T-RUNS</th>                   <td>-53.7890</td>     <td>32.7172</td>   <td>-1.6441</td> <td>0.1045</td>   <td>-119.0096</td>     <td>11.4316</td>  \n",
              "</tr>\n",
              "<tr>\n",
              "  <th>T-WKTS</th>                   <td>-132.5967</td>   <td>609.7525</td>   <td>-0.2175</td> <td>0.8285</td>  <td>-1348.1162</td>    <td>1082.9228</td> \n",
              "</tr>\n",
              "<tr>\n",
              "  <th>ODI-RUNS-S</th>                <td>57.9600</td>     <td>31.5071</td>   <td>1.8396</td>  <td>0.0700</td>    <td>-4.8482</td>     <td>120.7681</td>  \n",
              "</tr>\n",
              "<tr>\n",
              "  <th>ODI-SR-B</th>                 <td>-524.1450</td>   <td>1576.6368</td>  <td>-0.3324</td> <td>0.7405</td>  <td>-3667.1130</td>    <td>2618.8231</td> \n",
              "</tr>\n",
              "<tr>\n",
              "  <th>ODI-WKTS</th>                 <td>815.3944</td>    <td>832.3883</td>   <td>0.9796</td>  <td>0.3306</td>   <td>-843.9413</td>    <td>2474.7301</td> \n",
              "</tr>\n",
              "<tr>\n",
              "  <th>ODI-SR-BL</th>                <td>-773.3092</td>   <td>1536.3334</td>  <td>-0.5033</td> <td>0.6163</td>  <td>-3835.9338</td>    <td>2289.3154</td> \n",
              "</tr>\n",
              "<tr>\n",
              "  <th>RUNS-S</th>                   <td>114.7205</td>    <td>173.3088</td>   <td>0.6619</td>  <td>0.5101</td>   <td>-230.7643</td>    <td>460.2054</td>  \n",
              "</tr>\n",
              "<tr>\n",
              "  <th>HS</th>                      <td>-5516.3354</td>   <td>2586.3277</td>  <td>-2.1329</td> <td>0.0363</td>  <td>-10672.0855</td>   <td>-360.5853</td> \n",
              "</tr>\n",
              "<tr>\n",
              "  <th>AVE</th>                     <td>21560.2760</td>   <td>7774.2419</td>  <td>2.7733</td>  <td>0.0071</td>   <td>6062.6080</td>   <td>37057.9439</td> \n",
              "</tr>\n",
              "<tr>\n",
              "  <th>SR-B</th>                    <td>-1324.7218</td>   <td>1373.1303</td>  <td>-0.9647</td> <td>0.3379</td>  <td>-4062.0071</td>    <td>1412.5635</td> \n",
              "</tr>\n",
              "<tr>\n",
              "  <th>SIXERS</th>                   <td>4264.1001</td>   <td>4089.6000</td>  <td>1.0427</td>  <td>0.3006</td>  <td>-3888.3685</td>   <td>12416.5687</td> \n",
              "</tr>\n",
              "<tr>\n",
              "  <th>RUNS-C</th>                    <td>69.8250</td>    <td>297.6697</td>   <td>0.2346</td>  <td>0.8152</td>   <td>-523.5687</td>    <td>663.2187</td>  \n",
              "</tr>\n",
              "<tr>\n",
              "  <th>WKTS</th>                     <td>3075.2422</td>   <td>7262.4452</td>  <td>0.4234</td>  <td>0.6732</td>  <td>-11402.1778</td>  <td>17552.6622</td> \n",
              "</tr>\n",
              "<tr>\n",
              "  <th>AVE-BL</th>                   <td>5182.9335</td>  <td>10230.1581</td>  <td>0.5066</td>  <td>0.6140</td>  <td>-15210.5140</td>  <td>25576.3810</td> \n",
              "</tr>\n",
              "<tr>\n",
              "  <th>ECON</th>                    <td>-6820.7781</td>  <td>13109.3693</td>  <td>-0.5203</td> <td>0.6045</td>  <td>-32953.8282</td>  <td>19312.2721</td> \n",
              "</tr>\n",
              "<tr>\n",
              "  <th>SR-BL</th>                   <td>-7658.8094</td>  <td>14041.8735</td>  <td>-0.5454</td> <td>0.5871</td>  <td>-35650.7726</td>  <td>20333.1539</td> \n",
              "</tr>\n",
              "<tr>\n",
              "  <th>AGE_2</th>                  <td>-230767.6463</td> <td>114117.2005</td> <td>-2.0222</td> <td>0.0469</td> <td>-458256.1279</td>  <td>-3279.1648</td> \n",
              "</tr>\n",
              "<tr>\n",
              "  <th>AGE_3</th>                  <td>-216827.0808</td> <td>152246.6232</td> <td>-1.4242</td> <td>0.1587</td> <td>-520325.1772</td>  <td>86671.0155</td> \n",
              "</tr>\n",
              "<tr>\n",
              "  <th>COUNTRY_BAN</th>            <td>-122103.5196</td> <td>438719.2796</td> <td>-0.2783</td> <td>0.7816</td> <td>-996674.4194</td>  <td>752467.3801</td>\n",
              "</tr>\n",
              "<tr>\n",
              "  <th>COUNTRY_ENG</th>             <td>672410.7654</td> <td>238386.2220</td> <td>2.8207</td>  <td>0.0062</td>  <td>197196.5172</td> <td>1147625.0135</td>\n",
              "</tr>\n",
              "<tr>\n",
              "  <th>COUNTRY_IND</th>             <td>155306.4011</td> <td>126316.3449</td> <td>1.2295</td>  <td>0.2229</td>  <td>-96500.6302</td>  <td>407113.4325</td>\n",
              "</tr>\n",
              "<tr>\n",
              "  <th>COUNTRY_NZ</th>              <td>194218.9120</td> <td>173491.9293</td> <td>1.1195</td>  <td>0.2667</td> <td>-151630.9280</td>  <td>540068.7521</td>\n",
              "</tr>\n",
              "<tr>\n",
              "  <th>COUNTRY_PAK</th>             <td>75921.7670</td>  <td>193463.5545</td> <td>0.3924</td>  <td>0.6959</td> <td>-309740.7804</td>  <td>461584.3143</td>\n",
              "</tr>\n",
              "<tr>\n",
              "  <th>COUNTRY_SA</th>              <td>64283.3894</td>  <td>144587.6773</td> <td>0.4446</td>  <td>0.6579</td> <td>-223946.8775</td>  <td>352513.6563</td>\n",
              "</tr>\n",
              "<tr>\n",
              "  <th>COUNTRY_SL</th>              <td>17360.1530</td>  <td>176333.7497</td> <td>0.0985</td>  <td>0.9218</td> <td>-334154.7526</td>  <td>368875.0586</td>\n",
              "</tr>\n",
              "<tr>\n",
              "  <th>COUNTRY_WI</th>              <td>10607.7792</td>  <td>230686.7892</td> <td>0.0460</td>  <td>0.9635</td> <td>-449257.9303</td>  <td>470473.4887</td>\n",
              "</tr>\n",
              "<tr>\n",
              "  <th>COUNTRY_ZIM</th>            <td>-145494.4793</td> <td>401505.2815</td> <td>-0.3624</td> <td>0.7181</td> <td>-945880.6296</td>  <td>654891.6710</td>\n",
              "</tr>\n",
              "<tr>\n",
              "  <th>PLAYING ROLE_Batsman</th>    <td>75724.7643</td>  <td>150250.0240</td> <td>0.5040</td>  <td>0.6158</td> <td>-223793.1844</td>  <td>375242.7130</td>\n",
              "</tr>\n",
              "<tr>\n",
              "  <th>PLAYING ROLE_Bowler</th>     <td>15395.8752</td>  <td>126308.1272</td> <td>0.1219</td>  <td>0.9033</td> <td>-236394.7744</td>  <td>267186.5249</td>\n",
              "</tr>\n",
              "<tr>\n",
              "  <th>PLAYING ROLE_W. Keeper</th>  <td>-71358.6280</td> <td>213585.7444</td> <td>-0.3341</td> <td>0.7393</td> <td>-497134.0278</td>  <td>354416.7718</td>\n",
              "</tr>\n",
              "<tr>\n",
              "  <th>CAPTAINCY EXP_1</th>         <td>164113.3972</td> <td>123430.6353</td> <td>1.3296</td>  <td>0.1878</td>  <td>-81941.0772</td>  <td>410167.8716</td>\n",
              "</tr>\n",
              "</table>\n",
              "<table class=\"simpletable\">\n",
              "<tr>\n",
              "     <td>Omnibus:</td>    <td>0.891</td>  <td>Durbin-Watson:</td>   <td>2.244</td>\n",
              "</tr>\n",
              "<tr>\n",
              "  <td>Prob(Omnibus):</td> <td>0.640</td> <td>Jarque-Bera (JB):</td> <td>0.638</td>\n",
              "</tr>\n",
              "<tr>\n",
              "       <td>Skew:</td>     <td>0.190</td>     <td>Prob(JB):</td>     <td>0.727</td>\n",
              "</tr>\n",
              "<tr>\n",
              "     <td>Kurtosis:</td>   <td>3.059</td>  <td>Condition No.:</td>   <td>84116</td>\n",
              "</tr>\n",
              "</table>"
            ],
            "text/plain": [
              "<class 'statsmodels.iolib.summary2.Summary'>\n",
              "\"\"\"\n",
              "                            Results: Ordinary least squares\n",
              "========================================================================================\n",
              "Model:                     OLS                     Adj. R-squared:            0.362     \n",
              "Dependent Variable:        SOLD PRICE              AIC:                       2965.2841 \n",
              "Date:                      2021-12-05 04:18        BIC:                       3049.9046 \n",
              "No. Observations:          104                     Log-Likelihood:            -1450.6   \n",
              "Df Model:                  31                      F-statistic:               2.883     \n",
              "Df Residuals:              72                      Prob (F-statistic):        0.000114  \n",
              "R-squared:                 0.554                   Scale:                     1.1034e+11\n",
              "----------------------------------------------------------------------------------------\n",
              "                          Coef.       Std.Err.     t    P>|t|     [0.025       0.975]   \n",
              "----------------------------------------------------------------------------------------\n",
              "const                   375827.1991 228849.9306  1.6422 0.1049  -80376.7996  832031.1978\n",
              "T-RUNS                     -53.7890     32.7172 -1.6441 0.1045    -119.0096      11.4316\n",
              "T-WKTS                    -132.5967    609.7525 -0.2175 0.8285   -1348.1162    1082.9228\n",
              "ODI-RUNS-S                  57.9600     31.5071  1.8396 0.0700      -4.8482     120.7681\n",
              "ODI-SR-B                  -524.1450   1576.6368 -0.3324 0.7405   -3667.1130    2618.8231\n",
              "ODI-WKTS                   815.3944    832.3883  0.9796 0.3306    -843.9413    2474.7301\n",
              "ODI-SR-BL                 -773.3092   1536.3334 -0.5033 0.6163   -3835.9338    2289.3154\n",
              "RUNS-S                     114.7205    173.3088  0.6619 0.5101    -230.7643     460.2054\n",
              "HS                       -5516.3354   2586.3277 -2.1329 0.0363  -10672.0855    -360.5853\n",
              "AVE                      21560.2760   7774.2419  2.7733 0.0071    6062.6080   37057.9439\n",
              "SR-B                     -1324.7218   1373.1303 -0.9647 0.3379   -4062.0071    1412.5635\n",
              "SIXERS                    4264.1001   4089.6000  1.0427 0.3006   -3888.3685   12416.5687\n",
              "RUNS-C                      69.8250    297.6697  0.2346 0.8152    -523.5687     663.2187\n",
              "WKTS                      3075.2422   7262.4452  0.4234 0.6732  -11402.1778   17552.6622\n",
              "AVE-BL                    5182.9335  10230.1581  0.5066 0.6140  -15210.5140   25576.3810\n",
              "ECON                     -6820.7781  13109.3693 -0.5203 0.6045  -32953.8282   19312.2721\n",
              "SR-BL                    -7658.8094  14041.8735 -0.5454 0.5871  -35650.7726   20333.1539\n",
              "AGE_2                  -230767.6463 114117.2005 -2.0222 0.0469 -458256.1279   -3279.1648\n",
              "AGE_3                  -216827.0808 152246.6232 -1.4242 0.1587 -520325.1772   86671.0155\n",
              "COUNTRY_BAN            -122103.5196 438719.2796 -0.2783 0.7816 -996674.4194  752467.3801\n",
              "COUNTRY_ENG             672410.7654 238386.2220  2.8207 0.0062  197196.5172 1147625.0135\n",
              "COUNTRY_IND             155306.4011 126316.3449  1.2295 0.2229  -96500.6302  407113.4325\n",
              "COUNTRY_NZ              194218.9120 173491.9293  1.1195 0.2667 -151630.9280  540068.7521\n",
              "COUNTRY_PAK              75921.7670 193463.5545  0.3924 0.6959 -309740.7804  461584.3143\n",
              "COUNTRY_SA               64283.3894 144587.6773  0.4446 0.6579 -223946.8775  352513.6563\n",
              "COUNTRY_SL               17360.1530 176333.7497  0.0985 0.9218 -334154.7526  368875.0586\n",
              "COUNTRY_WI               10607.7792 230686.7892  0.0460 0.9635 -449257.9303  470473.4887\n",
              "COUNTRY_ZIM            -145494.4793 401505.2815 -0.3624 0.7181 -945880.6296  654891.6710\n",
              "PLAYING ROLE_Batsman     75724.7643 150250.0240  0.5040 0.6158 -223793.1844  375242.7130\n",
              "PLAYING ROLE_Bowler      15395.8752 126308.1272  0.1219 0.9033 -236394.7744  267186.5249\n",
              "PLAYING ROLE_W. Keeper  -71358.6280 213585.7444 -0.3341 0.7393 -497134.0278  354416.7718\n",
              "CAPTAINCY EXP_1         164113.3972 123430.6353  1.3296 0.1878  -81941.0772  410167.8716\n",
              "----------------------------------------------------------------------------------------\n",
              "Omnibus:                       0.891               Durbin-Watson:                  2.244\n",
              "Prob(Omnibus):                 0.640               Jarque-Bera (JB):               0.638\n",
              "Skew:                          0.190               Prob(JB):                       0.727\n",
              "Kurtosis:                      3.059               Condition No.:                  84116\n",
              "========================================================================================\n",
              "* The condition number is large (8e+04). This might indicate             strong\n",
              "multicollinearity or other numerical problems.\n",
              "\"\"\""
            ]
          },
          "metadata": {},
          "execution_count": 30
        }
      ]
    },
    {
      "cell_type": "markdown",
      "metadata": {
        "id": "qTZJo5nPVG9F"
      },
      "source": [
        "From the above summary we get that<br>the features **HS, AVE, AGE_2** have $p-value < 0.05$, so these three features influence the sold price to a very great extent then any other parameters.<br>\n",
        "\n",
        "So this may happen due to multicollinearity and this is undesirable, we need to minimise this.<br>\n",
        "This may destabalize our model.<br>\n",
        "We will use variance inflation factor to determine the multi colimearity.<br>\n",
        "\n",
        "The parameters which have $vif>4$ will destabalize the model.\n",
        "\n",
        "## Variance Inflation factor Analysis\n"
      ]
    },
    {
      "cell_type": "code",
      "metadata": {
        "colab": {
          "base_uri": "https://localhost:8080/"
        },
        "id": "DdJ-1Gl2xc6K",
        "outputId": "65c95739-d70f-4e57-f27b-9b696f34341e"
      },
      "source": [
        "# import variance inflation factor\n",
        "from statsmodels.stats.outliers_influence import variance_inflation_factor\n",
        "# X_matrix = X.to_numpy()\n",
        "#X.head()\n",
        "# X_matrix[1][1]\n",
        "def get_vif(X):\n",
        "    X_matrix = X.to_numpy()\n",
        "    vif = [variance_inflation_factor(X_matrix, i) for i in range(X_matrix.shape[1])]\n",
        "    vif_factors = pd.DataFrame()\n",
        "    vif_factors['column'] = X.columns\n",
        "    vif_factors['VIF'] = vif\n",
        "    return vif_factors\n",
        "\n",
        "vif_factors = get_vif(X[X_features])\n",
        "vif_factors"
      ],
      "execution_count": null,
      "outputs": [
        {
          "output_type": "execute_result",
          "data": {
            "text/html": [
              "<div>\n",
              "<style scoped>\n",
              "    .dataframe tbody tr th:only-of-type {\n",
              "        vertical-align: middle;\n",
              "    }\n",
              "\n",
              "    .dataframe tbody tr th {\n",
              "        vertical-align: top;\n",
              "    }\n",
              "\n",
              "    .dataframe thead th {\n",
              "        text-align: right;\n",
              "    }\n",
              "</style>\n",
              "<table border=\"1\" class=\"dataframe\">\n",
              "  <thead>\n",
              "    <tr style=\"text-align: right;\">\n",
              "      <th></th>\n",
              "      <th>column</th>\n",
              "      <th>VIF</th>\n",
              "    </tr>\n",
              "  </thead>\n",
              "  <tbody>\n",
              "    <tr>\n",
              "      <th>0</th>\n",
              "      <td>T-RUNS</td>\n",
              "      <td>12.612694</td>\n",
              "    </tr>\n",
              "    <tr>\n",
              "      <th>1</th>\n",
              "      <td>T-WKTS</td>\n",
              "      <td>7.679284</td>\n",
              "    </tr>\n",
              "    <tr>\n",
              "      <th>2</th>\n",
              "      <td>ODI-RUNS-S</td>\n",
              "      <td>16.426209</td>\n",
              "    </tr>\n",
              "    <tr>\n",
              "      <th>3</th>\n",
              "      <td>ODI-SR-B</td>\n",
              "      <td>13.829376</td>\n",
              "    </tr>\n",
              "    <tr>\n",
              "      <th>4</th>\n",
              "      <td>ODI-WKTS</td>\n",
              "      <td>9.951800</td>\n",
              "    </tr>\n",
              "    <tr>\n",
              "      <th>5</th>\n",
              "      <td>ODI-SR-BL</td>\n",
              "      <td>4.426818</td>\n",
              "    </tr>\n",
              "    <tr>\n",
              "      <th>6</th>\n",
              "      <td>RUNS-S</td>\n",
              "      <td>16.135407</td>\n",
              "    </tr>\n",
              "    <tr>\n",
              "      <th>7</th>\n",
              "      <td>HS</td>\n",
              "      <td>22.781017</td>\n",
              "    </tr>\n",
              "    <tr>\n",
              "      <th>8</th>\n",
              "      <td>AVE</td>\n",
              "      <td>25.226566</td>\n",
              "    </tr>\n",
              "    <tr>\n",
              "      <th>9</th>\n",
              "      <td>SR-B</td>\n",
              "      <td>21.576204</td>\n",
              "    </tr>\n",
              "    <tr>\n",
              "      <th>10</th>\n",
              "      <td>SIXERS</td>\n",
              "      <td>9.547268</td>\n",
              "    </tr>\n",
              "    <tr>\n",
              "      <th>11</th>\n",
              "      <td>RUNS-C</td>\n",
              "      <td>38.229691</td>\n",
              "    </tr>\n",
              "    <tr>\n",
              "      <th>12</th>\n",
              "      <td>WKTS</td>\n",
              "      <td>33.366067</td>\n",
              "    </tr>\n",
              "    <tr>\n",
              "      <th>13</th>\n",
              "      <td>AVE-BL</td>\n",
              "      <td>100.198105</td>\n",
              "    </tr>\n",
              "    <tr>\n",
              "      <th>14</th>\n",
              "      <td>ECON</td>\n",
              "      <td>7.650140</td>\n",
              "    </tr>\n",
              "    <tr>\n",
              "      <th>15</th>\n",
              "      <td>SR-BL</td>\n",
              "      <td>103.723846</td>\n",
              "    </tr>\n",
              "    <tr>\n",
              "      <th>16</th>\n",
              "      <td>AGE_2</td>\n",
              "      <td>6.996226</td>\n",
              "    </tr>\n",
              "    <tr>\n",
              "      <th>17</th>\n",
              "      <td>AGE_3</td>\n",
              "      <td>3.855003</td>\n",
              "    </tr>\n",
              "    <tr>\n",
              "      <th>18</th>\n",
              "      <td>COUNTRY_BAN</td>\n",
              "      <td>1.469017</td>\n",
              "    </tr>\n",
              "    <tr>\n",
              "      <th>19</th>\n",
              "      <td>COUNTRY_ENG</td>\n",
              "      <td>1.391524</td>\n",
              "    </tr>\n",
              "    <tr>\n",
              "      <th>20</th>\n",
              "      <td>COUNTRY_IND</td>\n",
              "      <td>4.568898</td>\n",
              "    </tr>\n",
              "    <tr>\n",
              "      <th>21</th>\n",
              "      <td>COUNTRY_NZ</td>\n",
              "      <td>1.497856</td>\n",
              "    </tr>\n",
              "    <tr>\n",
              "      <th>22</th>\n",
              "      <td>COUNTRY_PAK</td>\n",
              "      <td>1.796355</td>\n",
              "    </tr>\n",
              "    <tr>\n",
              "      <th>23</th>\n",
              "      <td>COUNTRY_SA</td>\n",
              "      <td>1.886555</td>\n",
              "    </tr>\n",
              "    <tr>\n",
              "      <th>24</th>\n",
              "      <td>COUNTRY_SL</td>\n",
              "      <td>1.984902</td>\n",
              "    </tr>\n",
              "    <tr>\n",
              "      <th>25</th>\n",
              "      <td>COUNTRY_WI</td>\n",
              "      <td>1.531847</td>\n",
              "    </tr>\n",
              "    <tr>\n",
              "      <th>26</th>\n",
              "      <td>COUNTRY_ZIM</td>\n",
              "      <td>1.312168</td>\n",
              "    </tr>\n",
              "    <tr>\n",
              "      <th>27</th>\n",
              "      <td>PLAYING ROLE_Batsman</td>\n",
              "      <td>4.843136</td>\n",
              "    </tr>\n",
              "    <tr>\n",
              "      <th>28</th>\n",
              "      <td>PLAYING ROLE_Bowler</td>\n",
              "      <td>3.795864</td>\n",
              "    </tr>\n",
              "    <tr>\n",
              "      <th>29</th>\n",
              "      <td>PLAYING ROLE_W. Keeper</td>\n",
              "      <td>3.132044</td>\n",
              "    </tr>\n",
              "    <tr>\n",
              "      <th>30</th>\n",
              "      <td>CAPTAINCY EXP_1</td>\n",
              "      <td>4.245128</td>\n",
              "    </tr>\n",
              "  </tbody>\n",
              "</table>\n",
              "</div>"
            ],
            "text/plain": [
              "                    column         VIF\n",
              "0                   T-RUNS   12.612694\n",
              "1                   T-WKTS    7.679284\n",
              "2               ODI-RUNS-S   16.426209\n",
              "3                 ODI-SR-B   13.829376\n",
              "4                 ODI-WKTS    9.951800\n",
              "5                ODI-SR-BL    4.426818\n",
              "6                   RUNS-S   16.135407\n",
              "7                       HS   22.781017\n",
              "8                      AVE   25.226566\n",
              "9                     SR-B   21.576204\n",
              "10                  SIXERS    9.547268\n",
              "11                  RUNS-C   38.229691\n",
              "12                    WKTS   33.366067\n",
              "13                  AVE-BL  100.198105\n",
              "14                    ECON    7.650140\n",
              "15                   SR-BL  103.723846\n",
              "16                   AGE_2    6.996226\n",
              "17                   AGE_3    3.855003\n",
              "18             COUNTRY_BAN    1.469017\n",
              "19             COUNTRY_ENG    1.391524\n",
              "20             COUNTRY_IND    4.568898\n",
              "21              COUNTRY_NZ    1.497856\n",
              "22             COUNTRY_PAK    1.796355\n",
              "23              COUNTRY_SA    1.886555\n",
              "24              COUNTRY_SL    1.984902\n",
              "25              COUNTRY_WI    1.531847\n",
              "26             COUNTRY_ZIM    1.312168\n",
              "27    PLAYING ROLE_Batsman    4.843136\n",
              "28     PLAYING ROLE_Bowler    3.795864\n",
              "29  PLAYING ROLE_W. Keeper    3.132044\n",
              "30         CAPTAINCY EXP_1    4.245128"
            ]
          },
          "metadata": {},
          "execution_count": 31
        }
      ]
    },
    {
      "cell_type": "code",
      "metadata": {
        "colab": {
          "base_uri": "https://localhost:8080/"
        },
        "id": "DowVjJn6ZAJT",
        "outputId": "5b5ac872-94aa-4338-a0c0-e697956792bb"
      },
      "source": [
        "# Get the name of columns that have VIF>4\n",
        "large_vif = vif_factors[vif_factors.VIF>4].column\n",
        "large_vif"
      ],
      "execution_count": null,
      "outputs": [
        {
          "output_type": "execute_result",
          "data": {
            "text/plain": [
              "0                   T-RUNS\n",
              "1                   T-WKTS\n",
              "2               ODI-RUNS-S\n",
              "3                 ODI-SR-B\n",
              "4                 ODI-WKTS\n",
              "5                ODI-SR-BL\n",
              "6                   RUNS-S\n",
              "7                       HS\n",
              "8                      AVE\n",
              "9                     SR-B\n",
              "10                  SIXERS\n",
              "11                  RUNS-C\n",
              "12                    WKTS\n",
              "13                  AVE-BL\n",
              "14                    ECON\n",
              "15                   SR-BL\n",
              "16                   AGE_2\n",
              "20             COUNTRY_IND\n",
              "27    PLAYING ROLE_Batsman\n",
              "30         CAPTAINCY EXP_1\n",
              "Name: column, dtype: object"
            ]
          },
          "metadata": {},
          "execution_count": 32
        }
      ]
    },
    {
      "cell_type": "code",
      "metadata": {
        "colab": {
          "base_uri": "https://localhost:8080/"
        },
        "id": "MgPpP4WKbePp",
        "outputId": "b546bddc-0a3f-4d88-e980-6260baec8aae"
      },
      "source": [
        "# plot the heatmap\n",
        "plt.figure(figsize=(13,13))\n",
        "sns.heatmap(X[large_vif].corr(), annot = True)\n",
        "plt.title(\"Fig: Heatmap -correlation between features\")"
      ],
      "execution_count": null,
      "outputs": [
        {
          "output_type": "execute_result",
          "data": {
            "text/plain": [
              "Text(0.5, 1.0, 'Fig: Heatmap -correlation between features')"
            ]
          },
          "metadata": {},
          "execution_count": 33
        },
        {
          "output_type": "display_data",
          "data": {
            "image/png": "[encoded data removed]",
            "text/plain": [
              "<Figure size 936x936 with 2 Axes>"
            ]
          },
          "metadata": {
            "needs_background": "light"
          }
        }
      ]
    },
    {
      "cell_type": "markdown",
      "metadata": {
        "id": "XwEnZH_mebO0"
      },
      "source": [
        "Various variables like T-runs and ODI_runs have high correlation, so we will keep only one column from each group of highly correlated variables and remove others."
      ]
    },
    {
      "cell_type": "markdown",
      "metadata": {
        "id": "anKg7sx343U6"
      },
      "source": [
        "## Setting the significant Features"
      ]
    },
    {
      "cell_type": "code",
      "metadata": {
        "id": "Dit0hZY0dQqh"
      },
      "source": [
        "columns_to_be_removed = ['T-RUNS','ODI-RUNS-S', 'T-WKTS','ODI-WKTS','RUNS-S','HS','AVE', 'RUNS-C','ECON','SR-BL']"
      ],
      "execution_count": null,
      "outputs": []
    },
    {
      "cell_type": "code",
      "metadata": {
        "colab": {
          "base_uri": "https://localhost:8080/"
        },
        "id": "gfVqywPuf8HR",
        "outputId": "79fc9a0b-69f8-411a-87b0-c7dee9dfa9e5"
      },
      "source": [
        "X_new_features = list(set(X_features)-set(columns_to_be_removed))\n",
        "get_vif(X[X_new_features])"
      ],
      "execution_count": null,
      "outputs": [
        {
          "output_type": "execute_result",
          "data": {
            "text/html": [
              "<div>\n",
              "<style scoped>\n",
              "    .dataframe tbody tr th:only-of-type {\n",
              "        vertical-align: middle;\n",
              "    }\n",
              "\n",
              "    .dataframe tbody tr th {\n",
              "        vertical-align: top;\n",
              "    }\n",
              "\n",
              "    .dataframe thead th {\n",
              "        text-align: right;\n",
              "    }\n",
              "</style>\n",
              "<table border=\"1\" class=\"dataframe\">\n",
              "  <thead>\n",
              "    <tr style=\"text-align: right;\">\n",
              "      <th></th>\n",
              "      <th>column</th>\n",
              "      <th>VIF</th>\n",
              "    </tr>\n",
              "  </thead>\n",
              "  <tbody>\n",
              "    <tr>\n",
              "      <th>0</th>\n",
              "      <td>PLAYING ROLE_Batsman</td>\n",
              "      <td>3.462782</td>\n",
              "    </tr>\n",
              "    <tr>\n",
              "      <th>1</th>\n",
              "      <td>CAPTAINCY EXP_1</td>\n",
              "      <td>2.348452</td>\n",
              "    </tr>\n",
              "    <tr>\n",
              "      <th>2</th>\n",
              "      <td>WKTS</td>\n",
              "      <td>3.080572</td>\n",
              "    </tr>\n",
              "    <tr>\n",
              "      <th>3</th>\n",
              "      <td>COUNTRY_IND</td>\n",
              "      <td>3.708583</td>\n",
              "    </tr>\n",
              "    <tr>\n",
              "      <th>4</th>\n",
              "      <td>SR-B</td>\n",
              "      <td>14.821076</td>\n",
              "    </tr>\n",
              "    <tr>\n",
              "      <th>5</th>\n",
              "      <td>PLAYING ROLE_Bowler</td>\n",
              "      <td>3.141541</td>\n",
              "    </tr>\n",
              "    <tr>\n",
              "      <th>6</th>\n",
              "      <td>COUNTRY_SL</td>\n",
              "      <td>1.592092</td>\n",
              "    </tr>\n",
              "    <tr>\n",
              "      <th>7</th>\n",
              "      <td>COUNTRY_SA</td>\n",
              "      <td>1.733537</td>\n",
              "    </tr>\n",
              "    <tr>\n",
              "      <th>8</th>\n",
              "      <td>COUNTRY_ZIM</td>\n",
              "      <td>1.213853</td>\n",
              "    </tr>\n",
              "    <tr>\n",
              "      <th>9</th>\n",
              "      <td>AVE-BL</td>\n",
              "      <td>4.129097</td>\n",
              "    </tr>\n",
              "    <tr>\n",
              "      <th>10</th>\n",
              "      <td>COUNTRY_NZ</td>\n",
              "      <td>1.379340</td>\n",
              "    </tr>\n",
              "    <tr>\n",
              "      <th>11</th>\n",
              "      <td>COUNTRY_ENG</td>\n",
              "      <td>1.257594</td>\n",
              "    </tr>\n",
              "    <tr>\n",
              "      <th>12</th>\n",
              "      <td>SIXERS</td>\n",
              "      <td>2.954888</td>\n",
              "    </tr>\n",
              "    <tr>\n",
              "      <th>13</th>\n",
              "      <td>COUNTRY_PAK</td>\n",
              "      <td>1.532028</td>\n",
              "    </tr>\n",
              "    <tr>\n",
              "      <th>14</th>\n",
              "      <td>AGE_2</td>\n",
              "      <td>6.501931</td>\n",
              "    </tr>\n",
              "    <tr>\n",
              "      <th>15</th>\n",
              "      <td>AGE_3</td>\n",
              "      <td>2.796872</td>\n",
              "    </tr>\n",
              "    <tr>\n",
              "      <th>16</th>\n",
              "      <td>COUNTRY_WI</td>\n",
              "      <td>1.309244</td>\n",
              "    </tr>\n",
              "    <tr>\n",
              "      <th>17</th>\n",
              "      <td>ODI-SR-BL</td>\n",
              "      <td>4.205858</td>\n",
              "    </tr>\n",
              "    <tr>\n",
              "      <th>18</th>\n",
              "      <td>COUNTRY_BAN</td>\n",
              "      <td>1.172591</td>\n",
              "    </tr>\n",
              "    <tr>\n",
              "      <th>19</th>\n",
              "      <td>PLAYING ROLE_W. Keeper</td>\n",
              "      <td>2.414198</td>\n",
              "    </tr>\n",
              "    <tr>\n",
              "      <th>20</th>\n",
              "      <td>ODI-SR-B</td>\n",
              "      <td>13.107129</td>\n",
              "    </tr>\n",
              "  </tbody>\n",
              "</table>\n",
              "</div>"
            ],
            "text/plain": [
              "                    column        VIF\n",
              "0     PLAYING ROLE_Batsman   3.462782\n",
              "1          CAPTAINCY EXP_1   2.348452\n",
              "2                     WKTS   3.080572\n",
              "3              COUNTRY_IND   3.708583\n",
              "4                     SR-B  14.821076\n",
              "5      PLAYING ROLE_Bowler   3.141541\n",
              "6               COUNTRY_SL   1.592092\n",
              "7               COUNTRY_SA   1.733537\n",
              "8              COUNTRY_ZIM   1.213853\n",
              "9                   AVE-BL   4.129097\n",
              "10              COUNTRY_NZ   1.379340\n",
              "11             COUNTRY_ENG   1.257594\n",
              "12                  SIXERS   2.954888\n",
              "13             COUNTRY_PAK   1.532028\n",
              "14                   AGE_2   6.501931\n",
              "15                   AGE_3   2.796872\n",
              "16              COUNTRY_WI   1.309244\n",
              "17               ODI-SR-BL   4.205858\n",
              "18             COUNTRY_BAN   1.172591\n",
              "19  PLAYING ROLE_W. Keeper   2.414198\n",
              "20                ODI-SR-B  13.107129"
            ]
          },
          "metadata": {},
          "execution_count": 35
        }
      ]
    },
    {
      "cell_type": "markdown",
      "metadata": {
        "id": "TGLIpf1EmLdh"
      },
      "source": [
        "Still there are some parameters which have $vif>4$ so we will remove some columns that have high correlation and again check for vif."
      ]
    },
    {
      "cell_type": "code",
      "metadata": {
        "colab": {
          "base_uri": "https://localhost:8080/"
        },
        "id": "AeuwpMQgmbwb",
        "outputId": "4a592495-91a1-4f65-ce30-a1a7f013049c"
      },
      "source": [
        "columns_to_be_removed = ['SR-B','ODI-SR-B','ODI-SR-BL','AGE_2']\n",
        "X_new_features = list(set(X_new_features) - set(columns_to_be_removed))\n",
        "get_vif(X[X_new_features])"
      ],
      "execution_count": null,
      "outputs": [
        {
          "output_type": "execute_result",
          "data": {
            "text/html": [
              "<div>\n",
              "<style scoped>\n",
              "    .dataframe tbody tr th:only-of-type {\n",
              "        vertical-align: middle;\n",
              "    }\n",
              "\n",
              "    .dataframe tbody tr th {\n",
              "        vertical-align: top;\n",
              "    }\n",
              "\n",
              "    .dataframe thead th {\n",
              "        text-align: right;\n",
              "    }\n",
              "</style>\n",
              "<table border=\"1\" class=\"dataframe\">\n",
              "  <thead>\n",
              "    <tr style=\"text-align: right;\">\n",
              "      <th></th>\n",
              "      <th>column</th>\n",
              "      <th>VIF</th>\n",
              "    </tr>\n",
              "  </thead>\n",
              "  <tbody>\n",
              "    <tr>\n",
              "      <th>0</th>\n",
              "      <td>PLAYING ROLE_Batsman</td>\n",
              "      <td>2.593379</td>\n",
              "    </tr>\n",
              "    <tr>\n",
              "      <th>1</th>\n",
              "      <td>CAPTAINCY EXP_1</td>\n",
              "      <td>2.237820</td>\n",
              "    </tr>\n",
              "    <tr>\n",
              "      <th>2</th>\n",
              "      <td>AGE_3</td>\n",
              "      <td>1.524975</td>\n",
              "    </tr>\n",
              "    <tr>\n",
              "      <th>3</th>\n",
              "      <td>WKTS</td>\n",
              "      <td>2.761003</td>\n",
              "    </tr>\n",
              "    <tr>\n",
              "      <th>4</th>\n",
              "      <td>COUNTRY_IND</td>\n",
              "      <td>3.583523</td>\n",
              "    </tr>\n",
              "    <tr>\n",
              "      <th>5</th>\n",
              "      <td>COUNTRY_WI</td>\n",
              "      <td>1.181617</td>\n",
              "    </tr>\n",
              "    <tr>\n",
              "      <th>6</th>\n",
              "      <td>PLAYING ROLE_Bowler</td>\n",
              "      <td>2.908801</td>\n",
              "    </tr>\n",
              "    <tr>\n",
              "      <th>7</th>\n",
              "      <td>COUNTRY_SL</td>\n",
              "      <td>1.375878</td>\n",
              "    </tr>\n",
              "    <tr>\n",
              "      <th>8</th>\n",
              "      <td>COUNTRY_SA</td>\n",
              "      <td>1.492678</td>\n",
              "    </tr>\n",
              "    <tr>\n",
              "      <th>9</th>\n",
              "      <td>COUNTRY_BAN</td>\n",
              "      <td>1.066109</td>\n",
              "    </tr>\n",
              "    <tr>\n",
              "      <th>10</th>\n",
              "      <td>COUNTRY_ZIM</td>\n",
              "      <td>1.181706</td>\n",
              "    </tr>\n",
              "    <tr>\n",
              "      <th>11</th>\n",
              "      <td>PLAYING ROLE_W. Keeper</td>\n",
              "      <td>1.928131</td>\n",
              "    </tr>\n",
              "    <tr>\n",
              "      <th>12</th>\n",
              "      <td>AVE-BL</td>\n",
              "      <td>2.898916</td>\n",
              "    </tr>\n",
              "    <tr>\n",
              "      <th>13</th>\n",
              "      <td>COUNTRY_NZ</td>\n",
              "      <td>1.198506</td>\n",
              "    </tr>\n",
              "    <tr>\n",
              "      <th>14</th>\n",
              "      <td>COUNTRY_ENG</td>\n",
              "      <td>1.153376</td>\n",
              "    </tr>\n",
              "    <tr>\n",
              "      <th>15</th>\n",
              "      <td>SIXERS</td>\n",
              "      <td>2.535218</td>\n",
              "    </tr>\n",
              "    <tr>\n",
              "      <th>16</th>\n",
              "      <td>COUNTRY_PAK</td>\n",
              "      <td>1.278424</td>\n",
              "    </tr>\n",
              "  </tbody>\n",
              "</table>\n",
              "</div>"
            ],
            "text/plain": [
              "                    column       VIF\n",
              "0     PLAYING ROLE_Batsman  2.593379\n",
              "1          CAPTAINCY EXP_1  2.237820\n",
              "2                    AGE_3  1.524975\n",
              "3                     WKTS  2.761003\n",
              "4              COUNTRY_IND  3.583523\n",
              "5               COUNTRY_WI  1.181617\n",
              "6      PLAYING ROLE_Bowler  2.908801\n",
              "7               COUNTRY_SL  1.375878\n",
              "8               COUNTRY_SA  1.492678\n",
              "9              COUNTRY_BAN  1.066109\n",
              "10             COUNTRY_ZIM  1.181706\n",
              "11  PLAYING ROLE_W. Keeper  1.928131\n",
              "12                  AVE-BL  2.898916\n",
              "13              COUNTRY_NZ  1.198506\n",
              "14             COUNTRY_ENG  1.153376\n",
              "15                  SIXERS  2.535218\n",
              "16             COUNTRY_PAK  1.278424"
            ]
          },
          "metadata": {},
          "execution_count": 36
        }
      ]
    },
    {
      "cell_type": "markdown",
      "metadata": {
        "id": "g4FKFp3N5CUX"
      },
      "source": [
        "## Building the model with new parameters"
      ]
    },
    {
      "cell_type": "code",
      "metadata": {
        "colab": {
          "base_uri": "https://localhost:8080/"
        },
        "id": "oTN7bSNNniAT",
        "outputId": "0133b254-f944-4c06-f87e-edee37a734c7"
      },
      "source": [
        "# change the train set\n",
        "train_X = train_X[X_new_features]\n",
        "\n",
        "# again build the model\n",
        "ipl_model = sm.OLS(train_Y, train_X).fit()\n",
        "\n",
        "# Build Model\n",
        "ipl_model.summary2()\n"
      ],
      "execution_count": null,
      "outputs": [
        {
          "output_type": "execute_result",
          "data": {
            "text/html": [
              "<table class=\"simpletable\">\n",
              "<tr>\n",
              "          <td>Model:</td>                 <td>OLS</td>       <td>Adj. R-squared (uncentered):</td>    <td>0.725</td>  \n",
              "</tr>\n",
              "<tr>\n",
              "    <td>Dependent Variable:</td>      <td>SOLD PRICE</td>                <td>AIC:</td>              <td>2965.5880</td>\n",
              "</tr>\n",
              "<tr>\n",
              "           <td>Date:</td>          <td>2021-12-05 04:18</td>             <td>BIC:</td>              <td>3010.5426</td>\n",
              "</tr>\n",
              "<tr>\n",
              "     <td>No. Observations:</td>           <td>104</td>              <td>Log-Likelihood:</td>         <td>-1465.8</td> \n",
              "</tr>\n",
              "<tr>\n",
              "         <td>Df Model:</td>               <td>17</td>                <td>F-statistic:</td>            <td>17.13</td>  \n",
              "</tr>\n",
              "<tr>\n",
              "       <td>Df Residuals:</td>             <td>87</td>             <td>Prob (F-statistic):</td>      <td>7.08e-21</td> \n",
              "</tr>\n",
              "<tr>\n",
              "  <td>R-squared (uncentered):</td>       <td>0.770</td>                 <td>Scale:</td>            <td>1.2220e+11</td>\n",
              "</tr>\n",
              "</table>\n",
              "<table class=\"simpletable\">\n",
              "<tr>\n",
              "             <td></td>               <th>Coef.</th>     <th>Std.Err.</th>      <th>t</th>     <th>P>|t|</th>    <th>[0.025</th>       <th>0.975]</th>   \n",
              "</tr>\n",
              "<tr>\n",
              "  <th>PLAYING ROLE_Batsman</th>   <td>91651.9762</td>  <td>106759.5943</td> <td>0.8585</td>  <td>0.3930</td> <td>-120544.2776</td>  <td>303848.2299</td>\n",
              "</tr>\n",
              "<tr>\n",
              "  <th>CAPTAINCY EXP_1</th>        <td>258506.8071</td> <td>92731.3361</td>  <td>2.7877</td>  <td>0.0065</td>  <td>74193.2355</td>   <td>442820.3787</td>\n",
              "</tr>\n",
              "<tr>\n",
              "  <th>AGE_3</th>                  <td>51661.2173</td>  <td>90309.6188</td>  <td>0.5720</td>  <td>0.5688</td> <td>-127838.9288</td>  <td>231161.3635</td>\n",
              "</tr>\n",
              "<tr>\n",
              "  <th>WKTS</th>                    <td>2789.6453</td>   <td>2097.4189</td>  <td>1.3300</td>  <td>0.1870</td>  <td>-1379.2019</td>    <td>6958.4925</td> \n",
              "</tr>\n",
              "<tr>\n",
              "  <th>COUNTRY_IND</th>            <td>267309.2147</td> <td>106263.1659</td> <td>2.5155</td>  <td>0.0137</td>  <td>56099.6662</td>   <td>478518.7632</td>\n",
              "</tr>\n",
              "<tr>\n",
              "  <th>COUNTRY_WI</th>             <td>-2509.9286</td>  <td>213772.6677</td> <td>-0.0117</td> <td>0.9907</td> <td>-427406.2533</td>  <td>422386.3961</td>\n",
              "</tr>\n",
              "<tr>\n",
              "  <th>PLAYING ROLE_Bowler</th>    <td>27401.9154</td>  <td>102642.4924</td> <td>0.2670</td>  <td>0.7901</td> <td>-176611.1525</td>  <td>231414.9833</td>\n",
              "</tr>\n",
              "<tr>\n",
              "  <th>COUNTRY_SL</th>             <td>101956.8091</td> <td>139449.1974</td> <td>0.7311</td>  <td>0.4667</td> <td>-175213.5704</td>  <td>379127.1887</td>\n",
              "</tr>\n",
              "<tr>\n",
              "  <th>COUNTRY_SA</th>             <td>105352.4751</td> <td>118999.9625</td> <td>0.8853</td>  <td>0.3784</td> <td>-131172.8359</td>  <td>341877.7860</td>\n",
              "</tr>\n",
              "<tr>\n",
              "  <th>COUNTRY_BAN</th>            <td>22598.0846</td>  <td>364333.3020</td> <td>0.0620</td>  <td>0.9507</td> <td>-701553.8036</td>  <td>746749.9728</td>\n",
              "</tr>\n",
              "<tr>\n",
              "  <th>COUNTRY_ZIM</th>            <td>-35572.5380</td> <td>388259.1090</td> <td>-0.0916</td> <td>0.9272</td> <td>-807279.5583</td>  <td>736134.4823</td>\n",
              "</tr>\n",
              "<tr>\n",
              "  <th>PLAYING ROLE_W. Keeper</th> <td>-97934.2691</td> <td>170869.1793</td> <td>-0.5732</td> <td>0.5680</td> <td>-437555.2649</td>  <td>241686.7268</td>\n",
              "</tr>\n",
              "<tr>\n",
              "  <th>AVE-BL</th>                  <td>1810.8313</td>   <td>1831.9323</td>  <td>0.9885</td>  <td>0.3257</td>  <td>-1830.3325</td>    <td>5451.9951</td> \n",
              "</tr>\n",
              "<tr>\n",
              "  <th>COUNTRY_NZ</th>             <td>140346.5481</td> <td>155498.4925</td> <td>0.9026</td>  <td>0.3693</td> <td>-168723.5433</td>  <td>449416.6395</td>\n",
              "</tr>\n",
              "<tr>\n",
              "  <th>COUNTRY_ENG</th>            <td>688721.8589</td> <td>219634.0871</td> <td>3.1358</td>  <td>0.0023</td>  <td>252175.3285</td> <td>1125268.3893</td>\n",
              "</tr>\n",
              "<tr>\n",
              "  <th>SIXERS</th>                  <td>8025.2973</td>   <td>2119.9238</td>  <td>3.7857</td>  <td>0.0003</td>   <td>3811.7191</td>   <td>12238.8755</td> \n",
              "</tr>\n",
              "<tr>\n",
              "  <th>COUNTRY_PAK</th>            <td>155660.8457</td> <td>159220.3591</td> <td>0.9776</td>  <td>0.3310</td> <td>-160806.8586</td>  <td>472128.5499</td>\n",
              "</tr>\n",
              "</table>\n",
              "<table class=\"simpletable\">\n",
              "<tr>\n",
              "     <td>Omnibus:</td>    <td>8.975</td>  <td>Durbin-Watson:</td>   <td>2.363</td>\n",
              "</tr>\n",
              "<tr>\n",
              "  <td>Prob(Omnibus):</td> <td>0.011</td> <td>Jarque-Bera (JB):</td> <td>8.840</td>\n",
              "</tr>\n",
              "<tr>\n",
              "       <td>Skew:</td>     <td>0.616</td>     <td>Prob(JB):</td>     <td>0.012</td>\n",
              "</tr>\n",
              "<tr>\n",
              "     <td>Kurtosis:</td>   <td>3.724</td>  <td>Condition No.:</td>    <td>469</td> \n",
              "</tr>\n",
              "</table>"
            ],
            "text/plain": [
              "<class 'statsmodels.iolib.summary2.Summary'>\n",
              "\"\"\"\n",
              "                            Results: Ordinary least squares\n",
              "=======================================================================================\n",
              "Model:                     OLS                Adj. R-squared (uncentered):   0.725     \n",
              "Dependent Variable:        SOLD PRICE         AIC:                           2965.5880 \n",
              "Date:                      2021-12-05 04:18   BIC:                           3010.5426 \n",
              "No. Observations:          104                Log-Likelihood:                -1465.8   \n",
              "Df Model:                  17                 F-statistic:                   17.13     \n",
              "Df Residuals:              87                 Prob (F-statistic):            7.08e-21  \n",
              "R-squared (uncentered):    0.770              Scale:                         1.2220e+11\n",
              "---------------------------------------------------------------------------------------\n",
              "                          Coef.      Std.Err.     t    P>|t|     [0.025       0.975]   \n",
              "---------------------------------------------------------------------------------------\n",
              "PLAYING ROLE_Batsman    91651.9762 106759.5943  0.8585 0.3930 -120544.2776  303848.2299\n",
              "CAPTAINCY EXP_1        258506.8071  92731.3361  2.7877 0.0065   74193.2355  442820.3787\n",
              "AGE_3                   51661.2173  90309.6188  0.5720 0.5688 -127838.9288  231161.3635\n",
              "WKTS                     2789.6453   2097.4189  1.3300 0.1870   -1379.2019    6958.4925\n",
              "COUNTRY_IND            267309.2147 106263.1659  2.5155 0.0137   56099.6662  478518.7632\n",
              "COUNTRY_WI              -2509.9286 213772.6677 -0.0117 0.9907 -427406.2533  422386.3961\n",
              "PLAYING ROLE_Bowler     27401.9154 102642.4924  0.2670 0.7901 -176611.1525  231414.9833\n",
              "COUNTRY_SL             101956.8091 139449.1974  0.7311 0.4667 -175213.5704  379127.1887\n",
              "COUNTRY_SA             105352.4751 118999.9625  0.8853 0.3784 -131172.8359  341877.7860\n",
              "COUNTRY_BAN             22598.0846 364333.3020  0.0620 0.9507 -701553.8036  746749.9728\n",
              "COUNTRY_ZIM            -35572.5380 388259.1090 -0.0916 0.9272 -807279.5583  736134.4823\n",
              "PLAYING ROLE_W. Keeper -97934.2691 170869.1793 -0.5732 0.5680 -437555.2649  241686.7268\n",
              "AVE-BL                   1810.8313   1831.9323  0.9885 0.3257   -1830.3325    5451.9951\n",
              "COUNTRY_NZ             140346.5481 155498.4925  0.9026 0.3693 -168723.5433  449416.6395\n",
              "COUNTRY_ENG            688721.8589 219634.0871  3.1358 0.0023  252175.3285 1125268.3893\n",
              "SIXERS                   8025.2973   2119.9238  3.7857 0.0003    3811.7191   12238.8755\n",
              "COUNTRY_PAK            155660.8457 159220.3591  0.9776 0.3310 -160806.8586  472128.5499\n",
              "---------------------------------------------------------------------------------------\n",
              "Omnibus:                      8.975               Durbin-Watson:                  2.363\n",
              "Prob(Omnibus):                0.011               Jarque-Bera (JB):               8.840\n",
              "Skew:                         0.616               Prob(JB):                       0.012\n",
              "Kurtosis:                     3.724               Condition No.:                  469  \n",
              "=======================================================================================\n",
              "\n",
              "\"\"\""
            ]
          },
          "metadata": {},
          "execution_count": 37
        }
      ]
    },
    {
      "cell_type": "markdown",
      "metadata": {
        "id": "KcMmzMLa1k7n"
      },
      "source": [
        "As we have removed the multocolinearity problem by using vls function.\n",
        "\n",
        "Now we again considers parameters which have $p<0.05$<br>\n",
        "These are: COUNTRY_ENG, SIXERS, CAPTAINCY EXP_1, COUNTRY_IND"
      ]
    },
    {
      "cell_type": "code",
      "metadata": {
        "colab": {
          "base_uri": "https://localhost:8080/"
        },
        "id": "h0QhcdIp1NhU",
        "outputId": "a74ab487-22f4-4c7c-9ed2-09937b72683c"
      },
      "source": [
        "X_significant = ['COUNTRY_ENG', 'SIXERS', 'CAPTAINCY EXP_1', 'COUNTRY_IND']\n",
        "# Update the training set\n",
        "train_X = train_X[X_significant]\n",
        "\n",
        "# again build the model\n",
        "ipl_model = sm.OLS(train_Y, train_X).fit()\n",
        "\n",
        "# Build Model\n",
        "ipl_model.summary2()"
      ],
      "execution_count": null,
      "outputs": [
        {
          "output_type": "execute_result",
          "data": {
            "text/html": [
              "<table class=\"simpletable\">\n",
              "<tr>\n",
              "          <td>Model:</td>                 <td>OLS</td>       <td>Adj. R-squared (uncentered):</td>    <td>0.704</td>  \n",
              "</tr>\n",
              "<tr>\n",
              "    <td>Dependent Variable:</td>      <td>SOLD PRICE</td>                <td>AIC:</td>              <td>2961.8089</td>\n",
              "</tr>\n",
              "<tr>\n",
              "           <td>Date:</td>          <td>2021-12-05 04:18</td>             <td>BIC:</td>              <td>2972.3864</td>\n",
              "</tr>\n",
              "<tr>\n",
              "     <td>No. Observations:</td>           <td>104</td>              <td>Log-Likelihood:</td>         <td>-1476.9</td> \n",
              "</tr>\n",
              "<tr>\n",
              "         <td>Df Model:</td>                <td>4</td>                <td>F-statistic:</td>            <td>62.77</td>  \n",
              "</tr>\n",
              "<tr>\n",
              "       <td>Df Residuals:</td>             <td>100</td>            <td>Prob (F-statistic):</td>      <td>1.97e-26</td> \n",
              "</tr>\n",
              "<tr>\n",
              "  <td>R-squared (uncentered):</td>       <td>0.715</td>                 <td>Scale:</td>            <td>1.3164e+11</td>\n",
              "</tr>\n",
              "</table>\n",
              "<table class=\"simpletable\">\n",
              "<tr>\n",
              "         <td></td>            <th>Coef.</th>     <th>Std.Err.</th>      <th>t</th>    <th>P>|t|</th>   <th>[0.025</th>       <th>0.975]</th>   \n",
              "</tr>\n",
              "<tr>\n",
              "  <th>COUNTRY_ENG</th>     <td>731833.6386</td> <td>214164.4988</td> <td>3.4172</td> <td>0.0009</td> <td>306937.3727</td> <td>1156729.9045</td>\n",
              "</tr>\n",
              "<tr>\n",
              "  <th>SIXERS</th>           <td>8637.8344</td>   <td>1675.1313</td>  <td>5.1565</td> <td>0.0000</td>  <td>5314.4216</td>   <td>11961.2472</td> \n",
              "</tr>\n",
              "<tr>\n",
              "  <th>CAPTAINCY EXP_1</th> <td>359725.2741</td> <td>74930.3460</td>  <td>4.8008</td> <td>0.0000</td> <td>211065.6018</td>  <td>508384.9463</td>\n",
              "</tr>\n",
              "<tr>\n",
              "  <th>COUNTRY_IND</th>     <td>387890.2538</td> <td>63007.1511</td>  <td>6.1563</td> <td>0.0000</td> <td>262885.8606</td>  <td>512894.6471</td>\n",
              "</tr>\n",
              "</table>\n",
              "<table class=\"simpletable\">\n",
              "<tr>\n",
              "     <td>Omnibus:</td>    <td>1.130</td>  <td>Durbin-Watson:</td>   <td>2.238</td>\n",
              "</tr>\n",
              "<tr>\n",
              "  <td>Prob(Omnibus):</td> <td>0.568</td> <td>Jarque-Bera (JB):</td> <td>0.874</td>\n",
              "</tr>\n",
              "<tr>\n",
              "       <td>Skew:</td>     <td>0.223</td>     <td>Prob(JB):</td>     <td>0.646</td>\n",
              "</tr>\n",
              "<tr>\n",
              "     <td>Kurtosis:</td>   <td>3.046</td>  <td>Condition No.:</td>    <td>165</td> \n",
              "</tr>\n",
              "</table>"
            ],
            "text/plain": [
              "<class 'statsmodels.iolib.summary2.Summary'>\n",
              "\"\"\"\n",
              "                        Results: Ordinary least squares\n",
              "================================================================================\n",
              "Model:                  OLS              Adj. R-squared (uncentered): 0.704     \n",
              "Dependent Variable:     SOLD PRICE       AIC:                         2961.8089 \n",
              "Date:                   2021-12-05 04:18 BIC:                         2972.3864 \n",
              "No. Observations:       104              Log-Likelihood:              -1476.9   \n",
              "Df Model:               4                F-statistic:                 62.77     \n",
              "Df Residuals:           100              Prob (F-statistic):          1.97e-26  \n",
              "R-squared (uncentered): 0.715            Scale:                       1.3164e+11\n",
              "--------------------------------------------------------------------------------\n",
              "                     Coef.      Std.Err.    t    P>|t|     [0.025      0.975]   \n",
              "--------------------------------------------------------------------------------\n",
              "COUNTRY_ENG       731833.6386 214164.4988 3.4172 0.0009 306937.3727 1156729.9045\n",
              "SIXERS              8637.8344   1675.1313 5.1565 0.0000   5314.4216   11961.2472\n",
              "CAPTAINCY EXP_1   359725.2741  74930.3460 4.8008 0.0000 211065.6018  508384.9463\n",
              "COUNTRY_IND       387890.2538  63007.1511 6.1563 0.0000 262885.8606  512894.6471\n",
              "--------------------------------------------------------------------------------\n",
              "Omnibus:                   1.130             Durbin-Watson:                2.238\n",
              "Prob(Omnibus):             0.568             Jarque-Bera (JB):             0.874\n",
              "Skew:                      0.223             Prob(JB):                     0.646\n",
              "Kurtosis:                  3.046             Condition No.:                165  \n",
              "================================================================================\n",
              "\n",
              "\"\"\""
            ]
          },
          "metadata": {},
          "execution_count": 38
        }
      ]
    },
    {
      "cell_type": "code",
      "metadata": {
        "colab": {
          "base_uri": "https://localhost:8080/"
        },
        "id": "3UN0t2w1zHRl",
        "outputId": "f582be7e-6f73-4ac0-a420-ed509c91b521"
      },
      "source": [
        "# Parameters of new model\n",
        "ipl_model.params"
      ],
      "execution_count": null,
      "outputs": [
        {
          "output_type": "execute_result",
          "data": {
            "text/plain": [
              "COUNTRY_ENG        731833.638616\n",
              "SIXERS               8637.834426\n",
              "CAPTAINCY EXP_1    359725.274051\n",
              "COUNTRY_IND        387890.253821\n",
              "dtype: float64"
            ]
          },
          "metadata": {},
          "execution_count": 39
        }
      ]
    },
    {
      "cell_type": "markdown",
      "metadata": {
        "id": "uIYKEk7N5HFT"
      },
      "source": [
        "## Residual Analysis"
      ]
    },
    {
      "cell_type": "code",
      "metadata": {
        "colab": {
          "base_uri": "https://localhost:8080/"
        },
        "id": "2kEsOl193lf-",
        "outputId": "e43b80dd-75ba-4a32-f0d5-77255e03e7ec"
      },
      "source": [
        "# Check Normal Distribution of Residuals\n",
        "\n",
        "#Probability - Probability plot (P-P plot)\n",
        "\n",
        "residuals_ipl = ipl_model.resid\n",
        "ppplot = sm.ProbPlot(residuals_ipl)\n",
        "ppplot.ppplot(line = '45')\n",
        "plt.show()"
      ],
      "execution_count": null,
      "outputs": [
        {
          "output_type": "display_data",
          "data": {
            "image/png": "[encoded data removed]",
            "text/plain": [
              "<Figure size 432x288 with 1 Axes>"
            ]
          },
          "metadata": {
            "needs_background": "light"
          }
        }
      ]
    },
    {
      "cell_type": "markdown",
      "metadata": {
        "id": "rYbNaufa6LvH"
      },
      "source": [
        "As the residuals are along 45 degree so the error is normally distributed"
      ]
    },
    {
      "cell_type": "code",
      "metadata": {
        "colab": {
          "base_uri": "https://localhost:8080/"
        },
        "id": "0K_M1lVE5e6V",
        "outputId": "d897a9b9-e206-4b2f-fcf9-9b6aa1cad694"
      },
      "source": [
        "# Check Variance of residual is constant(Homoscedasticity)\n",
        "\n",
        "def get_standar_values(vals):\n",
        "    return (vals - vals.mean())/vals.std()\n",
        "\n",
        "plt.scatter(get_standar_values(ipl_model.fittedvalues),get_standar_values(residuals_ipl))\n",
        "plt.title(\"Fig: Residual Plot\")\n",
        "plt.xlabel(\"Predicted Values\")\n",
        "plt.ylabel(\"Residual Values\")"
      ],
      "execution_count": null,
      "outputs": [
        {
          "output_type": "execute_result",
          "data": {
            "text/plain": [
              "Text(0, 0.5, 'Residual Values')"
            ]
          },
          "metadata": {},
          "execution_count": 41
        },
        {
          "output_type": "display_data",
          "data": {
            "image/png": "[encoded data removed]",
            "text/plain": [
              "<Figure size 432x288 with 1 Axes>"
            ]
          },
          "metadata": {
            "needs_background": "light"
          }
        }
      ]
    },
    {
      "cell_type": "markdown",
      "metadata": {
        "id": "iHYGUSym7IwW"
      },
      "source": [
        "## Detect Influencers and Outliers\n"
      ]
    },
    {
      "cell_type": "markdown",
      "metadata": {
        "id": "cl0dUEhv_UqH"
      },
      "source": [
        "We will use method for Leverage  Values method\n",
        "\n",
        "If $Leverage\\ value > \\frac{3k+1}{n}$ then these are not outliers and they will be highly influential observations.<br>\n",
        "$k$ = Columns of training data<br>\n",
        "$n$ = Rows of training data"
      ]
    },
    {
      "cell_type": "code",
      "metadata": {
        "colab": {
          "base_uri": "https://localhost:8080/"
        },
        "id": "zaBHr2wt7CNX",
        "outputId": "2c3e06d2-87a4-4077-b614-f21a6319957f"
      },
      "source": [
        "k = train_X.shape[1] # length of columns these are number of significant parameters\n",
        "n = train_Y.shape[0] # length of rows\n",
        "\n",
        "print(\"Number of variables or significant parameters: \", k, \"\\nNumber of observations of number of training Y: \", n)\n",
        "\n",
        "leverage_cutoff = (3*(k+1))/n\n",
        "print(\"Cutoff for leverage value: \", round(leverage_cutoff, 3))"
      ],
      "execution_count": null,
      "outputs": [
        {
          "output_type": "stream",
          "name": "stdout",
          "text": [
            "Number of variables or significant parameters:  4 \n",
            "Number of observations of number of training Y:  104\n",
            "Cutoff for leverage value:  0.144\n"
          ]
        }
      ]
    },
    {
      "cell_type": "markdown",
      "metadata": {
        "id": "y_mGWU2yB-2g"
      },
      "source": [
        "The observations which have $leverage \\ value>0.144$ are highly influential observations.<br>\n",
        "We will plot it using influence plot"
      ]
    },
    {
      "cell_type": "code",
      "metadata": {
        "colab": {
          "base_uri": "https://localhost:8080/"
        },
        "id": "7cxYI3JQ7kAB",
        "outputId": "95049909-7983-4497-f8a7-3673361444f9"
      },
      "source": [
        "from statsmodels.graphics.regressionplots import influence_plot\n",
        "fig, axes = plt.subplots(figsize=(8, 6))\n",
        "influence_plot(ipl_model, ax = axes)\n",
        "plt.show()"
      ],
      "execution_count": null,
      "outputs": [
        {
          "output_type": "display_data",
          "data": {
            "image/png": "[encoded data removed]",
            "text/plain": [
              "<Figure size 576x432 with 1 Axes>"
            ]
          },
          "metadata": {
            "needs_background": "light"
          }
        }
      ]
    },
    {
      "cell_type": "markdown",
      "metadata": {
        "id": "J-ju1Cy4EUlV"
      },
      "source": [
        "From the graph we get that there are 3 observations which we need to filter out<br>\n",
        "We will filter out 23, 83, 58 observations"
      ]
    },
    {
      "cell_type": "code",
      "metadata": {
        "colab": {
          "base_uri": "https://localhost:8080/"
        },
        "id": "S7CQLCglCusP",
        "outputId": "27f38896-c23e-4708-acd6-e39200f36c2c"
      },
      "source": [
        "# these 3 observation do not have large residuals\n",
        "# we may drop this if we wish to\n",
        "ipl_df[ipl_df.index.isin([23, 58, 83])]"
      ],
      "execution_count": null,
      "outputs": [
        {
          "output_type": "execute_result",
          "data": {
            "text/html": [
              "<div>\n",
              "<style scoped>\n",
              "    .dataframe tbody tr th:only-of-type {\n",
              "        vertical-align: middle;\n",
              "    }\n",
              "\n",
              "    .dataframe tbody tr th {\n",
              "        vertical-align: top;\n",
              "    }\n",
              "\n",
              "    .dataframe thead th {\n",
              "        text-align: right;\n",
              "    }\n",
              "</style>\n",
              "<table border=\"1\" class=\"dataframe\">\n",
              "  <thead>\n",
              "    <tr style=\"text-align: right;\">\n",
              "      <th></th>\n",
              "      <th>Sl.NO.</th>\n",
              "      <th>PLAYER NAME</th>\n",
              "      <th>AGE</th>\n",
              "      <th>COUNTRY</th>\n",
              "      <th>TEAM</th>\n",
              "      <th>PLAYING ROLE</th>\n",
              "      <th>T-RUNS</th>\n",
              "      <th>T-WKTS</th>\n",
              "      <th>ODI-RUNS-S</th>\n",
              "      <th>ODI-SR-B</th>\n",
              "      <th>ODI-WKTS</th>\n",
              "      <th>ODI-SR-BL</th>\n",
              "      <th>CAPTAINCY EXP</th>\n",
              "      <th>RUNS-S</th>\n",
              "      <th>HS</th>\n",
              "      <th>AVE</th>\n",
              "      <th>SR-B</th>\n",
              "      <th>SIXERS</th>\n",
              "      <th>RUNS-C</th>\n",
              "      <th>WKTS</th>\n",
              "      <th>AVE-BL</th>\n",
              "      <th>ECON</th>\n",
              "      <th>SR-BL</th>\n",
              "      <th>AUCTION YEAR</th>\n",
              "      <th>BASE PRICE</th>\n",
              "      <th>SOLD PRICE</th>\n",
              "    </tr>\n",
              "  </thead>\n",
              "  <tbody>\n",
              "    <tr>\n",
              "      <th>23</th>\n",
              "      <td>24</td>\n",
              "      <td>Flintoff, A</td>\n",
              "      <td>2</td>\n",
              "      <td>ENG</td>\n",
              "      <td>CSK</td>\n",
              "      <td>Allrounder</td>\n",
              "      <td>3845</td>\n",
              "      <td>226</td>\n",
              "      <td>3394</td>\n",
              "      <td>88.82</td>\n",
              "      <td>169</td>\n",
              "      <td>33.2</td>\n",
              "      <td>1</td>\n",
              "      <td>62</td>\n",
              "      <td>24</td>\n",
              "      <td>31.00</td>\n",
              "      <td>116.98</td>\n",
              "      <td>2</td>\n",
              "      <td>105</td>\n",
              "      <td>2</td>\n",
              "      <td>52.50</td>\n",
              "      <td>9.55</td>\n",
              "      <td>33.00</td>\n",
              "      <td>2009</td>\n",
              "      <td>950000</td>\n",
              "      <td>1550000</td>\n",
              "    </tr>\n",
              "    <tr>\n",
              "      <th>58</th>\n",
              "      <td>59</td>\n",
              "      <td>Mascarenhas, AD</td>\n",
              "      <td>2</td>\n",
              "      <td>ENG</td>\n",
              "      <td>RR+</td>\n",
              "      <td>Allrounder</td>\n",
              "      <td>0</td>\n",
              "      <td>0</td>\n",
              "      <td>245</td>\n",
              "      <td>95.33</td>\n",
              "      <td>13</td>\n",
              "      <td>63.2</td>\n",
              "      <td>0</td>\n",
              "      <td>74</td>\n",
              "      <td>27</td>\n",
              "      <td>8.22</td>\n",
              "      <td>101.37</td>\n",
              "      <td>1</td>\n",
              "      <td>331</td>\n",
              "      <td>19</td>\n",
              "      <td>17.42</td>\n",
              "      <td>7.01</td>\n",
              "      <td>14.95</td>\n",
              "      <td>2011</td>\n",
              "      <td>100000</td>\n",
              "      <td>100000</td>\n",
              "    </tr>\n",
              "    <tr>\n",
              "      <th>83</th>\n",
              "      <td>84</td>\n",
              "      <td>Pietersen, KP</td>\n",
              "      <td>2</td>\n",
              "      <td>ENG</td>\n",
              "      <td>RCB+</td>\n",
              "      <td>Batsman</td>\n",
              "      <td>6654</td>\n",
              "      <td>5</td>\n",
              "      <td>4184</td>\n",
              "      <td>86.76</td>\n",
              "      <td>7</td>\n",
              "      <td>57.1</td>\n",
              "      <td>1</td>\n",
              "      <td>634</td>\n",
              "      <td>103</td>\n",
              "      <td>42.27</td>\n",
              "      <td>141.20</td>\n",
              "      <td>30</td>\n",
              "      <td>215</td>\n",
              "      <td>7</td>\n",
              "      <td>30.71</td>\n",
              "      <td>7.41</td>\n",
              "      <td>24.86</td>\n",
              "      <td>2009</td>\n",
              "      <td>1350000</td>\n",
              "      <td>1550000</td>\n",
              "    </tr>\n",
              "  </tbody>\n",
              "</table>\n",
              "</div>"
            ],
            "text/plain": [
              "    Sl.NO.      PLAYER NAME  AGE  ... AUCTION YEAR BASE PRICE SOLD PRICE\n",
              "23      24      Flintoff, A    2  ...         2009     950000    1550000\n",
              "58      59  Mascarenhas, AD    2  ...         2011     100000     100000\n",
              "83      84    Pietersen, KP    2  ...         2009    1350000    1550000\n",
              "\n",
              "[3 rows x 26 columns]"
            ]
          },
          "metadata": {},
          "execution_count": 44
        }
      ]
    },
    {
      "cell_type": "markdown",
      "metadata": {
        "id": "SoYdG2NWGbf6"
      },
      "source": [
        "## Prediction of Sold Price"
      ]
    },
    {
      "cell_type": "code",
      "metadata": {
        "colab": {
          "base_uri": "https://localhost:8080/"
        },
        "id": "SFRnAe8bGIcs",
        "outputId": "4d77ecd3-abf5-413a-8377-5d034c9caff6"
      },
      "source": [
        "# pass the various significant parameters like\n",
        "# SIXERS, etc to predict function\n",
        "# bvased on the estimated values our model will\n",
        "# predict the output based on testing data\n",
        "pred_y = ipl_model.predict(test_X[train_X.columns])\n",
        "pred_y"
      ],
      "execution_count": null,
      "outputs": [
        {
          "output_type": "execute_result",
          "data": {
            "text/plain": [
              "55     5.182701e+04\n",
              "40     4.138038e+05\n",
              "19     3.023242e+05\n",
              "31     2.591350e+04\n",
              "115    4.318917e+04\n",
              "56     7.774051e+04\n",
              "69     0.000000e+00\n",
              "105    3.878903e+05\n",
              "81     6.815766e+05\n",
              "26     1.474006e+06\n",
              "95     3.965281e+05\n",
              "27     6.274981e+05\n",
              "64     4.138038e+05\n",
              "4      6.297496e+05\n",
              "97     1.096193e+06\n",
              "100    8.637834e+03\n",
              "36     9.501618e+04\n",
              "80     5.001821e+05\n",
              "93     1.430004e+06\n",
              "84     4.288279e+05\n",
              "18     9.462857e+05\n",
              "10     3.282377e+05\n",
              "120    3.770009e+05\n",
              "11     3.597253e+05\n",
              "126    3.597253e+05\n",
              "45     6.910268e+04\n",
              "dtype: float64"
            ]
          },
          "metadata": {},
          "execution_count": 45
        }
      ]
    },
    {
      "cell_type": "markdown",
      "metadata": {
        "id": "FXt18OqrJ3BY"
      },
      "source": [
        "## Calculate RMS"
      ]
    },
    {
      "cell_type": "code",
      "metadata": {
        "colab": {
          "base_uri": "https://localhost:8080/"
        },
        "id": "KgTc1BRXG0lE",
        "outputId": "bc484dbc-792d-4b40-9d92-49ad84574ae3"
      },
      "source": [
        "from sklearn.metrics import r2_score, mean_squared_error\n",
        "# calaulate the R^2 error between \n",
        "# actual values and predicted values\n",
        "print(f' The R squared error is: {round(np.abs(r2_score(test_Y, pred_y)), 5)}')"
      ],
      "execution_count": null,
      "outputs": [
        {
          "output_type": "stream",
          "name": "stdout",
          "text": [
            " The R squared error is: 0.18248\n"
          ]
        }
      ]
    },
    {
      "cell_type": "code",
      "metadata": {
        "colab": {
          "base_uri": "https://localhost:8080/"
        },
        "id": "ew7UeAXLKXPT",
        "outputId": "6581ea8d-46aa-4bcd-a429-098007200040"
      },
      "source": [
        "# RMSE = Root Mean Squared Error\n",
        "# Lower the RMSE better the model\n",
        "rmse = np.sqrt(mean_squared_error(test_Y, pred_y))\n",
        "print(f'The mean squared error is: {round(rmse, 5)}')"
      ],
      "execution_count": null,
      "outputs": [
        {
          "output_type": "stream",
          "name": "stdout",
          "text": [
            "The mean squared error is: 333693.41475\n"
          ]
        }
      ]
    },
    {
      "cell_type": "code",
      "metadata": {
        "id": "VSOQVfqNLO97"
      },
      "source": [
        ""
      ],
      "execution_count": null,
      "outputs": []
    }
  ]
}