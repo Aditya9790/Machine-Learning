{
  "nbformat": 4,
  "nbformat_minor": 0,
  "metadata": {
    "colab": {
      "name": "Classification.ipynb",
      "provenance": [],
      "collapsed_sections": [],
      "authorship_tag": "ABX9TyPe2sauLw1hPfM2CpCWYzKw"
    },
    "kernelspec": {
      "name": "python3",
      "display_name": "Python 3"
    },
    "language_info": {
      "name": "python"
    }
  },
  "cells": [
    {
      "cell_type": "code",
      "execution_count": null,
      "metadata": {
        "id": "BtozFCKzYSYu"
      },
      "outputs": [],
      "source": [
        "import numpy as np\n",
        "import pandas as pd\n",
        "import matplotlib.pyplot as plt\n",
        "import seaborn as sns"
      ]
    },
    {
      "cell_type": "markdown",
      "source": [
        "Types of classification models:\n",
        "1. Discriminative functions and Classifier: Direct modelling between $x$ and $y$ and use parametric models.\n",
        "\n",
        "2. Generative Classifier: Uses ```Bayes theorem``` on class conditional densities $p(x|y)$ for feature and prior probabilities of classes on $p(y)$.\n",
        "\n",
        "3. Instance Based Models: Compare test example with training  example and assign class labels based on measure of similarity."
      ],
      "metadata": {
        "id": "NhXDvauzYlwL"
      }
    },
    {
      "cell_type": "markdown",
      "source": [
        "- Classification predicts the class label based on input feature vector $x$.\n",
        "\n",
        "- Class label $y$ is a discrete quantity.\n",
        "    - Ex : $Y$ = {0, 1}\n",
        "    - $Y$ = {-1, +1}\n",
        "\n",
        "Type of classification :\n",
        "\n",
        "1. Single Label Classification : Each example has one label. Ex: yes, no.\n",
        "    - Label is a scalar.\n",
        "\n",
        "2. Multi-label Classification : Each example has one or more labels.Ex: Identify type of fruit.\n",
        "    - Label is a vector i.e. column vector.\n",
        "    \\begin{align}\n",
        "        y = \\begin{pmatrix}\n",
        "        y_1  \\\\\n",
        "        y_2  \\\\\n",
        "        y_3  \\\\\n",
        "        .    \\\\\n",
        "        .\\\\\n",
        "        y_k\\\\\n",
        "        \\end{pmatrix}\n",
        "    \\end{align}\n",
        "    - Depending on presence of label, corresponding label is set to 1."
      ],
      "metadata": {
        "id": "O0EtoDGvaCbz"
      }
    },
    {
      "cell_type": "code",
      "source": [
        " "
      ],
      "metadata": {
        "id": "IdzDyjM8ZcyC"
      },
      "execution_count": null,
      "outputs": []
    },
    {
      "cell_type": "code",
      "source": [
        ""
      ],
      "metadata": {
        "id": "OtKfNXd3Zcup"
      },
      "execution_count": null,
      "outputs": []
    },
    {
      "cell_type": "code",
      "source": [
        ""
      ],
      "metadata": {
        "id": "Z5iJkrOxYlOX"
      },
      "execution_count": null,
      "outputs": []
    },
    {
      "cell_type": "code",
      "source": [
        ""
      ],
      "metadata": {
        "id": "3Fl8BZgsYd1G"
      },
      "execution_count": null,
      "outputs": []
    }
  ]
}