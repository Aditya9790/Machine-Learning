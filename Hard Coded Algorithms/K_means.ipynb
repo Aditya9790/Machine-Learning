{
  "nbformat": 4,
  "nbformat_minor": 0,
  "metadata": {
    "colab": {
      "name": "K means.ipynb",
      "provenance": [],
      "authorship_tag": "ABX9TyMhQEZ74F6nuQvw9qP5vaW5"
    },
    "kernelspec": {
      "name": "python3",
      "display_name": "Python 3"
    },
    "language_info": {
      "name": "python"
    }
  },
  "cells": [
    {
      "cell_type": "code",
      "execution_count": 14,
      "metadata": {
        "id": "anvgWO1WK_qj"
      },
      "outputs": [],
      "source": [
        "import numpy as np\n",
        "import matplotlib.pyplot as plt\n",
        "import seaborn as sns ; sns.set()\n",
        "\n",
        "from sklearn.datasets import make_blobs\n",
        "from scipy.spatial.distance import cdist"
      ]
    },
    {
      "cell_type": "code",
      "source": [
        ""
      ],
      "metadata": {
        "id": "1kVscKHNC8jr"
      },
      "execution_count": 15,
      "outputs": []
    },
    {
      "cell_type": "code",
      "source": [
        "cluster_count = 3\n"
      ],
      "metadata": {
        "id": "wYPzDsQAEbxH"
      },
      "execution_count": 16,
      "outputs": []
    },
    {
      "cell_type": "code",
      "source": [
        "X, y = make_blobs(n_samples=100, n_features=2, centers=3,\n",
        "                  random_state=1)\n",
        "X.shape, y.shape"
      ],
      "metadata": {
        "colab": {
          "base_uri": "https://localhost:8080/"
        },
        "id": "yeOYkOcFafI9",
        "outputId": "0f641752-3760-46d4-815a-c8b927b165ee"
      },
      "execution_count": 19,
      "outputs": [
        {
          "output_type": "execute_result",
          "data": {
            "text/plain": [
              "((100, 2), (100,))"
            ]
          },
          "metadata": {},
          "execution_count": 19
        }
      ]
    },
    {
      "cell_type": "code",
      "source": [
        "plt.scatter(X[:, 0], X[:, 1])\n",
        "plt.show()"
      ],
      "metadata": {
        "colab": {
          "base_uri": "https://localhost:8080/",
          "height": 268
        },
        "id": "t2t5Rw-7anHx",
        "outputId": "91fbed3b-20d9-4081-f8e4-a9d2a3fe9d3f"
      },
      "execution_count": 20,
      "outputs": [
        {
          "output_type": "display_data",
          "data": {
            "text/plain": [
              "<Figure size 432x288 with 1 Axes>"
            ],
            "image/png": "[encoded data removed]"
          },
          "metadata": {}
        }
      ]
    },
    {
      "cell_type": "code",
      "source": [
        "np.random.seed(1234)\n",
        "centroids = X[np.random.randint(0, X.shape[0], size=3)]\n",
        "centroids"
      ],
      "metadata": {
        "colab": {
          "base_uri": "https://localhost:8080/"
        },
        "id": "C1uGu0LJa0Fe",
        "outputId": "01a22fd2-d091-4bf4-f6df-9b63f71aa9cc"
      },
      "execution_count": 22,
      "outputs": [
        {
          "output_type": "execute_result",
          "data": {
            "text/plain": [
              "array([[  0.5260155 ,   3.00999353],\n",
              "       [ -5.16022348,  -7.04217141],\n",
              "       [-10.17863281,  -4.55726918]])"
            ]
          },
          "metadata": {},
          "execution_count": 22
        }
      ]
    },
    {
      "cell_type": "code",
      "source": [
        "labels = cdist(X, centroids)\n",
        "labels[:5]"
      ],
      "metadata": {
        "colab": {
          "base_uri": "https://localhost:8080/"
        },
        "id": "cXi65Pska57m",
        "outputId": "05d0f7ff-8e94-4a8e-8e94-f060523716e0"
      },
      "execution_count": 48,
      "outputs": [
        {
          "output_type": "execute_result",
          "data": {
            "text/plain": [
              "array([[ 1.60060758, 10.13570072, 11.50885115],\n",
              "       [12.44397113,  4.57170773,  1.05840646],\n",
              "       [14.10664358,  6.79245429,  1.26710263],\n",
              "       [12.01729549,  6.00474853,  1.42643018],\n",
              "       [12.48439433,  1.49590155,  6.8274392 ]])"
            ]
          },
          "metadata": {},
          "execution_count": 48
        }
      ]
    },
    {
      "cell_type": "code",
      "source": [
        "# cdist(X[0], centroids[0])\n",
        "X[0], centroids[0]"
      ],
      "metadata": {
        "colab": {
          "base_uri": "https://localhost:8080/"
        },
        "id": "HLzwly1DbLJz",
        "outputId": "a6493f48-4e86-485d-fd28-fdc39c0e27e2"
      },
      "execution_count": 44,
      "outputs": [
        {
          "output_type": "execute_result",
          "data": {
            "text/plain": [
              "(array([-0.79415228,  2.10495117]), array([0.5260155 , 3.00999353]))"
            ]
          },
          "metadata": {},
          "execution_count": 44
        }
      ]
    },
    {
      "cell_type": "code",
      "source": [
        "np.sum((X[0] - centroids[0])**2)**0.5"
      ],
      "metadata": {
        "colab": {
          "base_uri": "https://localhost:8080/"
        },
        "id": "UjTMqv3wbnO-",
        "outputId": "fa6c2ec8-c202-497a-88a4-77c666af4a8f"
      },
      "execution_count": 45,
      "outputs": [
        {
          "output_type": "execute_result",
          "data": {
            "text/plain": [
              "1.600607583355101"
            ]
          },
          "metadata": {},
          "execution_count": 45
        }
      ]
    },
    {
      "cell_type": "code",
      "source": [
        "labels = np.argmin(labels, axis = 1)\n",
        "labels[:5]"
      ],
      "metadata": {
        "colab": {
          "base_uri": "https://localhost:8080/"
        },
        "id": "Se9XAy_fb8o9",
        "outputId": "d8e282d4-84ab-49d6-f8e9-70514c1f8bee"
      },
      "execution_count": 49,
      "outputs": [
        {
          "output_type": "execute_result",
          "data": {
            "text/plain": [
              "array([0, 2, 2, 2, 1])"
            ]
          },
          "metadata": {},
          "execution_count": 49
        }
      ]
    },
    {
      "cell_type": "code",
      "source": [
        "np.mean(X[labels == 0], axis=1)"
      ],
      "metadata": {
        "colab": {
          "base_uri": "https://localhost:8080/"
        },
        "id": "hgUYA_ZtcYm1",
        "outputId": "9b13670a-92a8-475a-e661-3f55917ab450"
      },
      "execution_count": 56,
      "outputs": [
        {
          "output_type": "execute_result",
          "data": {
            "text/plain": [
              "array([0.65539945, 1.39551725, 1.5799382 , 1.84611314, 0.60727581,\n",
              "       1.40829934, 1.34742522, 1.0744486 , 1.50469868, 0.62753452,\n",
              "       0.83373272, 1.0202292 , 2.07550751, 1.76800452, 0.93201766,\n",
              "       0.84413515, 1.74214601, 1.68597946, 1.48088347, 1.62270009,\n",
              "       0.84832167, 2.25850773, 2.57438815, 0.57289479, 2.69918808,\n",
              "       0.82925784, 1.39040407, 2.51905029, 1.48202903, 1.03150962,\n",
              "       1.08037104, 1.56232946, 1.95882923, 1.86526741])"
            ]
          },
          "metadata": {},
          "execution_count": 56
        }
      ]
    },
    {
      "cell_type": "code",
      "source": [
        "np.argmin(np.mean(X[labels == 0], axis=1))"
      ],
      "metadata": {
        "colab": {
          "base_uri": "https://localhost:8080/"
        },
        "id": "T7tyikv-cxsx",
        "outputId": "2228bded-6996-4691-d8c9-a925f3faa9ba"
      },
      "execution_count": 57,
      "outputs": [
        {
          "output_type": "execute_result",
          "data": {
            "text/plain": [
              "23"
            ]
          },
          "metadata": {},
          "execution_count": 57
        }
      ]
    },
    {
      "cell_type": "markdown",
      "source": [
        "### **Algorithm** :\n",
        "1. Randomly initialize k centroids. Note that each centroid is a vector in $m$ dimensional space.\n",
        "\n",
        "2. Repeat until convergence:\n",
        "   \n",
        "      a. Assign points to the closest centroids.\n",
        "\n",
        "      b. Calculate the centroids based on the points assigned to the cluster.\n",
        "\n",
        "The algorithm converges when the centroid stops changing or in other words the cluster memebership stabilizes and subsequent iterations do not yield any changes."
      ],
      "metadata": {
        "id": "DkUkUA90g0RD"
      }
    },
    {
      "cell_type": "code",
      "source": [
        "def fit(X, k):\n",
        "    # initialt random points as centroid\n",
        "    centroids = X[np.random.randint(0, X.shape[0], size=k)]\n",
        "\n",
        "    # calculate initial labels\n",
        "    labels = np.argmin(cdist(X, centroids), axis = 1)\n",
        "\n",
        "    for _ in range(10):\n",
        "        prev_label = labels.copy()\n",
        "\n",
        "        # comput new centroids\n",
        "        centroids = np.array([np.mean(X[labels==r], axis=0) for r in range(k)])\n",
        "\n",
        "        # compute new labels\n",
        "        labels = np.argmin(cdist(X, centroids), axis=1)\n",
        "\n",
        "        # check if labels changes if not changes then all points are clustered properly\n",
        "        if all(labels == prev_label):\n",
        "            break\n",
        "    return centroids, labels"
      ],
      "metadata": {
        "id": "5-bwg60fflqW"
      },
      "execution_count": 58,
      "outputs": []
    },
    {
      "cell_type": "code",
      "source": [
        "centroids, labels = fit(X, cluster_count)"
      ],
      "metadata": {
        "id": "h1bzN_9uh7xL"
      },
      "execution_count": 60,
      "outputs": []
    },
    {
      "cell_type": "code",
      "source": [
        "print(f'Centroids:\\n{centroids}')"
      ],
      "metadata": {
        "colab": {
          "base_uri": "https://localhost:8080/"
        },
        "id": "UHTSAhQAiBBK",
        "outputId": "6fc1afcb-e793-4de6-921e-31d5e493540d"
      },
      "execution_count": 61,
      "outputs": [
        {
          "output_type": "stream",
          "name": "stdout",
          "text": [
            "Centroids:\n",
            "[[ -6.58196786  -8.17239339]\n",
            " [ -1.4710815    4.33721882]\n",
            " [-10.04935243  -3.85954095]]\n"
          ]
        }
      ]
    },
    {
      "cell_type": "markdown",
      "source": [
        "Visualize"
      ],
      "metadata": {
        "id": "MMpdSS2TiqZ8"
      }
    },
    {
      "cell_type": "code",
      "source": [
        "def plot_kmeans(X,centroids, labels, rseed=0, ax=None):\n",
        "\n",
        "    # plot input data\n",
        "    ax = ax or plt.gca() \n",
        "    ax.axis('equal') \n",
        "\n",
        "    # plot data points\n",
        "    ax.scatter(X[:,0],X[:,1],c=labels, s=40, cmap='plasma', zorder=2)\n",
        "\n",
        "    # plot the representation of the KMeans model.\n",
        "    radii = [cdist(X[labels==i],[center]).max() for i, center in enumerate(centroids)] \n",
        "\n",
        "    for c,r in zip(centroids, radii):\n",
        "    # add circular shapes to the clusters\n",
        "        ax.add_patch(plt.Circle(c,r, fc='#CCCCCC',lw =5, alpha=0.5,zorder=1)) "
      ],
      "metadata": {
        "id": "s5O4yGHtiHnp"
      },
      "execution_count": 62,
      "outputs": []
    },
    {
      "cell_type": "code",
      "source": [
        "plt.figure(figsize=(12,8)) \n",
        "plot_kmeans(X ,centroids, labels)"
      ],
      "metadata": {
        "colab": {
          "base_uri": "https://localhost:8080/",
          "height": 487
        },
        "id": "F_gyja48isZ2",
        "outputId": "206fc743-6ff2-4293-fca4-8ccc77c4dad2"
      },
      "execution_count": 63,
      "outputs": [
        {
          "output_type": "display_data",
          "data": {
            "text/plain": [
              "<Figure size 864x576 with 1 Axes>"
            ],
            "image/png": "[encoded data removed]"
          },
          "metadata": {}
        }
      ]
    },
    {
      "cell_type": "code",
      "source": [
        ""
      ],
      "metadata": {
        "id": "zPD-RI_sitpL"
      },
      "execution_count": null,
      "outputs": []
    },
    {
      "cell_type": "code",
      "source": [
        ""
      ],
      "metadata": {
        "id": "mjgQbSxJpV4W"
      },
      "execution_count": null,
      "outputs": []
    },
    {
      "cell_type": "code",
      "source": [
        ""
      ],
      "metadata": {
        "id": "rOSeB-DxpVs2"
      },
      "execution_count": null,
      "outputs": []
    },
    {
      "cell_type": "code",
      "source": [
        ""
      ],
      "metadata": {
        "id": "SECSv2uopVg_"
      },
      "execution_count": null,
      "outputs": []
    },
    {
      "cell_type": "code",
      "source": [
        ""
      ],
      "metadata": {
        "id": "MrAAXw-_pVTI"
      },
      "execution_count": null,
      "outputs": []
    }
  ]
}