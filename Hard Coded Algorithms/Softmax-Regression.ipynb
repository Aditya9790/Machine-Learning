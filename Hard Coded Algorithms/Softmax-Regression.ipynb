{
  "nbformat": 4,
  "nbformat_minor": 0,
  "metadata": {
    "colab": {
      "name": "Softmax.ipynb",
      "provenance": [],
      "authorship_tag": "ABX9TyMasz17p0wKdb0wIGn5jKFr"
    },
    "kernelspec": {
      "name": "python3",
      "display_name": "Python 3"
    },
    "language_info": {
      "name": "python"
    }
  },
  "cells": [
    {
      "cell_type": "markdown",
      "source": [
        "## **Softmax Regression**\n",
        "\n",
        "* Softmax regression is a **classification** method ,which **generalizes Logistic Regression**. \n",
        "\n",
        "* It is used for **multi-clss clssification**.\n",
        "\n",
        "Working of softmax regression is depicted in the folllowing figure : \n",
        "* For $k$ class labels, the input feature vector goes through $k$ **different linear combinations** ,one per each class label.\n",
        "\n",
        "* These $k$ values are passed through the **softmax activation**, which returns a **probability vector** containing $k$ components.\n",
        "    * The $i-th$ component directly denotes **probability** of an input feature belonging to class label $i$.\n",
        "\n",
        "The softmax classifier is trained with a **categorical cross- entropy** loss, which is computed based on the actual labels and predicted labels.\n",
        "\n",
        "Note that the labels are represented with **one-hot encoding**.\n",
        "\n",
        "<!-- ![alt text](Images/softmax-working.png) -->\n",
        "\n",
        "![](https://sebastianraschka.com/images/faq/softmax_regression/logistic_regression_schematic.png)\n",
        "\n",
        "We will list down five components of the softmax regression classifier :\n",
        "\n",
        "* Training Data \n",
        "\n",
        "* Model \n",
        "\n",
        "* Loss Function \n",
        "\n",
        "* Optimization procedure \n",
        "\n",
        "* Model Evaluation "
      ],
      "metadata": {
        "id": "zOcfXFBChosZ"
      }
    },
    {
      "cell_type": "code",
      "execution_count": 36,
      "metadata": {
        "id": "lFU6Mx1uk0vd"
      },
      "outputs": [],
      "source": [
        "import numpy as np \n",
        "from keras.datasets import mnist \n",
        "import matplotlib.pyplot as plt\n",
        "import seaborn as sns"
      ]
    },
    {
      "cell_type": "markdown",
      "source": [
        "### **Training Data** \n",
        "The training data contains : \n",
        "* Feature matrix \n",
        "\n",
        "* Label (one of $k$ labels)\n",
        "\n",
        "For the purpose of illustration, we will use **MNIST hand-written digit** dataset.\n",
        "\n",
        "* Each input is in the form of a 28x28 image of a single-handwritten digit.\n",
        "\n",
        "* Each image is labeled with digit present in it. \n",
        "\n",
        "There are 10 digits in all and hence 10 total classes : [0,1,2 .... ,9]"
      ],
      "metadata": {
        "id": "x3eZEhGZh_Oe"
      }
    },
    {
      "cell_type": "code",
      "source": [
        "(X_train ,y_train) ,(X_test ,y_test) = mnist.load_data()"
      ],
      "metadata": {
        "colab": {
          "base_uri": "https://localhost:8080/"
        },
        "id": "yoVI-oMQiAeX",
        "outputId": "66658a22-4aa3-4fe5-d533-71b304b863c8"
      },
      "execution_count": 2,
      "outputs": [
        {
          "output_type": "stream",
          "name": "stdout",
          "text": [
            "Downloading data from https://storage.googleapis.com/tensorflow/tf-keras-datasets/mnist.npz\n",
            "11493376/11490434 [==============================] - 0s 0us/step\n",
            "11501568/11490434 [==============================] - 0s 0us/step\n"
          ]
        }
      ]
    },
    {
      "cell_type": "code",
      "source": [
        "print(X_train.shape ,y_train.shape)\n",
        "print(X_test.shape ,y_test.shape)"
      ],
      "metadata": {
        "colab": {
          "base_uri": "https://localhost:8080/"
        },
        "id": "XEIe2kf3iIGD",
        "outputId": "7cf8e54a-8bab-4f3b-d0b1-066ad0344cfc"
      },
      "execution_count": 3,
      "outputs": [
        {
          "output_type": "stream",
          "name": "stdout",
          "text": [
            "(60000, 28, 28) (60000,)\n",
            "(10000, 28, 28) (10000,)\n"
          ]
        }
      ]
    },
    {
      "cell_type": "code",
      "source": [
        "plt.figure(figsize=(8,8))\n",
        "for i in range(9):\n",
        "    plt.subplot(3,3,i+1)\n",
        "    plt.imshow(X_train[i] ,cmap='autumn')\n",
        "    plt.title('Label (y): {}'.format(y_train[i]))\n",
        "    plt.axis('off')\n",
        "\n",
        "plt.show()"
      ],
      "metadata": {
        "colab": {
          "base_uri": "https://localhost:8080/",
          "height": 482
        },
        "id": "QVmaT38yiIeV",
        "outputId": "f12b867e-fbae-4353-a80d-66cfddb5b5b9"
      },
      "execution_count": 8,
      "outputs": [
        {
          "output_type": "display_data",
          "data": {
            "text/plain": [
              "<Figure size 576x576 with 9 Axes>"
            ],
            "image/png": "[encoded data removed]"
          },
          "metadata": {
            "needs_background": "light"
          }
        }
      ]
    },
    {
      "cell_type": "markdown",
      "source": [
        "Each image is 28 $\\times$ 28 pixel."
      ],
      "metadata": {
        "id": "yPs_dUrwiYNh"
      }
    },
    {
      "cell_type": "markdown",
      "source": [
        "We flatten each input image into a vector of length 794 (28x28) and these 784 numbers represent the intensity at each pixel in a image."
      ],
      "metadata": {
        "id": "yieLLnsQilOm"
      }
    },
    {
      "cell_type": "code",
      "source": [
        "X_train = X_train.reshape(X_train.shape[0] ,28*28)\n",
        "X_test = X_test.reshape(X_test.shape[0] ,28*28)\n",
        "\n",
        "print(X_train.shape ,X_test.shape)"
      ],
      "metadata": {
        "colab": {
          "base_uri": "https://localhost:8080/"
        },
        "id": "j2A9Mcp8iKGz",
        "outputId": "f8f09b70-a573-4232-832a-cfe185a94fcd"
      },
      "execution_count": 9,
      "outputs": [
        {
          "output_type": "stream",
          "name": "stdout",
          "text": [
            "(60000, 784) (10000, 784)\n"
          ]
        }
      ]
    },
    {
      "cell_type": "markdown",
      "source": [
        "Each pixel values between 0 to 255. We scale each value by dividing by 255."
      ],
      "metadata": {
        "id": "AU6OGJfTiqEh"
      }
    },
    {
      "cell_type": "code",
      "source": [
        "X_train = X_train/255 \n",
        "X_test = X_test/255"
      ],
      "metadata": {
        "id": "LpA_ArAointW"
      },
      "execution_count": 10,
      "outputs": []
    },
    {
      "cell_type": "markdown",
      "source": [
        "**Important Step :**\n",
        "\n",
        "For softmax regression, label-vector $y$ need to be represented in **one-hot encoding**."
      ],
      "metadata": {
        "id": "14W01opciuMi"
      }
    },
    {
      "cell_type": "code",
      "source": [
        "def one_hot_encoding(y, k):\n",
        "    # zero matrix of size (y, k)\n",
        "    y_one_hot = np.zeros((len(y), k))\n",
        "\n",
        "    # put 1 for column where the label is y\n",
        "    y_one_hot[np.arange(len(y)), y] = 1\n",
        "    return y_one_hot"
      ],
      "metadata": {
        "id": "8wJh7_G4irjz"
      },
      "execution_count": 11,
      "outputs": []
    },
    {
      "cell_type": "code",
      "source": [
        "y = [1,0,1,2,0,3,1,0,3]\n",
        "np.eye((len(y)))[y]"
      ],
      "metadata": {
        "colab": {
          "base_uri": "https://localhost:8080/"
        },
        "id": "T4-TVdjNjaYL",
        "outputId": "a2c0665a-76c7-497a-a792-c5f140de0da4"
      },
      "execution_count": 20,
      "outputs": [
        {
          "output_type": "execute_result",
          "data": {
            "text/plain": [
              "array([[0., 1., 0., 0., 0., 0., 0., 0., 0.],\n",
              "       [1., 0., 0., 0., 0., 0., 0., 0., 0.],\n",
              "       [0., 1., 0., 0., 0., 0., 0., 0., 0.],\n",
              "       [0., 0., 1., 0., 0., 0., 0., 0., 0.],\n",
              "       [1., 0., 0., 0., 0., 0., 0., 0., 0.],\n",
              "       [0., 0., 0., 1., 0., 0., 0., 0., 0.],\n",
              "       [0., 1., 0., 0., 0., 0., 0., 0., 0.],\n",
              "       [1., 0., 0., 0., 0., 0., 0., 0., 0.],\n",
              "       [0., 0., 0., 1., 0., 0., 0., 0., 0.]])"
            ]
          },
          "metadata": {},
          "execution_count": 20
        }
      ]
    },
    {
      "cell_type": "code",
      "source": [
        "y = ['b', 'a', 'c', 'b', 'a', 'a']\n",
        "y_unique = list(set(y))\n",
        "y_sort = sorted(y_unique)\n",
        "\n",
        "for i in range(len(y)):\n",
        "    y[i] = y_sort.index(y[i])\n",
        "y_sort, y"
      ],
      "metadata": {
        "colab": {
          "base_uri": "https://localhost:8080/"
        },
        "id": "zg6geZN9jjDy",
        "outputId": "2beeca76-9d7b-4763-8baf-1b41b350c962"
      },
      "execution_count": 24,
      "outputs": [
        {
          "output_type": "execute_result",
          "data": {
            "text/plain": [
              "(['a', 'b', 'c'], [1, 0, 2, 1, 0, 0])"
            ]
          },
          "metadata": {},
          "execution_count": 24
        }
      ]
    },
    {
      "cell_type": "code",
      "source": [
        "one_hot_encoding(y, 3)"
      ],
      "metadata": {
        "colab": {
          "base_uri": "https://localhost:8080/"
        },
        "id": "pUYu0JS2j2dk",
        "outputId": "6e4f52ca-13c1-438d-a627-05fc9ae13fe3"
      },
      "execution_count": 25,
      "outputs": [
        {
          "output_type": "execute_result",
          "data": {
            "text/plain": [
              "array([[0., 1., 0.],\n",
              "       [1., 0., 0.],\n",
              "       [0., 0., 1.],\n",
              "       [0., 1., 0.],\n",
              "       [1., 0., 0.],\n",
              "       [1., 0., 0.]])"
            ]
          },
          "metadata": {},
          "execution_count": 25
        }
      ]
    },
    {
      "cell_type": "markdown",
      "source": [
        "### **Model**\n",
        "\n",
        "<!-- ![alt text](Images/model.png) -->\n",
        "\n",
        "![alt text](https://miro.medium.com/max/875/1*xbKo-8awaX5jpuMdPfBLyQ.png)\n"
      ],
      "metadata": {
        "id": "r078VCIUlmuQ"
      }
    },
    {
      "cell_type": "markdown",
      "source": [
        "\n",
        "The **Softmax Regression** has two steps : \n",
        "\n",
        "1. **Linear Combination** (in vectorized form) : \n",
        "\\begin{equation} \n",
        "\\textbf Z_{n\\times k} =\\textbf X_{n \\times m} \\textbf W_{m\\times k} + \\textbf b_{k \\times 1}\n",
        "\\end{equation}\n",
        "\n",
        "\n",
        "2. **Softmax** non-linear transformation (in vectorized form) :\n",
        "\n",
        "\\begin{equation} \n",
        "softmax \\textbf (Z) = \\frac{exp \\textbf (Z)}{\\sum exp(Z)}\n",
        "\\end{equation}\n",
        "\n",
        "Softmax classifier provides a **probablity** of an example belonging to a class : \n",
        "\n",
        "\\begin{equation}\n",
        "p(y = q | x;W ,b) = \\frac{exp \\textbf (z_q)}{\\sum_k exp(z_k)}\n",
        "\\end{equation}"
      ],
      "metadata": {
        "id": "fFG2Y83ZlfbO"
      }
    },
    {
      "cell_type": "markdown",
      "source": [
        "### **Softmax Regression Implementation**"
      ],
      "metadata": {
        "id": "OOdbOVwMl0lr"
      }
    },
    {
      "cell_type": "markdown",
      "source": [
        "**STEP 1 :** In vectorized form, we implement : $Z = Xw +b$\n",
        "\n",
        "Each class has $m+1$ parameters, one bias and $m$ weights corresponding to $m$ features."
      ],
      "metadata": {
        "id": "HhRRFqR1l2oJ"
      }
    },
    {
      "cell_type": "code",
      "source": [
        "def linear_combination(X, w, b):\n",
        "    return X@w + b"
      ],
      "metadata": {
        "id": "guZT26WilQ9-"
      },
      "execution_count": 26,
      "outputs": []
    },
    {
      "cell_type": "markdown",
      "source": [
        "**STEP 2 :** Calculate the softmax for each class using the above formula.\n",
        "\n",
        "* The sum of the softmax across all the classes for a given sample is 1.\n",
        "\n",
        "* The class label with the highest value of softmax is assigned to the sample.\n",
        "\n",
        "**NOTE :** Every class has a different set of weighs and bias."
      ],
      "metadata": {
        "id": "Bw2zsaKel-8V"
      }
    },
    {
      "cell_type": "code",
      "source": [
        "def softmax(z):\n",
        "    # subtract the max of z \n",
        "    exp = np.exp(z-np.max(z))\n",
        "\n",
        "    for i in range(len(z)):\n",
        "        exp[i] /= np.sum(exp[i])\n",
        "    return exp"
      ],
      "metadata": {
        "id": "iKcU4oaLl9V4"
      },
      "execution_count": 27,
      "outputs": []
    },
    {
      "cell_type": "markdown",
      "source": [
        "### **Loss function : Categorical Cross-Entropy Loss**\n",
        "\n",
        "For sotmax regression, we use cross-entropy (CE) loss.\n",
        "\n",
        "For any pair of label vectors $y_k$ and model predictions $ŷ_k$ over $k$ classes, the loss function $J$ is given as : \n",
        "\n",
        "\\begin{equation} \n",
        "\\textbf Z (W,b) = - \\sum_k y_k log(ŷ_k)\n",
        "\\end{equation}\n"
      ],
      "metadata": {
        "id": "QNJbxCYMmcl4"
      }
    },
    {
      "cell_type": "markdown",
      "source": [
        "### **Optimization**\n",
        "The objective here is to estimate the weight matrix $W_{m \\times k}$ and $b$ by optimizing the loss $J(W,b)$.\n",
        "\n",
        "There are : \n",
        "* $m$ X $k$ entries in the weight matrix $W$\n",
        "\n",
        "* $k$ entries in bias vector $b$.\n",
        "\n",
        "We calculate the partial derivative of the loss function w.r.t each weight $W[j,i]$ and bias unit $b[i]$.\n",
        "\n",
        "* $W[j,i]$ represents weight for j-th feature in the i-th linear combination : \n",
        "\\begin{equation} \n",
        "\\frac {\\partial J(\\mathbf W ,b)}{\\partial \\mathbf W[j,i]}\n",
        "\\end{equation}\n",
        "\n",
        "* $b[i]$ represents bias for the i-th linear combination : \n",
        "\\begin{equation} \n",
        "\\frac {\\partial J(\\mathbf W ,b)}{\\partial \\mathbf b[i]}\n",
        "\\end{equation}\n"
      ],
      "metadata": {
        "id": "LPGB4Tn2mgFX"
      }
    },
    {
      "cell_type": "markdown",
      "source": [
        "**Note that** : Softmax is a **two stage process** : \n",
        "\n",
        "1. **Linear Combination** : $z$ = $XW$ + $b$\n",
        "\n",
        "2. **Non-linear Transformation** : softmax ($XW$ + $b$)\n",
        "\n",
        "The weights $W[j,i]$ and $b[i]$ are used for calculating $z[i]$ : \n",
        "\n",
        "\\begin{align}\n",
        "z[i] = b[i] + x[1]*W[1,i]+ x[2]*W[2,i] + .... + x[m]*W[m,i]\n",
        "\\end{align}\n",
        "\n",
        "\\begin{align}\n",
        "= b[i] + \\sum_{j=1}^{m} x[j] * W[j,i]\n",
        "\\end{align}\n",
        "\n",
        "\n",
        "And $z[i]$ is used for softmax calculation in numerator for i-th class and in denominators of all classes.\n",
        "\n",
        "\\begin{align}\n",
        "softmax(z[i]) = \\frac{exp \\textbf (z[i])}{\\sum_k exp(z[i,k])}\n",
        "\\end{align}"
      ],
      "metadata": {
        "id": "HWunEPiEmlnU"
      }
    },
    {
      "cell_type": "markdown",
      "source": [
        "The loss is computed based on the output of the softmax. \n",
        "\n",
        "Hence the loss and weights are not directly related, but are related through $z$.\n",
        "\n",
        "We need to make use of chain rule of derivatives to calculate derivatives.\n",
        "\n",
        "\\begin{equation} \n",
        "\\frac {\\partial J(\\mathbf W ,b)}{\\partial \\mathbf W[j,i]} = \\frac {\\partial J(\\mathbf W ,b)}{\\partial \\mathbf z [i]} * \\frac {\\partial \\mathbf z [i]}{\\partial \\mathbf W[j,i]}\n",
        "\\end{equation}\n",
        "\n",
        "\\begin{equation} \n",
        "\\frac {\\partial J(\\mathbf W ,b)}{\\partial \\mathbf b[i]} = \\frac {\\partial J(\\mathbf W ,b)}{\\partial \\mathbf z [i]} * \\frac {\\partial \\mathbf z [i]}{\\partial \\mathbf b[i]}\n",
        "\\end{equation}"
      ],
      "metadata": {
        "id": "MByFqUFMmoRj"
      }
    },
    {
      "cell_type": "markdown",
      "source": [
        "We need to compute three deivatives from eqs (10) and (11) : \n",
        "\n",
        "1.  \\begin{equation}\n",
        "    \\frac {\\partial J(\\mathbf W ,b)}{\\partial \\mathbf z [i]}\n",
        "    \\end{equation}\n",
        "\n",
        "2.  \\begin{equation}\n",
        "    \\frac {\\partial \\mathbf z [i]}{\\partial \\mathbf b [i]}\n",
        "    \\end{equation}\n",
        "\n",
        "3.  \\begin{equation}\n",
        "    \\frac {\\partial \\mathbf z [i]}{\\partial \\mathbf W[j,i]}\n",
        "    \\end{equation}\n",
        "\n",
        "Lets calculate them one-by-one : \n",
        "\n",
        "\\begin{align}\n",
        "\\frac {\\partial \\mathbf z [i]}{\\partial \\mathbf W[j,i]} = \\frac {\\partial}{\\partial \\mathbf W[j,i]}(b[i] + \\sum_{j=1}^{m} x[j] * W[j,i]) = x[j]\n",
        "\\end{align}\n",
        "\n",
        "\\begin{align}\n",
        "\\frac {\\partial \\mathbf z [i]}{\\partial \\mathbf b[i]} = \\frac {\\partial}{\\partial \\mathbf b[i]}(b[i] + \\sum_{j=1}^{m} x[j] * W[j,i]) = 1\n",
        "\\end{align}\n",
        "\n",
        "While calculating : \n",
        "\n",
        "\\begin{equation}\n",
        "\\frac {\\partial J(\\mathbf W ,b)}{\\partial \\mathbf z [i]}\n",
        "\\end{equation}\n",
        "\n",
        "**Note that** : \n",
        "* $z$ is related to loss through the prediction ŷ. Using chain rule one more time for this. \n",
        "\n",
        "* Moreover $z[i]$ is used in calculation of $ŷ[i]$ and $ŷ[j]$, where i≠j. Hence making use of addition.\n",
        "\n",
        "\n",
        "\\begin{align}\n",
        "\\frac {\\partial J(\\mathbf W ,b)}{\\partial \\mathbf z [i]} = \\frac {\\partial J(\\mathbf W ,b)}{\\partial \\mathbf ŷ[i]}\\times \\frac {\\partial \\mathbf ŷ[i]}{\\partial \\mathbf z[i]} + \\sum_{j≠1}\\frac {\\partial J(\\mathbf W ,b)}{\\partial \\mathbf ŷ[j]}\\times \\frac {\\partial \\mathbf ŷ[j]}{\\partial \\mathbf z[i]}\n",
        "\\end{align}\n"
      ],
      "metadata": {
        "id": "QtuQyI7emskS"
      }
    },
    {
      "cell_type": "markdown",
      "source": [
        "\n",
        "Now lets calculate : \n",
        "\n",
        "\\begin{align}\n",
        "\\frac {\\partial J(\\mathbf W ,b)}{\\partial \\mathbf ŷ[i]} = \n",
        "\\frac {\\partial}{\\partial \\mathbf ŷ[i]}(- \\sum_k y[k] \\log ŷ[k]) = - \\frac {y[i]}{ ŷ[i]}\n",
        "\\end{align}\n",
        "\n",
        "Hence, \n",
        "\\begin{align}\n",
        "\\frac {\\partial J(\\mathbf W ,b)}{\\partial \\mathbf ŷ[j]} = - \\frac {y[j]}{ ŷ[j]}\n",
        "\\end{align}\n"
      ],
      "metadata": {
        "id": "8XJLzv1Rmvip"
      }
    },
    {
      "cell_type": "markdown",
      "source": [
        "\n",
        "\n",
        "Now calculate : \n",
        "\n",
        "\\begin{align}\n",
        "\\frac {\\partial \\mathbf ŷ[i]}{\\partial \\mathbf z[i]} = \\frac {\\partial }{\\partial \\mathbf z[i]} \\times \\frac {e^{z[i]}}{\\sum_k e^{z[k]}}\n",
        "\\end{align}\n",
        "\n",
        "Using quotient rule of derivative : \n",
        "\n",
        "\\begin{align}\n",
        "\\frac{d}{{dx}}\\left( {\\frac{{f\\left( x \\right)}}{{g\\left( x \\right)}}} \\right) = \\frac{{\\frac{d}{{dx}}f\\left( x \\right)g\\left( x \\right) - f\\left( x \\right)\\frac{d}{{dx}}g\\left( x \\right)}}{{g^2 \\left( x \\right)}}\n",
        "\\end{align}\n",
        "\n",
        "\n",
        "\n",
        "\\begin{align}\n",
        " = \\frac{\\sum_k e^{z[k]} \\frac{\\partial}{\\partial \\mathbf z[i]}e^{z[i]} - e^{z[i]} \\frac{\\partial}{\\partial \\mathbf z[i]} \\sum_k e^{z[k]}}{(\\sum_k e^{z[k]})^2}\n",
        "\\end{align}\n",
        "\n",
        "\\begin{align}\n",
        "= \\frac{e^{z[i]} \\sum_k e^{z[k]} - e^{z[i]} . e^{z[i]}}{(\\sum_k e^{z[k]})^2}\n",
        "\\end{align}\n",
        "\n",
        "Simplifying with algebraic multiplication : \n",
        "\\begin{align}\n",
        "= \\frac{e^{z[i]}}{\\sum_k e^{z[k]}} - (\\frac{e^{z[i]}}{\\sum_k e^{z[k]}})^2\n",
        "\\end{align}\n",
        "\n",
        "\\begin{align}\n",
        "= ŷ[i] - ŷ[i]^2\n",
        "\\end{align}"
      ],
      "metadata": {
        "id": "adMjAHovmx6A"
      }
    },
    {
      "cell_type": "markdown",
      "source": [
        "Now calculate:\n",
        "\n",
        "\\begin{align}\n",
        "\\frac {\\partial \\mathbf ŷ[j]}{\\partial \\mathbf z[i]} = \\frac {\\partial}{\\partial \\mathbf z[i]} \\times \\frac {e ^ {z[j]}}{\\sum_k e ^ {z[k]}}\n",
        "\\end{align}\n",
        "\n",
        "Using quotient rule of derivative:\n",
        "\n",
        "\\begin{align}\n",
        "\\frac{d}{{dx}}\\left({\\frac{{f\\left(x \\right)}}{{g\\left(x \\right)}}} \\right) = \\frac{{\\frac{d}{{dx}}f\\left(x \\right)g\\left(x \\right) - f\\left(x \\right)\\frac{d}{{dx}}g\\left(x \\right)}}{{g ^ 2 \\left(x \\right)}}\n",
        "\\end{align}\n",
        "\n",
        "\n",
        "\\begin{align}\n",
        "= \\frac{\\sum_k e ^ {z[k]} \\frac{\\partial}{\\partial \\mathbf z[i]}e ^ {z[j]} - e ^ {z[j]} \\frac{\\partial}{\\partial \\mathbf z[i]} \\sum_k e ^ {z[k]}}{(\\sum_k e ^ {z[k]}) ^ 2}\n",
        "\\end{align}\n",
        "\n",
        "\\begin{align}\n",
        "= \\frac{\\sum_k e ^ {z[k]} \\textcolor{blue}0 - e ^ {z[j]} \\textcolor{blue}{e^{z[i]}} }{(\\sum_k e ^ {z[k]}) ^ 2}\n",
        "\\end{align}\n",
        "\n",
        "\\begin{align}\n",
        "= \\frac{ - e ^ {z[j]} \\textcolor{blue}{e^{z[i]}} }{(\\sum_k e ^ {z[k]}) ^ 2}\n",
        "\\end{align}\n",
        "\n",
        "Simplifying with algebraic multiplication :\n",
        "\n",
        "\\begin{align}\n",
        "= - \\frac{ e^{z[j]}}{\\sum_k e^{z[k]}} \\times \\frac{e^{z[i]}}{\\sum_k e^{z[k]}}\n",
        "\\end{align}\n",
        "\n",
        "\n",
        "\\begin{align} \n",
        "= - ŷ[j]\\times ŷ[i]\n",
        "\\end{align}\n"
      ],
      "metadata": {
        "id": "FlF8Ybvim1XU"
      }
    },
    {
      "cell_type": "markdown",
      "source": [
        "Now we will replace these two parial derivatives in the equation :\n",
        "\n",
        "\\begin{align}\n",
        "\\frac {\\partial J(\\mathbf W ,b)}{\\partial \\mathbf z [i]} = \\frac {\\partial J(\\mathbf W ,b)}{\\partial \\mathbf ŷ[i]}\\times \\frac {\\partial \\mathbf ŷ[i]}{\\partial \\mathbf z[i]} + \\sum_{j≠1}\\frac {\\partial J(\\mathbf W ,b)}{\\partial \\mathbf ŷ[j]}\\times \\frac {\\partial \\mathbf ŷ[j]}{\\partial \\mathbf z[i]}\n",
        "\\end{align}\n",
        "\n",
        "\\begin{align}\n",
        "= - \\frac { \\mathbf y[i]}{ \\mathbf ŷ[i]}\\times  \\mathbf ŷ[i]\\mathbf (1 -ŷ[i] ) + \\sum_{j≠1} - \\frac {\\mathbf y[j]}{\\mathbf ŷ[j]} \\times (\\mathbf - ŷ[j] \\mathbf ŷ[i])\n",
        "\\end{align}\n",
        "\n",
        "\\begin{align}\n",
        "= - \\mathbf y[i] +  \\mathbf y[i] \\mathbf ŷ[i] + \\sum_{j≠1} \\mathbf  y[j] \\mathbf ŷ[i]\n",
        "\\end{align}\n",
        "\n",
        "\\begin{align}\n",
        "= - \\mathbf y[i]  + \\sum_{j} \\mathbf  y[j] \\mathbf ŷ[i]\n",
        "\\end{align}\n",
        "\n",
        "\\begin{align}\n",
        "= \\mathbf ŷ[i]  \\sum_{j} \\mathbf  y[j]  - \\mathbf y[i]\n",
        "\\end{align}\n",
        "\n",
        "\\begin{align}\n",
        "= ŷ[i] - y[i]\n",
        "\\end{align}\n",
        "\n",
        "Substituting equations, we get : \n",
        "\\begin{align}\n",
        "\\frac {\\partial J(\\mathbf W ,b)}{\\partial W [j,i]} = x[j] (ŷ[i] - y[i])\n",
        "\\end{align}"
      ],
      "metadata": {
        "id": "Vd_OV8QEm4Ro"
      }
    },
    {
      "cell_type": "markdown",
      "source": [
        "##### **Partial derivatives in vectorized form**\n",
        "\n",
        "So, the partial derivative of the loss function are : \n",
        "\n",
        "\\begin{align}\n",
        "\\frac {\\partial J(\\mathbf W ,b)}{\\partial W} = \\mathbf X^T (\\mathbf Ŷ - \\mathbf Y)\n",
        "\\end{align}\n",
        "\n",
        "\\begin{align}\n",
        "\\frac {\\partial J(\\mathbf W ,b)}{\\partial b} = \\mathbf Ŷ - \\mathbf Y\n",
        "\\end{align}\n",
        "\n",
        "##### **Weight Update Rule**\n",
        "\n",
        "Hence, the update rules for weight parameters are following : \n",
        "\\begin{align}\n",
        "\\mathbf W_{t+1} \\impliedby \\mathbf W{t} + \\alpha \\frac{\\partial J (W,b)}{\\partial \\mathbf W}\n",
        "\\end{align}\n",
        "\n",
        "\\begin{align}\n",
        "\\mathbf b_{t+1} \\impliedby \\mathbf b{t} + \\alpha \\frac{\\partial J (W,b)}{\\partial \\mathbf b}\n",
        "\\end{align}"
      ],
      "metadata": {
        "id": "OyWyhVzKm-XP"
      }
    },
    {
      "cell_type": "markdown",
      "source": [
        "### **Training & Prediction Functions**\n",
        "\n",
        "1. Initialize the parameters : $w$ & $b$.\n",
        "\n",
        "2. Find optimal $w$ & $b$ using `gradient descent`.\n",
        "\n",
        "3. Use `softmax` ($wX$ + $b$ ) to predict."
      ],
      "metadata": {
        "id": "vAq8swWRnCwd"
      }
    },
    {
      "cell_type": "code",
      "source": [
        "# X --> Input \n",
        "# y --> Target \n",
        "# lr --> learning rate \n",
        "# c --> no. of classes in classification problem\n",
        "# epochs --> no. of iterations\n",
        "\n",
        "def fit(X, y, lr, c, epochs):  \n",
        "    n, m = X.shape\n",
        "    \n",
        "    # initializing weights and bias randomly\n",
        "    w = np.random.random((m, c))\n",
        "    b = np.random.random(c)\n",
        "\n",
        "    losses = []\n",
        "\n",
        "    for epoch in range(epochs):\n",
        "        z = X@w + b\n",
        "\n",
        "        # Calculating hypothesis/prediction\n",
        "        y_hat = softmax(z)\n",
        "\n",
        "        # convert to one hot encoding\n",
        "        y_hot = one_hot_encoding(y, c)\n",
        "\n",
        "        #Calculating the gradient of loss w.r.t w and b\n",
        "        w_grad = (1/n)*np.dot(X.T, (y_hat - y_hot))\n",
        "        b_grad = (1/n)*np.sum(y_hat - y_hot)\n",
        "\n",
        "        #Updating the parameters\n",
        "\n",
        "        w = w - lr*w_grad\n",
        "        b = b - lr*b_grad\n",
        "\n",
        "        loss = -np.mean(np.log(y_hat[np.arange(len(y)), y]))\n",
        "\n",
        "        losses.append(loss)\n",
        "\n",
        "        #Printing out the loss at every 100th iteration.\n",
        "\n",
        "        if epoch % 10 == 0:\n",
        "            print('Epoch {epoch} --> Loss = {loss}'.format(epoch=epoch, loss=loss))\n",
        "\n",
        "    return w, b, losses"
      ],
      "metadata": {
        "id": "wcKmSc0dmaMY"
      },
      "execution_count": 33,
      "outputs": []
    },
    {
      "cell_type": "code",
      "source": [
        "def predict(X,w,b):\n",
        "    z = X@w + b \n",
        "    y_hat = softmax(z)\n",
        "    return np.argmax(y_hat, axis=1) \n",
        "\n",
        "def accuracy(y,y_hat):\n",
        "    return np.sum(y==y_hat)/len(y)"
      ],
      "metadata": {
        "id": "p03jLbcstdJV"
      },
      "execution_count": 34,
      "outputs": []
    },
    {
      "cell_type": "markdown",
      "source": [
        "#### **Training digit recognizer on MNIST dataset**\n",
        "\n"
      ],
      "metadata": {
        "id": "KmsWjH3tssIg"
      }
    },
    {
      "cell_type": "code",
      "source": [
        "w, b, loss = fit(X_train, y_train, lr=0.9, c=10, epochs=100)"
      ],
      "metadata": {
        "colab": {
          "base_uri": "https://localhost:8080/"
        },
        "id": "GFIb-mrcnp9g",
        "outputId": "b6551a0e-1578-4806-bb33-89bb98d2e329"
      },
      "execution_count": 35,
      "outputs": [
        {
          "output_type": "stream",
          "name": "stdout",
          "text": [
            "Epoch 0 --> Loss = 5.194283418827233\n",
            "Epoch 10 --> Loss = 0.9795913404336352\n",
            "Epoch 20 --> Loss = 0.6768563838212707\n",
            "Epoch 30 --> Loss = 0.5721732315425838\n",
            "Epoch 40 --> Loss = 0.5223727124663429\n",
            "Epoch 50 --> Loss = 0.48948442661834174\n",
            "Epoch 60 --> Loss = 0.4657019536979143\n",
            "Epoch 70 --> Loss = 0.447478316724216\n",
            "Epoch 80 --> Loss = 0.4329390878691036\n",
            "Epoch 90 --> Loss = 0.4209899163026792\n"
          ]
        }
      ]
    },
    {
      "cell_type": "markdown",
      "source": [
        "#### **Learning Curve**"
      ],
      "metadata": {
        "id": "7rwdfGhJt6Vw"
      }
    },
    {
      "cell_type": "code",
      "source": [
        "plt.figure()\n",
        "plt.plot(np.arange(len(loss)), loss)\n",
        "\n",
        "plt.title('Learning Curve')\n",
        "plt.xlabel('No. of Epochs')\n",
        "plt.ylabel('Loss function')\n",
        "plt.show()"
      ],
      "metadata": {
        "colab": {
          "base_uri": "https://localhost:8080/",
          "height": 295
        },
        "id": "RACNFL1Fs98U",
        "outputId": "f7eb3e06-9fc2-47cb-af44-89305053a852"
      },
      "execution_count": 37,
      "outputs": [
        {
          "output_type": "display_data",
          "data": {
            "text/plain": [
              "<Figure size 432x288 with 1 Axes>"
            ],
            "image/png": "[encoded data removed]"
          },
          "metadata": {
            "needs_background": "light"
          }
        }
      ]
    },
    {
      "cell_type": "markdown",
      "source": [
        "### **Model Evaluation**"
      ],
      "metadata": {
        "id": "zeaDO-Cqu_Ot"
      }
    },
    {
      "cell_type": "code",
      "source": [
        "# accuracy over train set\n",
        "\n",
        "train_pred = predict(X_train, w, b)\n",
        "print(f'Accuracy over training set : {accuracy(y_train, train_pred)}')\n",
        "\n",
        "# accuracy on test set\n",
        "test_pred = predict(X_test, w, b)\n",
        "print(f'Accuracy over test set : {accuracy(y_test, test_pred)}')"
      ],
      "metadata": {
        "colab": {
          "base_uri": "https://localhost:8080/"
        },
        "id": "YwT0tlaGuIyg",
        "outputId": "352bc923-b782-4ab1-9501-27e1c16e264a"
      },
      "execution_count": 38,
      "outputs": [
        {
          "output_type": "stream",
          "name": "stdout",
          "text": [
            "Accuracy over training set : 0.8793666666666666\n",
            "Accuracy over test set : 0.8855\n"
          ]
        }
      ]
    },
    {
      "cell_type": "markdown",
      "source": [
        "##### **1. Confusion Matrix**"
      ],
      "metadata": {
        "id": "c-yTiHSzvdpF"
      }
    },
    {
      "cell_type": "code",
      "source": [
        "from sklearn.metrics import confusion_matrix\n",
        "from sklearn.metrics import ConfusionMatrixDisplay\n",
        "\n",
        "confusion = ConfusionMatrixDisplay.from_predictions(y_test, test_pred)\n",
        "confusion"
      ],
      "metadata": {
        "colab": {
          "base_uri": "https://localhost:8080/",
          "height": 296
        },
        "id": "hYDq3WIqvZcN",
        "outputId": "e54593e7-7001-47f8-e9a9-9251970a9577"
      },
      "execution_count": 40,
      "outputs": [
        {
          "output_type": "execute_result",
          "data": {
            "text/plain": [
              "<sklearn.metrics._plot.confusion_matrix.ConfusionMatrixDisplay at 0x7faca02dadd0>"
            ]
          },
          "metadata": {},
          "execution_count": 40
        },
        {
          "output_type": "display_data",
          "data": {
            "text/plain": [
              "<Figure size 432x288 with 2 Axes>"
            ],
            "image/png": "[encoded data removed]"
          },
          "metadata": {
            "needs_background": "light"
          }
        }
      ]
    },
    {
      "cell_type": "markdown",
      "source": [
        "##### **2. Classification Report**"
      ],
      "metadata": {
        "id": "UQ3jIM-CwGsH"
      }
    },
    {
      "cell_type": "code",
      "source": [
        "from sklearn.metrics import classification_report\n",
        "print(classification_report(y_test, test_pred))"
      ],
      "metadata": {
        "colab": {
          "base_uri": "https://localhost:8080/"
        },
        "id": "gmzEjITqwGaf",
        "outputId": "6170a829-c498-46ba-82db-0f5140e9b188"
      },
      "execution_count": 42,
      "outputs": [
        {
          "output_type": "stream",
          "name": "stdout",
          "text": [
            "              precision    recall  f1-score   support\n",
            "\n",
            "           0       0.92      0.96      0.94       980\n",
            "           1       0.95      0.96      0.96      1135\n",
            "           2       0.89      0.84      0.87      1032\n",
            "           3       0.88      0.88      0.88      1010\n",
            "           4       0.87      0.90      0.88       982\n",
            "           5       0.87      0.80      0.83       892\n",
            "           6       0.91      0.93      0.92       958\n",
            "           7       0.89      0.88      0.88      1028\n",
            "           8       0.82      0.84      0.83       974\n",
            "           9       0.84      0.85      0.85      1009\n",
            "\n",
            "    accuracy                           0.89     10000\n",
            "   macro avg       0.88      0.88      0.88     10000\n",
            "weighted avg       0.89      0.89      0.89     10000\n",
            "\n"
          ]
        }
      ]
    },
    {
      "cell_type": "markdown",
      "source": [
        "##### **3. Precision, Recall & F1 score**"
      ],
      "metadata": {
        "id": "pEdDa7Fowa2s"
      }
    },
    {
      "cell_type": "code",
      "source": [
        "from sklearn.metrics import precision_score\n",
        "from sklearn.metrics import recall_score\n",
        "from sklearn.metrics import f1_score\n",
        "\n",
        "print('F1 score (micro) : ', f1_score(y_test, test_pred, average='micro'))\n",
        "print('Precision (micro) : ', precision_score(y_test, test_pred, average='micro'))\n",
        "print('Recall (micro) : ', recall_score(y_test, test_pred, average='micro'))"
      ],
      "metadata": {
        "colab": {
          "base_uri": "https://localhost:8080/"
        },
        "id": "Re7wWxBYvw47",
        "outputId": "19832314-2b5c-477e-f09f-025e5e637ae8"
      },
      "execution_count": 43,
      "outputs": [
        {
          "output_type": "stream",
          "name": "stdout",
          "text": [
            "F1 score (micro) :  0.8855\n",
            "Precision (micro) :  0.8855\n",
            "Recall (micro) :  0.8855\n"
          ]
        }
      ]
    },
    {
      "cell_type": "code",
      "source": [
        "print('F1 score (macro): ', f1_score(y_test, test_pred, average='macro'))\n",
        "print('Precision (macro): ', precision_score(y_test, test_pred, average='macro'))\n",
        "\n",
        "print('Recall (macro): ', recall_score(y_test, test_pred, average='macro'))"
      ],
      "metadata": {
        "colab": {
          "base_uri": "https://localhost:8080/"
        },
        "id": "iyAgWBo3wb81",
        "outputId": "ae77a905-2d98-49ad-c379-cca187cb638d"
      },
      "execution_count": 44,
      "outputs": [
        {
          "output_type": "stream",
          "name": "stdout",
          "text": [
            "F1 score (macro):  0.8838839864151241\n",
            "Precision (macro):  0.8844328628068634\n",
            "Recall (macro):  0.8840017020741705\n"
          ]
        }
      ]
    },
    {
      "cell_type": "markdown",
      "source": [
        "### **Prediction visualization**"
      ],
      "metadata": {
        "id": "AG2ulhFowlF1"
      }
    },
    {
      "cell_type": "code",
      "source": [
        "np.random.randint(15, size=(15))"
      ],
      "metadata": {
        "colab": {
          "base_uri": "https://localhost:8080/"
        },
        "id": "szI9ot9uxMgn",
        "outputId": "e9a3c2cf-a02d-4f2e-eafe-49853a734130"
      },
      "execution_count": 63,
      "outputs": [
        {
          "output_type": "execute_result",
          "data": {
            "text/plain": [
              "array([13,  6, 11,  5, 13,  9, 12, 13,  0,  4,  7,  6,  3, 14,  0])"
            ]
          },
          "metadata": {},
          "execution_count": 63
        }
      ]
    },
    {
      "cell_type": "code",
      "source": [
        "fig = plt.figure(figsize=(10,10))\n",
        "j = 0\n",
        "for i in np.random.randint(15, size=(15)):\n",
        "    ax = fig.add_subplot(5, 3, j+1)\n",
        "    ax.imshow(X_test[i].reshape(28,28) ,cmap=plt.get_cmap('gray'))\n",
        "    ax.set_title(f'y_true : {y_test[i]} & y_pred : {test_pred[i]}')\n",
        "    plt.axis('off')\n",
        "    j += 1\n",
        "plt.show()\n"
      ],
      "metadata": {
        "colab": {
          "base_uri": "https://localhost:8080/",
          "height": 591
        },
        "id": "ygS8vxZBwgbf",
        "outputId": "4f52c722-155b-4f8f-d7e3-30763d258527"
      },
      "execution_count": 66,
      "outputs": [
        {
          "output_type": "display_data",
          "data": {
            "text/plain": [
              "<Figure size 720x720 with 15 Axes>"
            ],
            "image/png": "[encoded data removed]"
          },
          "metadata": {
            "needs_background": "light"
          }
        }
      ]
    },
    {
      "cell_type": "code",
      "source": [
        ""
      ],
      "metadata": {
        "id": "3ZGqcMMSwzUv"
      },
      "execution_count": 66,
      "outputs": []
    }
  ]
}