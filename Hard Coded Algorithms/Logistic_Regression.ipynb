{
  "nbformat": 4,
  "nbformat_minor": 0,
  "metadata": {
    "colab": {
      "name": "Logistic Regression.ipynb",
      "provenance": [],
      "collapsed_sections": [],
      "authorship_tag": "ABX9TyMBb4lMDfQD5FLjiMgaPb1N"
    },
    "kernelspec": {
      "name": "python3",
      "display_name": "Python 3"
    },
    "language_info": {
      "name": "python"
    }
  },
  "cells": [
    {
      "cell_type": "code",
      "source": [
        "import numpy as np\n",
        "import pandas as pd\n",
        "import matplotlib.pyplot as plt\n",
        "import seaborn as sns\n",
        "import time as time"
      ],
      "metadata": {
        "id": "cctDkjDFuvbr"
      },
      "execution_count": 35,
      "outputs": []
    },
    {
      "cell_type": "code",
      "source": [
        "np.random.seed(1234)"
      ],
      "metadata": {
        "id": "40swq6Ql-dlN"
      },
      "execution_count": 36,
      "outputs": []
    },
    {
      "cell_type": "markdown",
      "source": [
        "#Logistic Regression"
      ],
      "metadata": {
        "id": "Ajf2s2BZrNfu"
      }
    },
    {
      "cell_type": "markdown",
      "source": [
        "### Model"
      ],
      "metadata": {
        "id": "EjpzJUASsW8A"
      }
    },
    {
      "cell_type": "markdown",
      "source": [
        "![image.png](https://drive.google.com/uc?id=1pnidxNrAEx2_belcDMizRj-IBozZMAIM)"
      ],
      "metadata": {
        "id": "O52z1zcvsaH1"
      }
    },
    {
      "cell_type": "code",
      "source": [
        "# calculate linear combination of features\n",
        "def linear_combination(X:np.ndarray, w:np.ndarray) ->np.ndarray:\n",
        "    '''Calculate linear combination\n",
        "    \n",
        "    this is given by :\n",
        "    z = Xw\n",
        "    shape(X) = (n, m)\n",
        "    shape(w) = (m, 1)\n",
        "    shape(z) = (n, 1)\n",
        "    returns numpy array\n",
        "    '''\n",
        "    return X@w\n",
        "    "
      ],
      "metadata": {
        "id": "K7ZAMDiFuQaH"
      },
      "execution_count": 37,
      "outputs": []
    },
    {
      "cell_type": "code",
      "source": [
        ""
      ],
      "metadata": {
        "id": "KfrI4YP8_0mH"
      },
      "execution_count": 37,
      "outputs": []
    },
    {
      "cell_type": "markdown",
      "source": [
        "### Sigmoid"
      ],
      "metadata": {
        "id": "MrMX0ee4s7r6"
      }
    },
    {
      "cell_type": "markdown",
      "source": [
        "![image.png](https://drive.google.com/uc?id=1LpnG5Llo-bu4AiTE4CMJ4G0aWmU_VXZk)"
      ],
      "metadata": {
        "id": "p7yGWPQdtPs4"
      }
    },
    {
      "cell_type": "code",
      "source": [
        "# Apply sigmoid function\n",
        "def sigmoid(z:np.ndarray) ->np.ndarray:\n",
        "    return 1/(1+np.exp(-z))"
      ],
      "metadata": {
        "id": "s3x3pZq8uf-S"
      },
      "execution_count": 38,
      "outputs": []
    },
    {
      "cell_type": "markdown",
      "source": [
        "Now we predict the examples and based on value of sigmoid we group them as <strong>label 1</strong> if $P(z) > threshold$ or <strong>label 0</strong> if $P(z) < threshold$ "
      ],
      "metadata": {
        "id": "yWex9dd5AKx0"
      }
    },
    {
      "cell_type": "code",
      "source": [
        "def predict(X:np.ndarray, w:np.ndarray, threshold:float) ->np.ndarray:\n",
        "    return np.where(sigmoid(linear_combination(X, w)) > threshold, 1, 0)"
      ],
      "metadata": {
        "id": "DyaSz4oAugIO"
      },
      "execution_count": 39,
      "outputs": []
    },
    {
      "cell_type": "code",
      "source": [
        "# test the function\n",
        "# always add 1 as bias to feature vector\n",
        "feature_matrix = np.array([[1, 20, 2], [1, 2, 2]])\n",
        "weight_vector = np.array([-1, 0, 1])\n",
        "\n",
        "print(f'Shape of feature matrix:{feature_matrix.shape}')\n",
        "print(f'Shape of weight vector:{weight_vector.shape}')\n",
        "\n",
        "class_labels = predict(feature_matrix, weight_vector, 0.5)\n",
        "\n",
        "print(f'Shape of output:{class_labels.shape}')\n",
        "print(f'Label vectors are :{class_labels}')"
      ],
      "metadata": {
        "colab": {
          "base_uri": "https://localhost:8080/"
        },
        "id": "kIc5CKaNugTe",
        "outputId": "eca2f235-bf58-48b0-ba48-94a763dd14c1"
      },
      "execution_count": 40,
      "outputs": [
        {
          "output_type": "stream",
          "name": "stdout",
          "text": [
            "Shape of feature matrix:(2, 3)\n",
            "Shape of weight vector:(3,)\n",
            "Shape of output:(2,)\n",
            "Label vectors are :[1 1]\n"
          ]
        }
      ]
    },
    {
      "cell_type": "code",
      "source": [
        ""
      ],
      "metadata": {
        "id": "iaeU78-RugoV"
      },
      "execution_count": 40,
      "outputs": []
    },
    {
      "cell_type": "markdown",
      "source": [
        "### Loss Function"
      ],
      "metadata": {
        "id": "xWlB6gLgtUzV"
      }
    },
    {
      "cell_type": "markdown",
      "source": [
        "![image.png](https://drive.google.com/uc?id=1z8IsBO-0lSdAurkeI0ieN0ALAvKFIIKG)"
      ],
      "metadata": {
        "id": "33-jkN8FtUXE"
      }
    },
    {
      "cell_type": "markdown",
      "source": [
        "![image.png](https://drive.google.com/uc?id=1QFEehL2UPhByCFGZoIQomrWBD3nJ5m21)"
      ],
      "metadata": {
        "id": "rANCmVwjtiZp"
      }
    },
    {
      "cell_type": "markdown",
      "source": [
        "![image.png](https://drive.google.com/uc?id=1OjBMkkg_-2UAYQ7N_IryyPEgPh1yEqhY)"
      ],
      "metadata": {
        "id": "M3DnlGEHDKS-"
      }
    },
    {
      "cell_type": "code",
      "source": [
        "def loss(y, sigmoid_vector, weight_vector, l1_reg_rate, l2_reg_rate):\n",
        "    return (-1*(np.sum(y*np.log(sigmoid_vector) + (1-y)*np.log(1-sigmoid_vector)))\n",
        "    + l1_reg_rate*np.dot(np.transpose(weight_vector), weight_vector)\n",
        "    +l2_reg_rate*np.sum(np.abs(weight_vector)))"
      ],
      "metadata": {
        "id": "r-bMnHbaui61"
      },
      "execution_count": 41,
      "outputs": []
    },
    {
      "cell_type": "markdown",
      "source": [
        "If we don't want regularization then we set $l1\\_reg\\_rate$ and $l2\\_reg\\_rate$ to $0$."
      ],
      "metadata": {
        "id": "d_0oU2HRE_6c"
      }
    },
    {
      "cell_type": "code",
      "source": [
        ""
      ],
      "metadata": {
        "id": "IqG__kLIujux"
      },
      "execution_count": 41,
      "outputs": []
    },
    {
      "cell_type": "markdown",
      "source": [
        "### Differentiation of Loss and Sigmoid"
      ],
      "metadata": {
        "id": "OO9uGkyduA4W"
      }
    },
    {
      "cell_type": "markdown",
      "source": [
        "![image.png](https://drive.google.com/uc?id=1WM6hUNU8hS-IWposcn-EKGKSolGL0dcO)"
      ],
      "metadata": {
        "id": "xZtlzqwcuAdm"
      }
    },
    {
      "cell_type": "markdown",
      "source": [
        "![image.png](https://drive.google.com/uc?id=1SvCEou91tSEkoN283I7sLUXvwvbIb85M)"
      ],
      "metadata": {
        "id": "Bd6Kphd_uIho"
      }
    },
    {
      "cell_type": "markdown",
      "source": [
        "![image.png](https://drive.google.com/uc?id=1oQsGXmcYHcGJ8t_O_nD1quXNCgTvEhzV)"
      ],
      "metadata": {
        "id": "NxAT3nGOniun"
      }
    },
    {
      "cell_type": "code",
      "source": [
        "def calculate_gradient(X:np.ndarray, y:np.ndarray, w:np.ndarray,\n",
        "                       reg_rate:float)->np.ndarray:\n",
        "    '''Calculated gradient w.r.to loss function\n",
        "        returna a vector containing gradient w.r.to\n",
        "        each weight vector\n",
        "    '''\n",
        "    return np.transpose(X)@(sigmoid(linear_combination(X, w))-y) + reg_rate*w"
      ],
      "metadata": {
        "id": "8xnD1DHot_2H"
      },
      "execution_count": 42,
      "outputs": []
    },
    {
      "cell_type": "markdown",
      "source": [
        "### Combine all member functions in a single class named Logistic Regression"
      ],
      "metadata": {
        "id": "l-ZhdmIyo2S8"
      }
    },
    {
      "cell_type": "code",
      "source": [
        "class Logistic_regression(object):\n",
        "    '''Logistic reression model\n",
        "    y = sigmoid(X@w)\n",
        "    '''\n",
        "    def set_weights(self, w):\n",
        "        self.w = w\n",
        "\n",
        "    def linear_combination(self, X:np.ndarray)->np.ndarray:\n",
        "        '''\n",
        "        Calculate linear combination\n",
        "        this is given by :\n",
        "        z = Xw\n",
        "        shape(X) = (n, m)\n",
        "        shape(w) = (m, 1)\n",
        "        shape(z) = (n, 1)\n",
        "        returns numpy array\n",
        "        '''\n",
        "        return X@self.w\n",
        "\n",
        "    def sigmoid(self, z:np.ndarray) ->np.ndarray:\n",
        "        '''\n",
        "        Sigmoid implementation\n",
        "        Returns probability of each member belinging\n",
        "        to particular class\n",
        "        '''\n",
        "        return 1/(1+np.exp(-z))\n",
        "\n",
        "    def activation(self, X:np.ndarray)->np.ndarray:\n",
        "        return self.sigmoid(self.linear_combination(X))\n",
        "    \n",
        "    def predict(self, x:np.ndarray, threshold:float=0.5):\n",
        "        '''\n",
        "        Predict the output lables based on input X\n",
        "        and weight vector w\n",
        "        '''\n",
        "        return (self.activation(x) > threshold).astype(int)\n",
        "    \n",
        "    def loss(self, X:np.ndarray, y:np.ndarray, reg_rate:float)->float:\n",
        "        '''\n",
        "        Calculate Binary cross entropy loss\n",
        "        '''\n",
        "        predicted_prob = self.activation(X)\n",
        "        return (-1*(np.sum(y*np.log(predicted_prob) + \n",
        "                    (1-y)*np.log(1-predicted_prob)))+\n",
        "                    reg_rate*np.dot(np.transpose(self.w), self.w))\n",
        "        \n",
        "    def calculate_gradient(self, X:np.ndarray, y:np.ndarray,\n",
        "                           reg_rate:float)->np.ndarray:\n",
        "        '''\n",
        "        Calculate gradient of loss w.r.ro each weight vector\n",
        "        '''\n",
        "        return np.transpose(X)@(self.activation(X)-y) + reg_rate*self.w\n",
        "    \n",
        "    def update_weights(self, grad:np.ndarray, lr:float)->np.ndarray:\n",
        "        '''\n",
        "        Updates weights based on the formula\n",
        "        w_new = w_old - lr*(grad_of_loss)\n",
        "        '''\n",
        "        return (self.w-lr*grad)\n",
        "    \n",
        "    def gd(self, X:np.ndarray, y:np.ndarray,\n",
        "           num_epoches:int, lr:float, reg_rate:float)->np.ndarray:\n",
        "        '''\n",
        "        Estimated parameters bof logistic regression model \n",
        "        with gradient descent.\n",
        "        '''\n",
        "        self.w = np.zeros(X.shape[1])\n",
        "        self.w_all = []\n",
        "        self.err_all = []\n",
        "        for i in range(num_epoches):\n",
        "            dJdW = self.calculate_gradient(X, y, reg_rate)\n",
        "            self.w_all.append(self.w)\n",
        "            self.err_all.append(self.loss(X, y, reg_rate)) # stored loss at each step\n",
        "            self.w = self.update_weights(dJdW, lr)\n",
        "        return self.w"
      ],
      "metadata": {
        "id": "_AeB2XmKul8A"
      },
      "execution_count": 43,
      "outputs": []
    },
    {
      "cell_type": "markdown",
      "source": [
        "### Running logistic regression on toy data set"
      ],
      "metadata": {
        "id": "916N3h7qyarZ"
      }
    },
    {
      "cell_type": "code",
      "source": [
        "def create_toy_data():\n",
        "    x0 = np.random.normal(size=50).reshape(-1, 2) -1\n",
        "    x1 = np.random.normal(size=50).reshape(-1, 2) +1\n",
        "    return np.concatenate([x0, x1]), np.concatenate([np.zeros(25), np.ones(25)]).astype(int)"
      ],
      "metadata": {
        "id": "90ASRYB-umDW"
      },
      "execution_count": 44,
      "outputs": []
    },
    {
      "cell_type": "code",
      "source": [
        "feature_matrix, label_vector = create_toy_data()\n",
        "feature_matrix[:5]"
      ],
      "metadata": {
        "colab": {
          "base_uri": "https://localhost:8080/"
        },
        "id": "j3cpJFhRumIZ",
        "outputId": "a60c929d-78fc-4119-90a6-e8f7a3c646c0"
      },
      "execution_count": 45,
      "outputs": [
        {
          "output_type": "execute_result",
          "data": {
            "text/plain": [
              "array([[-0.52856484, -2.19097569],\n",
              "       [ 0.43270697, -1.3126519 ],\n",
              "       [-1.72058873, -0.11283706],\n",
              "       [-0.14041159, -1.6365235 ],\n",
              "       [-0.98430363, -3.24268495]])"
            ]
          },
          "metadata": {},
          "execution_count": 45
        }
      ]
    },
    {
      "cell_type": "code",
      "source": [
        "label_vector"
      ],
      "metadata": {
        "colab": {
          "base_uri": "https://localhost:8080/"
        },
        "id": "0HuvR38UumNe",
        "outputId": "f0986bc8-4046-47ba-c2da-ae257204f0c7"
      },
      "execution_count": 46,
      "outputs": [
        {
          "output_type": "execute_result",
          "data": {
            "text/plain": [
              "array([0, 0, 0, 0, 0, 0, 0, 0, 0, 0, 0, 0, 0, 0, 0, 0, 0, 0, 0, 0, 0, 0,\n",
              "       0, 0, 0, 1, 1, 1, 1, 1, 1, 1, 1, 1, 1, 1, 1, 1, 1, 1, 1, 1, 1, 1,\n",
              "       1, 1, 1, 1, 1, 1])"
            ]
          },
          "metadata": {},
          "execution_count": 46
        }
      ]
    },
    {
      "cell_type": "code",
      "source": [
        "print(f'Shape of feature matrix:{feature_matrix.shape}')\n",
        "print(f'Shape of lable vector:{label_vector.shape}')"
      ],
      "metadata": {
        "colab": {
          "base_uri": "https://localhost:8080/"
        },
        "id": "MaRmNo7Mum9d",
        "outputId": "fb61b3ef-bf16-4e71-fde6-1c5b069990a2"
      },
      "execution_count": 47,
      "outputs": [
        {
          "output_type": "stream",
          "name": "stdout",
          "text": [
            "Shape of feature matrix:(50, 2)\n",
            "Shape of lable vector:(50,)\n"
          ]
        }
      ]
    },
    {
      "cell_type": "markdown",
      "source": [
        "Add polynomial features<br>\n",
        "We add a bias of $1$ with help of polynomial features."
      ],
      "metadata": {
        "id": "vVwdua92NuaG"
      }
    },
    {
      "cell_type": "code",
      "source": [
        "import itertools\n",
        "import functools\n",
        "def combinations(x, degree):\n",
        "    return itertools.combinations_with_replacement(x, degree)\n",
        "\n",
        "def compute_new_features(items):\n",
        "    return functools.reduce(lambda x, y: x * y, items)\n",
        "\n",
        "def polynomial_transform(x, degree):\n",
        "    if x.ndim == 1:\n",
        "        x = x[:, None]\n",
        "\n",
        "    features = [np.ones(len(x))] #a list of np-arrays with all 1.\n",
        "\n",
        "    for degree in range(1, degree + 1):\n",
        "        for item in combinations(x.T, degree):\n",
        "            features.append(compute_new_features(item))\n",
        "            \n",
        "    return np.asarray(features).T"
      ],
      "metadata": {
        "id": "AZop3PT_unbJ"
      },
      "execution_count": 48,
      "outputs": []
    },
    {
      "cell_type": "code",
      "source": [
        "# new feature matrix after adding bias\n",
        "feature_matrix_bias = polynomial_transform(feature_matrix, degree=1)\n",
        "feature_matrix_bias.shape"
      ],
      "metadata": {
        "colab": {
          "base_uri": "https://localhost:8080/"
        },
        "id": "lvzk4JUJunoA",
        "outputId": "0961ff6f-c241-4b23-f9cf-fd4dcb8e3ccf"
      },
      "execution_count": 49,
      "outputs": [
        {
          "output_type": "execute_result",
          "data": {
            "text/plain": [
              "(50, 3)"
            ]
          },
          "metadata": {},
          "execution_count": 49
        }
      ]
    },
    {
      "cell_type": "code",
      "source": [
        "feature_matrix_bias[:3]"
      ],
      "metadata": {
        "colab": {
          "base_uri": "https://localhost:8080/"
        },
        "id": "4FlutO8hP3mu",
        "outputId": "b7641c9a-b178-4da5-e172-a5b26a29cc76"
      },
      "execution_count": 50,
      "outputs": [
        {
          "output_type": "execute_result",
          "data": {
            "text/plain": [
              "array([[ 1.        , -0.52856484, -2.19097569],\n",
              "       [ 1.        ,  0.43270697, -1.3126519 ],\n",
              "       [ 1.        , -1.72058873, -0.11283706]])"
            ]
          },
          "metadata": {},
          "execution_count": 50
        }
      ]
    },
    {
      "cell_type": "code",
      "source": [
        "# perform training and test split on dataset\n",
        "from sklearn.model_selection import train_test_split\n",
        "\n",
        "x_train,x_test,y_train,y_test = train_test_split(feature_matrix_bias,\n",
        "                                                label_vector)\n",
        "print(x_train.shape, x_test.shape, y_train.shape, y_test.shape)"
      ],
      "metadata": {
        "colab": {
          "base_uri": "https://localhost:8080/"
        },
        "id": "CzppQTBlOCzo",
        "outputId": "61474c38-f527-46f1-ce37-8770f8053bdc"
      },
      "execution_count": 51,
      "outputs": [
        {
          "output_type": "stream",
          "name": "stdout",
          "text": [
            "(37, 3) (13, 3) (37,) (13,)\n"
          ]
        }
      ]
    },
    {
      "cell_type": "code",
      "source": [
        "y_train"
      ],
      "metadata": {
        "colab": {
          "base_uri": "https://localhost:8080/"
        },
        "id": "DVldD3MTP9uK",
        "outputId": "3a69496f-2707-42c2-8252-5d273041ffd4"
      },
      "execution_count": 52,
      "outputs": [
        {
          "output_type": "execute_result",
          "data": {
            "text/plain": [
              "array([1, 1, 1, 0, 0, 0, 1, 0, 1, 0, 0, 0, 1, 0, 1, 0, 0, 1, 1, 1, 1, 0,\n",
              "       0, 0, 0, 0, 1, 0, 0, 1, 1, 0, 0, 1, 1, 1, 1])"
            ]
          },
          "metadata": {},
          "execution_count": 52
        }
      ]
    },
    {
      "cell_type": "markdown",
      "source": [
        "Visualize the data points"
      ],
      "metadata": {
        "id": "iHu2WHpsOzEg"
      }
    },
    {
      "cell_type": "code",
      "source": [
        "sns.set_style('white')\n",
        "f = plt.figure(figsize=(7,7))\n",
        "sns.set_context('notebook', font_scale=1.5, rc={'lines.linewidth':2.5})\n",
        "\n",
        "sns.scatterplot(data=x_train, x=x_train[:,1], y=x_train[:,2],\n",
        "                hue=y_train)\n",
        "plt.xlabel('$x_1$')\n",
        "plt.ylabel('$x_2$')\n",
        "plt.show()"
      ],
      "metadata": {
        "colab": {
          "base_uri": "https://localhost:8080/",
          "height": 461
        },
        "id": "6EsV1iS0O1Ec",
        "outputId": "56a7a3fd-18ba-45b2-b01f-c42f43ba6e26"
      },
      "execution_count": 53,
      "outputs": [
        {
          "output_type": "display_data",
          "data": {
            "text/plain": [
              "<Figure size 504x504 with 1 Axes>"
            ],
            "image/png": "[encoded data removed]"
          },
          "metadata": {}
        }
      ]
    },
    {
      "cell_type": "markdown",
      "source": [
        "Initiate object of ```LogisticRegression``` class and train the model<br>by calling ```gd``` method of the class.<br>\n",
        "Here $\\lambda = 0$ i.e. no regularization"
      ],
      "metadata": {
        "id": "w-gyKM2fSSat"
      }
    },
    {
      "cell_type": "code",
      "source": [
        "log_reg = Logistic_regression()\n",
        "log_reg.gd(x_train, y_train, num_epoches=1000,\n",
        "           reg_rate=0, lr=1e-2)"
      ],
      "metadata": {
        "colab": {
          "base_uri": "https://localhost:8080/"
        },
        "id": "UqcPQXSnO8ld",
        "outputId": "809d686a-ee33-4e02-f501-6a4104062f06"
      },
      "execution_count": 54,
      "outputs": [
        {
          "output_type": "execute_result",
          "data": {
            "text/plain": [
              "array([-0.14559758,  4.43289743,  1.94514132])"
            ]
          },
          "metadata": {},
          "execution_count": 54
        }
      ]
    },
    {
      "cell_type": "markdown",
      "source": [
        "Plot learning curve<br>\n",
        "Pass the $err\\_all$ member variable of logistric regression class that stores the error by the model in each step."
      ],
      "metadata": {
        "id": "8d0EpqjhUED_"
      }
    },
    {
      "cell_type": "code",
      "source": [
        "def plot_learning_curve(err):\n",
        "    plt.plot(np.arange(len(err)), err, 'r-')\n",
        "    plt.xlabel('Epoches')\n",
        "    plt.ylabel('$J(w)$')"
      ],
      "metadata": {
        "id": "lZedHno8SlKB"
      },
      "execution_count": 55,
      "outputs": []
    },
    {
      "cell_type": "code",
      "source": [
        "plot_learning_curve(log_reg.err_all)"
      ],
      "metadata": {
        "colab": {
          "base_uri": "https://localhost:8080/",
          "height": 298
        },
        "id": "uWi9ilE7UG9b",
        "outputId": "8f48e37c-9684-4412-90f0-3e70c99b2ed4"
      },
      "execution_count": 56,
      "outputs": [
        {
          "output_type": "display_data",
          "data": {
            "text/plain": [
              "<Figure size 432x288 with 1 Axes>"
            ],
            "image/png": "[encoded data removed]"
          },
          "metadata": {}
        }
      ]
    },
    {
      "cell_type": "markdown",
      "source": [
        "The weight vectors learnt by a model"
      ],
      "metadata": {
        "id": "8ukOS-3fVNHm"
      }
    },
    {
      "cell_type": "code",
      "source": [
        "print(f'Weights learnt by model:{log_reg.w}')"
      ],
      "metadata": {
        "colab": {
          "base_uri": "https://localhost:8080/"
        },
        "id": "p7QoqQ0FUZve",
        "outputId": "25610bb4-1c3f-4d6f-cc2f-f7cb8b3702fb"
      },
      "execution_count": 57,
      "outputs": [
        {
          "output_type": "stream",
          "name": "stdout",
          "text": [
            "Weights learnt by model:[-0.14559758  4.43289743  1.94514132]\n"
          ]
        }
      ]
    },
    {
      "cell_type": "markdown",
      "source": [
        "Visualize the model"
      ],
      "metadata": {
        "id": "BDrNHqIRWkBf"
      }
    },
    {
      "cell_type": "code",
      "source": [
        "sns.set_context(context='notebook',font_scale=1.5,rc={\"lines.linewidth\":2.5})\n",
        "\n",
        "def visualize_model(X_train, labels, log_reg, degree=1):\n",
        "    f = plt.figure(figsize=(8,8))\n",
        "\n",
        "    x1_min = np.min(x_train[:,1])\n",
        "    x1_max = np.max(x_train[:,1])\n",
        "    x2_min = np.min(x_train[:,2])\n",
        "    x2_max = np.max(x_train[:,2])\n",
        "    \n",
        "    x1_test, x2_test = np.meshgrid(np.linspace(x1_min, x1_max, 100), np.linspace(x2_min, x2_max, 100)) \n",
        "    x_test = np.array([x1_test, x2_test]).reshape(2,-1).T\n",
        "    x_test_poly = polynomial_transform(x_test, degree=degree)\n",
        "    y_test = log_reg.predict(x_test_poly, 0.5)\n",
        "    \n",
        "    sns.scatterplot(data=x_train, x=x_train[:,1], y=x_train[:,2], hue=labels)\n",
        "    plt.contourf(x1_test, x2_test, y_test.reshape(100,100), alpha=0.5, levels=np.linspace(0,1,3))\n",
        "    plt.gca().set_aspect('equal', adjustable='box')"
      ],
      "metadata": {
        "id": "fD7n-knOVVIZ"
      },
      "execution_count": 69,
      "outputs": []
    },
    {
      "cell_type": "code",
      "source": [
        "visualize_model(x_train, y_train, log_reg)"
      ],
      "metadata": {
        "colab": {
          "base_uri": "https://localhost:8080/",
          "height": 500
        },
        "id": "ySFMrnBPWlgr",
        "outputId": "0930c8bf-3d42-4d67-fae1-8328222eec0a"
      },
      "execution_count": 71,
      "outputs": [
        {
          "output_type": "display_data",
          "data": {
            "text/plain": [
              "<Figure size 576x576 with 1 Axes>"
            ],
            "image/png": "[encoded data removed]"
          },
          "metadata": {}
        }
      ]
    },
    {
      "cell_type": "code",
      "source": [
        ""
      ],
      "metadata": {
        "id": "7s3mRapJsyoC"
      },
      "execution_count": null,
      "outputs": []
    }
  ]
}