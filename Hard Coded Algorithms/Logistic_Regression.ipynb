{
  "nbformat": 4,
  "nbformat_minor": 0,
  "metadata": {
    "colab": {
      "name": "Logistic Regression.ipynb",
      "provenance": [],
      "collapsed_sections": [],
      "authorship_tag": "ABX9TyOihxH8kBacNWwsTXMhA/pf"
    },
    "kernelspec": {
      "name": "python3",
      "display_name": "Python 3"
    },
    "language_info": {
      "name": "python"
    }
  },
  "cells": [
    {
      "cell_type": "code",
      "source": [
        "import numpy as np\n",
        "import pandas as pd\n",
        "import matplotlib.pyplot as plt\n",
        "import seaborn as sns\n",
        "import time as time"
      ],
      "metadata": {
        "id": "cctDkjDFuvbr"
      },
      "execution_count": 2,
      "outputs": []
    },
    {
      "cell_type": "code",
      "source": [
        "np.random.seed(0)"
      ],
      "metadata": {
        "id": "40swq6Ql-dlN"
      },
      "execution_count": 3,
      "outputs": []
    },
    {
      "cell_type": "markdown",
      "source": [
        "#Logistic Regression"
      ],
      "metadata": {
        "id": "Ajf2s2BZrNfu"
      }
    },
    {
      "cell_type": "markdown",
      "source": [
        "### Model"
      ],
      "metadata": {
        "id": "EjpzJUASsW8A"
      }
    },
    {
      "cell_type": "markdown",
      "source": [
        "![image.png](https://drive.google.com/uc?id=1pnidxNrAEx2_belcDMizRj-IBozZMAIM)"
      ],
      "metadata": {
        "id": "O52z1zcvsaH1"
      }
    },
    {
      "cell_type": "code",
      "source": [
        "# calculate linear combination of features\n",
        "def linear_combination(X:np.ndarray, w:np.ndarray) ->np.ndarray:\n",
        "    '''Calculate linear combination\n",
        "    \n",
        "    this is given by :\n",
        "    z = Xw\n",
        "    shape(X) = (n, m)\n",
        "    shape(w) = (m, 1)\n",
        "    shape(z) = (n, 1)\n",
        "    returns numpy array\n",
        "    '''\n",
        "    return X@w\n",
        "    "
      ],
      "metadata": {
        "id": "K7ZAMDiFuQaH"
      },
      "execution_count": 5,
      "outputs": []
    },
    {
      "cell_type": "code",
      "source": [
        ""
      ],
      "metadata": {
        "id": "KfrI4YP8_0mH"
      },
      "execution_count": null,
      "outputs": []
    },
    {
      "cell_type": "markdown",
      "source": [
        "### Sigmoid"
      ],
      "metadata": {
        "id": "MrMX0ee4s7r6"
      }
    },
    {
      "cell_type": "markdown",
      "source": [
        "![image.png](https://drive.google.com/uc?id=1LpnG5Llo-bu4AiTE4CMJ4G0aWmU_VXZk)"
      ],
      "metadata": {
        "id": "p7yGWPQdtPs4"
      }
    },
    {
      "cell_type": "code",
      "source": [
        "# Apply sigmoid function\n",
        "def sigmoid(z:np.ndarray) ->np.ndarray:\n",
        "    return 1/(1+np.exp(-z))"
      ],
      "metadata": {
        "id": "s3x3pZq8uf-S"
      },
      "execution_count": 6,
      "outputs": []
    },
    {
      "cell_type": "markdown",
      "source": [
        "Now we predict the examples and based on value of sigmoid we group them as <strong>label 1</strong> if $P(z) > threshold$ or <strong>label 0</strong> if $P(z) < threshold$ "
      ],
      "metadata": {
        "id": "yWex9dd5AKx0"
      }
    },
    {
      "cell_type": "code",
      "source": [
        "def predict(X:np.ndarray, w:np.ndarray, threshold:float) ->np.ndarray:\n",
        "    return np.where(sigmoid(linear_combination(X, w)) > threshold, 1, 0)"
      ],
      "metadata": {
        "id": "DyaSz4oAugIO"
      },
      "execution_count": 7,
      "outputs": []
    },
    {
      "cell_type": "code",
      "source": [
        "# test the function\n",
        "# always add 1 as bias to feature vector\n",
        "feature_matrix = np.array([[1, 20, 2], [1, 2, 2]])\n",
        "weight_vector = np.array([-1, 0, 1])\n",
        "\n",
        "print(f'Shape of feature matrix:{feature_matrix.shape}')\n",
        "print(f'Shape of weight vector:{weight_vector.shape}')\n",
        "\n",
        "class_labels = predict(feature_matrix, weight_vector, 0.5)\n",
        "\n",
        "print(f'Shape of output:{class_labels.shape}')\n",
        "print(f'Label vectors are :{class_labels}')"
      ],
      "metadata": {
        "colab": {
          "base_uri": "https://localhost:8080/"
        },
        "id": "kIc5CKaNugTe",
        "outputId": "97151280-4126-4ed6-f672-cc4370f8de79"
      },
      "execution_count": 8,
      "outputs": [
        {
          "output_type": "stream",
          "name": "stdout",
          "text": [
            "Shape of feature matrix:(2, 3)\n",
            "Shape of weight vector:(3,)\n",
            "Shape of output:(2,)\n",
            "Label vectors are :[1 1]\n"
          ]
        }
      ]
    },
    {
      "cell_type": "code",
      "source": [
        ""
      ],
      "metadata": {
        "id": "iaeU78-RugoV"
      },
      "execution_count": null,
      "outputs": []
    },
    {
      "cell_type": "markdown",
      "source": [
        "### Loss Function"
      ],
      "metadata": {
        "id": "xWlB6gLgtUzV"
      }
    },
    {
      "cell_type": "markdown",
      "source": [
        "![image.png](https://drive.google.com/uc?id=1z8IsBO-0lSdAurkeI0ieN0ALAvKFIIKG)"
      ],
      "metadata": {
        "id": "33-jkN8FtUXE"
      }
    },
    {
      "cell_type": "markdown",
      "source": [
        "![image.png](https://drive.google.com/uc?id=1QFEehL2UPhByCFGZoIQomrWBD3nJ5m21)"
      ],
      "metadata": {
        "id": "rANCmVwjtiZp"
      }
    },
    {
      "cell_type": "markdown",
      "source": [
        "![image.png](https://drive.google.com/uc?id=1OjBMkkg_-2UAYQ7N_IryyPEgPh1yEqhY)"
      ],
      "metadata": {
        "id": "M3DnlGEHDKS-"
      }
    },
    {
      "cell_type": "code",
      "source": [
        "def loss(y, sigmoid_vector, weight_vector, l1_reg_rate, l2_reg_rate):\n",
        "    return (-1*(np.sum(y*np.log(sigmoid_vector) + (1-y)*np.log(1-sigmoid_vector)))\n",
        "    + l1_reg_rate*np.dot(np.transpose(weight_vector), weight_vector)\n",
        "    +l2_reg_rate*np.sum(np.abs(weight_vector)))"
      ],
      "metadata": {
        "id": "r-bMnHbaui61"
      },
      "execution_count": 9,
      "outputs": []
    },
    {
      "cell_type": "markdown",
      "source": [
        "If we don't want regularization then we set $l1\\_reg\\_rate$ and $l2\\_reg\\_rate$ to $0$."
      ],
      "metadata": {
        "id": "d_0oU2HRE_6c"
      }
    },
    {
      "cell_type": "code",
      "source": [
        ""
      ],
      "metadata": {
        "id": "IqG__kLIujux"
      },
      "execution_count": null,
      "outputs": []
    },
    {
      "cell_type": "markdown",
      "source": [
        "### Differentiation of Loss and Sigmoid"
      ],
      "metadata": {
        "id": "OO9uGkyduA4W"
      }
    },
    {
      "cell_type": "markdown",
      "source": [
        "![image.png](https://drive.google.com/uc?id=1WM6hUNU8hS-IWposcn-EKGKSolGL0dcO)"
      ],
      "metadata": {
        "id": "xZtlzqwcuAdm"
      }
    },
    {
      "cell_type": "markdown",
      "source": [
        "![image.png](https://drive.google.com/uc?id=1SvCEou91tSEkoN283I7sLUXvwvbIb85M)"
      ],
      "metadata": {
        "id": "Bd6Kphd_uIho"
      }
    },
    {
      "cell_type": "markdown",
      "source": [
        "![image.png](https://drive.google.com/uc?id=1oQsGXmcYHcGJ8t_O_nD1quXNCgTvEhzV)"
      ],
      "metadata": {
        "id": "NxAT3nGOniun"
      }
    },
    {
      "cell_type": "code",
      "source": [
        "def calculate_gradient(X:np.ndarray, y:np.ndarray, w:np.ndarray,\n",
        "                       reg_rate:float)->np.ndarray:\n",
        "    '''Calculated gradient w.r.to loss function\n",
        "        returna a vector containing gradient w.r.to\n",
        "        each weight vector\n",
        "    '''\n",
        "    return np.transpose(X)@(sigmoid(linear_combination(X, w))-y) + reg_rate*w"
      ],
      "metadata": {
        "id": "8xnD1DHot_2H"
      },
      "execution_count": 10,
      "outputs": []
    },
    {
      "cell_type": "markdown",
      "source": [
        "### Combine all member functions in a single class named Logistic Regression"
      ],
      "metadata": {
        "id": "l-ZhdmIyo2S8"
      }
    },
    {
      "cell_type": "code",
      "source": [
        "class Logistic_regression(object):\n",
        "    '''Logistic reression model\n",
        "    y = sigmoid(X@w)\n",
        "    '''\n",
        "    def set_weights(self, w):\n",
        "        self.w = w\n",
        "\n",
        "    def linear_combination(self, X:np.ndarray)->np.ndarray:\n",
        "        '''\n",
        "        Calculate linear combination\n",
        "        this is given by :\n",
        "        z = Xw\n",
        "        shape(X) = (n, m)\n",
        "        shape(w) = (m, 1)\n",
        "        shape(z) = (n, 1)\n",
        "        returns numpy array\n",
        "        '''\n",
        "        return X@self.w\n",
        "\n",
        "    def sigmoid(self, z:np.ndarray) ->np.ndarray:\n",
        "        '''\n",
        "        Sigmoid implementation\n",
        "        Returns probability of each member belinging\n",
        "        to particular class\n",
        "        '''\n",
        "        return 1/(1+np.exp(-z))\n",
        "\n",
        "    def activation(self, X:np.ndarray)->np.ndarray:\n",
        "        return self.sigmoid(self.linear_combination(X))\n",
        "    \n",
        "    def predict(self, x:np.ndarray, threshold:float=0.5):\n",
        "        '''\n",
        "        Predict the output lables based on input X\n",
        "        and weight vector w\n",
        "        '''\n",
        "        return (self.activation(x) > threshold).astype(int)\n",
        "    \n",
        "    def loss(self, X:np.ndarray, y:np.ndarray, reg_rate:float)->float:\n",
        "        '''\n",
        "        Calculate Binary cross entropy loss\n",
        "        '''\n",
        "        predicted_prob = self.activation(X)\n",
        "        return (-1*(np.sum(y*np.log(predicted_prob) + \n",
        "                    (1-y)*np.log(1-predicted_prob)))+\n",
        "                    reg_rate*np.dot(np.transpose(self.w), self.w))\n",
        "        \n",
        "    def calculate_gradient(self, X:np.ndarray, y:np.ndarray,\n",
        "                           reg_rate:float)->np.ndarray:\n",
        "        '''\n",
        "        Calculate gradient of loss w.r.ro each weight vector\n",
        "        '''\n",
        "        return np.transpose(X)@(self.activation(X)-y) + reg_rate*self.w\n",
        "    \n",
        "    def update_weights(self, grad:np.ndarray, lr:float)->np.ndarray:\n",
        "        '''\n",
        "        Updates weights based on the formula\n",
        "        w_new = w_old - lr*(grad_of_loss)\n",
        "        '''\n",
        "        return (self.w-lr*grad)\n",
        "    \n",
        "    def gd(self, X:np.ndarray, y:np.ndarray,\n",
        "           num_epoches:int, lr:float, reg_rate:float)->np.ndarray:\n",
        "        '''\n",
        "        Estimated parameters bof logistic regression model \n",
        "        with gradient descent.\n",
        "        '''\n",
        "        self.w = np.zeros(X.shape[1])\n",
        "        self.w_all = []\n",
        "        self.err_all = []\n",
        "        for i in range(num_epoches):\n",
        "            dJdW = self.calculate_gradient(X, y, reg_rate)\n",
        "            self.w_all.append(self.w)\n",
        "            self.err_all.append(self.loss(X, y, reg_rate)) # stored loss at each step\n",
        "            self.w = self.update_weights(dJdW, lr)\n",
        "        return self.w"
      ],
      "metadata": {
        "id": "_AeB2XmKul8A"
      },
      "execution_count": 11,
      "outputs": []
    },
    {
      "cell_type": "code",
      "source": [
        ""
      ],
      "metadata": {
        "id": "90ASRYB-umDW"
      },
      "execution_count": null,
      "outputs": []
    },
    {
      "cell_type": "code",
      "source": [
        ""
      ],
      "metadata": {
        "id": "j3cpJFhRumIZ"
      },
      "execution_count": null,
      "outputs": []
    },
    {
      "cell_type": "code",
      "source": [
        ""
      ],
      "metadata": {
        "id": "0HuvR38UumNe"
      },
      "execution_count": null,
      "outputs": []
    },
    {
      "cell_type": "code",
      "source": [
        ""
      ],
      "metadata": {
        "id": "MaRmNo7Mum9d"
      },
      "execution_count": null,
      "outputs": []
    },
    {
      "cell_type": "code",
      "source": [
        ""
      ],
      "metadata": {
        "id": "AZop3PT_unbJ"
      },
      "execution_count": null,
      "outputs": []
    },
    {
      "cell_type": "code",
      "source": [
        ""
      ],
      "metadata": {
        "id": "lvzk4JUJunoA"
      },
      "execution_count": null,
      "outputs": []
    }
  ]
}