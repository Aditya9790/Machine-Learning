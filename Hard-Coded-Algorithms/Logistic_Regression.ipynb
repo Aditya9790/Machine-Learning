{
  "nbformat": 4,
  "nbformat_minor": 0,
  "metadata": {
    "colab": {
      "name": "Logistic Regression.ipynb",
      "provenance": [],
      "collapsed_sections": [],
      "authorship_tag": "ABX9TyNVMo35XZJPVw55hfsHX56f"
    },
    "kernelspec": {
      "name": "python3",
      "display_name": "Python 3"
    },
    "language_info": {
      "name": "python"
    }
  },
  "cells": [
    {
      "cell_type": "code",
      "source": [
        "import numpy as np\n",
        "import pandas as pd\n",
        "import matplotlib.pyplot as plt\n",
        "import seaborn as sns\n",
        "import time as time"
      ],
      "metadata": {
        "id": "cctDkjDFuvbr"
      },
      "execution_count": 180,
      "outputs": []
    },
    {
      "cell_type": "code",
      "source": [
        "!pip install sklearn"
      ],
      "metadata": {
        "colab": {
          "base_uri": "https://localhost:8080/"
        },
        "id": "-a8Re5zg1Bpp",
        "outputId": "89634d90-518a-4d67-aefd-07cd5df75201"
      },
      "execution_count": 181,
      "outputs": [
        {
          "output_type": "stream",
          "name": "stdout",
          "text": [
            "Looking in indexes: https://pypi.org/simple, https://us-python.pkg.dev/colab-wheels/public/simple/\n",
            "Requirement already satisfied: sklearn in /usr/local/lib/python3.7/dist-packages (0.0)\n",
            "Requirement already satisfied: scikit-learn in /usr/local/lib/python3.7/dist-packages (from sklearn) (1.0.2)\n",
            "Requirement already satisfied: threadpoolctl>=2.0.0 in /usr/local/lib/python3.7/dist-packages (from scikit-learn->sklearn) (3.1.0)\n",
            "Requirement already satisfied: joblib>=0.11 in /usr/local/lib/python3.7/dist-packages (from scikit-learn->sklearn) (1.1.0)\n",
            "Requirement already satisfied: scipy>=1.1.0 in /usr/local/lib/python3.7/dist-packages (from scikit-learn->sklearn) (1.4.1)\n",
            "Requirement already satisfied: numpy>=1.14.6 in /usr/local/lib/python3.7/dist-packages (from scikit-learn->sklearn) (1.21.6)\n"
          ]
        }
      ]
    },
    {
      "cell_type": "code",
      "source": [
        "np.random.seed(0)"
      ],
      "metadata": {
        "id": "40swq6Ql-dlN"
      },
      "execution_count": 182,
      "outputs": []
    },
    {
      "cell_type": "markdown",
      "source": [
        "#Logistic Regression"
      ],
      "metadata": {
        "id": "Ajf2s2BZrNfu"
      }
    },
    {
      "cell_type": "markdown",
      "source": [
        "### Model"
      ],
      "metadata": {
        "id": "EjpzJUASsW8A"
      }
    },
    {
      "cell_type": "markdown",
      "source": [
        "![image.png](https://drive.google.com/uc?id=1pnidxNrAEx2_belcDMizRj-IBozZMAIM)"
      ],
      "metadata": {
        "id": "O52z1zcvsaH1"
      }
    },
    {
      "cell_type": "code",
      "source": [
        "# calculate linear combination of features\n",
        "def linear_combination(X:np.ndarray, w:np.ndarray) ->np.ndarray:\n",
        "    '''Calculate linear combination\n",
        "    \n",
        "    this is given by :\n",
        "    z = Xw\n",
        "    shape(X) = (n, m)\n",
        "    shape(w) = (m, 1)\n",
        "    shape(z) = (n, 1)\n",
        "    returns numpy array\n",
        "    '''\n",
        "    return X@w\n",
        "    "
      ],
      "metadata": {
        "id": "K7ZAMDiFuQaH"
      },
      "execution_count": 183,
      "outputs": []
    },
    {
      "cell_type": "code",
      "source": [
        ""
      ],
      "metadata": {
        "id": "KfrI4YP8_0mH"
      },
      "execution_count": 183,
      "outputs": []
    },
    {
      "cell_type": "markdown",
      "source": [
        "### Sigmoid"
      ],
      "metadata": {
        "id": "MrMX0ee4s7r6"
      }
    },
    {
      "cell_type": "markdown",
      "source": [
        "![image.png](https://drive.google.com/uc?id=1LpnG5Llo-bu4AiTE4CMJ4G0aWmU_VXZk)"
      ],
      "metadata": {
        "id": "p7yGWPQdtPs4"
      }
    },
    {
      "cell_type": "code",
      "source": [
        "# Apply sigmoid function\n",
        "def sigmoid(z:np.ndarray) ->np.ndarray:\n",
        "    return 1/(1+np.exp(-z))"
      ],
      "metadata": {
        "id": "s3x3pZq8uf-S"
      },
      "execution_count": 184,
      "outputs": []
    },
    {
      "cell_type": "markdown",
      "source": [
        "Now we predict the examples and based on value of sigmoid we group them as <strong>label 1</strong> if $P(z) > threshold$ or <strong>label 0</strong> if $P(z) < threshold$ "
      ],
      "metadata": {
        "id": "yWex9dd5AKx0"
      }
    },
    {
      "cell_type": "code",
      "source": [
        "def predict(X:np.ndarray, w:np.ndarray, threshold:float) ->np.ndarray:\n",
        "    return np.where(sigmoid(linear_combination(X, w)) > threshold, 1, 0)"
      ],
      "metadata": {
        "id": "DyaSz4oAugIO"
      },
      "execution_count": 185,
      "outputs": []
    },
    {
      "cell_type": "code",
      "source": [
        "# test the function\n",
        "# always add 1 as bias to feature vector\n",
        "feature_matrix = np.array([[1, 20, 2], [1, 2, 2]])\n",
        "weight_vector = np.array([-1, 0, 1])\n",
        "\n",
        "print(f'Shape of feature matrix:{feature_matrix.shape}')\n",
        "print(f'Shape of weight vector:{weight_vector.shape}')\n",
        "\n",
        "class_labels = predict(feature_matrix, weight_vector, 0.5)\n",
        "\n",
        "print(f'Shape of output:{class_labels.shape}')\n",
        "print(f'Label vectors are :{class_labels}')"
      ],
      "metadata": {
        "colab": {
          "base_uri": "https://localhost:8080/"
        },
        "id": "kIc5CKaNugTe",
        "outputId": "4f85ecca-c4c1-4538-b4b4-2a994613caad"
      },
      "execution_count": 186,
      "outputs": [
        {
          "output_type": "stream",
          "name": "stdout",
          "text": [
            "Shape of feature matrix:(2, 3)\n",
            "Shape of weight vector:(3,)\n",
            "Shape of output:(2,)\n",
            "Label vectors are :[1 1]\n"
          ]
        }
      ]
    },
    {
      "cell_type": "code",
      "source": [
        ""
      ],
      "metadata": {
        "id": "iaeU78-RugoV"
      },
      "execution_count": 186,
      "outputs": []
    },
    {
      "cell_type": "markdown",
      "source": [
        "### Loss Function"
      ],
      "metadata": {
        "id": "xWlB6gLgtUzV"
      }
    },
    {
      "cell_type": "markdown",
      "source": [
        "![image.png](https://drive.google.com/uc?id=1z8IsBO-0lSdAurkeI0ieN0ALAvKFIIKG)"
      ],
      "metadata": {
        "id": "33-jkN8FtUXE"
      }
    },
    {
      "cell_type": "markdown",
      "source": [
        "![image.png](https://drive.google.com/uc?id=1QFEehL2UPhByCFGZoIQomrWBD3nJ5m21)"
      ],
      "metadata": {
        "id": "rANCmVwjtiZp"
      }
    },
    {
      "cell_type": "markdown",
      "source": [
        "![image.png](https://drive.google.com/uc?id=1OjBMkkg_-2UAYQ7N_IryyPEgPh1yEqhY)"
      ],
      "metadata": {
        "id": "M3DnlGEHDKS-"
      }
    },
    {
      "cell_type": "code",
      "source": [
        "def loss(y, sigmoid_vector, weight_vector, l1_reg_rate, l2_reg_rate):\n",
        "    return (-1*(np.sum(y*np.log(sigmoid_vector) + (1-y)*np.log(1-sigmoid_vector)))\n",
        "    + l1_reg_rate*np.dot(np.transpose(weight_vector), weight_vector)\n",
        "    +l2_reg_rate*np.sum(np.abs(weight_vector)))"
      ],
      "metadata": {
        "id": "r-bMnHbaui61"
      },
      "execution_count": 187,
      "outputs": []
    },
    {
      "cell_type": "markdown",
      "source": [
        "If we don't want regularization then we set $l1\\_reg\\_rate$ and $l2\\_reg\\_rate$ to $0$."
      ],
      "metadata": {
        "id": "d_0oU2HRE_6c"
      }
    },
    {
      "cell_type": "code",
      "source": [
        ""
      ],
      "metadata": {
        "id": "IqG__kLIujux"
      },
      "execution_count": 187,
      "outputs": []
    },
    {
      "cell_type": "markdown",
      "source": [
        "### Differentiation of Loss and Sigmoid"
      ],
      "metadata": {
        "id": "OO9uGkyduA4W"
      }
    },
    {
      "cell_type": "markdown",
      "source": [
        "![image.png](https://drive.google.com/uc?id=1WM6hUNU8hS-IWposcn-EKGKSolGL0dcO)"
      ],
      "metadata": {
        "id": "xZtlzqwcuAdm"
      }
    },
    {
      "cell_type": "markdown",
      "source": [
        "![image.png](https://drive.google.com/uc?id=1SvCEou91tSEkoN283I7sLUXvwvbIb85M)"
      ],
      "metadata": {
        "id": "Bd6Kphd_uIho"
      }
    },
    {
      "cell_type": "markdown",
      "source": [
        "![image.png](https://drive.google.com/uc?id=1oQsGXmcYHcGJ8t_O_nD1quXNCgTvEhzV)"
      ],
      "metadata": {
        "id": "NxAT3nGOniun"
      }
    },
    {
      "cell_type": "code",
      "source": [
        "def calculate_gradient(X:np.ndarray, y:np.ndarray, w:np.ndarray,\n",
        "                       reg_rate:float)->np.ndarray:\n",
        "    '''Calculated gradient w.r.to loss function\n",
        "        returna a vector containing gradient w.r.to\n",
        "        each weight vector\n",
        "    '''\n",
        "    return np.transpose(X)@(sigmoid(linear_combination(X, w))-y) + reg_rate*w"
      ],
      "metadata": {
        "id": "8xnD1DHot_2H"
      },
      "execution_count": 188,
      "outputs": []
    },
    {
      "cell_type": "markdown",
      "source": [
        "### Combine all member functions in a single class named Logistic Regression"
      ],
      "metadata": {
        "id": "l-ZhdmIyo2S8"
      }
    },
    {
      "cell_type": "code",
      "source": [
        "class Logistic_regression(object):\n",
        "    '''Logistic reression model\n",
        "    y = sigmoid(X@w)\n",
        "    '''\n",
        "    def set_weights(self, w):\n",
        "        self.w = w\n",
        "\n",
        "    def linear_combination(self, X:np.ndarray)->np.ndarray:\n",
        "        '''\n",
        "        Calculate linear combination\n",
        "        this is given by :\n",
        "        z = Xw\n",
        "        shape(X) = (n, m)\n",
        "        shape(w) = (m, 1)\n",
        "        shape(z) = (n, 1)\n",
        "        returns numpy array\n",
        "        '''\n",
        "        return X@self.w\n",
        "\n",
        "    def sigmoid(self, z:np.ndarray) ->np.ndarray:\n",
        "        '''\n",
        "        Sigmoid implementation\n",
        "        Returns probability of each member belinging\n",
        "        to particular class\n",
        "        '''\n",
        "        return 1/(1+np.exp(-z))\n",
        "\n",
        "    def activation(self, X:np.ndarray)->np.ndarray:\n",
        "        return self.sigmoid(self.linear_combination(X))\n",
        "    \n",
        "    def predict(self, x:np.ndarray, threshold:float=0.5):\n",
        "        '''\n",
        "        Predict the output lables based on input X\n",
        "        and weight vector w\n",
        "        '''\n",
        "        return (self.activation(x) > threshold).astype(int)\n",
        "    \n",
        "    def loss(self, X:np.ndarray, y:np.ndarray, reg_rate:float)->float:\n",
        "        '''\n",
        "        Calculate Binary cross entropy loss\n",
        "        '''\n",
        "        predicted_prob = self.activation(X)\n",
        "        return (-1*(np.sum(y*np.log(predicted_prob) + \n",
        "                    (1-y)*np.log(1-predicted_prob)))+\n",
        "                    reg_rate*np.dot(np.transpose(self.w), self.w))\n",
        "        \n",
        "    def calculate_gradient(self, X:np.ndarray, y:np.ndarray,\n",
        "                           reg_rate:float)->np.ndarray:\n",
        "        '''\n",
        "        Calculate gradient of loss w.r.ro each weight vector\n",
        "        '''\n",
        "        return np.transpose(X)@(self.activation(X)-y) + reg_rate*self.w\n",
        "    \n",
        "    def update_weights(self, grad:np.ndarray, lr:float)->np.ndarray:\n",
        "        '''\n",
        "        Updates weights based on the formula\n",
        "        w_new = w_old - lr*(grad_of_loss)\n",
        "        '''\n",
        "        return (self.w-lr*grad)\n",
        "    \n",
        "    def gd(self, X:np.ndarray, y:np.ndarray,\n",
        "           num_epoches:int, lr:float, reg_rate:float)->np.ndarray:\n",
        "        '''\n",
        "        Estimated parameters bof logistic regression model \n",
        "        with gradient descent.\n",
        "        '''\n",
        "        self.w = np.zeros(X.shape[1])\n",
        "        self.w_all = []\n",
        "        self.err_all = []\n",
        "        for i in range(num_epoches):\n",
        "            dJdW = self.calculate_gradient(X, y, reg_rate)\n",
        "            self.w_all.append(self.w)\n",
        "            self.err_all.append(self.loss(X, y, reg_rate)) # stored loss at each step\n",
        "            self.w = self.update_weights(dJdW, lr)\n",
        "        return self.w"
      ],
      "metadata": {
        "id": "_AeB2XmKul8A"
      },
      "execution_count": 189,
      "outputs": []
    },
    {
      "cell_type": "markdown",
      "source": [
        "### Running logistic regression on toy data set"
      ],
      "metadata": {
        "id": "916N3h7qyarZ"
      }
    },
    {
      "cell_type": "code",
      "source": [
        "def create_toy_data():\n",
        "    x0 = np.random.normal(size=50).reshape(-1, 2) -1\n",
        "    x1 = np.random.normal(size=50).reshape(-1, 2) +1\n",
        "    return np.concatenate([x0, x1]), np.concatenate([np.zeros(25), np.ones(25)]).astype(int)"
      ],
      "metadata": {
        "id": "90ASRYB-umDW"
      },
      "execution_count": 190,
      "outputs": []
    },
    {
      "cell_type": "code",
      "source": [
        "feature_matrix, label_vector = create_toy_data()\n",
        "feature_matrix[:5]"
      ],
      "metadata": {
        "colab": {
          "base_uri": "https://localhost:8080/"
        },
        "id": "j3cpJFhRumIZ",
        "outputId": "7e291cec-b881-4c56-c25b-5588d9610f9b"
      },
      "execution_count": 191,
      "outputs": [
        {
          "output_type": "execute_result",
          "data": {
            "text/plain": [
              "array([[ 0.76405235, -0.59984279],\n",
              "       [-0.02126202,  1.2408932 ],\n",
              "       [ 0.86755799, -1.97727788],\n",
              "       [-0.04991158, -1.15135721],\n",
              "       [-1.10321885, -0.5894015 ]])"
            ]
          },
          "metadata": {},
          "execution_count": 191
        }
      ]
    },
    {
      "cell_type": "code",
      "source": [
        "label_vector"
      ],
      "metadata": {
        "colab": {
          "base_uri": "https://localhost:8080/"
        },
        "id": "0HuvR38UumNe",
        "outputId": "a371ae09-5172-4fbd-a098-5b17f0f7beca"
      },
      "execution_count": 192,
      "outputs": [
        {
          "output_type": "execute_result",
          "data": {
            "text/plain": [
              "array([0, 0, 0, 0, 0, 0, 0, 0, 0, 0, 0, 0, 0, 0, 0, 0, 0, 0, 0, 0, 0, 0,\n",
              "       0, 0, 0, 1, 1, 1, 1, 1, 1, 1, 1, 1, 1, 1, 1, 1, 1, 1, 1, 1, 1, 1,\n",
              "       1, 1, 1, 1, 1, 1])"
            ]
          },
          "metadata": {},
          "execution_count": 192
        }
      ]
    },
    {
      "cell_type": "code",
      "source": [
        "print(f'Shape of feature matrix:{feature_matrix.shape}')\n",
        "print(f'Shape of lable vector:{label_vector.shape}')"
      ],
      "metadata": {
        "colab": {
          "base_uri": "https://localhost:8080/"
        },
        "id": "MaRmNo7Mum9d",
        "outputId": "74e7d2e5-99d5-4e9f-ea1f-037059f7bb20"
      },
      "execution_count": 193,
      "outputs": [
        {
          "output_type": "stream",
          "name": "stdout",
          "text": [
            "Shape of feature matrix:(50, 2)\n",
            "Shape of lable vector:(50,)\n"
          ]
        }
      ]
    },
    {
      "cell_type": "markdown",
      "source": [
        "Add polynomial features<br>\n",
        "We add a bias of $1$ with help of polynomial features."
      ],
      "metadata": {
        "id": "vVwdua92NuaG"
      }
    },
    {
      "cell_type": "code",
      "source": [
        "import itertools\n",
        "import functools\n",
        "def combinations(x, degree):\n",
        "    return itertools.combinations_with_replacement(x, degree)\n",
        "\n",
        "def compute_new_features(items):\n",
        "    return functools.reduce(lambda x, y: x * y, items)\n",
        "\n",
        "def polynomial_transform(x, degree):\n",
        "    if x.ndim == 1:\n",
        "        x = x[:, None]\n",
        "\n",
        "    features = [np.ones(len(x))] #a list of np-arrays with all 1.\n",
        "\n",
        "    for degree in range(1, degree + 1):\n",
        "        for item in combinations(x.T, degree):\n",
        "            features.append(compute_new_features(item))\n",
        "            \n",
        "    return np.asarray(features).T"
      ],
      "metadata": {
        "id": "AZop3PT_unbJ"
      },
      "execution_count": 194,
      "outputs": []
    },
    {
      "cell_type": "code",
      "source": [
        "# new feature matrix after adding bias\n",
        "feature_matrix_bias = polynomial_transform(feature_matrix,\n",
        "                                           degree=1)\n",
        "feature_matrix_bias.shape"
      ],
      "metadata": {
        "colab": {
          "base_uri": "https://localhost:8080/"
        },
        "id": "lvzk4JUJunoA",
        "outputId": "6389f296-4bcf-4128-9a73-82732be9a00b"
      },
      "execution_count": 195,
      "outputs": [
        {
          "output_type": "execute_result",
          "data": {
            "text/plain": [
              "(50, 3)"
            ]
          },
          "metadata": {},
          "execution_count": 195
        }
      ]
    },
    {
      "cell_type": "code",
      "source": [
        "feature_matrix_bias[:3]"
      ],
      "metadata": {
        "colab": {
          "base_uri": "https://localhost:8080/"
        },
        "id": "4FlutO8hP3mu",
        "outputId": "cf29dbcf-6a92-43c1-8fea-765ffc047f69"
      },
      "execution_count": 196,
      "outputs": [
        {
          "output_type": "execute_result",
          "data": {
            "text/plain": [
              "array([[ 1.        ,  0.76405235, -0.59984279],\n",
              "       [ 1.        , -0.02126202,  1.2408932 ],\n",
              "       [ 1.        ,  0.86755799, -1.97727788]])"
            ]
          },
          "metadata": {},
          "execution_count": 196
        }
      ]
    },
    {
      "cell_type": "code",
      "source": [
        "# perform training and test split on dataset\n",
        "from sklearn.model_selection import train_test_split\n",
        "\n",
        "x_train,x_test,y_train,y_test = train_test_split(feature_matrix_bias,\n",
        "                                                label_vector, test_size=0.3)\n",
        "print(x_train.shape, x_test.shape, y_train.shape, y_test.shape)"
      ],
      "metadata": {
        "colab": {
          "base_uri": "https://localhost:8080/"
        },
        "id": "CzppQTBlOCzo",
        "outputId": "6363133f-696a-4683-a7f5-73dc8e6bfea5"
      },
      "execution_count": 197,
      "outputs": [
        {
          "output_type": "stream",
          "name": "stdout",
          "text": [
            "(35, 3) (15, 3) (35,) (15,)\n"
          ]
        }
      ]
    },
    {
      "cell_type": "code",
      "source": [
        "y_train"
      ],
      "metadata": {
        "colab": {
          "base_uri": "https://localhost:8080/"
        },
        "id": "DVldD3MTP9uK",
        "outputId": "94cd7eac-67d3-4cb1-98cc-5107a2812322"
      },
      "execution_count": 198,
      "outputs": [
        {
          "output_type": "execute_result",
          "data": {
            "text/plain": [
              "array([1, 0, 0, 1, 0, 1, 0, 1, 0, 0, 1, 1, 0, 0, 1, 1, 1, 0, 1, 1, 1, 0,\n",
              "       1, 0, 1, 0, 0, 0, 0, 0, 1, 0, 0, 1, 1])"
            ]
          },
          "metadata": {},
          "execution_count": 198
        }
      ]
    },
    {
      "cell_type": "markdown",
      "source": [
        "Visualize the data points"
      ],
      "metadata": {
        "id": "iHu2WHpsOzEg"
      }
    },
    {
      "cell_type": "code",
      "source": [
        "sns.set_style('white')\n",
        "f = plt.figure(figsize=(7,7))\n",
        "sns.set_context('notebook', font_scale=1.5, rc={'lines.linewidth':2.5})\n",
        "\n",
        "sns.scatterplot(data=x_train, x=x_train[:,1], y=x_train[:,2],\n",
        "                hue=y_train)\n",
        "plt.xlabel('$x_1$')\n",
        "plt.ylabel('$x_2$')\n",
        "plt.show()"
      ],
      "metadata": {
        "colab": {
          "base_uri": "https://localhost:8080/",
          "height": 461
        },
        "id": "6EsV1iS0O1Ec",
        "outputId": "7acf7827-a2d4-4dc5-942b-f58cee5040f6"
      },
      "execution_count": 199,
      "outputs": [
        {
          "output_type": "display_data",
          "data": {
            "text/plain": [
              "<Figure size 504x504 with 1 Axes>"
            ],
            "image/png": "[encoded data removed]"
          },
          "metadata": {}
        }
      ]
    },
    {
      "cell_type": "markdown",
      "source": [
        "Initiate object of ```LogisticRegression``` class and train the model<br>by calling ```gd``` method of the class.<br>\n",
        "Here $\\lambda = 0$ i.e. no regularization"
      ],
      "metadata": {
        "id": "w-gyKM2fSSat"
      }
    },
    {
      "cell_type": "code",
      "source": [
        "log_reg = Logistic_regression()\n",
        "log_reg.gd(x_train, y_train, num_epoches=1000,\n",
        "           reg_rate=0, lr=1e-2)"
      ],
      "metadata": {
        "colab": {
          "base_uri": "https://localhost:8080/"
        },
        "id": "UqcPQXSnO8ld",
        "outputId": "956b5517-3b66-41ba-a063-e6c441a01ae3"
      },
      "execution_count": 200,
      "outputs": [
        {
          "output_type": "execute_result",
          "data": {
            "text/plain": [
              "array([-0.7733238 ,  2.51125487,  2.08256357])"
            ]
          },
          "metadata": {},
          "execution_count": 200
        }
      ]
    },
    {
      "cell_type": "markdown",
      "source": [
        "Plot learning curve<br>\n",
        "Pass the $err\\_all$ member variable of logistric regression class that stores the error by the model in each step."
      ],
      "metadata": {
        "id": "8d0EpqjhUED_"
      }
    },
    {
      "cell_type": "code",
      "source": [
        "def plot_learning_curve(err):\n",
        "    plt.plot(np.arange(len(err)), err, 'r-')\n",
        "    plt.xlabel('Epoches')\n",
        "    plt.ylabel('$J(w)$')"
      ],
      "metadata": {
        "id": "lZedHno8SlKB"
      },
      "execution_count": 201,
      "outputs": []
    },
    {
      "cell_type": "code",
      "source": [
        "plot_learning_curve(log_reg.err_all)"
      ],
      "metadata": {
        "colab": {
          "base_uri": "https://localhost:8080/",
          "height": 304
        },
        "id": "uWi9ilE7UG9b",
        "outputId": "7cdc5f06-72f6-46ca-fb63-18a62221834b"
      },
      "execution_count": 202,
      "outputs": [
        {
          "output_type": "display_data",
          "data": {
            "text/plain": [
              "<Figure size 432x288 with 1 Axes>"
            ],
            "image/png": "[encoded data removed]"
          },
          "metadata": {}
        }
      ]
    },
    {
      "cell_type": "markdown",
      "source": [
        "The weight vectors learnt by a model"
      ],
      "metadata": {
        "id": "8ukOS-3fVNHm"
      }
    },
    {
      "cell_type": "code",
      "source": [
        "print(f'Weights learnt by model:{log_reg.w}')"
      ],
      "metadata": {
        "colab": {
          "base_uri": "https://localhost:8080/"
        },
        "id": "p7QoqQ0FUZve",
        "outputId": "0c2d5314-ee2e-48d2-8a48-092d61e63e0e"
      },
      "execution_count": 203,
      "outputs": [
        {
          "output_type": "stream",
          "name": "stdout",
          "text": [
            "Weights learnt by model:[-0.7733238   2.51125487  2.08256357]\n"
          ]
        }
      ]
    },
    {
      "cell_type": "markdown",
      "source": [
        "Visualize the model"
      ],
      "metadata": {
        "id": "BDrNHqIRWkBf"
      }
    },
    {
      "cell_type": "code",
      "source": [
        "sns.set_context(context='notebook',font_scale=1.5,rc={\"lines.linewidth\":2.5})\n",
        "\n",
        "def visualize_model(X_train, labels, log_reg, degree=1):\n",
        "    f = plt.figure(figsize=(8,8))\n",
        "\n",
        "    x1_min = np.min(x_train[:,1])\n",
        "    x1_max = np.max(x_train[:,1])\n",
        "    x2_min = np.min(x_train[:,2])\n",
        "    x2_max = np.max(x_train[:,2])\n",
        "    \n",
        "    x1_test, x2_test = np.meshgrid(np.linspace(x1_min, x1_max, 100), np.linspace(x2_min, x2_max, 100)) \n",
        "    x_test = np.array([x1_test, x2_test]).reshape(2,-1).T\n",
        "    x_test_poly = polynomial_transform(x_test, degree=degree)\n",
        "    y_test = log_reg.predict(x_test_poly, 0.5)\n",
        "    \n",
        "    sns.scatterplot(data=x_train, x=x_train[:,1], y=x_train[:,2], hue=labels)\n",
        "    plt.contourf(x1_test, x2_test, y_test.reshape(100,100), alpha=0.5, levels=np.linspace(0,1,3))\n",
        "    plt.gca().set_aspect('equal', adjustable='box')"
      ],
      "metadata": {
        "id": "fD7n-knOVVIZ"
      },
      "execution_count": 204,
      "outputs": []
    },
    {
      "cell_type": "code",
      "source": [
        "visualize_model(x_train, y_train, log_reg)"
      ],
      "metadata": {
        "colab": {
          "base_uri": "https://localhost:8080/",
          "height": 454
        },
        "id": "ySFMrnBPWlgr",
        "outputId": "d2a3e1a3-4ddf-4e34-eb82-bd142efb59ba"
      },
      "execution_count": 205,
      "outputs": [
        {
          "output_type": "display_data",
          "data": {
            "text/plain": [
              "<Figure size 576x576 with 1 Axes>"
            ],
            "image/png": "[encoded data removed]"
          },
          "metadata": {}
        }
      ]
    },
    {
      "cell_type": "markdown",
      "source": [
        "Model Evaluation"
      ],
      "metadata": {
        "id": "S8KpYeejtMv_"
      }
    },
    {
      "cell_type": "code",
      "source": [
        "# y_pred\n",
        "y_test_hat = log_reg.predict(x_test)"
      ],
      "metadata": {
        "id": "7s3mRapJsyoC"
      },
      "execution_count": 206,
      "outputs": []
    },
    {
      "cell_type": "code",
      "source": [
        "from sklearn.metrics import classification_report\n",
        "print(classification_report(y_test, y_test_hat, zero_division=0))"
      ],
      "metadata": {
        "colab": {
          "base_uri": "https://localhost:8080/"
        },
        "id": "rsqce-ODtrsz",
        "outputId": "ace07eef-9b61-4de6-b521-0e75631f93d5"
      },
      "execution_count": 207,
      "outputs": [
        {
          "output_type": "stream",
          "name": "stdout",
          "text": [
            "              precision    recall  f1-score   support\n",
            "\n",
            "           0       1.00      0.86      0.92         7\n",
            "           1       0.89      1.00      0.94         8\n",
            "\n",
            "    accuracy                           0.93        15\n",
            "   macro avg       0.94      0.93      0.93        15\n",
            "weighted avg       0.94      0.93      0.93        15\n",
            "\n"
          ]
        }
      ]
    },
    {
      "cell_type": "markdown",
      "source": [
        "### Polynomial Logistic regression for non linear data"
      ],
      "metadata": {
        "id": "mAyWcFmlyPqB"
      }
    },
    {
      "cell_type": "markdown",
      "source": [
        "We will plot a circular decision boundary and apply logistic regression model."
      ],
      "metadata": {
        "id": "l76GmfAtyWR_"
      }
    },
    {
      "cell_type": "code",
      "source": [
        "from sklearn.datasets import make_circles\n",
        "feature_matrix, labels = make_circles()"
      ],
      "metadata": {
        "id": "aSqh3hHbv5W7"
      },
      "execution_count": 208,
      "outputs": []
    },
    {
      "cell_type": "code",
      "source": [
        "feature_matrix[0]"
      ],
      "metadata": {
        "colab": {
          "base_uri": "https://localhost:8080/"
        },
        "id": "n_QoFV2Z0BT2",
        "outputId": "3facb1f1-06f9-4e6d-adf3-32154f3bef36"
      },
      "execution_count": 209,
      "outputs": [
        {
          "output_type": "execute_result",
          "data": {
            "text/plain": [
              "array([0.2472136 , 0.76084521])"
            ]
          },
          "metadata": {},
          "execution_count": 209
        }
      ]
    },
    {
      "cell_type": "markdown",
      "source": [
        "Here we  will use degree 2 polynomial transformation as we already know that the data is circular ans we need degree 2 to separate the data"
      ],
      "metadata": {
        "id": "bb5gX4j6zeEf"
      }
    },
    {
      "cell_type": "code",
      "source": [
        "x_poly = polynomial_transform(feature_matrix, degree=2)"
      ],
      "metadata": {
        "id": "ONTPWSDpy-v5"
      },
      "execution_count": 210,
      "outputs": []
    },
    {
      "cell_type": "code",
      "source": [
        "x_poly[0]"
      ],
      "metadata": {
        "colab": {
          "base_uri": "https://localhost:8080/"
        },
        "id": "yXlMCKda0GlP",
        "outputId": "e38c24df-187e-405f-9c21-8664702a53eb"
      },
      "execution_count": 211,
      "outputs": [
        {
          "output_type": "execute_result",
          "data": {
            "text/plain": [
              "array([1.        , 0.2472136 , 0.76084521, 0.06111456, 0.18809128,\n",
              "       0.57888544])"
            ]
          },
          "metadata": {},
          "execution_count": 211
        }
      ]
    },
    {
      "cell_type": "code",
      "source": [
        "print(f'features before transformation:{feature_matrix.shape[1]}')\n",
        "print(f'features after transformaton:{x_poly.shape[1]}')"
      ],
      "metadata": {
        "colab": {
          "base_uri": "https://localhost:8080/"
        },
        "id": "MsKQF8hFzoLh",
        "outputId": "511325d5-1729-4c1c-d036-4975e702746c"
      },
      "execution_count": 212,
      "outputs": [
        {
          "output_type": "stream",
          "name": "stdout",
          "text": [
            "features before transformation:2\n",
            "features after transformaton:6\n"
          ]
        }
      ]
    },
    {
      "cell_type": "markdown",
      "source": [
        "Split the data "
      ],
      "metadata": {
        "id": "-eTBIBBp0gL6"
      }
    },
    {
      "cell_type": "code",
      "source": [
        "from sklearn.model_selection import train_test_split\n",
        "x_train, x_test, y_train, y_test = train_test_split(x_poly, labels) \n",
        "print(x_train.shape, x_test.shape, y_train.shape, y_test.shape)"
      ],
      "metadata": {
        "colab": {
          "base_uri": "https://localhost:8080/"
        },
        "id": "cLYBVC6c0fm-",
        "outputId": "6a0c8914-e5c2-4d58-96cf-f46041f47974"
      },
      "execution_count": 213,
      "outputs": [
        {
          "output_type": "stream",
          "name": "stdout",
          "text": [
            "(75, 6) (25, 6) (75,) (25,)\n"
          ]
        }
      ]
    },
    {
      "cell_type": "markdown",
      "source": [
        "Visualize the data"
      ],
      "metadata": {
        "id": "NlM4iyxF06Jb"
      }
    },
    {
      "cell_type": "code",
      "source": [
        "sns.set_style(\"white\")\n",
        "f = plt.figure(figsize=(8,8))\n",
        "sns.set_context(context='notebook',font_scale=1.5,rc={\"lines.linewidth\":2.5})\n",
        "sns.scatterplot(data=x_train, x=x_train[:,1], y=x_train[:,2], hue=y_train)"
      ],
      "metadata": {
        "colab": {
          "base_uri": "https://localhost:8080/",
          "height": 510
        },
        "id": "bS3QdpYUz6mP",
        "outputId": "043f640a-6cd4-46ef-d264-195661345a13"
      },
      "execution_count": 214,
      "outputs": [
        {
          "output_type": "execute_result",
          "data": {
            "text/plain": [
              "<matplotlib.axes._subplots.AxesSubplot at 0x7fb0c6f77390>"
            ]
          },
          "metadata": {},
          "execution_count": 214
        },
        {
          "output_type": "display_data",
          "data": {
            "text/plain": [
              "<Figure size 576x576 with 1 Axes>"
            ],
            "image/png": "[encoded data removed]"
          },
          "metadata": {}
        }
      ]
    },
    {
      "cell_type": "code",
      "source": [
        "log_reg_poly = Logistic_regression()\n",
        "log_reg_poly.gd(x_train, y_train, num_epoches=10000, lr=1e-2, reg_rate=0)"
      ],
      "metadata": {
        "colab": {
          "base_uri": "https://localhost:8080/"
        },
        "id": "h5ELqu2o08Oa",
        "outputId": "35802239-76ba-4444-9fe8-362b8e587148"
      },
      "execution_count": 215,
      "outputs": [
        {
          "output_type": "execute_result",
          "data": {
            "text/plain": [
              "array([ 2.02594897e+01,  5.92561811e-03, -1.01916418e-02, -2.45299732e+01,\n",
              "        1.78033202e-01, -2.50267101e+01])"
            ]
          },
          "metadata": {},
          "execution_count": 215
        }
      ]
    },
    {
      "cell_type": "code",
      "source": [
        "# Learning curve\n",
        "plot_learning_curve(log_reg.err_all)"
      ],
      "metadata": {
        "colab": {
          "base_uri": "https://localhost:8080/",
          "height": 304
        },
        "id": "U6-yHdgO1QNe",
        "outputId": "89d61698-269f-4204-a289-f7a32cbea0a0"
      },
      "execution_count": 216,
      "outputs": [
        {
          "output_type": "display_data",
          "data": {
            "text/plain": [
              "<Figure size 432x288 with 1 Axes>"
            ],
            "image/png": "[encoded data removed]"
          },
          "metadata": {}
        }
      ]
    },
    {
      "cell_type": "code",
      "source": [
        "visualize_model(x_train, y_train, log_reg_poly, degree=2)"
      ],
      "metadata": {
        "colab": {
          "base_uri": "https://localhost:8080/",
          "height": 493
        },
        "id": "u9EcfGLY2V6P",
        "outputId": "eee83e9f-9867-4f60-bc2f-4a2ad819956e"
      },
      "execution_count": 217,
      "outputs": [
        {
          "output_type": "display_data",
          "data": {
            "text/plain": [
              "<Figure size 576x576 with 1 Axes>"
            ],
            "image/png": "[encoded data removed]"
          },
          "metadata": {}
        }
      ]
    },
    {
      "cell_type": "code",
      "source": [
        "# Predict\n",
        "y_test_hat = log_reg_poly.predict(x_test)"
      ],
      "metadata": {
        "id": "d5DqPLS62YHe"
      },
      "execution_count": 218,
      "outputs": []
    },
    {
      "cell_type": "code",
      "source": [
        "# using the sklearn to generate the evaluate metrics, rather than using our functions\n",
        "from sklearn.metrics import classification_report\n",
        "print(classification_report(y_test, y_test_hat))"
      ],
      "metadata": {
        "colab": {
          "base_uri": "https://localhost:8080/"
        },
        "id": "cNYTWzL42cLY",
        "outputId": "6ae3e01e-7949-474f-ff82-02003c122168"
      },
      "execution_count": 219,
      "outputs": [
        {
          "output_type": "stream",
          "name": "stdout",
          "text": [
            "              precision    recall  f1-score   support\n",
            "\n",
            "           0       1.00      1.00      1.00        12\n",
            "           1       1.00      1.00      1.00        13\n",
            "\n",
            "    accuracy                           1.00        25\n",
            "   macro avg       1.00      1.00      1.00        25\n",
            "weighted avg       1.00      1.00      1.00        25\n",
            "\n"
          ]
        }
      ]
    },
    {
      "cell_type": "code",
      "source": [
        ""
      ],
      "metadata": {
        "id": "hw2c1SYP2d_B"
      },
      "execution_count": 219,
      "outputs": []
    }
  ]
}
