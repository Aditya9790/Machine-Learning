{
  "nbformat": 4,
  "nbformat_minor": 0,
  "metadata": {
    "colab": {
      "name": "Classification.ipynb",
      "provenance": [],
      "collapsed_sections": [],
      "authorship_tag": "ABX9TyPBz3QNMaQudzD80zT7n19R",
      "include_colab_link": true
    },
    "kernelspec": {
      "name": "python3",
      "display_name": "Python 3"
    },
    "language_info": {
      "name": "python"
    }
  },
  "cells": [
    {
      "cell_type": "markdown",
      "metadata": {
        "id": "view-in-github",
        "colab_type": "text"
      },
      "source": [
        "<a href=\"https://colab.research.google.com/github/Aditya9790/Machine-Learning/blob/main/Classification.ipynb\" target=\"_parent\"><img src=\"https://colab.research.google.com/assets/colab-badge.svg\" alt=\"Open In Colab\"/></a>"
      ]
    },
    {
      "cell_type": "markdown",
      "metadata": {
        "id": "jpXGzIrKcn8o"
      },
      "source": [
        "# Classification -- Binary Logistic Regression\n"
      ]
    },
    {
      "cell_type": "code",
      "metadata": {
        "id": "MSlk8jiTbwPf"
      },
      "source": [
        "import numpy as np\n",
        "import pandas as pd\n",
        "import matplotlib.pyplot as plt\n",
        "import seaborn as sns"
      ],
      "execution_count": null,
      "outputs": []
    },
    {
      "cell_type": "code",
      "metadata": {
        "colab": {
          "base_uri": "https://localhost:8080/"
        },
        "id": "VOWdDZ9Eaycv",
        "outputId": "06874663-4ea2-4452-92b8-eb08b2956094"
      },
      "source": [
        "from google.colab import drive\n",
        "drive.mount('/content/drive')"
      ],
      "execution_count": null,
      "outputs": [
        {
          "output_type": "stream",
          "name": "stdout",
          "text": [
            "Drive already mounted at /content/drive; to attempt to forcibly remount, call drive.mount(\"/content/drive\", force_remount=True).\n"
          ]
        }
      ]
    },
    {
      "cell_type": "code",
      "metadata": {
        "colab": {
          "base_uri": "https://localhost:8080/"
        },
        "id": "7p5xELxufr7e",
        "outputId": "ae5c0bc2-bfb6-4a0e-8fc8-3dc8b6e83a48"
      },
      "source": [
        "credit_data = '/content/drive/MyDrive/Colab Notebooks/German Credit Card.csv'\n",
        "credit_df =  pd.read_csv(credit_data)\n",
        "credit_df.info()"
      ],
      "execution_count": null,
      "outputs": [
        {
          "output_type": "stream",
          "name": "stdout",
          "text": [
            "<class 'pandas.core.frame.DataFrame'>\n",
            "RangeIndex: 1000 entries, 0 to 999\n",
            "Data columns (total 14 columns):\n",
            " #   Column             Non-Null Count  Dtype \n",
            "---  ------             --------------  ----- \n",
            " 0   checkin_acc        1000 non-null   object\n",
            " 1   duration           1000 non-null   int64 \n",
            " 2   credit_history     1000 non-null   object\n",
            " 3   amount             1000 non-null   int64 \n",
            " 4   savings_acc        1000 non-null   object\n",
            " 5   present_emp_since  1000 non-null   object\n",
            " 6   inst_rate          1000 non-null   int64 \n",
            " 7   personal_status    1000 non-null   object\n",
            " 8   residing_since     1000 non-null   int64 \n",
            " 9   age                1000 non-null   int64 \n",
            " 10  inst_plans         1000 non-null   object\n",
            " 11  num_credits        1000 non-null   int64 \n",
            " 12  job                1000 non-null   object\n",
            " 13  status             1000 non-null   int64 \n",
            "dtypes: int64(7), object(7)\n",
            "memory usage: 109.5+ KB\n"
          ]
        }
      ]
    },
    {
      "cell_type": "code",
      "metadata": {
        "colab": {
          "base_uri": "https://localhost:8080/",
          "height": 226
        },
        "id": "tKhkMSj43WIW",
        "outputId": "3651d5c3-25e6-4002-813a-af14bf9cdd0b"
      },
      "source": [
        "credit_df.head()"
      ],
      "execution_count": null,
      "outputs": [
        {
          "output_type": "execute_result",
          "data": {
            "text/html": [
              "<div>\n",
              "<style scoped>\n",
              "    .dataframe tbody tr th:only-of-type {\n",
              "        vertical-align: middle;\n",
              "    }\n",
              "\n",
              "    .dataframe tbody tr th {\n",
              "        vertical-align: top;\n",
              "    }\n",
              "\n",
              "    .dataframe thead th {\n",
              "        text-align: right;\n",
              "    }\n",
              "</style>\n",
              "<table border=\"1\" class=\"dataframe\">\n",
              "  <thead>\n",
              "    <tr style=\"text-align: right;\">\n",
              "      <th></th>\n",
              "      <th>checkin_acc</th>\n",
              "      <th>duration</th>\n",
              "      <th>credit_history</th>\n",
              "      <th>amount</th>\n",
              "      <th>savings_acc</th>\n",
              "      <th>present_emp_since</th>\n",
              "      <th>inst_rate</th>\n",
              "      <th>personal_status</th>\n",
              "      <th>residing_since</th>\n",
              "      <th>age</th>\n",
              "      <th>inst_plans</th>\n",
              "      <th>num_credits</th>\n",
              "      <th>job</th>\n",
              "      <th>status</th>\n",
              "    </tr>\n",
              "  </thead>\n",
              "  <tbody>\n",
              "    <tr>\n",
              "      <th>0</th>\n",
              "      <td>A11</td>\n",
              "      <td>6</td>\n",
              "      <td>A34</td>\n",
              "      <td>1169</td>\n",
              "      <td>A65</td>\n",
              "      <td>A75</td>\n",
              "      <td>4</td>\n",
              "      <td>A93</td>\n",
              "      <td>4</td>\n",
              "      <td>67</td>\n",
              "      <td>A143</td>\n",
              "      <td>2</td>\n",
              "      <td>A173</td>\n",
              "      <td>0</td>\n",
              "    </tr>\n",
              "    <tr>\n",
              "      <th>1</th>\n",
              "      <td>A12</td>\n",
              "      <td>48</td>\n",
              "      <td>A32</td>\n",
              "      <td>5951</td>\n",
              "      <td>A61</td>\n",
              "      <td>A73</td>\n",
              "      <td>2</td>\n",
              "      <td>A92</td>\n",
              "      <td>2</td>\n",
              "      <td>22</td>\n",
              "      <td>A143</td>\n",
              "      <td>1</td>\n",
              "      <td>A173</td>\n",
              "      <td>1</td>\n",
              "    </tr>\n",
              "    <tr>\n",
              "      <th>2</th>\n",
              "      <td>A14</td>\n",
              "      <td>12</td>\n",
              "      <td>A34</td>\n",
              "      <td>2096</td>\n",
              "      <td>A61</td>\n",
              "      <td>A74</td>\n",
              "      <td>2</td>\n",
              "      <td>A93</td>\n",
              "      <td>3</td>\n",
              "      <td>49</td>\n",
              "      <td>A143</td>\n",
              "      <td>1</td>\n",
              "      <td>A172</td>\n",
              "      <td>0</td>\n",
              "    </tr>\n",
              "    <tr>\n",
              "      <th>3</th>\n",
              "      <td>A11</td>\n",
              "      <td>42</td>\n",
              "      <td>A32</td>\n",
              "      <td>7882</td>\n",
              "      <td>A61</td>\n",
              "      <td>A74</td>\n",
              "      <td>2</td>\n",
              "      <td>A93</td>\n",
              "      <td>4</td>\n",
              "      <td>45</td>\n",
              "      <td>A143</td>\n",
              "      <td>1</td>\n",
              "      <td>A173</td>\n",
              "      <td>0</td>\n",
              "    </tr>\n",
              "    <tr>\n",
              "      <th>4</th>\n",
              "      <td>A11</td>\n",
              "      <td>24</td>\n",
              "      <td>A33</td>\n",
              "      <td>4870</td>\n",
              "      <td>A61</td>\n",
              "      <td>A73</td>\n",
              "      <td>3</td>\n",
              "      <td>A93</td>\n",
              "      <td>4</td>\n",
              "      <td>53</td>\n",
              "      <td>A143</td>\n",
              "      <td>2</td>\n",
              "      <td>A173</td>\n",
              "      <td>1</td>\n",
              "    </tr>\n",
              "  </tbody>\n",
              "</table>\n",
              "</div>"
            ],
            "text/plain": [
              "  checkin_acc  duration credit_history  ...  num_credits   job status\n",
              "0         A11         6            A34  ...            2  A173      0\n",
              "1         A12        48            A32  ...            1  A173      1\n",
              "2         A14        12            A34  ...            1  A172      0\n",
              "3         A11        42            A32  ...            1  A173      0\n",
              "4         A11        24            A33  ...            2  A173      1\n",
              "\n",
              "[5 rows x 14 columns]"
            ]
          },
          "metadata": {},
          "execution_count": 114
        }
      ]
    },
    {
      "cell_type": "markdown",
      "metadata": {
        "id": "VxTnL8M5hTfc"
      },
      "source": [
        "1. Credit Status $0$ means Good Credit\n",
        "2. Credit Status $1$ means Bad Credit"
      ]
    },
    {
      "cell_type": "code",
      "metadata": {
        "colab": {
          "base_uri": "https://localhost:8080/"
        },
        "id": "CrGkAid_gCtQ",
        "outputId": "e64232ae-b045-4347-81a6-816371dfaaa3"
      },
      "source": [
        "# Count number of good and Bad credits\n",
        "credit_df.status.value_counts()"
      ],
      "execution_count": null,
      "outputs": [
        {
          "output_type": "execute_result",
          "data": {
            "text/plain": [
              "0    700\n",
              "1    300\n",
              "Name: status, dtype: int64"
            ]
          },
          "metadata": {},
          "execution_count": 91
        }
      ]
    },
    {
      "cell_type": "markdown",
      "metadata": {
        "id": "mtUw3_wwedUB"
      },
      "source": [
        "Use **status** column as **dependent **variable.<br>\n",
        "And other papameters as independent variable."
      ]
    },
    {
      "cell_type": "code",
      "metadata": {
        "id": "0TDZzUR-d_YP"
      },
      "source": [
        "X_features = list(credit_df.columns)\n",
        "X_features.remove('status')"
      ],
      "execution_count": null,
      "outputs": []
    },
    {
      "cell_type": "markdown",
      "metadata": {
        "id": "TgsizGmpe9op"
      },
      "source": [
        "As ML model needs only numerical input to it so we will encode the string parameters"
      ]
    },
    {
      "cell_type": "code",
      "metadata": {
        "colab": {
          "base_uri": "https://localhost:8080/"
        },
        "id": "OHbKXvkDe185",
        "outputId": "04c7d39e-a950-4ede-d402-460af69591b2"
      },
      "source": [
        "encoded_credit_df = pd.get_dummies(credit_df[X_features], drop_first=True)\n",
        "list(encoded_credit_df)"
      ],
      "execution_count": null,
      "outputs": [
        {
          "output_type": "execute_result",
          "data": {
            "text/plain": [
              "['duration',\n",
              " 'amount',\n",
              " 'inst_rate',\n",
              " 'residing_since',\n",
              " 'age',\n",
              " 'num_credits',\n",
              " 'checkin_acc_A12',\n",
              " 'checkin_acc_A13',\n",
              " 'checkin_acc_A14',\n",
              " 'credit_history_A31',\n",
              " 'credit_history_A32',\n",
              " 'credit_history_A33',\n",
              " 'credit_history_A34',\n",
              " 'savings_acc_A62',\n",
              " 'savings_acc_A63',\n",
              " 'savings_acc_A64',\n",
              " 'savings_acc_A65',\n",
              " 'present_emp_since_A72',\n",
              " 'present_emp_since_A73',\n",
              " 'present_emp_since_A74',\n",
              " 'present_emp_since_A75',\n",
              " 'personal_status_A92',\n",
              " 'personal_status_A93',\n",
              " 'personal_status_A94',\n",
              " 'inst_plans_A142',\n",
              " 'inst_plans_A143',\n",
              " 'job_A172',\n",
              " 'job_A173',\n",
              " 'job_A174']"
            ]
          },
          "metadata": {},
          "execution_count": 93
        }
      ]
    },
    {
      "cell_type": "markdown",
      "metadata": {
        "id": "9oeUAUFYgUmg"
      },
      "source": [
        "Add a constant and then build the model"
      ]
    },
    {
      "cell_type": "code",
      "metadata": {
        "id": "AesLjZ_OgUTR"
      },
      "source": [
        "import statsmodels.api as sm\n",
        "\n",
        "Y = credit_df.status\n",
        "X = sm.add_constant(encoded_credit_df)"
      ],
      "execution_count": null,
      "outputs": []
    },
    {
      "cell_type": "markdown",
      "metadata": {
        "id": "p9s_-4amgnjz"
      },
      "source": [
        "# Split the data and Build Model<br>\n"
      ]
    },
    {
      "cell_type": "code",
      "metadata": {
        "colab": {
          "base_uri": "https://localhost:8080/"
        },
        "id": "rDSFaxJ3gOsV",
        "outputId": "a621f334-0233-4733-dfcf-0ff2c1be9443"
      },
      "source": [
        "from sklearn.model_selection import train_test_split\n",
        "X_train, X_test, Y_train, Y_test = train_test_split(X, Y, test_size = 0.2, random_state = 42)\n",
        "\n",
        "# Build Logistic Regression Model using logit function\n",
        "\n",
        "logit = sm.Logit(Y_train, X_train)\n",
        "logit_model = logit.fit()"
      ],
      "execution_count": null,
      "outputs": [
        {
          "output_type": "stream",
          "name": "stdout",
          "text": [
            "Optimization terminated successfully.\n",
            "         Current function value: 0.487477\n",
            "         Iterations 6\n"
          ]
        }
      ]
    },
    {
      "cell_type": "code",
      "metadata": {
        "colab": {
          "base_uri": "https://localhost:8080/",
          "height": 854
        },
        "id": "0xYyKpLYhG_U",
        "outputId": "7bab74d0-7b17-44d2-eb0d-295e5b72a6bc"
      },
      "source": [
        "logit_model.summary2()"
      ],
      "execution_count": null,
      "outputs": [
        {
          "output_type": "execute_result",
          "data": {
            "text/html": [
              "<table class=\"simpletable\">\n",
              "<tr>\n",
              "        <td>Model:</td>              <td>Logit</td>      <td>Pseudo R-squared:</td>    <td>0.203</td>  \n",
              "</tr>\n",
              "<tr>\n",
              "  <td>Dependent Variable:</td>      <td>status</td>            <td>AIC:</td>         <td>839.9640</td> \n",
              "</tr>\n",
              "<tr>\n",
              "         <td>Date:</td>        <td>2021-11-25 20:29</td>       <td>BIC:</td>         <td>980.5023</td> \n",
              "</tr>\n",
              "<tr>\n",
              "   <td>No. Observations:</td>         <td>800</td>        <td>Log-Likelihood:</td>    <td>-389.98</td> \n",
              "</tr>\n",
              "<tr>\n",
              "       <td>Df Model:</td>             <td>29</td>            <td>LL-Null:</td>        <td>-489.54</td> \n",
              "</tr>\n",
              "<tr>\n",
              "     <td>Df Residuals:</td>           <td>770</td>         <td>LLR p-value:</td>    <td>2.7363e-27</td>\n",
              "</tr>\n",
              "<tr>\n",
              "      <td>Converged:</td>           <td>1.0000</td>           <td>Scale:</td>         <td>1.0000</td>  \n",
              "</tr>\n",
              "<tr>\n",
              "    <td>No. Iterations:</td>        <td>6.0000</td>              <td></td>               <td></td>     \n",
              "</tr>\n",
              "</table>\n",
              "<table class=\"simpletable\">\n",
              "<tr>\n",
              "            <td></td>             <th>Coef.</th>  <th>Std.Err.</th>    <th>z</th>     <th>P>|z|</th> <th>[0.025</th>  <th>0.975]</th> \n",
              "</tr>\n",
              "<tr>\n",
              "  <th>const</th>                 <td>0.4147</td>   <td>1.0686</td>  <td>0.3881</td>  <td>0.6980</td> <td>-1.6798</td> <td>2.5091</td> \n",
              "</tr>\n",
              "<tr>\n",
              "  <th>duration</th>              <td>0.0209</td>   <td>0.0098</td>  <td>2.1471</td>  <td>0.0318</td> <td>0.0018</td>  <td>0.0400</td> \n",
              "</tr>\n",
              "<tr>\n",
              "  <th>amount</th>                <td>0.0001</td>   <td>0.0000</td>  <td>2.4913</td>  <td>0.0127</td> <td>0.0000</td>  <td>0.0002</td> \n",
              "</tr>\n",
              "<tr>\n",
              "  <th>inst_rate</th>             <td>0.2790</td>   <td>0.0909</td>  <td>3.0693</td>  <td>0.0021</td> <td>0.1009</td>  <td>0.4572</td> \n",
              "</tr>\n",
              "<tr>\n",
              "  <th>residing_since</th>        <td>0.0968</td>   <td>0.0864</td>  <td>1.1204</td>  <td>0.2625</td> <td>-0.0725</td> <td>0.2661</td> \n",
              "</tr>\n",
              "<tr>\n",
              "  <th>age</th>                   <td>-0.0248</td>  <td>0.0095</td>  <td>-2.6086</td> <td>0.0091</td> <td>-0.0435</td> <td>-0.0062</td>\n",
              "</tr>\n",
              "<tr>\n",
              "  <th>num_credits</th>           <td>0.3341</td>   <td>0.2002</td>  <td>1.6690</td>  <td>0.0951</td> <td>-0.0582</td> <td>0.7265</td> \n",
              "</tr>\n",
              "<tr>\n",
              "  <th>checkin_acc_A12</th>       <td>-0.5050</td>  <td>0.2268</td>  <td>-2.2267</td> <td>0.0260</td> <td>-0.9494</td> <td>-0.0605</td>\n",
              "</tr>\n",
              "<tr>\n",
              "  <th>checkin_acc_A13</th>       <td>-0.9250</td>  <td>0.4089</td>  <td>-2.2622</td> <td>0.0237</td> <td>-1.7264</td> <td>-0.1236</td>\n",
              "</tr>\n",
              "<tr>\n",
              "  <th>checkin_acc_A14</th>       <td>-1.6664</td>  <td>0.2393</td>  <td>-6.9627</td> <td>0.0000</td> <td>-2.1355</td> <td>-1.1973</td>\n",
              "</tr>\n",
              "<tr>\n",
              "  <th>credit_history_A31</th>    <td>-0.0091</td>  <td>0.5619</td>  <td>-0.0161</td> <td>0.9871</td> <td>-1.1104</td> <td>1.0923</td> \n",
              "</tr>\n",
              "<tr>\n",
              "  <th>credit_history_A32</th>    <td>-0.7293</td>  <td>0.4370</td>  <td>-1.6691</td> <td>0.0951</td> <td>-1.5857</td> <td>0.1271</td> \n",
              "</tr>\n",
              "<tr>\n",
              "  <th>credit_history_A33</th>    <td>-0.9458</td>  <td>0.4886</td>  <td>-1.9356</td> <td>0.0529</td> <td>-1.9034</td> <td>0.0119</td> \n",
              "</tr>\n",
              "<tr>\n",
              "  <th>credit_history_A34</th>    <td>-1.5067</td>  <td>0.4463</td>  <td>-3.3755</td> <td>0.0007</td> <td>-2.3815</td> <td>-0.6318</td>\n",
              "</tr>\n",
              "<tr>\n",
              "  <th>savings_acc_A62</th>       <td>0.0602</td>   <td>0.2948</td>  <td>0.2040</td>  <td>0.8383</td> <td>-0.5177</td> <td>0.6380</td> \n",
              "</tr>\n",
              "<tr>\n",
              "  <th>savings_acc_A63</th>       <td>-0.4040</td>  <td>0.4205</td>  <td>-0.9608</td> <td>0.3366</td> <td>-1.2282</td> <td>0.4202</td> \n",
              "</tr>\n",
              "<tr>\n",
              "  <th>savings_acc_A64</th>       <td>-0.9890</td>  <td>0.5429</td>  <td>-1.8217</td> <td>0.0685</td> <td>-2.0532</td> <td>0.0751</td> \n",
              "</tr>\n",
              "<tr>\n",
              "  <th>savings_acc_A65</th>       <td>-0.6094</td>  <td>0.2586</td>  <td>-2.3567</td> <td>0.0184</td> <td>-1.1162</td> <td>-0.1026</td>\n",
              "</tr>\n",
              "<tr>\n",
              "  <th>present_emp_since_A72</th> <td>-0.1383</td>  <td>0.4264</td>  <td>-0.3243</td> <td>0.7457</td> <td>-0.9740</td> <td>0.6975</td> \n",
              "</tr>\n",
              "<tr>\n",
              "  <th>present_emp_since_A73</th> <td>-0.1920</td>  <td>0.4066</td>  <td>-0.4722</td> <td>0.6368</td> <td>-0.9890</td> <td>0.6049</td> \n",
              "</tr>\n",
              "<tr>\n",
              "  <th>present_emp_since_A74</th> <td>-0.6971</td>  <td>0.4404</td>  <td>-1.5829</td> <td>0.1134</td> <td>-1.5603</td> <td>0.1661</td> \n",
              "</tr>\n",
              "<tr>\n",
              "  <th>present_emp_since_A75</th> <td>-0.4318</td>  <td>0.4168</td>  <td>-1.0361</td> <td>0.3001</td> <td>-1.2486</td> <td>0.3850</td> \n",
              "</tr>\n",
              "<tr>\n",
              "  <th>personal_status_A92</th>   <td>-0.2734</td>  <td>0.4412</td>  <td>-0.6197</td> <td>0.5354</td> <td>-1.1381</td> <td>0.5913</td> \n",
              "</tr>\n",
              "<tr>\n",
              "  <th>personal_status_A93</th>   <td>-0.8041</td>  <td>0.4353</td>  <td>-1.8474</td> <td>0.0647</td> <td>-1.6572</td> <td>0.0490</td> \n",
              "</tr>\n",
              "<tr>\n",
              "  <th>personal_status_A94</th>   <td>-0.5169</td>  <td>0.5066</td>  <td>-1.0205</td> <td>0.3075</td> <td>-1.5098</td> <td>0.4759</td> \n",
              "</tr>\n",
              "<tr>\n",
              "  <th>inst_plans_A142</th>       <td>-0.3710</td>  <td>0.4643</td>  <td>-0.7991</td> <td>0.4242</td> <td>-1.2809</td> <td>0.5389</td> \n",
              "</tr>\n",
              "<tr>\n",
              "  <th>inst_plans_A143</th>       <td>-0.6322</td>  <td>0.2591</td>  <td>-2.4404</td> <td>0.0147</td> <td>-1.1400</td> <td>-0.1245</td>\n",
              "</tr>\n",
              "<tr>\n",
              "  <th>job_A172</th>              <td>0.2302</td>   <td>0.7157</td>  <td>0.3217</td>  <td>0.7477</td> <td>-1.1726</td> <td>1.6330</td> \n",
              "</tr>\n",
              "<tr>\n",
              "  <th>job_A173</th>              <td>0.3978</td>   <td>0.6867</td>  <td>0.5793</td>  <td>0.5624</td> <td>-0.9481</td> <td>1.7437</td> \n",
              "</tr>\n",
              "<tr>\n",
              "  <th>job_A174</th>              <td>0.3077</td>   <td>0.6897</td>  <td>0.4461</td>  <td>0.6555</td> <td>-1.0441</td> <td>1.6595</td> \n",
              "</tr>\n",
              "</table>"
            ],
            "text/plain": [
              "<class 'statsmodels.iolib.summary2.Summary'>\n",
              "\"\"\"\n",
              "                           Results: Logit\n",
              "=====================================================================\n",
              "Model:                Logit             Pseudo R-squared:  0.203     \n",
              "Dependent Variable:   status            AIC:               839.9640  \n",
              "Date:                 2021-11-25 20:29  BIC:               980.5023  \n",
              "No. Observations:     800               Log-Likelihood:    -389.98   \n",
              "Df Model:             29                LL-Null:           -489.54   \n",
              "Df Residuals:         770               LLR p-value:       2.7363e-27\n",
              "Converged:            1.0000            Scale:             1.0000    \n",
              "No. Iterations:       6.0000                                         \n",
              "---------------------------------------------------------------------\n",
              "                       Coef.  Std.Err.    z    P>|z|   [0.025  0.975]\n",
              "---------------------------------------------------------------------\n",
              "const                  0.4147   1.0686  0.3881 0.6980 -1.6798  2.5091\n",
              "duration               0.0209   0.0098  2.1471 0.0318  0.0018  0.0400\n",
              "amount                 0.0001   0.0000  2.4913 0.0127  0.0000  0.0002\n",
              "inst_rate              0.2790   0.0909  3.0693 0.0021  0.1009  0.4572\n",
              "residing_since         0.0968   0.0864  1.1204 0.2625 -0.0725  0.2661\n",
              "age                   -0.0248   0.0095 -2.6086 0.0091 -0.0435 -0.0062\n",
              "num_credits            0.3341   0.2002  1.6690 0.0951 -0.0582  0.7265\n",
              "checkin_acc_A12       -0.5050   0.2268 -2.2267 0.0260 -0.9494 -0.0605\n",
              "checkin_acc_A13       -0.9250   0.4089 -2.2622 0.0237 -1.7264 -0.1236\n",
              "checkin_acc_A14       -1.6664   0.2393 -6.9627 0.0000 -2.1355 -1.1973\n",
              "credit_history_A31    -0.0091   0.5619 -0.0161 0.9871 -1.1104  1.0923\n",
              "credit_history_A32    -0.7293   0.4370 -1.6691 0.0951 -1.5857  0.1271\n",
              "credit_history_A33    -0.9458   0.4886 -1.9356 0.0529 -1.9034  0.0119\n",
              "credit_history_A34    -1.5067   0.4463 -3.3755 0.0007 -2.3815 -0.6318\n",
              "savings_acc_A62        0.0602   0.2948  0.2040 0.8383 -0.5177  0.6380\n",
              "savings_acc_A63       -0.4040   0.4205 -0.9608 0.3366 -1.2282  0.4202\n",
              "savings_acc_A64       -0.9890   0.5429 -1.8217 0.0685 -2.0532  0.0751\n",
              "savings_acc_A65       -0.6094   0.2586 -2.3567 0.0184 -1.1162 -0.1026\n",
              "present_emp_since_A72 -0.1383   0.4264 -0.3243 0.7457 -0.9740  0.6975\n",
              "present_emp_since_A73 -0.1920   0.4066 -0.4722 0.6368 -0.9890  0.6049\n",
              "present_emp_since_A74 -0.6971   0.4404 -1.5829 0.1134 -1.5603  0.1661\n",
              "present_emp_since_A75 -0.4318   0.4168 -1.0361 0.3001 -1.2486  0.3850\n",
              "personal_status_A92   -0.2734   0.4412 -0.6197 0.5354 -1.1381  0.5913\n",
              "personal_status_A93   -0.8041   0.4353 -1.8474 0.0647 -1.6572  0.0490\n",
              "personal_status_A94   -0.5169   0.5066 -1.0205 0.3075 -1.5098  0.4759\n",
              "inst_plans_A142       -0.3710   0.4643 -0.7991 0.4242 -1.2809  0.5389\n",
              "inst_plans_A143       -0.6322   0.2591 -2.4404 0.0147 -1.1400 -0.1245\n",
              "job_A172               0.2302   0.7157  0.3217 0.7477 -1.1726  1.6330\n",
              "job_A173               0.3978   0.6867  0.5793 0.5624 -0.9481  1.7437\n",
              "job_A174               0.3077   0.6897  0.4461 0.6555 -1.0441  1.6595\n",
              "=====================================================================\n",
              "\n",
              "\"\"\""
            ]
          },
          "metadata": {},
          "execution_count": 96
        }
      ]
    },
    {
      "cell_type": "markdown",
      "metadata": {
        "id": "CbnI5nxLiGJn"
      },
      "source": [
        "# Validation of Model"
      ]
    },
    {
      "cell_type": "markdown",
      "metadata": {
        "id": "N2Q3yZYyiYEG"
      },
      "source": [
        "Model can be validated by following methods:\n",
        "\n",
        "\n",
        "\n",
        "*   Wald's Test (Chi-Squared Test)\n",
        "*   Likelihood Test\n",
        "*   Pseudo R2 test\n",
        "\n",
        "We will get significant variables which have p-value <0.05\n",
        "\n"
      ]
    },
    {
      "cell_type": "code",
      "metadata": {
        "id": "_QrD7n4hhhB5"
      },
      "source": [
        "def get_significant_var(lm):\n",
        "    var_p_vals_df = pd.DataFrame(lm.pvalues)\n",
        "    var_p_vals_df['vars'] = var_p_vals_df.index\n",
        "    var_p_vals_df.columns = ['pvals','vars']\n",
        "    return list(var_p_vals_df[var_p_vals_df.pvals <= 0.05]['vars'])"
      ],
      "execution_count": null,
      "outputs": []
    },
    {
      "cell_type": "code",
      "metadata": {
        "colab": {
          "base_uri": "https://localhost:8080/"
        },
        "id": "zJnPnJTskI99",
        "outputId": "f9b2a1e4-22e4-42d0-f169-1dce182396fc"
      },
      "source": [
        "significant_vars = get_significant_var(logit_model)\n",
        "significant_vars"
      ],
      "execution_count": null,
      "outputs": [
        {
          "output_type": "execute_result",
          "data": {
            "text/plain": [
              "['duration',\n",
              " 'amount',\n",
              " 'inst_rate',\n",
              " 'age',\n",
              " 'checkin_acc_A12',\n",
              " 'checkin_acc_A13',\n",
              " 'checkin_acc_A14',\n",
              " 'credit_history_A34',\n",
              " 'savings_acc_A65',\n",
              " 'inst_plans_A143']"
            ]
          },
          "metadata": {},
          "execution_count": 98
        }
      ]
    },
    {
      "cell_type": "code",
      "metadata": {
        "colab": {
          "base_uri": "https://localhost:8080/"
        },
        "id": "Wd19cCWhnHzL",
        "outputId": "7350aeb9-0e38-4748-9f39-b21645090521"
      },
      "source": [
        "final_logit = sm.Logit(Y_train, sm.add_constant(X_train[significant_vars]))\n",
        "final_logit_model = final_logit.fit()\n"
      ],
      "execution_count": null,
      "outputs": [
        {
          "output_type": "stream",
          "name": "stdout",
          "text": [
            "Optimization terminated successfully.\n",
            "         Current function value: 0.508299\n",
            "         Iterations 6\n"
          ]
        }
      ]
    },
    {
      "cell_type": "code",
      "metadata": {
        "colab": {
          "base_uri": "https://localhost:8080/",
          "height": 448
        },
        "id": "s8iOGIVYpAle",
        "outputId": "a3d79670-62e7-4991-952d-8f53e840ab65"
      },
      "source": [
        "final_logit_model.summary2()"
      ],
      "execution_count": null,
      "outputs": [
        {
          "output_type": "execute_result",
          "data": {
            "text/html": [
              "<table class=\"simpletable\">\n",
              "<tr>\n",
              "        <td>Model:</td>              <td>Logit</td>      <td>Pseudo R-squared:</td>    <td>0.169</td>  \n",
              "</tr>\n",
              "<tr>\n",
              "  <td>Dependent Variable:</td>      <td>status</td>            <td>AIC:</td>         <td>835.2790</td> \n",
              "</tr>\n",
              "<tr>\n",
              "         <td>Date:</td>        <td>2021-11-25 20:29</td>       <td>BIC:</td>         <td>886.8098</td> \n",
              "</tr>\n",
              "<tr>\n",
              "   <td>No. Observations:</td>         <td>800</td>        <td>Log-Likelihood:</td>    <td>-406.64</td> \n",
              "</tr>\n",
              "<tr>\n",
              "       <td>Df Model:</td>             <td>10</td>            <td>LL-Null:</td>        <td>-489.54</td> \n",
              "</tr>\n",
              "<tr>\n",
              "     <td>Df Residuals:</td>           <td>789</td>         <td>LLR p-value:</td>    <td>2.0595e-30</td>\n",
              "</tr>\n",
              "<tr>\n",
              "      <td>Converged:</td>           <td>1.0000</td>           <td>Scale:</td>         <td>1.0000</td>  \n",
              "</tr>\n",
              "<tr>\n",
              "    <td>No. Iterations:</td>        <td>6.0000</td>              <td></td>               <td></td>     \n",
              "</tr>\n",
              "</table>\n",
              "<table class=\"simpletable\">\n",
              "<tr>\n",
              "           <td></td>           <th>Coef.</th>  <th>Std.Err.</th>    <th>z</th>     <th>P>|z|</th> <th>[0.025</th>  <th>0.975]</th> \n",
              "</tr>\n",
              "<tr>\n",
              "  <th>const</th>              <td>0.1469</td>   <td>0.4697</td>  <td>0.3127</td>  <td>0.7545</td> <td>-0.7737</td> <td>1.0674</td> \n",
              "</tr>\n",
              "<tr>\n",
              "  <th>duration</th>           <td>0.0192</td>   <td>0.0092</td>  <td>2.0820</td>  <td>0.0373</td> <td>0.0011</td>  <td>0.0372</td> \n",
              "</tr>\n",
              "<tr>\n",
              "  <th>amount</th>             <td>0.0001</td>   <td>0.0000</td>  <td>2.5883</td>  <td>0.0096</td> <td>0.0000</td>  <td>0.0002</td> \n",
              "</tr>\n",
              "<tr>\n",
              "  <th>inst_rate</th>          <td>0.2234</td>   <td>0.0852</td>  <td>2.6222</td>  <td>0.0087</td> <td>0.0564</td>  <td>0.3904</td> \n",
              "</tr>\n",
              "<tr>\n",
              "  <th>age</th>                <td>-0.0253</td>  <td>0.0083</td>  <td>-3.0415</td> <td>0.0024</td> <td>-0.0415</td> <td>-0.0090</td>\n",
              "</tr>\n",
              "<tr>\n",
              "  <th>checkin_acc_A12</th>    <td>-0.5159</td>  <td>0.2099</td>  <td>-2.4586</td> <td>0.0139</td> <td>-0.9272</td> <td>-0.1046</td>\n",
              "</tr>\n",
              "<tr>\n",
              "  <th>checkin_acc_A13</th>    <td>-1.0959</td>  <td>0.4012</td>  <td>-2.7314</td> <td>0.0063</td> <td>-1.8822</td> <td>-0.3095</td>\n",
              "</tr>\n",
              "<tr>\n",
              "  <th>checkin_acc_A14</th>    <td>-1.7771</td>  <td>0.2266</td>  <td>-7.8427</td> <td>0.0000</td> <td>-2.2212</td> <td>-1.3330</td>\n",
              "</tr>\n",
              "<tr>\n",
              "  <th>credit_history_A34</th> <td>-0.7168</td>  <td>0.2152</td>  <td>-3.3308</td> <td>0.0009</td> <td>-1.1386</td> <td>-0.2950</td>\n",
              "</tr>\n",
              "<tr>\n",
              "  <th>savings_acc_A65</th>    <td>-0.5830</td>  <td>0.2445</td>  <td>-2.3840</td> <td>0.0171</td> <td>-1.0623</td> <td>-0.1037</td>\n",
              "</tr>\n",
              "<tr>\n",
              "  <th>inst_plans_A143</th>    <td>-0.6132</td>  <td>0.2141</td>  <td>-2.8638</td> <td>0.0042</td> <td>-1.0328</td> <td>-0.1935</td>\n",
              "</tr>\n",
              "</table>"
            ],
            "text/plain": [
              "<class 'statsmodels.iolib.summary2.Summary'>\n",
              "\"\"\"\n",
              "                          Results: Logit\n",
              "==================================================================\n",
              "Model:               Logit            Pseudo R-squared: 0.169     \n",
              "Dependent Variable:  status           AIC:              835.2790  \n",
              "Date:                2021-11-25 20:29 BIC:              886.8098  \n",
              "No. Observations:    800              Log-Likelihood:   -406.64   \n",
              "Df Model:            10               LL-Null:          -489.54   \n",
              "Df Residuals:        789              LLR p-value:      2.0595e-30\n",
              "Converged:           1.0000           Scale:            1.0000    \n",
              "No. Iterations:      6.0000                                       \n",
              "------------------------------------------------------------------\n",
              "                    Coef.  Std.Err.    z    P>|z|   [0.025  0.975]\n",
              "------------------------------------------------------------------\n",
              "const               0.1469   0.4697  0.3127 0.7545 -0.7737  1.0674\n",
              "duration            0.0192   0.0092  2.0820 0.0373  0.0011  0.0372\n",
              "amount              0.0001   0.0000  2.5883 0.0096  0.0000  0.0002\n",
              "inst_rate           0.2234   0.0852  2.6222 0.0087  0.0564  0.3904\n",
              "age                -0.0253   0.0083 -3.0415 0.0024 -0.0415 -0.0090\n",
              "checkin_acc_A12    -0.5159   0.2099 -2.4586 0.0139 -0.9272 -0.1046\n",
              "checkin_acc_A13    -1.0959   0.4012 -2.7314 0.0063 -1.8822 -0.3095\n",
              "checkin_acc_A14    -1.7771   0.2266 -7.8427 0.0000 -2.2212 -1.3330\n",
              "credit_history_A34 -0.7168   0.2152 -3.3308 0.0009 -1.1386 -0.2950\n",
              "savings_acc_A65    -0.5830   0.2445 -2.3840 0.0171 -1.0623 -0.1037\n",
              "inst_plans_A143    -0.6132   0.2141 -2.8638 0.0042 -1.0328 -0.1935\n",
              "==================================================================\n",
              "\n",
              "\"\"\""
            ]
          },
          "metadata": {},
          "execution_count": 100
        }
      ]
    },
    {
      "cell_type": "markdown",
      "metadata": {
        "id": "czK0eXg3pPu0"
      },
      "source": [
        "Some of variables have -ve sign in 0.025 colums.<br>\n",
        "\n",
        "negative value means the value of variable increads and the probability of bad credit decreases.\n"
      ]
    },
    {
      "cell_type": "markdown",
      "metadata": {
        "id": "ptPHskOVqHAI"
      },
      "source": [
        "# Predict Model on test data"
      ]
    },
    {
      "cell_type": "code",
      "metadata": {
        "id": "qAklsUdnpD9i"
      },
      "source": [
        "#Predicting on Test Data\n",
        "y_pred_df = pd.DataFrame({\"actual\": Y_test, \"predicted_prob\": final_logit_model.predict(sm.add_constant(X_test[significant_vars]))})"
      ],
      "execution_count": null,
      "outputs": []
    },
    {
      "cell_type": "code",
      "metadata": {
        "colab": {
          "base_uri": "https://localhost:8080/",
          "height": 363
        },
        "id": "rtUkvBJarmOE",
        "outputId": "2b7fb912-e14a-45bd-b858-dd2bbe3f16da"
      },
      "source": [
        "y_pred_df.sample(10, random_state= 42)"
      ],
      "execution_count": null,
      "outputs": [
        {
          "output_type": "execute_result",
          "data": {
            "text/html": [
              "<div>\n",
              "<style scoped>\n",
              "    .dataframe tbody tr th:only-of-type {\n",
              "        vertical-align: middle;\n",
              "    }\n",
              "\n",
              "    .dataframe tbody tr th {\n",
              "        vertical-align: top;\n",
              "    }\n",
              "\n",
              "    .dataframe thead th {\n",
              "        text-align: right;\n",
              "    }\n",
              "</style>\n",
              "<table border=\"1\" class=\"dataframe\">\n",
              "  <thead>\n",
              "    <tr style=\"text-align: right;\">\n",
              "      <th></th>\n",
              "      <th>actual</th>\n",
              "      <th>predicted_prob</th>\n",
              "    </tr>\n",
              "  </thead>\n",
              "  <tbody>\n",
              "    <tr>\n",
              "      <th>436</th>\n",
              "      <td>0</td>\n",
              "      <td>0.100145</td>\n",
              "    </tr>\n",
              "    <tr>\n",
              "      <th>899</th>\n",
              "      <td>1</td>\n",
              "      <td>0.422363</td>\n",
              "    </tr>\n",
              "    <tr>\n",
              "      <th>346</th>\n",
              "      <td>0</td>\n",
              "      <td>0.259661</td>\n",
              "    </tr>\n",
              "    <tr>\n",
              "      <th>60</th>\n",
              "      <td>0</td>\n",
              "      <td>0.427897</td>\n",
              "    </tr>\n",
              "    <tr>\n",
              "      <th>867</th>\n",
              "      <td>0</td>\n",
              "      <td>0.083752</td>\n",
              "    </tr>\n",
              "    <tr>\n",
              "      <th>432</th>\n",
              "      <td>0</td>\n",
              "      <td>0.290374</td>\n",
              "    </tr>\n",
              "    <tr>\n",
              "      <th>543</th>\n",
              "      <td>1</td>\n",
              "      <td>0.207831</td>\n",
              "    </tr>\n",
              "    <tr>\n",
              "      <th>361</th>\n",
              "      <td>0</td>\n",
              "      <td>0.113314</td>\n",
              "    </tr>\n",
              "    <tr>\n",
              "      <th>486</th>\n",
              "      <td>0</td>\n",
              "      <td>0.071270</td>\n",
              "    </tr>\n",
              "    <tr>\n",
              "      <th>277</th>\n",
              "      <td>0</td>\n",
              "      <td>0.185089</td>\n",
              "    </tr>\n",
              "  </tbody>\n",
              "</table>\n",
              "</div>"
            ],
            "text/plain": [
              "     actual  predicted_prob\n",
              "436       0        0.100145\n",
              "899       1        0.422363\n",
              "346       0        0.259661\n",
              "60        0        0.427897\n",
              "867       0        0.083752\n",
              "432       0        0.290374\n",
              "543       1        0.207831\n",
              "361       0        0.113314\n",
              "486       0        0.071270\n",
              "277       0        0.185089"
            ]
          },
          "metadata": {},
          "execution_count": 102
        }
      ]
    },
    {
      "cell_type": "markdown",
      "metadata": {
        "id": "NoBNqGiwuKgw"
      },
      "source": [
        "Assume a cutoff probability of 0.5<br>\n",
        "\n",
        "Observation with probability >0.5 will be bad credits\n",
        "\n",
        "and Observations with probability < 0.5 will be predicted as good credits"
      ]
    },
    {
      "cell_type": "code",
      "metadata": {
        "colab": {
          "base_uri": "https://localhost:8080/",
          "height": 363
        },
        "id": "co7M3zf9uKO0",
        "outputId": "bea2275a-d45d-4a1e-9b59-64226534c5e9"
      },
      "source": [
        "y_pred_df['predicted'] = y_pred_df.predicted_prob.map(lambda x: 1 if x > 0.5 else 0)\n",
        "y_pred_df.sample(10, random_state=42)"
      ],
      "execution_count": null,
      "outputs": [
        {
          "output_type": "execute_result",
          "data": {
            "text/html": [
              "<div>\n",
              "<style scoped>\n",
              "    .dataframe tbody tr th:only-of-type {\n",
              "        vertical-align: middle;\n",
              "    }\n",
              "\n",
              "    .dataframe tbody tr th {\n",
              "        vertical-align: top;\n",
              "    }\n",
              "\n",
              "    .dataframe thead th {\n",
              "        text-align: right;\n",
              "    }\n",
              "</style>\n",
              "<table border=\"1\" class=\"dataframe\">\n",
              "  <thead>\n",
              "    <tr style=\"text-align: right;\">\n",
              "      <th></th>\n",
              "      <th>actual</th>\n",
              "      <th>predicted_prob</th>\n",
              "      <th>predicted</th>\n",
              "    </tr>\n",
              "  </thead>\n",
              "  <tbody>\n",
              "    <tr>\n",
              "      <th>436</th>\n",
              "      <td>0</td>\n",
              "      <td>0.100145</td>\n",
              "      <td>0</td>\n",
              "    </tr>\n",
              "    <tr>\n",
              "      <th>899</th>\n",
              "      <td>1</td>\n",
              "      <td>0.422363</td>\n",
              "      <td>0</td>\n",
              "    </tr>\n",
              "    <tr>\n",
              "      <th>346</th>\n",
              "      <td>0</td>\n",
              "      <td>0.259661</td>\n",
              "      <td>0</td>\n",
              "    </tr>\n",
              "    <tr>\n",
              "      <th>60</th>\n",
              "      <td>0</td>\n",
              "      <td>0.427897</td>\n",
              "      <td>0</td>\n",
              "    </tr>\n",
              "    <tr>\n",
              "      <th>867</th>\n",
              "      <td>0</td>\n",
              "      <td>0.083752</td>\n",
              "      <td>0</td>\n",
              "    </tr>\n",
              "    <tr>\n",
              "      <th>432</th>\n",
              "      <td>0</td>\n",
              "      <td>0.290374</td>\n",
              "      <td>0</td>\n",
              "    </tr>\n",
              "    <tr>\n",
              "      <th>543</th>\n",
              "      <td>1</td>\n",
              "      <td>0.207831</td>\n",
              "      <td>0</td>\n",
              "    </tr>\n",
              "    <tr>\n",
              "      <th>361</th>\n",
              "      <td>0</td>\n",
              "      <td>0.113314</td>\n",
              "      <td>0</td>\n",
              "    </tr>\n",
              "    <tr>\n",
              "      <th>486</th>\n",
              "      <td>0</td>\n",
              "      <td>0.071270</td>\n",
              "      <td>0</td>\n",
              "    </tr>\n",
              "    <tr>\n",
              "      <th>277</th>\n",
              "      <td>0</td>\n",
              "      <td>0.185089</td>\n",
              "      <td>0</td>\n",
              "    </tr>\n",
              "  </tbody>\n",
              "</table>\n",
              "</div>"
            ],
            "text/plain": [
              "     actual  predicted_prob  predicted\n",
              "436       0        0.100145          0\n",
              "899       1        0.422363          0\n",
              "346       0        0.259661          0\n",
              "60        0        0.427897          0\n",
              "867       0        0.083752          0\n",
              "432       0        0.290374          0\n",
              "543       1        0.207831          0\n",
              "361       0        0.113314          0\n",
              "486       0        0.071270          0\n",
              "277       0        0.185089          0"
            ]
          },
          "metadata": {},
          "execution_count": 103
        }
      ]
    },
    {
      "cell_type": "code",
      "metadata": {
        "id": "ib0qVb38u8_f"
      },
      "source": [
        "#Creating Confusion Matrix \n",
        "\n",
        "from sklearn import metrics\n",
        "def draw_cm(actual, predicted):\n",
        "    cm = metrics.confusion_matrix(actual, predicted)\n",
        "    sns.heatmap(cm, annot=True, fmt ='.2f', xticklabels=[\"Bad Credit\", \"Good Credit\"], yticklabels=[\"Bad Credit\", \"Good Credit\"])\n",
        "    plt.ylabel('True label')\n",
        "    plt.xlabel('Predicted Label')\n",
        "    plt.show()"
      ],
      "execution_count": null,
      "outputs": []
    },
    {
      "cell_type": "code",
      "metadata": {
        "colab": {
          "base_uri": "https://localhost:8080/",
          "height": 279
        },
        "id": "TDC6bE7nwJx1",
        "outputId": "eb877fc0-065f-4c84-ea85-dc77d06ecd6f"
      },
      "source": [
        "draw_cm(y_pred_df.actual, y_pred_df.predicted)"
      ],
      "execution_count": null,
      "outputs": [
        {
          "output_type": "display_data",
          "data": {
            "image/png": "[encoded data removed]",
            "text/plain": [
              "<Figure size 432x288 with 2 Axes>"
            ]
          },
          "metadata": {
            "needs_background": "light"
          }
        }
      ]
    },
    {
      "cell_type": "code",
      "metadata": {
        "colab": {
          "base_uri": "https://localhost:8080/"
        },
        "id": "zf_r9tunwQMM",
        "outputId": "2ab14c37-90ca-4890-b419-4041a5bd92cf"
      },
      "source": [
        "#Sensitivity (Recall/ True Positive Rate), Specificity (True Negative Rate), Precision and F-Score.\n",
        "#Sensitivity  = TP / (TP+FN) predicted class positive given tht actual class is positive\n",
        "#Specificity = TN / (TN+FP) predicted class negative given that actual class is negative\n",
        "#Precision = TP / (TP+FP) actual value is po\n",
        "#F-Score = 2 *Recall*Precision/(Recall + Precision)\n",
        "\n",
        "print(metrics.classification_report(y_pred_df.actual, y_pred_df.predicted))"
      ],
      "execution_count": null,
      "outputs": [
        {
          "output_type": "stream",
          "name": "stdout",
          "text": [
            "              precision    recall  f1-score   support\n",
            "\n",
            "           0       0.81      0.90      0.85       141\n",
            "           1       0.67      0.49      0.57        59\n",
            "\n",
            "    accuracy                           0.78       200\n",
            "   macro avg       0.74      0.70      0.71       200\n",
            "weighted avg       0.77      0.78      0.77       200\n",
            "\n"
          ]
        }
      ]
    },
    {
      "cell_type": "code",
      "metadata": {
        "id": "3cszjb-bxf3L",
        "colab": {
          "base_uri": "https://localhost:8080/",
          "height": 479
        },
        "outputId": "9a0a3c39-b2e3-4173-9b1c-066da15a630c"
      },
      "source": [
        "plt.figure(figsize=(8,6))\n",
        "sns.distplot(y_pred_df[y_pred_df.actual == 1][\"predicted_prob\"], kde = False,color='b', label = 'Bad Credit')\n",
        "\n",
        "sns.distplot(y_pred_df[y_pred_df.actual == 0][\"predicted_prob\"], kde = False,color='g', label = 'Good Credit')\n",
        "\n",
        "plt.legend()\n",
        "plt.show()"
      ],
      "execution_count": null,
      "outputs": [
        {
          "output_type": "stream",
          "name": "stderr",
          "text": [
            "/usr/local/lib/python3.7/dist-packages/seaborn/distributions.py:2619: FutureWarning: `distplot` is a deprecated function and will be removed in a future version. Please adapt your code to use either `displot` (a figure-level function with similar flexibility) or `histplot` (an axes-level function for histograms).\n",
            "  warnings.warn(msg, FutureWarning)\n",
            "/usr/local/lib/python3.7/dist-packages/seaborn/distributions.py:2619: FutureWarning: `distplot` is a deprecated function and will be removed in a future version. Please adapt your code to use either `displot` (a figure-level function with similar flexibility) or `histplot` (an axes-level function for histograms).\n",
            "  warnings.warn(msg, FutureWarning)\n"
          ]
        },
        {
          "output_type": "display_data",
          "data": {
            "image/png": "[encoded data removed]",
            "text/plain": [
              "<Figure size 576x432 with 1 Axes>"
            ]
          },
          "metadata": {
            "needs_background": "light"
          }
        }
      ]
    },
    {
      "cell_type": "markdown",
      "metadata": {
        "id": "9iY2IVFE0Ygx"
      },
      "source": [
        "Larger the overlap larger misclassification"
      ]
    },
    {
      "cell_type": "markdown",
      "metadata": {
        "id": "D00SOh3T0hNO"
      },
      "source": [
        "#Receiver Operating Curve \n",
        "This can be used to understand the performnce of classification model."
      ]
    },
    {
      "cell_type": "code",
      "metadata": {
        "colab": {
          "base_uri": "https://localhost:8080/",
          "height": 388
        },
        "id": "JomhpVfxy_1W",
        "outputId": "59b094cc-de42-4c8c-9b76-d6d2784edc86"
      },
      "source": [
        "#Receiver OPerating Curve - plot between sensitivity(TP rate) on vertical axis and 1- specificity (FP rate) on horizontal axis\n",
        "\n",
        "def draw_roc(actual, probs):\n",
        "    fpr, tpr, thresholds = metrics.roc_curve(actual, probs, drop_intermediate=False)\n",
        "    auc_score = metrics.roc_auc_score(actual,probs) # area under curve\n",
        "    \n",
        "    plt.figure(figsize=(8,6))\n",
        "    plt.plot(fpr,tpr, label = 'ROC curve (area=%0.2f)'% auc_score)\n",
        "    \n",
        "    plt.plot([0,1],[0,1],'k--') # pass class values\n",
        "    plt.xlim = ([0.0, 1.0]) # x, y limit\n",
        "    plt.ylim = ([0.0, 1.05])\n",
        "    \n",
        "    plt.xlabel('False Positive Rate')\n",
        "    plt.ylabel('True Positive Rate')\n",
        "    \n",
        "    plt.legend(loc = \"lower right\")\n",
        "    plt.show()\n",
        "    \n",
        "    return fpr, tpr, thresholds\n",
        "\n",
        "fpr, tpr, thresholds = draw_roc(y_pred_df.actual, y_pred_df.predicted_prob)\n",
        " \n"
      ],
      "execution_count": null,
      "outputs": [
        {
          "output_type": "display_data",
          "data": {
            "image/png": "[encoded data removed]",
            "text/plain": [
              "<Figure size 576x432 with 1 Axes>"
            ]
          },
          "metadata": {
            "needs_background": "light"
          }
        }
      ]
    },
    {
      "cell_type": "markdown",
      "metadata": {
        "id": "_2hrJUxA1_eM"
      },
      "source": [
        "The diagonal line represent a case of not using a model that means no discrimination between positice and negative<br>\n",
        "\n",
        "Line above diagonal line captures how sensitivity and specificity changes when cutoff freq changes.<br>\n",
        "\n",
        "Model with higher area under curve is preferred.\n",
        "Area under curve must be > 0.7"
      ]
    },
    {
      "cell_type": "code",
      "metadata": {
        "colab": {
          "base_uri": "https://localhost:8080/"
        },
        "id": "UNOmJPcH23Mn",
        "outputId": "e0fc9659-0e4e-451c-f4d7-e0e40cc07866"
      },
      "source": [
        "# Area under the curve\n",
        "auc_score = metrics.roc_auc_score(y_pred_df.actual,y_pred_df.predicted_prob)\n",
        "auc_score"
      ],
      "execution_count": null,
      "outputs": [
        {
          "output_type": "execute_result",
          "data": {
            "text/plain": [
              "0.8085106382978724"
            ]
          },
          "metadata": {},
          "execution_count": 113
        }
      ]
    },
    {
      "cell_type": "code",
      "metadata": {
        "id": "wSG2Nq2129o2"
      },
      "source": [
        ""
      ],
      "execution_count": null,
      "outputs": []
    }
  ]
}