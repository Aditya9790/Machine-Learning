{
  "nbformat": 4,
  "nbformat_minor": 0,
  "metadata": {
    "colab": {
      "name": "Sklearn.ipynb",
      "provenance": [],
      "collapsed_sections": [
        "JNvzIkY6zjVz",
        "DC0XeAqWzpHh",
        "oDyD7o28wMd6",
        "qz6USGMmx-g-",
        "JMZueVbE_1aC",
        "e5TF-WoUkRM2",
        "t21o_1lipNq1",
        "TglgSk7mtvg0",
        "MuA9bN8OYBmu",
        "hCAjZDiIz0lV"
      ],
      "authorship_tag": "ABX9TyNd8PKd5RwWYOC2DSAh3mDi"
    },
    "kernelspec": {
      "name": "python3",
      "display_name": "Python 3"
    },
    "language_info": {
      "name": "python"
    }
  },
  "cells": [
    {
      "cell_type": "code",
      "source": [
        "import pandas as pd\n",
        "import numpy as np\n",
        "import matplotlib.pyplot as plt\n",
        "import seaborn as sns\n",
        "# Import Pipeline\n",
        "from sklearn.pipeline import Pipeline\n",
        "#--------------------------------------------------\n",
        "# All model import\n",
        "from sklearn.linear_model import SGDRegressor, LinearRegression\n",
        "from sklearn.model_selection import train_test_split\n",
        "from sklearn.model_selection import cross_validate, cross_val_score\n",
        "#--------------------------------------------------\n",
        "# All Preprocessing modules\n",
        "from sklearn.feature_selection import SelectPercentile\n",
        "from sklearn.impute import SimpleImputer, KNNImputer\n",
        "from sklearn.preprocessing import StandardScaler\n",
        "from sklearn.preprocessing import MinMaxScaler\n",
        "from sklearn.preprocessing import PolynomialFeatures\n",
        "from sklearn.preprocessing import FunctionTransformer\n",
        "#--------------------------------------------------\n",
        "# Metrics\n",
        "from sklearn.metrics import mean_absolute_error\n",
        "from sklearn.metrics import ConfusionMatrixDisplay, confusion_matrix, precision_recall_curve\n",
        "from sklearn.metrics import precision_score, recall_score, classification_report\n",
        "from sklearn.metrics import r2_score"
      ],
      "metadata": {
        "id": "HE4rrlsTztrA"
      },
      "execution_count": 130,
      "outputs": []
    },
    {
      "cell_type": "markdown",
      "source": [
        "# Overview of sklearn"
      ],
      "metadata": {
        "id": "JNvzIkY6zjVz"
      }
    },
    {
      "cell_type": "markdown",
      "source": [
        "Data Transformation Using Scikit-learn<br>\n",
        "https://scikit-learn.org/stable/data_transforms.html"
      ],
      "metadata": {
        "id": "iqx5lyO5IA_x"
      }
    },
    {
      "cell_type": "code",
      "execution_count": null,
      "metadata": {
        "colab": {
          "base_uri": "https://localhost:8080/"
        },
        "id": "H_zWUO7B1LLK",
        "outputId": "527e892b-d5d4-451c-8939-a44dbdae318e"
      },
      "outputs": [
        {
          "output_type": "execute_result",
          "data": {
            "text/plain": [
              "sklearn.utils.Bunch"
            ]
          },
          "metadata": {},
          "execution_count": 52
        }
      ],
      "source": [
        "from sklearn.datasets import load_breast_cancer\n",
        "data = load_breast_cancer()\n",
        "type(data)"
      ]
    },
    {
      "cell_type": "code",
      "source": [
        "data.keys()"
      ],
      "metadata": {
        "colab": {
          "base_uri": "https://localhost:8080/"
        },
        "id": "_7V71QVa2Pdt",
        "outputId": "f3929461-8565-4ef8-c043-8069b63b63a6"
      },
      "execution_count": null,
      "outputs": [
        {
          "output_type": "execute_result",
          "data": {
            "text/plain": [
              "dict_keys(['data', 'target', 'frame', 'target_names', 'DESCR', 'feature_names', 'filename', 'data_module'])"
            ]
          },
          "metadata": {},
          "execution_count": 53
        }
      ]
    },
    {
      "cell_type": "code",
      "source": [
        "# Output variables\n",
        "data.target_names"
      ],
      "metadata": {
        "colab": {
          "base_uri": "https://localhost:8080/"
        },
        "id": "tuUMasfW28-c",
        "outputId": "982d8e3e-a453-4a25-fa88-64988f6ec240"
      },
      "execution_count": null,
      "outputs": [
        {
          "output_type": "execute_result",
          "data": {
            "text/plain": [
              "array(['malignant', 'benign'], dtype='<U9')"
            ]
          },
          "metadata": {},
          "execution_count": 54
        }
      ]
    },
    {
      "cell_type": "code",
      "source": [
        "# name of columns\n",
        "data.feature_names"
      ],
      "metadata": {
        "colab": {
          "base_uri": "https://localhost:8080/"
        },
        "id": "x7v6Oa5K3uBL",
        "outputId": "df99479b-aa29-4e2a-9875-19699e6e155c"
      },
      "execution_count": null,
      "outputs": [
        {
          "output_type": "execute_result",
          "data": {
            "text/plain": [
              "array(['mean radius', 'mean texture', 'mean perimeter', 'mean area',\n",
              "       'mean smoothness', 'mean compactness', 'mean concavity',\n",
              "       'mean concave points', 'mean symmetry', 'mean fractal dimension',\n",
              "       'radius error', 'texture error', 'perimeter error', 'area error',\n",
              "       'smoothness error', 'compactness error', 'concavity error',\n",
              "       'concave points error', 'symmetry error',\n",
              "       'fractal dimension error', 'worst radius', 'worst texture',\n",
              "       'worst perimeter', 'worst area', 'worst smoothness',\n",
              "       'worst compactness', 'worst concavity', 'worst concave points',\n",
              "       'worst symmetry', 'worst fractal dimension'], dtype='<U23')"
            ]
          },
          "metadata": {},
          "execution_count": 55
        }
      ]
    },
    {
      "cell_type": "code",
      "source": [
        "data.data_module"
      ],
      "metadata": {
        "colab": {
          "base_uri": "https://localhost:8080/"
        },
        "id": "GeQmxrmO88NF",
        "outputId": "074b038f-c05c-4c69-f5b7-df2a51545c4d"
      },
      "execution_count": null,
      "outputs": [
        {
          "output_type": "execute_result",
          "data": {
            "text/plain": [
              "'sklearn.datasets.data'"
            ],
            "application/vnd.google.colaboratory.intrinsic+json": {
              "type": "string"
            }
          },
          "metadata": {},
          "execution_count": 56
        }
      ]
    },
    {
      "cell_type": "code",
      "source": [
        "data.filename"
      ],
      "metadata": {
        "colab": {
          "base_uri": "https://localhost:8080/"
        },
        "id": "bG-DKOIi4CoK",
        "outputId": "73201637-29e9-4774-e376-bb9981639348"
      },
      "execution_count": null,
      "outputs": [
        {
          "output_type": "execute_result",
          "data": {
            "text/plain": [
              "'breast_cancer.csv'"
            ],
            "application/vnd.google.colaboratory.intrinsic+json": {
              "type": "string"
            }
          },
          "metadata": {},
          "execution_count": 57
        }
      ]
    },
    {
      "cell_type": "code",
      "source": [
        "df = pd.DataFrame(data.data, columns = data.feature_names)\n",
        "df['target'] = data.target\n",
        "df.head()"
      ],
      "metadata": {
        "colab": {
          "base_uri": "https://localhost:8080/"
        },
        "id": "L6NeA8-x4G2H",
        "outputId": "1ec9aa23-608d-488e-dd74-fc970c4a6f61"
      },
      "execution_count": null,
      "outputs": [
        {
          "output_type": "execute_result",
          "data": {
            "text/plain": [
              "   mean radius  mean texture  mean perimeter  mean area  mean smoothness  \\\n",
              "0        17.99         10.38          122.80     1001.0          0.11840   \n",
              "1        20.57         17.77          132.90     1326.0          0.08474   \n",
              "2        19.69         21.25          130.00     1203.0          0.10960   \n",
              "3        11.42         20.38           77.58      386.1          0.14250   \n",
              "4        20.29         14.34          135.10     1297.0          0.10030   \n",
              "\n",
              "   mean compactness  mean concavity  mean concave points  mean symmetry  \\\n",
              "0           0.27760          0.3001              0.14710         0.2419   \n",
              "1           0.07864          0.0869              0.07017         0.1812   \n",
              "2           0.15990          0.1974              0.12790         0.2069   \n",
              "3           0.28390          0.2414              0.10520         0.2597   \n",
              "4           0.13280          0.1980              0.10430         0.1809   \n",
              "\n",
              "   mean fractal dimension  ...  worst texture  worst perimeter  worst area  \\\n",
              "0                 0.07871  ...          17.33           184.60      2019.0   \n",
              "1                 0.05667  ...          23.41           158.80      1956.0   \n",
              "2                 0.05999  ...          25.53           152.50      1709.0   \n",
              "3                 0.09744  ...          26.50            98.87       567.7   \n",
              "4                 0.05883  ...          16.67           152.20      1575.0   \n",
              "\n",
              "   worst smoothness  worst compactness  worst concavity  worst concave points  \\\n",
              "0            0.1622             0.6656           0.7119                0.2654   \n",
              "1            0.1238             0.1866           0.2416                0.1860   \n",
              "2            0.1444             0.4245           0.4504                0.2430   \n",
              "3            0.2098             0.8663           0.6869                0.2575   \n",
              "4            0.1374             0.2050           0.4000                0.1625   \n",
              "\n",
              "   worst symmetry  worst fractal dimension  target  \n",
              "0          0.4601                  0.11890       0  \n",
              "1          0.2750                  0.08902       0  \n",
              "2          0.3613                  0.08758       0  \n",
              "3          0.6638                  0.17300       0  \n",
              "4          0.2364                  0.07678       0  \n",
              "\n",
              "[5 rows x 31 columns]"
            ],
            "text/html": [
              "\n",
              "  <div id=\"df-64189e13-f9a8-4203-97b3-a14a0a575218\">\n",
              "    <div class=\"colab-df-container\">\n",
              "      <div>\n",
              "<style scoped>\n",
              "    .dataframe tbody tr th:only-of-type {\n",
              "        vertical-align: middle;\n",
              "    }\n",
              "\n",
              "    .dataframe tbody tr th {\n",
              "        vertical-align: top;\n",
              "    }\n",
              "\n",
              "    .dataframe thead th {\n",
              "        text-align: right;\n",
              "    }\n",
              "</style>\n",
              "<table border=\"1\" class=\"dataframe\">\n",
              "  <thead>\n",
              "    <tr style=\"text-align: right;\">\n",
              "      <th></th>\n",
              "      <th>mean radius</th>\n",
              "      <th>mean texture</th>\n",
              "      <th>mean perimeter</th>\n",
              "      <th>mean area</th>\n",
              "      <th>mean smoothness</th>\n",
              "      <th>mean compactness</th>\n",
              "      <th>mean concavity</th>\n",
              "      <th>mean concave points</th>\n",
              "      <th>mean symmetry</th>\n",
              "      <th>mean fractal dimension</th>\n",
              "      <th>...</th>\n",
              "      <th>worst texture</th>\n",
              "      <th>worst perimeter</th>\n",
              "      <th>worst area</th>\n",
              "      <th>worst smoothness</th>\n",
              "      <th>worst compactness</th>\n",
              "      <th>worst concavity</th>\n",
              "      <th>worst concave points</th>\n",
              "      <th>worst symmetry</th>\n",
              "      <th>worst fractal dimension</th>\n",
              "      <th>target</th>\n",
              "    </tr>\n",
              "  </thead>\n",
              "  <tbody>\n",
              "    <tr>\n",
              "      <th>0</th>\n",
              "      <td>17.99</td>\n",
              "      <td>10.38</td>\n",
              "      <td>122.80</td>\n",
              "      <td>1001.0</td>\n",
              "      <td>0.11840</td>\n",
              "      <td>0.27760</td>\n",
              "      <td>0.3001</td>\n",
              "      <td>0.14710</td>\n",
              "      <td>0.2419</td>\n",
              "      <td>0.07871</td>\n",
              "      <td>...</td>\n",
              "      <td>17.33</td>\n",
              "      <td>184.60</td>\n",
              "      <td>2019.0</td>\n",
              "      <td>0.1622</td>\n",
              "      <td>0.6656</td>\n",
              "      <td>0.7119</td>\n",
              "      <td>0.2654</td>\n",
              "      <td>0.4601</td>\n",
              "      <td>0.11890</td>\n",
              "      <td>0</td>\n",
              "    </tr>\n",
              "    <tr>\n",
              "      <th>1</th>\n",
              "      <td>20.57</td>\n",
              "      <td>17.77</td>\n",
              "      <td>132.90</td>\n",
              "      <td>1326.0</td>\n",
              "      <td>0.08474</td>\n",
              "      <td>0.07864</td>\n",
              "      <td>0.0869</td>\n",
              "      <td>0.07017</td>\n",
              "      <td>0.1812</td>\n",
              "      <td>0.05667</td>\n",
              "      <td>...</td>\n",
              "      <td>23.41</td>\n",
              "      <td>158.80</td>\n",
              "      <td>1956.0</td>\n",
              "      <td>0.1238</td>\n",
              "      <td>0.1866</td>\n",
              "      <td>0.2416</td>\n",
              "      <td>0.1860</td>\n",
              "      <td>0.2750</td>\n",
              "      <td>0.08902</td>\n",
              "      <td>0</td>\n",
              "    </tr>\n",
              "    <tr>\n",
              "      <th>2</th>\n",
              "      <td>19.69</td>\n",
              "      <td>21.25</td>\n",
              "      <td>130.00</td>\n",
              "      <td>1203.0</td>\n",
              "      <td>0.10960</td>\n",
              "      <td>0.15990</td>\n",
              "      <td>0.1974</td>\n",
              "      <td>0.12790</td>\n",
              "      <td>0.2069</td>\n",
              "      <td>0.05999</td>\n",
              "      <td>...</td>\n",
              "      <td>25.53</td>\n",
              "      <td>152.50</td>\n",
              "      <td>1709.0</td>\n",
              "      <td>0.1444</td>\n",
              "      <td>0.4245</td>\n",
              "      <td>0.4504</td>\n",
              "      <td>0.2430</td>\n",
              "      <td>0.3613</td>\n",
              "      <td>0.08758</td>\n",
              "      <td>0</td>\n",
              "    </tr>\n",
              "    <tr>\n",
              "      <th>3</th>\n",
              "      <td>11.42</td>\n",
              "      <td>20.38</td>\n",
              "      <td>77.58</td>\n",
              "      <td>386.1</td>\n",
              "      <td>0.14250</td>\n",
              "      <td>0.28390</td>\n",
              "      <td>0.2414</td>\n",
              "      <td>0.10520</td>\n",
              "      <td>0.2597</td>\n",
              "      <td>0.09744</td>\n",
              "      <td>...</td>\n",
              "      <td>26.50</td>\n",
              "      <td>98.87</td>\n",
              "      <td>567.7</td>\n",
              "      <td>0.2098</td>\n",
              "      <td>0.8663</td>\n",
              "      <td>0.6869</td>\n",
              "      <td>0.2575</td>\n",
              "      <td>0.6638</td>\n",
              "      <td>0.17300</td>\n",
              "      <td>0</td>\n",
              "    </tr>\n",
              "    <tr>\n",
              "      <th>4</th>\n",
              "      <td>20.29</td>\n",
              "      <td>14.34</td>\n",
              "      <td>135.10</td>\n",
              "      <td>1297.0</td>\n",
              "      <td>0.10030</td>\n",
              "      <td>0.13280</td>\n",
              "      <td>0.1980</td>\n",
              "      <td>0.10430</td>\n",
              "      <td>0.1809</td>\n",
              "      <td>0.05883</td>\n",
              "      <td>...</td>\n",
              "      <td>16.67</td>\n",
              "      <td>152.20</td>\n",
              "      <td>1575.0</td>\n",
              "      <td>0.1374</td>\n",
              "      <td>0.2050</td>\n",
              "      <td>0.4000</td>\n",
              "      <td>0.1625</td>\n",
              "      <td>0.2364</td>\n",
              "      <td>0.07678</td>\n",
              "      <td>0</td>\n",
              "    </tr>\n",
              "  </tbody>\n",
              "</table>\n",
              "<p>5 rows × 31 columns</p>\n",
              "</div>\n",
              "      <button class=\"colab-df-convert\" onclick=\"convertToInteractive('df-64189e13-f9a8-4203-97b3-a14a0a575218')\"\n",
              "              title=\"Convert this dataframe to an interactive table.\"\n",
              "              style=\"display:none;\">\n",
              "        \n",
              "  <svg xmlns=\"http://www.w3.org/2000/svg\" height=\"24px\"viewBox=\"0 0 24 24\"\n",
              "       width=\"24px\">\n",
              "    <path d=\"M0 0h24v24H0V0z\" fill=\"none\"/>\n",
              "    <path d=\"M18.56 5.44l.94 2.06.94-2.06 2.06-.94-2.06-.94-.94-2.06-.94 2.06-2.06.94zm-11 1L8.5 8.5l.94-2.06 2.06-.94-2.06-.94L8.5 2.5l-.94 2.06-2.06.94zm10 10l.94 2.06.94-2.06 2.06-.94-2.06-.94-.94-2.06-.94 2.06-2.06.94z\"/><path d=\"M17.41 7.96l-1.37-1.37c-.4-.4-.92-.59-1.43-.59-.52 0-1.04.2-1.43.59L10.3 9.45l-7.72 7.72c-.78.78-.78 2.05 0 2.83L4 21.41c.39.39.9.59 1.41.59.51 0 1.02-.2 1.41-.59l7.78-7.78 2.81-2.81c.8-.78.8-2.07 0-2.86zM5.41 20L4 18.59l7.72-7.72 1.47 1.35L5.41 20z\"/>\n",
              "  </svg>\n",
              "      </button>\n",
              "      \n",
              "  <style>\n",
              "    .colab-df-container {\n",
              "      display:flex;\n",
              "      flex-wrap:wrap;\n",
              "      gap: 12px;\n",
              "    }\n",
              "\n",
              "    .colab-df-convert {\n",
              "      background-color: #E8F0FE;\n",
              "      border: none;\n",
              "      border-radius: 50%;\n",
              "      cursor: pointer;\n",
              "      display: none;\n",
              "      fill: #1967D2;\n",
              "      height: 32px;\n",
              "      padding: 0 0 0 0;\n",
              "      width: 32px;\n",
              "    }\n",
              "\n",
              "    .colab-df-convert:hover {\n",
              "      background-color: #E2EBFA;\n",
              "      box-shadow: 0px 1px 2px rgba(60, 64, 67, 0.3), 0px 1px 3px 1px rgba(60, 64, 67, 0.15);\n",
              "      fill: #174EA6;\n",
              "    }\n",
              "\n",
              "    [theme=dark] .colab-df-convert {\n",
              "      background-color: #3B4455;\n",
              "      fill: #D2E3FC;\n",
              "    }\n",
              "\n",
              "    [theme=dark] .colab-df-convert:hover {\n",
              "      background-color: #434B5C;\n",
              "      box-shadow: 0px 1px 3px 1px rgba(0, 0, 0, 0.15);\n",
              "      filter: drop-shadow(0px 1px 2px rgba(0, 0, 0, 0.3));\n",
              "      fill: #FFFFFF;\n",
              "    }\n",
              "  </style>\n",
              "\n",
              "      <script>\n",
              "        const buttonEl =\n",
              "          document.querySelector('#df-64189e13-f9a8-4203-97b3-a14a0a575218 button.colab-df-convert');\n",
              "        buttonEl.style.display =\n",
              "          google.colab.kernel.accessAllowed ? 'block' : 'none';\n",
              "\n",
              "        async function convertToInteractive(key) {\n",
              "          const element = document.querySelector('#df-64189e13-f9a8-4203-97b3-a14a0a575218');\n",
              "          const dataTable =\n",
              "            await google.colab.kernel.invokeFunction('convertToInteractive',\n",
              "                                                     [key], {});\n",
              "          if (!dataTable) return;\n",
              "\n",
              "          const docLinkHtml = 'Like what you see? Visit the ' +\n",
              "            '<a target=\"_blank\" href=https://colab.research.google.com/notebooks/data_table.ipynb>data table notebook</a>'\n",
              "            + ' to learn more about interactive tables.';\n",
              "          element.innerHTML = '';\n",
              "          dataTable['output_type'] = 'display_data';\n",
              "          await google.colab.output.renderOutput(dataTable, element);\n",
              "          const docLink = document.createElement('div');\n",
              "          docLink.innerHTML = docLinkHtml;\n",
              "          element.appendChild(docLink);\n",
              "        }\n",
              "      </script>\n",
              "    </div>\n",
              "  </div>\n",
              "  "
            ]
          },
          "metadata": {},
          "execution_count": 58
        }
      ]
    },
    {
      "cell_type": "code",
      "source": [
        "df.corr(method='pearson')['mean perimeter']['mean radius']"
      ],
      "metadata": {
        "colab": {
          "base_uri": "https://localhost:8080/"
        },
        "id": "cZp492rtAGUc",
        "outputId": "1057b02d-49f4-452f-f056-62b10ecb1ca4"
      },
      "execution_count": null,
      "outputs": [
        {
          "output_type": "execute_result",
          "data": {
            "text/plain": [
              "0.9978552814938109"
            ]
          },
          "metadata": {},
          "execution_count": 59
        }
      ]
    },
    {
      "cell_type": "code",
      "source": [
        "df.shape"
      ],
      "metadata": {
        "colab": {
          "base_uri": "https://localhost:8080/"
        },
        "id": "1gDJ4kVJ4Mdp",
        "outputId": "0e7adbfe-6866-424c-cccc-d271c85bb7af"
      },
      "execution_count": null,
      "outputs": [
        {
          "output_type": "execute_result",
          "data": {
            "text/plain": [
              "(569, 31)"
            ]
          },
          "metadata": {},
          "execution_count": 60
        }
      ]
    },
    {
      "cell_type": "code",
      "source": [
        "# 0 == Begning\n",
        "# 1 = mMlignant\n",
        "begnine = df[df['target'] == 0] # begnine\n",
        "malignant = df[df['target'] == 1] # malignant\n",
        "print(f'Begnine cases : {begnine.shape[0]}')\n",
        "print(f'Malignant cases : {malignant.shape[0]}')"
      ],
      "metadata": {
        "colab": {
          "base_uri": "https://localhost:8080/"
        },
        "id": "QhXMfffp5lC3",
        "outputId": "01e4305b-704d-4635-9de6-880736e9ac2f"
      },
      "execution_count": null,
      "outputs": [
        {
          "output_type": "stream",
          "name": "stdout",
          "text": [
            "Begnine cases : 212\n",
            "Malignant cases : 357\n"
          ]
        }
      ]
    },
    {
      "cell_type": "code",
      "source": [
        "from sklearn.datasets import fetch_california_housing\n",
        "house_data = fetch_california_housing()\n",
        "\n",
        "house_df = pd.DataFrame(house_data.data, columns = house_data.feature_names)\n",
        "house_df.head()"
      ],
      "metadata": {
        "colab": {
          "base_uri": "https://localhost:8080/"
        },
        "id": "b99YiZYK6oJb",
        "outputId": "b6820d27-a1ff-42db-80bb-9f38ca3d57b0"
      },
      "execution_count": null,
      "outputs": [
        {
          "output_type": "execute_result",
          "data": {
            "text/plain": [
              "   MedInc  HouseAge  AveRooms  AveBedrms  Population  AveOccup  Latitude  \\\n",
              "0  8.3252      41.0  6.984127   1.023810       322.0  2.555556     37.88   \n",
              "1  8.3014      21.0  6.238137   0.971880      2401.0  2.109842     37.86   \n",
              "2  7.2574      52.0  8.288136   1.073446       496.0  2.802260     37.85   \n",
              "3  5.6431      52.0  5.817352   1.073059       558.0  2.547945     37.85   \n",
              "4  3.8462      52.0  6.281853   1.081081       565.0  2.181467     37.85   \n",
              "\n",
              "   Longitude  \n",
              "0    -122.23  \n",
              "1    -122.22  \n",
              "2    -122.24  \n",
              "3    -122.25  \n",
              "4    -122.25  "
            ],
            "text/html": [
              "\n",
              "  <div id=\"df-0fd89521-bd5e-4205-98f9-e1add361d866\">\n",
              "    <div class=\"colab-df-container\">\n",
              "      <div>\n",
              "<style scoped>\n",
              "    .dataframe tbody tr th:only-of-type {\n",
              "        vertical-align: middle;\n",
              "    }\n",
              "\n",
              "    .dataframe tbody tr th {\n",
              "        vertical-align: top;\n",
              "    }\n",
              "\n",
              "    .dataframe thead th {\n",
              "        text-align: right;\n",
              "    }\n",
              "</style>\n",
              "<table border=\"1\" class=\"dataframe\">\n",
              "  <thead>\n",
              "    <tr style=\"text-align: right;\">\n",
              "      <th></th>\n",
              "      <th>MedInc</th>\n",
              "      <th>HouseAge</th>\n",
              "      <th>AveRooms</th>\n",
              "      <th>AveBedrms</th>\n",
              "      <th>Population</th>\n",
              "      <th>AveOccup</th>\n",
              "      <th>Latitude</th>\n",
              "      <th>Longitude</th>\n",
              "    </tr>\n",
              "  </thead>\n",
              "  <tbody>\n",
              "    <tr>\n",
              "      <th>0</th>\n",
              "      <td>8.3252</td>\n",
              "      <td>41.0</td>\n",
              "      <td>6.984127</td>\n",
              "      <td>1.023810</td>\n",
              "      <td>322.0</td>\n",
              "      <td>2.555556</td>\n",
              "      <td>37.88</td>\n",
              "      <td>-122.23</td>\n",
              "    </tr>\n",
              "    <tr>\n",
              "      <th>1</th>\n",
              "      <td>8.3014</td>\n",
              "      <td>21.0</td>\n",
              "      <td>6.238137</td>\n",
              "      <td>0.971880</td>\n",
              "      <td>2401.0</td>\n",
              "      <td>2.109842</td>\n",
              "      <td>37.86</td>\n",
              "      <td>-122.22</td>\n",
              "    </tr>\n",
              "    <tr>\n",
              "      <th>2</th>\n",
              "      <td>7.2574</td>\n",
              "      <td>52.0</td>\n",
              "      <td>8.288136</td>\n",
              "      <td>1.073446</td>\n",
              "      <td>496.0</td>\n",
              "      <td>2.802260</td>\n",
              "      <td>37.85</td>\n",
              "      <td>-122.24</td>\n",
              "    </tr>\n",
              "    <tr>\n",
              "      <th>3</th>\n",
              "      <td>5.6431</td>\n",
              "      <td>52.0</td>\n",
              "      <td>5.817352</td>\n",
              "      <td>1.073059</td>\n",
              "      <td>558.0</td>\n",
              "      <td>2.547945</td>\n",
              "      <td>37.85</td>\n",
              "      <td>-122.25</td>\n",
              "    </tr>\n",
              "    <tr>\n",
              "      <th>4</th>\n",
              "      <td>3.8462</td>\n",
              "      <td>52.0</td>\n",
              "      <td>6.281853</td>\n",
              "      <td>1.081081</td>\n",
              "      <td>565.0</td>\n",
              "      <td>2.181467</td>\n",
              "      <td>37.85</td>\n",
              "      <td>-122.25</td>\n",
              "    </tr>\n",
              "  </tbody>\n",
              "</table>\n",
              "</div>\n",
              "      <button class=\"colab-df-convert\" onclick=\"convertToInteractive('df-0fd89521-bd5e-4205-98f9-e1add361d866')\"\n",
              "              title=\"Convert this dataframe to an interactive table.\"\n",
              "              style=\"display:none;\">\n",
              "        \n",
              "  <svg xmlns=\"http://www.w3.org/2000/svg\" height=\"24px\"viewBox=\"0 0 24 24\"\n",
              "       width=\"24px\">\n",
              "    <path d=\"M0 0h24v24H0V0z\" fill=\"none\"/>\n",
              "    <path d=\"M18.56 5.44l.94 2.06.94-2.06 2.06-.94-2.06-.94-.94-2.06-.94 2.06-2.06.94zm-11 1L8.5 8.5l.94-2.06 2.06-.94-2.06-.94L8.5 2.5l-.94 2.06-2.06.94zm10 10l.94 2.06.94-2.06 2.06-.94-2.06-.94-.94-2.06-.94 2.06-2.06.94z\"/><path d=\"M17.41 7.96l-1.37-1.37c-.4-.4-.92-.59-1.43-.59-.52 0-1.04.2-1.43.59L10.3 9.45l-7.72 7.72c-.78.78-.78 2.05 0 2.83L4 21.41c.39.39.9.59 1.41.59.51 0 1.02-.2 1.41-.59l7.78-7.78 2.81-2.81c.8-.78.8-2.07 0-2.86zM5.41 20L4 18.59l7.72-7.72 1.47 1.35L5.41 20z\"/>\n",
              "  </svg>\n",
              "      </button>\n",
              "      \n",
              "  <style>\n",
              "    .colab-df-container {\n",
              "      display:flex;\n",
              "      flex-wrap:wrap;\n",
              "      gap: 12px;\n",
              "    }\n",
              "\n",
              "    .colab-df-convert {\n",
              "      background-color: #E8F0FE;\n",
              "      border: none;\n",
              "      border-radius: 50%;\n",
              "      cursor: pointer;\n",
              "      display: none;\n",
              "      fill: #1967D2;\n",
              "      height: 32px;\n",
              "      padding: 0 0 0 0;\n",
              "      width: 32px;\n",
              "    }\n",
              "\n",
              "    .colab-df-convert:hover {\n",
              "      background-color: #E2EBFA;\n",
              "      box-shadow: 0px 1px 2px rgba(60, 64, 67, 0.3), 0px 1px 3px 1px rgba(60, 64, 67, 0.15);\n",
              "      fill: #174EA6;\n",
              "    }\n",
              "\n",
              "    [theme=dark] .colab-df-convert {\n",
              "      background-color: #3B4455;\n",
              "      fill: #D2E3FC;\n",
              "    }\n",
              "\n",
              "    [theme=dark] .colab-df-convert:hover {\n",
              "      background-color: #434B5C;\n",
              "      box-shadow: 0px 1px 3px 1px rgba(0, 0, 0, 0.15);\n",
              "      filter: drop-shadow(0px 1px 2px rgba(0, 0, 0, 0.3));\n",
              "      fill: #FFFFFF;\n",
              "    }\n",
              "  </style>\n",
              "\n",
              "      <script>\n",
              "        const buttonEl =\n",
              "          document.querySelector('#df-0fd89521-bd5e-4205-98f9-e1add361d866 button.colab-df-convert');\n",
              "        buttonEl.style.display =\n",
              "          google.colab.kernel.accessAllowed ? 'block' : 'none';\n",
              "\n",
              "        async function convertToInteractive(key) {\n",
              "          const element = document.querySelector('#df-0fd89521-bd5e-4205-98f9-e1add361d866');\n",
              "          const dataTable =\n",
              "            await google.colab.kernel.invokeFunction('convertToInteractive',\n",
              "                                                     [key], {});\n",
              "          if (!dataTable) return;\n",
              "\n",
              "          const docLinkHtml = 'Like what you see? Visit the ' +\n",
              "            '<a target=\"_blank\" href=https://colab.research.google.com/notebooks/data_table.ipynb>data table notebook</a>'\n",
              "            + ' to learn more about interactive tables.';\n",
              "          element.innerHTML = '';\n",
              "          dataTable['output_type'] = 'display_data';\n",
              "          await google.colab.output.renderOutput(dataTable, element);\n",
              "          const docLink = document.createElement('div');\n",
              "          docLink.innerHTML = docLinkHtml;\n",
              "          element.appendChild(docLink);\n",
              "        }\n",
              "      </script>\n",
              "    </div>\n",
              "  </div>\n",
              "  "
            ]
          },
          "metadata": {},
          "execution_count": 62
        }
      ]
    },
    {
      "cell_type": "code",
      "source": [
        "house_df.shape"
      ],
      "metadata": {
        "colab": {
          "base_uri": "https://localhost:8080/"
        },
        "id": "665Ln-IE95mp",
        "outputId": "18397391-9867-40df-9f84-582f64bd0f3c"
      },
      "execution_count": null,
      "outputs": [
        {
          "output_type": "execute_result",
          "data": {
            "text/plain": [
              "(20640, 8)"
            ]
          },
          "metadata": {},
          "execution_count": 63
        }
      ]
    },
    {
      "cell_type": "code",
      "source": [
        "house_data.target[:5]"
      ],
      "metadata": {
        "colab": {
          "base_uri": "https://localhost:8080/"
        },
        "id": "XSFOy0dR9_j0",
        "outputId": "71b3f527-7bfb-495f-aa22-56404a2698db"
      },
      "execution_count": null,
      "outputs": [
        {
          "output_type": "execute_result",
          "data": {
            "text/plain": [
              "array([4.526, 3.585, 3.521, 3.413, 3.422])"
            ]
          },
          "metadata": {},
          "execution_count": 64
        }
      ]
    },
    {
      "cell_type": "code",
      "source": [
        "house_data.target_names"
      ],
      "metadata": {
        "colab": {
          "base_uri": "https://localhost:8080/"
        },
        "id": "Mq1Y4Nai-MeO",
        "outputId": "fb570cc0-c4b4-43da-ca13-c10a12d47725"
      },
      "execution_count": null,
      "outputs": [
        {
          "output_type": "execute_result",
          "data": {
            "text/plain": [
              "['MedHouseVal']"
            ]
          },
          "metadata": {},
          "execution_count": 65
        }
      ]
    },
    {
      "cell_type": "code",
      "source": [
        "w1=5\n",
        "w0=6\n",
        "n=200\n",
        "\n",
        "X=10*np.random.rand(n, )\n",
        "\n",
        "y=w0+w1+X+np.random.randn(n, )\n",
        "\n",
        "print(\"Shape of feature matrix\",X.shape)\n",
        "print(\"Shape of label vector\",y.shape)\n",
        "\n",
        "from sklearn.model_selection import train_test_split \n",
        "X_train, X_test, y_train,y_test = train_test_split(X,y, test_size=0.2, random_state=36)\n",
        "\n",
        "print(\"shape of training feature matrix\", X_train.shape)\n",
        "\n",
        "print(\"shape of test feature matrix\",X_test.shape)\n",
        "print(\"shape of training label\",y_train.shape)\n",
        "\n",
        "print(\"shape of test label\",y_test.shape)"
      ],
      "metadata": {
        "id": "arF2_NAo-bBt",
        "colab": {
          "base_uri": "https://localhost:8080/"
        },
        "outputId": "9a8b07e3-8252-460d-8e89-0b83a9a3c14c"
      },
      "execution_count": null,
      "outputs": [
        {
          "output_type": "stream",
          "name": "stdout",
          "text": [
            "Shape of feature matrix (200,)\n",
            "Shape of label vector (200,)\n",
            "shape of training feature matrix (160,)\n",
            "shape of test feature matrix (40,)\n",
            "shape of training label (160,)\n",
            "shape of test label (40,)\n"
          ]
        }
      ]
    },
    {
      "cell_type": "markdown",
      "source": [
        "# EDA using scikit"
      ],
      "metadata": {
        "id": "DC0XeAqWzpHh"
      }
    },
    {
      "cell_type": "markdown",
      "source": [
        "### 1) Feature Extraction\n",
        "\n",
        "1. Dictionary vectorizer : sklearn.feature_extraction has DIctVectorizer()"
      ],
      "metadata": {
        "id": "oDyD7o28wMd6"
      }
    },
    {
      "cell_type": "code",
      "source": [
        "import sklearn.feature_extraction as fextract\n",
        "df = fextract.DictVectorizer(sparse=False)"
      ],
      "metadata": {
        "id": "5dDB3lk63wWr"
      },
      "execution_count": null,
      "outputs": []
    },
    {
      "cell_type": "code",
      "source": [
        "data = [{'age':4, 'height':96.0},\n",
        "        {'age':1, 'height':90.0},\n",
        "        {'age':3, 'height':89.0},\n",
        "        {'age':2, 'height':100.0}]\n",
        "df = fextract.DictVectorizer(sparse=False)\n",
        "transformed_feature = df.fit_transform(data)"
      ],
      "metadata": {
        "id": "Jeja_gCBu4oT"
      },
      "execution_count": null,
      "outputs": []
    },
    {
      "cell_type": "code",
      "source": [
        "transformed_feature"
      ],
      "metadata": {
        "id": "OLR6-Woe3rup",
        "colab": {
          "base_uri": "https://localhost:8080/"
        },
        "outputId": "7cc7c39e-edfa-4163-827a-d0cf7967ca41"
      },
      "execution_count": null,
      "outputs": [
        {
          "output_type": "execute_result",
          "data": {
            "text/plain": [
              "array([[  4.,  96.],\n",
              "       [  1.,  90.],\n",
              "       [  3.,  89.],\n",
              "       [  2., 100.]])"
            ]
          },
          "metadata": {},
          "execution_count": 69
        }
      ]
    },
    {
      "cell_type": "code",
      "source": [
        "from sklearn.impute import SimpleImputer\n",
        "X = np.array([[7, 1], [np.nan, 8], [2, np.nan], [9, 6]])\n",
        "print(f'X is :\\n {X}')\n",
        "imputer = SimpleImputer(strategy='mean')\n",
        "print(f'X after imputing :\\n {imputer.fit_transform(X)}')"
      ],
      "metadata": {
        "colab": {
          "base_uri": "https://localhost:8080/"
        },
        "id": "lFeR63Pr4e9F",
        "outputId": "6fba0d27-47df-465d-c460-b7ab1a6dc696"
      },
      "execution_count": null,
      "outputs": [
        {
          "output_type": "stream",
          "name": "stdout",
          "text": [
            "X is :\n",
            " [[ 7.  1.]\n",
            " [nan  8.]\n",
            " [ 2. nan]\n",
            " [ 9.  6.]]\n",
            "X after imputing :\n",
            " [[7. 1.]\n",
            " [6. 8.]\n",
            " [2. 5.]\n",
            " [9. 6.]]\n"
          ]
        }
      ]
    },
    {
      "cell_type": "code",
      "source": [
        "from sklearn.impute import KNNImputer\n",
        "X = np.array([[1,2,np.nan], [3,4,3], [np.nan, 6, 5], [8, 8, 7]])\n",
        "print(f'X is :\\n {X}')\n",
        "KNN = KNNImputer(n_neighbors=2, weights='uniform')\n",
        "print(f'X after imputing :\\n {KNN.fit_transform(X)}')"
      ],
      "metadata": {
        "colab": {
          "base_uri": "https://localhost:8080/"
        },
        "id": "lU5eQr0G71K-",
        "outputId": "793b4414-5fe2-4d95-8470-ded5bb6ac2ec"
      },
      "execution_count": null,
      "outputs": [
        {
          "output_type": "stream",
          "name": "stdout",
          "text": [
            "X is :\n",
            " [[ 1.  2. nan]\n",
            " [ 3.  4.  3.]\n",
            " [nan  6.  5.]\n",
            " [ 8.  8.  7.]]\n",
            "X after imputing :\n",
            " [[1.  2.  4. ]\n",
            " [3.  4.  3. ]\n",
            " [5.5 6.  5. ]\n",
            " [8.  8.  7. ]]\n"
          ]
        }
      ]
    },
    {
      "cell_type": "code",
      "source": [
        "from pandas.core.common import random_state\n",
        "from sklearn.preprocessing import StandardScaler\n",
        "np.random.seed(0)\n",
        "arr = np.random.randint(100, 200, [5, 1])\n",
        "print(f'Unscaled arr :\\n {arr}')\n",
        "scaler = StandardScaler()\n",
        "print(f'Scaled arr :\\n{scaler.fit_transform(arr)}')"
      ],
      "metadata": {
        "colab": {
          "base_uri": "https://localhost:8080/"
        },
        "id": "nFyn6k62_G82",
        "outputId": "5f8b6a21-a272-49c0-c0d1-f7ac1a10e680"
      },
      "execution_count": null,
      "outputs": [
        {
          "output_type": "stream",
          "name": "stdout",
          "text": [
            "Unscaled arr :\n",
            " [[144]\n",
            " [147]\n",
            " [164]\n",
            " [167]\n",
            " [167]]\n",
            "Scaled arr :\n",
            "[[-1.36001851]\n",
            " [-1.06436231]\n",
            " [ 0.61102281]\n",
            " [ 0.90667901]\n",
            " [ 0.90667901]]\n"
          ]
        }
      ]
    },
    {
      "cell_type": "code",
      "source": [
        "from sklearn.preprocessing import MinMaxScaler\n",
        "np.random.seed(0)\n",
        "arr = np.random.randint(100, 200, [5, 1])\n",
        "print(f'Unscaled arr :\\n {arr}')\n",
        "scaler = MinMaxScaler()\n",
        "print(f'Scaled arr :\\n{scaler.fit_transform(arr)}')"
      ],
      "metadata": {
        "colab": {
          "base_uri": "https://localhost:8080/"
        },
        "id": "hlqMm0ADD93s",
        "outputId": "71915496-ef06-4455-f339-fb5b17eea2ba"
      },
      "execution_count": null,
      "outputs": [
        {
          "output_type": "stream",
          "name": "stdout",
          "text": [
            "Unscaled arr :\n",
            " [[144]\n",
            " [147]\n",
            " [164]\n",
            " [167]\n",
            " [167]]\n",
            "Scaled arr :\n",
            "[[0.        ]\n",
            " [0.13043478]\n",
            " [0.86956522]\n",
            " [1.        ]\n",
            " [1.        ]]\n"
          ]
        }
      ]
    },
    {
      "cell_type": "code",
      "source": [
        "from sklearn.preprocessing import MaxAbsScaler\n",
        "np.random.seed(0)\n",
        "arr = np.random.randint(-100, 200, [5, 1])\n",
        "print(f'Unscaled arr :\\n {arr}')\n",
        "scaler = MaxAbsScaler()\n",
        "print(f'Scaled arr :\\n{scaler.fit_transform(arr)}')"
      ],
      "metadata": {
        "colab": {
          "base_uri": "https://localhost:8080/"
        },
        "id": "VLtx3f4_GVfA",
        "outputId": "90b0d053-6670-4df5-cc9d-09bf60f8be45"
      },
      "execution_count": null,
      "outputs": [
        {
          "output_type": "stream",
          "name": "stdout",
          "text": [
            "Unscaled arr :\n",
            " [[ 72]\n",
            " [-53]\n",
            " [ 17]\n",
            " [ 92]\n",
            " [151]]\n",
            "Scaled arr :\n",
            "[[ 0.47682119]\n",
            " [-0.35099338]\n",
            " [ 0.11258278]\n",
            " [ 0.60927152]\n",
            " [ 1.        ]]\n"
          ]
        }
      ]
    },
    {
      "cell_type": "code",
      "source": [
        "from sklearn.preprocessing import FunctionTransformer\n",
        "np.random.seed(0)\n",
        "arr = np.random.randint(1, 100, [4, 2])\n",
        "print(f'Unscaled arr :\\n {arr}')\n",
        "transform = FunctionTransformer(np.log2)\n",
        "print(f'Scaled arr :\\n{transform.fit_transform(arr)}')"
      ],
      "metadata": {
        "id": "POg3gKdfHckj",
        "colab": {
          "base_uri": "https://localhost:8080/"
        },
        "outputId": "def1d2a4-8fd1-4685-840a-6d558ec8414a"
      },
      "execution_count": null,
      "outputs": [
        {
          "output_type": "stream",
          "name": "stdout",
          "text": [
            "Unscaled arr :\n",
            " [[45 48]\n",
            " [65 68]\n",
            " [68 10]\n",
            " [84 22]]\n",
            "Scaled arr :\n",
            "[[5.4918531  5.5849625 ]\n",
            " [6.02236781 6.08746284]\n",
            " [6.08746284 3.32192809]\n",
            " [6.39231742 4.45943162]]\n"
          ]
        }
      ]
    },
    {
      "cell_type": "code",
      "source": [
        "from sklearn.preprocessing import PolynomialFeatures\n",
        "np.random.seed(0)\n",
        "arr = np.random.randint(1, 100, [1, 2])\n",
        "print(f'Unscaled arr :\\n {arr}')\n",
        "polyfeatures = PolynomialFeatures(degree=2)\n",
        "print(f'Scaled arr :\\n{polyfeatures.fit_transform(arr)}')"
      ],
      "metadata": {
        "colab": {
          "base_uri": "https://localhost:8080/"
        },
        "id": "7-J-1KXr5R_W",
        "outputId": "11914204-dfd0-4605-c8a5-e70caf2a03be"
      },
      "execution_count": null,
      "outputs": [
        {
          "output_type": "stream",
          "name": "stdout",
          "text": [
            "Unscaled arr :\n",
            " [[45 48]]\n",
            "Scaled arr :\n",
            "[[1.000e+00 4.500e+01 4.800e+01 2.025e+03 2.160e+03 2.304e+03]]\n"
          ]
        }
      ]
    },
    {
      "cell_type": "code",
      "source": [
        "from sklearn.preprocessing import KBinsDiscretizer\n",
        "arr = np.array([[0.0], [0.125], [0.25], [0.375], [0.5], [0.675], [0.75], [0.875], [1.0]])\n",
        "print(f'Unscaled arr :\\n {arr}')\n",
        "bins = KBinsDiscretizer(n_bins=5, strategy='uniform', encode='ordinal')\n",
        "print(f'Scaled arr :\\n{bins.fit_transform(arr)}')"
      ],
      "metadata": {
        "colab": {
          "base_uri": "https://localhost:8080/"
        },
        "id": "_egbilry53-v",
        "outputId": "44e45276-d440-473b-c00f-109d57f861f0"
      },
      "execution_count": null,
      "outputs": [
        {
          "output_type": "stream",
          "name": "stdout",
          "text": [
            "Unscaled arr :\n",
            " [[0.   ]\n",
            " [0.125]\n",
            " [0.25 ]\n",
            " [0.375]\n",
            " [0.5  ]\n",
            " [0.675]\n",
            " [0.75 ]\n",
            " [0.875]\n",
            " [1.   ]]\n",
            "Scaled arr :\n",
            "[[0.]\n",
            " [0.]\n",
            " [1.]\n",
            " [1.]\n",
            " [2.]\n",
            " [3.]\n",
            " [3.]\n",
            " [4.]\n",
            " [4.]]\n"
          ]
        }
      ]
    },
    {
      "cell_type": "code",
      "source": [
        "a = np.array([[1], [2], [3]])\n",
        "ft = FunctionTransformer(np.mean)\n",
        "ft.fit_transform(a)"
      ],
      "metadata": {
        "colab": {
          "base_uri": "https://localhost:8080/"
        },
        "id": "KQ3uok4g6fDQ",
        "outputId": "7f16de7e-9944-4fc9-d135-1aa6e1c36493"
      },
      "execution_count": null,
      "outputs": [
        {
          "output_type": "execute_result",
          "data": {
            "text/plain": [
              "2.0"
            ]
          },
          "metadata": {},
          "execution_count": 78
        }
      ]
    },
    {
      "cell_type": "markdown",
      "source": [
        "### Preprocessing"
      ],
      "metadata": {
        "id": "qz6USGMmx-g-"
      }
    },
    {
      "cell_type": "code",
      "source": [
        "from sklearn.preprocessing import PolynomialFeatures\n",
        "import numpy as np\n",
        "import pandas as pd\n",
        "data = pd.read_csv('https://archive.ics.uci.edu/ml/machine-learning-databases/iris/iris.data')\n",
        "data.columns = ['sepal length', 'sepal width', 'petal length', 'petal width','label']\n",
        "data.shape"
      ],
      "metadata": {
        "colab": {
          "base_uri": "https://localhost:8080/"
        },
        "id": "a6CkHZQdx9s8",
        "outputId": "74e22f71-c105-4a0a-a4d4-2df7eb490033"
      },
      "execution_count": null,
      "outputs": [
        {
          "output_type": "execute_result",
          "data": {
            "text/plain": [
              "(149, 5)"
            ]
          },
          "metadata": {},
          "execution_count": 79
        }
      ]
    },
    {
      "cell_type": "code",
      "source": [
        "X = np.array(data[['sepal length', 'sepal width', 'petal length', 'petal width']])"
      ],
      "metadata": {
        "id": "lNa28ZGozreb"
      },
      "execution_count": null,
      "outputs": []
    },
    {
      "cell_type": "code",
      "source": [
        "# Apply polynomial \n",
        "X = np.array(data[['sepal length', 'sepal width', 'petal length', 'petal width']])\n",
        "poly = PolynomialFeatures(degree=2)\n",
        "data_new = poly.fit_transform(X)\n",
        "data_new.shape"
      ],
      "metadata": {
        "colab": {
          "base_uri": "https://localhost:8080/"
        },
        "id": "odhYgtCXzKVj",
        "outputId": "6462d8ee-aa13-4a88-86b0-01a24309fe87"
      },
      "execution_count": null,
      "outputs": [
        {
          "output_type": "execute_result",
          "data": {
            "text/plain": [
              "(149, 15)"
            ]
          },
          "metadata": {},
          "execution_count": 81
        }
      ]
    },
    {
      "cell_type": "markdown",
      "source": [
        "### Categorical Transformations"
      ],
      "metadata": {
        "id": "JMZueVbE_1aC"
      }
    },
    {
      "cell_type": "markdown",
      "source": [
        "**One Hot Encoder**<br>\n",
        "Encodes categorical variables or lables as one-hot array.\n",
        "\n",
        "Only one variable is marked as 1 and rest are 0. A sparse matrix is created."
      ],
      "metadata": {
        "id": "Zlt2bkiUTbvk"
      }
    },
    {
      "cell_type": "code",
      "source": [
        "from sklearn.preprocessing import OneHotEncoder\n",
        "arr = np.array([[1], [3], [1], [2]])\n",
        "print(f'Array before one hot encoding : \\n{arr}')\n",
        "one_hot = OneHotEncoder()\n",
        "one_hot_fit = one_hot.fit_transform(arr).toarray()\n",
        "print(f'Array after one hot encoding : \\n{one_hot_fit}')"
      ],
      "metadata": {
        "colab": {
          "base_uri": "https://localhost:8080/"
        },
        "id": "jpvVU9bO_vOS",
        "outputId": "1182578e-2638-4054-93c7-f74e7e565f7b"
      },
      "execution_count": null,
      "outputs": [
        {
          "output_type": "stream",
          "name": "stdout",
          "text": [
            "Array before one hot encoding : \n",
            "[[1]\n",
            " [3]\n",
            " [1]\n",
            " [2]]\n",
            "Array after one hot encoding : \n",
            "[[1. 0. 0.]\n",
            " [0. 0. 1.]\n",
            " [1. 0. 0.]\n",
            " [0. 1. 0.]]\n"
          ]
        }
      ]
    },
    {
      "cell_type": "markdown",
      "source": [
        "**LabelEncoder**<br>\n",
        "Encodes target with labels with values between 0 and K-1<br>\n",
        "where K is number of distinct values.<br>\n",
        "1 encoded as 0, 2 as 1, 6 as 2 and 8 as 3"
      ],
      "metadata": {
        "id": "QcYo6sqS8FAh"
      }
    },
    {
      "cell_type": "code",
      "source": [
        "from sklearn.preprocessing import LabelEncoder\n",
        "arr = np.array([[1], [2], [6], [1], [8], [6]])\n",
        "print(f'Array before one encoding : \\n{arr}')\n",
        "label = LabelEncoder()\n",
        "print(f'Array after one hot encoding : \\n{label.fit_transform(arr)}')"
      ],
      "metadata": {
        "colab": {
          "base_uri": "https://localhost:8080/"
        },
        "id": "xM27Z54GTows",
        "outputId": "162f681d-1b4f-461a-8a53-2e1a138ea7c3"
      },
      "execution_count": null,
      "outputs": [
        {
          "output_type": "stream",
          "name": "stdout",
          "text": [
            "Array before one encoding : \n",
            "[[1]\n",
            " [2]\n",
            " [6]\n",
            " [1]\n",
            " [8]\n",
            " [6]]\n",
            "Array after one hot encoding : \n",
            "[0 1 2 0 3 2]\n"
          ]
        },
        {
          "output_type": "stream",
          "name": "stderr",
          "text": [
            "/usr/local/lib/python3.7/dist-packages/sklearn/preprocessing/_label.py:115: DataConversionWarning: A column-vector y was passed when a 1d array was expected. Please change the shape of y to (n_samples, ), for example using ravel().\n",
            "  y = column_or_1d(y, warn=True)\n"
          ]
        }
      ]
    },
    {
      "cell_type": "markdown",
      "source": [
        "**Ordinal Encoder**<br>\n",
        "Encodes target with labels with values between 0 and K-1\n",
        "where K is number of distinct values.<br>\n",
        "It can also operate on multidimentional data.\n"
      ],
      "metadata": {
        "id": "6lg9Baco_0Bx"
      }
    },
    {
      "cell_type": "code",
      "source": [
        "from sklearn.preprocessing import OrdinalEncoder\n",
        "arr = np.array([[1, 'male'], [2,'female'], [6, 'female'], [1, 'male'], [8, 'male'], [6, 'female']])\n",
        "print(f'Array before one encoding : \\n{arr}')\n",
        "label = OrdinalEncoder()\n",
        "print(f'Array after one hot encoding : \\n{label.fit_transform(arr)}')"
      ],
      "metadata": {
        "colab": {
          "base_uri": "https://localhost:8080/"
        },
        "id": "wDbwPB4f9FOS",
        "outputId": "8066523c-32c9-45c9-ae4c-4ba59ffa8c58"
      },
      "execution_count": null,
      "outputs": [
        {
          "output_type": "stream",
          "name": "stdout",
          "text": [
            "Array before one encoding : \n",
            "[['1' 'male']\n",
            " ['2' 'female']\n",
            " ['6' 'female']\n",
            " ['1' 'male']\n",
            " ['8' 'male']\n",
            " ['6' 'female']]\n",
            "Array after one hot encoding : \n",
            "[[0. 1.]\n",
            " [1. 0.]\n",
            " [2. 0.]\n",
            " [0. 1.]\n",
            " [3. 1.]\n",
            " [2. 0.]]\n"
          ]
        }
      ]
    },
    {
      "cell_type": "markdown",
      "source": [
        "### Filters\n",
        "1. Filter based\n",
        "2. Wrapper Based\n",
        "\n",
        "Can be accessed by sklearn.feature_selection"
      ],
      "metadata": {
        "id": "e5TF-WoUkRM2"
      }
    },
    {
      "cell_type": "code",
      "source": [
        "# Variance Threshold\n",
        "from sklearn.feature_selection import VarianceThreshold\n",
        "x = np.array([[1,1,1], [1,3,4], [1,2,4]])\n",
        "var = VarianceThreshold()\n",
        "print(x)\n",
        "print(\"After variance threshold applied:\")\n",
        "print(var.fit_transform(x))"
      ],
      "metadata": {
        "id": "K0TrAHWd9uUo",
        "colab": {
          "base_uri": "https://localhost:8080/"
        },
        "outputId": "ecfab5f8-1131-410b-bf09-454cd6974fa6"
      },
      "execution_count": null,
      "outputs": [
        {
          "output_type": "stream",
          "name": "stdout",
          "text": [
            "[[1 1 1]\n",
            " [1 3 4]\n",
            " [1 2 4]]\n",
            "After variance threshold applied:\n",
            "[[1 1]\n",
            " [3 4]\n",
            " [2 4]]\n"
          ]
        }
      ]
    },
    {
      "cell_type": "code",
      "source": [
        "print(f'Variance of column {x[:, 0]} is : {np.var(x[:, 0])}')\n",
        "print(f'Variance of column {x[:, 1]} is : {np.var(x[:, 1])}')\n",
        "print(f'Variance of column {x[:, 2]} is : {np.var(x[:, 2])}')"
      ],
      "metadata": {
        "colab": {
          "base_uri": "https://localhost:8080/"
        },
        "id": "40ss-G15nkBR",
        "outputId": "37e5a219-a287-43b5-bbcc-9176577ae612"
      },
      "execution_count": null,
      "outputs": [
        {
          "output_type": "stream",
          "name": "stdout",
          "text": [
            "Variance of column [1 1 1] is : 0.0\n",
            "Variance of column [1 3 2] is : 0.6666666666666666\n",
            "Variance of column [1 4 4] is : 2.0\n"
          ]
        }
      ]
    },
    {
      "cell_type": "code",
      "source": [
        "# Removes columns/features below a given threshold variance\n",
        "var1 = VarianceThreshold(0.65)\n",
        "var1.fit_transform(x)"
      ],
      "metadata": {
        "colab": {
          "base_uri": "https://localhost:8080/"
        },
        "id": "0qujwLki5-dq",
        "outputId": "23f614ea-137f-4271-b6a2-fa91887501c5"
      },
      "execution_count": null,
      "outputs": [
        {
          "output_type": "execute_result",
          "data": {
            "text/plain": [
              "array([[1, 1],\n",
              "       [3, 4],\n",
              "       [2, 4]])"
            ]
          },
          "metadata": {},
          "execution_count": 87
        }
      ]
    },
    {
      "cell_type": "code",
      "source": [
        "from sklearn.feature_selection import mutual_info_regression\n",
        "from sklearn.datasets import fetch_california_housing\n",
        "X, y = fetch_california_housing(return_X_y=True)\n",
        "print(f'Size of origiinal data: {X.shape}')\n",
        "X_new = SelectPercentile(mutual_info_regression, percentile=10).fit_transform(X, y)\n",
        "print(f'Shape of new data:{X_new.shape}')"
      ],
      "metadata": {
        "colab": {
          "base_uri": "https://localhost:8080/"
        },
        "id": "i-X2OO-iuNsC",
        "outputId": "2a709916-d659-4b0d-dfd9-f74c4d8abbe6"
      },
      "execution_count": null,
      "outputs": [
        {
          "output_type": "stream",
          "name": "stdout",
          "text": [
            "Size of origiinal data: (20640, 8)\n",
            "Shape of new data:(20640, 1)\n"
          ]
        }
      ]
    },
    {
      "cell_type": "markdown",
      "source": [
        "### Column Transformer"
      ],
      "metadata": {
        "id": "t21o_1lipNq1"
      }
    },
    {
      "cell_type": "code",
      "source": [
        "from sklearn.compose import ColumnTransformer\n",
        "X = np.array([[20.0, 'male'], [11.2,'female'], [15.6, 'female'], [13.0, 'male'], [18.6, 'male'], [16.4, 'female']])\n",
        "column_trans = ColumnTransformer(\n",
        "    [('ageScaler', MaxAbsScaler(), [0]),\n",
        "     ('genderEncoder', OneHotEncoder(dtype='int'), [1])],\n",
        "     remainder='drop', verbose_feature_names_out=True)\n",
        "\n",
        "column_trans.fit_transform(X)"
      ],
      "metadata": {
        "id": "-JjFSUSv6qjy",
        "colab": {
          "base_uri": "https://localhost:8080/"
        },
        "outputId": "9e0fb069-2597-4858-da78-8d76f4e886b8"
      },
      "execution_count": null,
      "outputs": [
        {
          "output_type": "execute_result",
          "data": {
            "text/plain": [
              "array([[1.  , 0.  , 1.  ],\n",
              "       [0.56, 1.  , 0.  ],\n",
              "       [0.78, 1.  , 0.  ],\n",
              "       [0.65, 0.  , 1.  ],\n",
              "       [0.93, 0.  , 1.  ],\n",
              "       [0.82, 1.  , 0.  ]])"
            ]
          },
          "metadata": {},
          "execution_count": 89
        }
      ]
    },
    {
      "cell_type": "markdown",
      "source": [
        "### Transforming target Regressor"
      ],
      "metadata": {
        "id": "TglgSk7mtvg0"
      }
    },
    {
      "cell_type": "code",
      "source": [
        "from sklearn.compose import TransformedTargetRegressor\n",
        "from sklearn.linear_model import LinearRegression\n",
        "\n",
        "tt = TransformedTargetRegressor(regressor=LinearRegression(),\n",
        "                                func = np.log, inverse_func=np.exp)\n",
        "\n",
        "X = np.arange(5).reshape(-1, 1)\n",
        "y = np.exp(2*X).reshape(-1)\n",
        "tt.fit(X, y)"
      ],
      "metadata": {
        "colab": {
          "base_uri": "https://localhost:8080/"
        },
        "id": "0lnfEbrLpu2n",
        "outputId": "2d5c822e-be0d-45c2-d9a6-ce5976b82e7f"
      },
      "execution_count": null,
      "outputs": [
        {
          "output_type": "execute_result",
          "data": {
            "text/plain": [
              "TransformedTargetRegressor(func=<ufunc 'log'>, inverse_func=<ufunc 'exp'>,\n",
              "                           regressor=LinearRegression())"
            ]
          },
          "metadata": {},
          "execution_count": 90
        }
      ]
    },
    {
      "cell_type": "code",
      "source": [
        "tt.get_params()"
      ],
      "metadata": {
        "colab": {
          "base_uri": "https://localhost:8080/"
        },
        "id": "Qj4aP5q7uMwS",
        "outputId": "f983d75e-6d63-4802-d8f8-da67cc324123"
      },
      "execution_count": null,
      "outputs": [
        {
          "output_type": "execute_result",
          "data": {
            "text/plain": [
              "{'check_inverse': True,\n",
              " 'func': <ufunc 'log'>,\n",
              " 'inverse_func': <ufunc 'exp'>,\n",
              " 'regressor': LinearRegression(),\n",
              " 'regressor__copy_X': True,\n",
              " 'regressor__fit_intercept': True,\n",
              " 'regressor__n_jobs': None,\n",
              " 'regressor__normalize': 'deprecated',\n",
              " 'regressor__positive': False,\n",
              " 'transformer': None}"
            ]
          },
          "metadata": {},
          "execution_count": 91
        }
      ]
    },
    {
      "cell_type": "markdown",
      "source": [
        "# Linear regression using scikit"
      ],
      "metadata": {
        "id": "hCAjZDiIz0lV"
      }
    },
    {
      "cell_type": "markdown",
      "source": [
        "Model can be trained in two ways:\n",
        "1. Normal Equation method :\n",
        "    - To use normal equation method we import ```LinearRegressiom``` from ```sklearn.linear_model```.\n",
        "2. Iterative optimization : \n",
        "    - To use iterative method like gradient descent we import ```SGDRegressor``` from ```sklearn.linear_model```.\n",
        "\n",
        "Then when we instantiate object of suitable regression estimator we call ```.fit()``` method and pass $X\\_train$ ans $y\\_train$ as parameters."
      ],
      "metadata": {
        "id": "NncuEEp4emor"
      }
    },
    {
      "cell_type": "markdown",
      "source": [
        "<strong>SGDRegressor Estimator</strong><br>\n",
        "- Implements stochastic gradient descent.\n",
        "- Used for training large data.($\\ge 10k $&nbsp;$samples$).\n",
        "- Can control hyperparameters with ease.\n",
        "\n",
        "![image.jpg](https://drive.google.com/uc?export=view&id=1L6cRreEqom-FqDq87H5SGL8TxPiYi2eN)"
      ],
      "metadata": {
        "id": "_FRM9rxogUGv"
      }
    },
    {
      "cell_type": "markdown",
      "source": [
        "![image.png](data:image/png;base64,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)"
      ],
      "metadata": {
        "id": "KM7KjNLgjKY6"
      }
    },
    {
      "cell_type": "markdown",
      "source": [
        "- To shuffle training data in SDG regressor use $\\color{green}{\\text{shuffle=True}}$.\n",
        "- ```learning_rate``` is another paramater that we can tweek.There three types:\n",
        "    - learning_rate = constant\n",
        "    - learning_rate = invscaling\n",
        "    - learning_rate = adaptive<br>\n",
        "The default parameter is - ```learning_rate = 'invscaling'```\n",
        "- For ```invscaling``` we have $eta0=10^{-2}$ and $power\\_t=0.25$ as default parametres and after evert iteration learning rate is decided by :\n",
        "$eta = \\frac{eta0}{t^{i}}$, where i=power_t.<br>\n",
        "This is done to smothen the decrease in weights."
      ],
      "metadata": {
        "id": "qxWk0UDMlRky"
      }
    },
    {
      "cell_type": "code",
      "source": [
        "from sklearn.datasets import fetch_california_housing\n",
        "data = fetch_california_housing()\n",
        "df = pd.DataFrame(data.data, columns = data.feature_names)\n",
        "X = df[data.feature_names]\n",
        "df['target'] = data.target\n",
        "y = data.target\n",
        "df['target'] = y\n",
        "df.head()"
      ],
      "metadata": {
        "colab": {
          "base_uri": "https://localhost:8080/",
          "height": 270
        },
        "id": "Fc0GBr7jhSqk",
        "outputId": "a3715400-b586-46f9-d9ea-131ca3b1b63a"
      },
      "execution_count": null,
      "outputs": [
        {
          "output_type": "execute_result",
          "data": {
            "text/plain": [
              "   MedInc  HouseAge  AveRooms  AveBedrms  Population  AveOccup  Latitude  \\\n",
              "0  8.3252      41.0  6.984127   1.023810       322.0  2.555556     37.88   \n",
              "1  8.3014      21.0  6.238137   0.971880      2401.0  2.109842     37.86   \n",
              "2  7.2574      52.0  8.288136   1.073446       496.0  2.802260     37.85   \n",
              "3  5.6431      52.0  5.817352   1.073059       558.0  2.547945     37.85   \n",
              "4  3.8462      52.0  6.281853   1.081081       565.0  2.181467     37.85   \n",
              "\n",
              "   Longitude  target  \n",
              "0    -122.23   4.526  \n",
              "1    -122.22   3.585  \n",
              "2    -122.24   3.521  \n",
              "3    -122.25   3.413  \n",
              "4    -122.25   3.422  "
            ],
            "text/html": [
              "\n",
              "  <div id=\"df-b80e57a0-188d-4e01-80ee-ccdf0f828d68\">\n",
              "    <div class=\"colab-df-container\">\n",
              "      <div>\n",
              "<style scoped>\n",
              "    .dataframe tbody tr th:only-of-type {\n",
              "        vertical-align: middle;\n",
              "    }\n",
              "\n",
              "    .dataframe tbody tr th {\n",
              "        vertical-align: top;\n",
              "    }\n",
              "\n",
              "    .dataframe thead th {\n",
              "        text-align: right;\n",
              "    }\n",
              "</style>\n",
              "<table border=\"1\" class=\"dataframe\">\n",
              "  <thead>\n",
              "    <tr style=\"text-align: right;\">\n",
              "      <th></th>\n",
              "      <th>MedInc</th>\n",
              "      <th>HouseAge</th>\n",
              "      <th>AveRooms</th>\n",
              "      <th>AveBedrms</th>\n",
              "      <th>Population</th>\n",
              "      <th>AveOccup</th>\n",
              "      <th>Latitude</th>\n",
              "      <th>Longitude</th>\n",
              "      <th>target</th>\n",
              "    </tr>\n",
              "  </thead>\n",
              "  <tbody>\n",
              "    <tr>\n",
              "      <th>0</th>\n",
              "      <td>8.3252</td>\n",
              "      <td>41.0</td>\n",
              "      <td>6.984127</td>\n",
              "      <td>1.023810</td>\n",
              "      <td>322.0</td>\n",
              "      <td>2.555556</td>\n",
              "      <td>37.88</td>\n",
              "      <td>-122.23</td>\n",
              "      <td>4.526</td>\n",
              "    </tr>\n",
              "    <tr>\n",
              "      <th>1</th>\n",
              "      <td>8.3014</td>\n",
              "      <td>21.0</td>\n",
              "      <td>6.238137</td>\n",
              "      <td>0.971880</td>\n",
              "      <td>2401.0</td>\n",
              "      <td>2.109842</td>\n",
              "      <td>37.86</td>\n",
              "      <td>-122.22</td>\n",
              "      <td>3.585</td>\n",
              "    </tr>\n",
              "    <tr>\n",
              "      <th>2</th>\n",
              "      <td>7.2574</td>\n",
              "      <td>52.0</td>\n",
              "      <td>8.288136</td>\n",
              "      <td>1.073446</td>\n",
              "      <td>496.0</td>\n",
              "      <td>2.802260</td>\n",
              "      <td>37.85</td>\n",
              "      <td>-122.24</td>\n",
              "      <td>3.521</td>\n",
              "    </tr>\n",
              "    <tr>\n",
              "      <th>3</th>\n",
              "      <td>5.6431</td>\n",
              "      <td>52.0</td>\n",
              "      <td>5.817352</td>\n",
              "      <td>1.073059</td>\n",
              "      <td>558.0</td>\n",
              "      <td>2.547945</td>\n",
              "      <td>37.85</td>\n",
              "      <td>-122.25</td>\n",
              "      <td>3.413</td>\n",
              "    </tr>\n",
              "    <tr>\n",
              "      <th>4</th>\n",
              "      <td>3.8462</td>\n",
              "      <td>52.0</td>\n",
              "      <td>6.281853</td>\n",
              "      <td>1.081081</td>\n",
              "      <td>565.0</td>\n",
              "      <td>2.181467</td>\n",
              "      <td>37.85</td>\n",
              "      <td>-122.25</td>\n",
              "      <td>3.422</td>\n",
              "    </tr>\n",
              "  </tbody>\n",
              "</table>\n",
              "</div>\n",
              "      <button class=\"colab-df-convert\" onclick=\"convertToInteractive('df-b80e57a0-188d-4e01-80ee-ccdf0f828d68')\"\n",
              "              title=\"Convert this dataframe to an interactive table.\"\n",
              "              style=\"display:none;\">\n",
              "        \n",
              "  <svg xmlns=\"http://www.w3.org/2000/svg\" height=\"24px\"viewBox=\"0 0 24 24\"\n",
              "       width=\"24px\">\n",
              "    <path d=\"M0 0h24v24H0V0z\" fill=\"none\"/>\n",
              "    <path d=\"M18.56 5.44l.94 2.06.94-2.06 2.06-.94-2.06-.94-.94-2.06-.94 2.06-2.06.94zm-11 1L8.5 8.5l.94-2.06 2.06-.94-2.06-.94L8.5 2.5l-.94 2.06-2.06.94zm10 10l.94 2.06.94-2.06 2.06-.94-2.06-.94-.94-2.06-.94 2.06-2.06.94z\"/><path d=\"M17.41 7.96l-1.37-1.37c-.4-.4-.92-.59-1.43-.59-.52 0-1.04.2-1.43.59L10.3 9.45l-7.72 7.72c-.78.78-.78 2.05 0 2.83L4 21.41c.39.39.9.59 1.41.59.51 0 1.02-.2 1.41-.59l7.78-7.78 2.81-2.81c.8-.78.8-2.07 0-2.86zM5.41 20L4 18.59l7.72-7.72 1.47 1.35L5.41 20z\"/>\n",
              "  </svg>\n",
              "      </button>\n",
              "      \n",
              "  <style>\n",
              "    .colab-df-container {\n",
              "      display:flex;\n",
              "      flex-wrap:wrap;\n",
              "      gap: 12px;\n",
              "    }\n",
              "\n",
              "    .colab-df-convert {\n",
              "      background-color: #E8F0FE;\n",
              "      border: none;\n",
              "      border-radius: 50%;\n",
              "      cursor: pointer;\n",
              "      display: none;\n",
              "      fill: #1967D2;\n",
              "      height: 32px;\n",
              "      padding: 0 0 0 0;\n",
              "      width: 32px;\n",
              "    }\n",
              "\n",
              "    .colab-df-convert:hover {\n",
              "      background-color: #E2EBFA;\n",
              "      box-shadow: 0px 1px 2px rgba(60, 64, 67, 0.3), 0px 1px 3px 1px rgba(60, 64, 67, 0.15);\n",
              "      fill: #174EA6;\n",
              "    }\n",
              "\n",
              "    [theme=dark] .colab-df-convert {\n",
              "      background-color: #3B4455;\n",
              "      fill: #D2E3FC;\n",
              "    }\n",
              "\n",
              "    [theme=dark] .colab-df-convert:hover {\n",
              "      background-color: #434B5C;\n",
              "      box-shadow: 0px 1px 3px 1px rgba(0, 0, 0, 0.15);\n",
              "      filter: drop-shadow(0px 1px 2px rgba(0, 0, 0, 0.3));\n",
              "      fill: #FFFFFF;\n",
              "    }\n",
              "  </style>\n",
              "\n",
              "      <script>\n",
              "        const buttonEl =\n",
              "          document.querySelector('#df-b80e57a0-188d-4e01-80ee-ccdf0f828d68 button.colab-df-convert');\n",
              "        buttonEl.style.display =\n",
              "          google.colab.kernel.accessAllowed ? 'block' : 'none';\n",
              "\n",
              "        async function convertToInteractive(key) {\n",
              "          const element = document.querySelector('#df-b80e57a0-188d-4e01-80ee-ccdf0f828d68');\n",
              "          const dataTable =\n",
              "            await google.colab.kernel.invokeFunction('convertToInteractive',\n",
              "                                                     [key], {});\n",
              "          if (!dataTable) return;\n",
              "\n",
              "          const docLinkHtml = 'Like what you see? Visit the ' +\n",
              "            '<a target=\"_blank\" href=https://colab.research.google.com/notebooks/data_table.ipynb>data table notebook</a>'\n",
              "            + ' to learn more about interactive tables.';\n",
              "          element.innerHTML = '';\n",
              "          dataTable['output_type'] = 'display_data';\n",
              "          await google.colab.output.renderOutput(dataTable, element);\n",
              "          const docLink = document.createElement('div');\n",
              "          docLink.innerHTML = docLinkHtml;\n",
              "          element.appendChild(docLink);\n",
              "        }\n",
              "      </script>\n",
              "    </div>\n",
              "  </div>\n",
              "  "
            ]
          },
          "metadata": {},
          "execution_count": 110
        }
      ]
    },
    {
      "cell_type": "code",
      "source": [
        "df.isnull().sum()"
      ],
      "metadata": {
        "colab": {
          "base_uri": "https://localhost:8080/"
        },
        "id": "Xgnue1cf4gtT",
        "outputId": "1b5212d1-42da-40b4-b5bd-df889e3718b9"
      },
      "execution_count": null,
      "outputs": [
        {
          "output_type": "execute_result",
          "data": {
            "text/plain": [
              "MedInc        0\n",
              "HouseAge      0\n",
              "AveRooms      0\n",
              "AveBedrms     0\n",
              "Population    0\n",
              "AveOccup      0\n",
              "Latitude      0\n",
              "Longitude     0\n",
              "target        0\n",
              "dtype: int64"
            ]
          },
          "metadata": {},
          "execution_count": 111
        }
      ]
    },
    {
      "cell_type": "code",
      "source": [
        "X.head(3)"
      ],
      "metadata": {
        "colab": {
          "base_uri": "https://localhost:8080/",
          "height": 207
        },
        "id": "Oxy4-TwpjhNJ",
        "outputId": "b5430f70-4c9e-4953-aaa1-070f934c753f"
      },
      "execution_count": null,
      "outputs": [
        {
          "output_type": "execute_result",
          "data": {
            "text/plain": [
              "   MedInc  HouseAge  AveRooms  AveBedrms  Population  AveOccup  Latitude  \\\n",
              "0  8.3252      41.0  6.984127   1.023810       322.0  2.555556     37.88   \n",
              "1  8.3014      21.0  6.238137   0.971880      2401.0  2.109842     37.86   \n",
              "2  7.2574      52.0  8.288136   1.073446       496.0  2.802260     37.85   \n",
              "\n",
              "   Longitude  \n",
              "0    -122.23  \n",
              "1    -122.22  \n",
              "2    -122.24  "
            ],
            "text/html": [
              "\n",
              "  <div id=\"df-209c42db-6b3e-456c-add3-c7a81900a619\">\n",
              "    <div class=\"colab-df-container\">\n",
              "      <div>\n",
              "<style scoped>\n",
              "    .dataframe tbody tr th:only-of-type {\n",
              "        vertical-align: middle;\n",
              "    }\n",
              "\n",
              "    .dataframe tbody tr th {\n",
              "        vertical-align: top;\n",
              "    }\n",
              "\n",
              "    .dataframe thead th {\n",
              "        text-align: right;\n",
              "    }\n",
              "</style>\n",
              "<table border=\"1\" class=\"dataframe\">\n",
              "  <thead>\n",
              "    <tr style=\"text-align: right;\">\n",
              "      <th></th>\n",
              "      <th>MedInc</th>\n",
              "      <th>HouseAge</th>\n",
              "      <th>AveRooms</th>\n",
              "      <th>AveBedrms</th>\n",
              "      <th>Population</th>\n",
              "      <th>AveOccup</th>\n",
              "      <th>Latitude</th>\n",
              "      <th>Longitude</th>\n",
              "    </tr>\n",
              "  </thead>\n",
              "  <tbody>\n",
              "    <tr>\n",
              "      <th>0</th>\n",
              "      <td>8.3252</td>\n",
              "      <td>41.0</td>\n",
              "      <td>6.984127</td>\n",
              "      <td>1.023810</td>\n",
              "      <td>322.0</td>\n",
              "      <td>2.555556</td>\n",
              "      <td>37.88</td>\n",
              "      <td>-122.23</td>\n",
              "    </tr>\n",
              "    <tr>\n",
              "      <th>1</th>\n",
              "      <td>8.3014</td>\n",
              "      <td>21.0</td>\n",
              "      <td>6.238137</td>\n",
              "      <td>0.971880</td>\n",
              "      <td>2401.0</td>\n",
              "      <td>2.109842</td>\n",
              "      <td>37.86</td>\n",
              "      <td>-122.22</td>\n",
              "    </tr>\n",
              "    <tr>\n",
              "      <th>2</th>\n",
              "      <td>7.2574</td>\n",
              "      <td>52.0</td>\n",
              "      <td>8.288136</td>\n",
              "      <td>1.073446</td>\n",
              "      <td>496.0</td>\n",
              "      <td>2.802260</td>\n",
              "      <td>37.85</td>\n",
              "      <td>-122.24</td>\n",
              "    </tr>\n",
              "  </tbody>\n",
              "</table>\n",
              "</div>\n",
              "      <button class=\"colab-df-convert\" onclick=\"convertToInteractive('df-209c42db-6b3e-456c-add3-c7a81900a619')\"\n",
              "              title=\"Convert this dataframe to an interactive table.\"\n",
              "              style=\"display:none;\">\n",
              "        \n",
              "  <svg xmlns=\"http://www.w3.org/2000/svg\" height=\"24px\"viewBox=\"0 0 24 24\"\n",
              "       width=\"24px\">\n",
              "    <path d=\"M0 0h24v24H0V0z\" fill=\"none\"/>\n",
              "    <path d=\"M18.56 5.44l.94 2.06.94-2.06 2.06-.94-2.06-.94-.94-2.06-.94 2.06-2.06.94zm-11 1L8.5 8.5l.94-2.06 2.06-.94-2.06-.94L8.5 2.5l-.94 2.06-2.06.94zm10 10l.94 2.06.94-2.06 2.06-.94-2.06-.94-.94-2.06-.94 2.06-2.06.94z\"/><path d=\"M17.41 7.96l-1.37-1.37c-.4-.4-.92-.59-1.43-.59-.52 0-1.04.2-1.43.59L10.3 9.45l-7.72 7.72c-.78.78-.78 2.05 0 2.83L4 21.41c.39.39.9.59 1.41.59.51 0 1.02-.2 1.41-.59l7.78-7.78 2.81-2.81c.8-.78.8-2.07 0-2.86zM5.41 20L4 18.59l7.72-7.72 1.47 1.35L5.41 20z\"/>\n",
              "  </svg>\n",
              "      </button>\n",
              "      \n",
              "  <style>\n",
              "    .colab-df-container {\n",
              "      display:flex;\n",
              "      flex-wrap:wrap;\n",
              "      gap: 12px;\n",
              "    }\n",
              "\n",
              "    .colab-df-convert {\n",
              "      background-color: #E8F0FE;\n",
              "      border: none;\n",
              "      border-radius: 50%;\n",
              "      cursor: pointer;\n",
              "      display: none;\n",
              "      fill: #1967D2;\n",
              "      height: 32px;\n",
              "      padding: 0 0 0 0;\n",
              "      width: 32px;\n",
              "    }\n",
              "\n",
              "    .colab-df-convert:hover {\n",
              "      background-color: #E2EBFA;\n",
              "      box-shadow: 0px 1px 2px rgba(60, 64, 67, 0.3), 0px 1px 3px 1px rgba(60, 64, 67, 0.15);\n",
              "      fill: #174EA6;\n",
              "    }\n",
              "\n",
              "    [theme=dark] .colab-df-convert {\n",
              "      background-color: #3B4455;\n",
              "      fill: #D2E3FC;\n",
              "    }\n",
              "\n",
              "    [theme=dark] .colab-df-convert:hover {\n",
              "      background-color: #434B5C;\n",
              "      box-shadow: 0px 1px 3px 1px rgba(0, 0, 0, 0.15);\n",
              "      filter: drop-shadow(0px 1px 2px rgba(0, 0, 0, 0.3));\n",
              "      fill: #FFFFFF;\n",
              "    }\n",
              "  </style>\n",
              "\n",
              "      <script>\n",
              "        const buttonEl =\n",
              "          document.querySelector('#df-209c42db-6b3e-456c-add3-c7a81900a619 button.colab-df-convert');\n",
              "        buttonEl.style.display =\n",
              "          google.colab.kernel.accessAllowed ? 'block' : 'none';\n",
              "\n",
              "        async function convertToInteractive(key) {\n",
              "          const element = document.querySelector('#df-209c42db-6b3e-456c-add3-c7a81900a619');\n",
              "          const dataTable =\n",
              "            await google.colab.kernel.invokeFunction('convertToInteractive',\n",
              "                                                     [key], {});\n",
              "          if (!dataTable) return;\n",
              "\n",
              "          const docLinkHtml = 'Like what you see? Visit the ' +\n",
              "            '<a target=\"_blank\" href=https://colab.research.google.com/notebooks/data_table.ipynb>data table notebook</a>'\n",
              "            + ' to learn more about interactive tables.';\n",
              "          element.innerHTML = '';\n",
              "          dataTable['output_type'] = 'display_data';\n",
              "          await google.colab.output.renderOutput(dataTable, element);\n",
              "          const docLink = document.createElement('div');\n",
              "          docLink.innerHTML = docLinkHtml;\n",
              "          element.appendChild(docLink);\n",
              "        }\n",
              "      </script>\n",
              "    </div>\n",
              "  </div>\n",
              "  "
            ]
          },
          "metadata": {},
          "execution_count": 112
        }
      ]
    },
    {
      "cell_type": "code",
      "source": [
        "X_train, X_test, y_train, y_test = train_test_split(X, y, random_state=0, shuffle=False, test_size=0.2)"
      ],
      "metadata": {
        "id": "eqnIv90wipTR"
      },
      "execution_count": null,
      "outputs": []
    },
    {
      "cell_type": "code",
      "source": [
        "print(X_train.shape)\n",
        "print(y_train.shape)\n",
        "print(X_test.shape)\n",
        "print(y_test.shape)\n"
      ],
      "metadata": {
        "colab": {
          "base_uri": "https://localhost:8080/"
        },
        "id": "OCJtUbT1l35s",
        "outputId": "1ec60530-36a5-4f70-92d2-c6d01962a616"
      },
      "execution_count": null,
      "outputs": [
        {
          "output_type": "stream",
          "name": "stdout",
          "text": [
            "(16512, 8)\n",
            "(16512,)\n",
            "(4128, 8)\n",
            "(4128,)\n"
          ]
        }
      ]
    },
    {
      "cell_type": "code",
      "source": [
        "regression_pipeline = Pipeline([('scaler', StandardScaler()),\n",
        "                                 ('linear_reg', LinearRegression())])\n",
        "\n",
        "regression_pipeline.fit(X_train, y_train)\n",
        "\n",
        "y_pred = regression_pipeline.predict(X_test)\n",
        "\n",
        "print(\"R2 score:\", regression_pipeline.score(X_test, y_test))\n",
        "print(\"\\nMean abs error\", mean_absolute_error(y_test, y_pred))\n",
        "\n",
        "# Cross validation\n",
        "from sklearn.model_selection import cross_val_score\n",
        "\n",
        "score = cross_val_score(regression_pipeline[-1], X, y, cv=5)\n",
        "print(score)"
      ],
      "metadata": {
        "colab": {
          "base_uri": "https://localhost:8080/"
        },
        "id": "ei1E0mpy63j_",
        "outputId": "88e1f04a-2924-4eb9-e3ee-bd50d9071907"
      },
      "execution_count": null,
      "outputs": [
        {
          "output_type": "stream",
          "name": "stdout",
          "text": [
            "R2 score: 0.6605140591531992\n",
            "\n",
            "Mean abs error 0.5168526993787042\n",
            "[0.54866323 0.46820691 0.55078434 0.53698703 0.66051406]\n"
          ]
        }
      ]
    },
    {
      "cell_type": "code",
      "source": [
        "reg = Pipeline([\n",
        "                ('scaler', StandardScaler()),\n",
        "                ('sgd', SGDRegressor(loss='squared_error',\n",
        "                                     max_iter=1000,\n",
        "                                     early_stopping=True,\n",
        "                                     tol=1e-3,\n",
        "                                     n_iter_no_change=10,\n",
        "                                     average=True))\n",
        "                ])\n",
        "\n",
        "reg.fit(X_train, y_train)\n",
        "y_pred = reg.predict(X_test)\n",
        "print(f'coefficients : {reg[-1].coef_}')\n",
        "\n",
        "print(\"\\nR2 score:\", reg.score(X_test, y_test))\n",
        "\n",
        "print(\"\\nMean abs error\", mean_absolute_error(y_test, y_pred))\n"
      ],
      "metadata": {
        "id": "2q7RX8gmqk6c"
      },
      "execution_count": null,
      "outputs": []
    },
    {
      "cell_type": "code",
      "source": [
        "# Setting stopping criterion\n",
        "linear_regressor = SGDRegressor(loss='squared_error', \n",
        "                                max_iter = 500,\n",
        "                                tol = 1e-3,\n",
        "                                n_iter_no_change=5, \n",
        "                                learning_rate = 'adaptive',\n",
        "                                eta0 = 1e-2)\n",
        "\n",
        "# The program stops when there is no change in loss by 0.001\n",
        "# after 5 iterations.\n",
        "pipe = Pipeline([('scaler', StandardScaler()),\n",
        "                 ('sgd', SGDRegressor(loss='squared_error', \n",
        "                                max_iter = 500,\n",
        "                                tol = 1e-3,\n",
        "                                n_iter_no_change=5, \n",
        "                                learning_rate = 'adaptive',\n",
        "                                eta0 = 1e-2))])"
      ],
      "metadata": {
        "id": "or06IvY7RX9g"
      },
      "execution_count": null,
      "outputs": []
    },
    {
      "cell_type": "markdown",
      "source": [
        "To know number of iterations and number of weight updates"
      ],
      "metadata": {
        "id": "0JnGRtYHz9Z-"
      }
    },
    {
      "cell_type": "code",
      "source": [
        "eta0 = 1e-3\n",
        "sgd_pipeline = Pipeline([('feature_scaling', StandardScaler()),\n",
        "                         ('SGD', SGDRegressor(max_iter=1000, tol = np.infty,\n",
        "                                              warm_start=True, eta0 = eta0,\n",
        "                                              random_state=42))])\n",
        "\n",
        "#  Number of iterations\n",
        "# sgd_pipeline[-1].n_iter_\n",
        "\n",
        "#  Number of weight update\n",
        "# sgd_pipeline[-1].t_"
      ],
      "metadata": {
        "id": "YvkVPWr5wi4v"
      },
      "execution_count": null,
      "outputs": []
    },
    {
      "cell_type": "code",
      "source": [
        "regressor = pipe.fit(X_train, y_train)\n",
        "y_pred = pipe.predict(X_test)\n",
        "y_pred.shape"
      ],
      "metadata": {
        "id": "9o5UfmTE5_Ra"
      },
      "execution_count": null,
      "outputs": []
    },
    {
      "cell_type": "code",
      "source": [
        "np.median(y_test)"
      ],
      "metadata": {
        "id": "fwQCj81k5HBw"
      },
      "execution_count": null,
      "outputs": []
    },
    {
      "cell_type": "markdown",
      "source": [
        "Intercept and Coefficients"
      ],
      "metadata": {
        "id": "GDEXgq4Tnabt"
      }
    },
    {
      "cell_type": "code",
      "source": [
        "print(f'Weights are :\\n{regressor[-1].coef_}')\n",
        "print(f'Intercept is :\\n{regressor[-1].intercept_}')"
      ],
      "metadata": {
        "id": "gNH-gEEknaFo"
      },
      "execution_count": null,
      "outputs": []
    },
    {
      "cell_type": "markdown",
      "source": [
        "$R^2$ score "
      ],
      "metadata": {
        "id": "Mkg2DIkdgrCF"
      }
    },
    {
      "cell_type": "code",
      "source": [
        "pipe.score(X_test, y_test)"
      ],
      "metadata": {
        "id": "Ag6T-G6-S6pS"
      },
      "execution_count": null,
      "outputs": []
    },
    {
      "cell_type": "code",
      "source": [
        "r2_score(y_test, y_pred)"
      ],
      "metadata": {
        "id": "_F4EvLUKmd-t"
      },
      "execution_count": null,
      "outputs": []
    },
    {
      "cell_type": "markdown",
      "source": [
        "Mean squared error"
      ],
      "metadata": {
        "id": "uPkGe5wklLvi"
      }
    },
    {
      "cell_type": "code",
      "source": [
        "eval_score = mean_absolute_error(y_test, y_pred)\n",
        "eval_score"
      ],
      "metadata": {
        "id": "mFTxQySVlKFh"
      },
      "execution_count": null,
      "outputs": []
    },
    {
      "cell_type": "markdown",
      "source": [
        "```mean_squared_log_error``` is used for population that grows on exponential scale."
      ],
      "metadata": {
        "id": "4688jkW4oEyn"
      }
    },
    {
      "cell_type": "markdown",
      "source": [
        "The worst case error on the train set is given by ```max_error```. This cannot be used for multi-output regression"
      ],
      "metadata": {
        "id": "KQpdnl9joTRD"
      }
    },
    {
      "cell_type": "code",
      "source": [
        "transformer = FunctionTransformer(np.log1p)\n",
        "X = np.array([[0, 9], [7, 8]])\n",
        "transformer.transform(X)"
      ],
      "metadata": {
        "id": "HsFl9V-JkuJ8"
      },
      "execution_count": null,
      "outputs": []
    },
    {
      "cell_type": "markdown",
      "source": [
        "# Mock Practice"
      ],
      "metadata": {
        "id": "O2YVOaq2BUpK"
      }
    },
    {
      "cell_type": "code",
      "source": [
        "from sklearn.datasets import fetch_california_housing"
      ],
      "metadata": {
        "id": "2ROCjtxF9iE6"
      },
      "execution_count": 128,
      "outputs": []
    },
    {
      "cell_type": "code",
      "source": [
        "X, y = fetch_california_housing(return_X_y=True)\n",
        "X_train, X_test, y_train, y_test = train_test_split(X, y, test_size=0.2)\n",
        "X_train.shape"
      ],
      "metadata": {
        "colab": {
          "base_uri": "https://localhost:8080/"
        },
        "id": "hsW7t6snExMO",
        "outputId": "b9ea6e0a-2020-475e-f561-5c425f5b0f3f"
      },
      "execution_count": null,
      "outputs": [
        {
          "output_type": "execute_result",
          "data": {
            "text/plain": [
              "(16512, 8)"
            ]
          },
          "metadata": {},
          "execution_count": 160
        }
      ]
    },
    {
      "cell_type": "code",
      "source": [
        "from sklearn.dummy import DummyRegressor\n",
        "dummy_mean = DummyRegressor(strategy='mean')\n",
        "dummy_mean.fit(X_train, y_train)\n",
        "y_pred = dummy_mean.predict(X_test)\n",
        "r2_score(y_test, y_pred)"
      ],
      "metadata": {
        "colab": {
          "base_uri": "https://localhost:8080/"
        },
        "id": "h6Y7zVajOt1D",
        "outputId": "edc87454-c46d-49b3-c3d1-268c0035f416"
      },
      "execution_count": null,
      "outputs": [
        {
          "output_type": "execute_result",
          "data": {
            "text/plain": [
              "-0.0003120049888716281"
            ]
          },
          "metadata": {},
          "execution_count": 146
        }
      ]
    },
    {
      "cell_type": "code",
      "source": [
        "pipe = Pipeline(\n",
        "    [('min_max', MinMaxScaler()),\n",
        "      ('sgd', SGDRegressor())])\n",
        "\n",
        "\n",
        "pipe.fit(X_test, y_test)\n",
        "\n",
        "y_test_pred = pipe.predict(X_test)\n",
        "y_train_pred = pipe.predict(X_train)\n",
        "\n",
        "print(f'Test Error : {mean_absolute_error(y_test, y_test_pred)}')\n",
        "print(f'Test Error : {mean_absolute_error(y_train, y_train_pred)}')\n"
      ],
      "metadata": {
        "colab": {
          "base_uri": "https://localhost:8080/"
        },
        "id": "y4a0xF_kaI4i",
        "outputId": "73345f66-72c1-417b-b96e-9f7649a0e7b3"
      },
      "execution_count": null,
      "outputs": [
        {
          "output_type": "stream",
          "name": "stdout",
          "text": [
            "Test Error : 0.5761325988845172\n",
            "Test Error : 0.5862023083254831\n"
          ]
        }
      ]
    },
    {
      "cell_type": "code",
      "source": [
        "linear_reg = LinearRegression()\n",
        "cross_val_score(linear_reg, X, y, cv=5)"
      ],
      "metadata": {
        "colab": {
          "base_uri": "https://localhost:8080/"
        },
        "id": "8rlsF5B6PHj0",
        "outputId": "82e6805a-304d-45bd-cee7-499adf3bb314"
      },
      "execution_count": null,
      "outputs": [
        {
          "output_type": "execute_result",
          "data": {
            "text/plain": [
              "array([0.54866323, 0.46820691, 0.55078434, 0.53698703, 0.66051406])"
            ]
          },
          "metadata": {},
          "execution_count": 148
        }
      ]
    },
    {
      "cell_type": "markdown",
      "source": [
        "Diabetese Dataset"
      ],
      "metadata": {
        "id": "TpseYJkTYQJq"
      }
    },
    {
      "cell_type": "code",
      "source": [
        "from sklearn.datasets import load_diabetes\n",
        "X, y = load_diabetes(return_X_y=True)\n",
        "index = load_diabetes()['feature_names'].index('s3')"
      ],
      "metadata": {
        "id": "xZXh6lJJPHhM"
      },
      "execution_count": null,
      "outputs": []
    },
    {
      "cell_type": "code",
      "source": [
        "X_train, X_test, y_train, y_test = train_test_split(X, y, test_size=0.2, \n",
        "                                                    random_state=10)"
      ],
      "metadata": {
        "id": "atrwCWskdSYV"
      },
      "execution_count": null,
      "outputs": []
    },
    {
      "cell_type": "code",
      "source": [
        "pipeline = Pipeline([('scaler', StandardScaler()),\n",
        "                     ('linreg', LinearRegression())])\n",
        "pipeline.fit(X_train, y_train)\n",
        "\n",
        "print(pipeline.score(X_test, y_test))"
      ],
      "metadata": {
        "colab": {
          "base_uri": "https://localhost:8080/"
        },
        "id": "LojlnvmtPHKB",
        "outputId": "ea14fd60-3bcb-464a-d2b4-881517f8ea05"
      },
      "execution_count": null,
      "outputs": [
        {
          "output_type": "stream",
          "name": "stdout",
          "text": [
            "0.5341962544929233\n"
          ]
        }
      ]
    },
    {
      "cell_type": "code",
      "source": [
        "pipeline[-1].coef_"
      ],
      "metadata": {
        "colab": {
          "base_uri": "https://localhost:8080/"
        },
        "id": "r1sexDGYEtbd",
        "outputId": "923ec4a2-6e98-4392-df67-dd28eb41c398"
      },
      "execution_count": null,
      "outputs": [
        {
          "output_type": "execute_result",
          "data": {
            "text/plain": [
              "array([ -0.18524015, -10.74395358,  23.97068421,  15.44649018,\n",
              "       -33.63629412,  19.07747445,   3.87751116,  10.51831194,\n",
              "        34.15440847,   1.91362494])"
            ]
          },
          "metadata": {},
          "execution_count": 152
        }
      ]
    },
    {
      "cell_type": "code",
      "source": [
        "pipeline[-1].coef_[index]"
      ],
      "metadata": {
        "colab": {
          "base_uri": "https://localhost:8080/"
        },
        "id": "YEi2x3afEtXl",
        "outputId": "874b7d6d-8e07-47eb-d17c-c137151cfec0"
      },
      "execution_count": null,
      "outputs": [
        {
          "output_type": "execute_result",
          "data": {
            "text/plain": [
              "3.8775111593962004"
            ]
          },
          "metadata": {},
          "execution_count": 153
        }
      ]
    },
    {
      "cell_type": "markdown",
      "source": [
        "Use K fold"
      ],
      "metadata": {
        "id": "11U3jspaL6Ub"
      }
    },
    {
      "cell_type": "code",
      "source": [
        "from sklearn.model_selection import KFold\n",
        "kFold = KFold(n_splits=5, random_state=10, shuffle=True)\n",
        "score = cross_val_score(pipeline[-1], X, y, cv=kFold)\n",
        "score"
      ],
      "metadata": {
        "id": "4YdWzEYFEtTm",
        "colab": {
          "base_uri": "https://localhost:8080/"
        },
        "outputId": "ce9149e0-1ad4-4a2c-e9a7-bfc68b57531a"
      },
      "execution_count": null,
      "outputs": [
        {
          "output_type": "execute_result",
          "data": {
            "text/plain": [
              "array([0.53419625, 0.36395778, 0.41205671, 0.59555714, 0.49929309])"
            ]
          },
          "metadata": {},
          "execution_count": 154
        }
      ]
    },
    {
      "cell_type": "markdown",
      "source": [
        "Using Shuffle Split"
      ],
      "metadata": {
        "id": "CDbJ7xoeL8Qb"
      }
    },
    {
      "cell_type": "code",
      "source": [
        "# using shuffle split\n",
        "from sklearn.model_selection import ShuffleSplit\n",
        "shuffle_split = ShuffleSplit(n_splits=5, test_size=0.2)\n",
        "score = cross_val_score(pipeline[-1], X, y, cv=shuffle_split)\n",
        "score"
      ],
      "metadata": {
        "id": "ACzKzKqiEtPs",
        "colab": {
          "base_uri": "https://localhost:8080/"
        },
        "outputId": "74492d8f-a438-4acd-8e1e-7aa77e97dc48"
      },
      "execution_count": null,
      "outputs": [
        {
          "output_type": "execute_result",
          "data": {
            "text/plain": [
              "array([0.53304867, 0.4303164 , 0.47071806, 0.41370933, 0.43493177])"
            ]
          },
          "metadata": {},
          "execution_count": 155
        }
      ]
    },
    {
      "cell_type": "markdown",
      "source": [
        "Grid Search CV"
      ],
      "metadata": {
        "id": "JVaqzSFyd1BF"
      }
    },
    {
      "cell_type": "code",
      "source": [
        "from sklearn.model_selection import GridSearchCV\n",
        "grid = [\n",
        "        {'poly_deg': [2, 3, 4, 5, 6]}]\n",
        "pipeline = Pipeline(steps=\n",
        "                    [\n",
        "                     ('poly', PolynomialFeatures()),\n",
        "                     ('sgd', SGDRegressor())\n",
        "                    ])\n",
        "\n",
        "grid_search = GridSearchCV(pipeline, grid, cv=5,\n",
        "                           scoring='neg_mean_squared_error',\n",
        "                           return_train_score=True)\n",
        "grid_search.fit(X_train.reshape(-1, 1), y_train)"
      ],
      "metadata": {
        "id": "0yMhaQthfrst"
      },
      "execution_count": null,
      "outputs": []
    },
    {
      "cell_type": "markdown",
      "source": [
        "# Classification"
      ],
      "metadata": {
        "id": "aMMqPDL8smlV"
      }
    },
    {
      "cell_type": "code",
      "source": [
        "from sklearn.linear_model import RidgeClassifier\n",
        "from sklearn.datasets import load_wine"
      ],
      "metadata": {
        "id": "zT7yOVfysldF"
      },
      "execution_count": 3,
      "outputs": []
    },
    {
      "cell_type": "markdown",
      "source": [
        "## Wine Classification"
      ],
      "metadata": {
        "id": "WreCp_G1_U9V"
      }
    },
    {
      "cell_type": "code",
      "source": [
        "wine_data = load_wine(as_frame=True)\n",
        "X = wine_data.data\n",
        "y = load_wine().target\n",
        "\n",
        "# Shuffle data\n",
        "# wine_df = wine_df.sample(frac=1).reset_index(drop=True)\n",
        "\n",
        "X.head()     "
      ],
      "metadata": {
        "colab": {
          "base_uri": "https://localhost:8080/",
          "height": 270
        },
        "id": "bFI1x3cstdsc",
        "outputId": "083c420b-3c94-4d00-dc12-c9847b842590"
      },
      "execution_count": null,
      "outputs": [
        {
          "output_type": "execute_result",
          "data": {
            "text/plain": [
              "   alcohol  malic_acid   ash  alcalinity_of_ash  magnesium  total_phenols  \\\n",
              "0    14.23        1.71  2.43               15.6      127.0           2.80   \n",
              "1    13.20        1.78  2.14               11.2      100.0           2.65   \n",
              "2    13.16        2.36  2.67               18.6      101.0           2.80   \n",
              "3    14.37        1.95  2.50               16.8      113.0           3.85   \n",
              "4    13.24        2.59  2.87               21.0      118.0           2.80   \n",
              "\n",
              "   flavanoids  nonflavanoid_phenols  proanthocyanins  color_intensity   hue  \\\n",
              "0        3.06                  0.28             2.29             5.64  1.04   \n",
              "1        2.76                  0.26             1.28             4.38  1.05   \n",
              "2        3.24                  0.30             2.81             5.68  1.03   \n",
              "3        3.49                  0.24             2.18             7.80  0.86   \n",
              "4        2.69                  0.39             1.82             4.32  1.04   \n",
              "\n",
              "   od280/od315_of_diluted_wines  proline  \n",
              "0                          3.92   1065.0  \n",
              "1                          3.40   1050.0  \n",
              "2                          3.17   1185.0  \n",
              "3                          3.45   1480.0  \n",
              "4                          2.93    735.0  "
            ],
            "text/html": [
              "\n",
              "  <div id=\"df-96d65bbe-977c-49e8-8d38-5e00e6260bcc\">\n",
              "    <div class=\"colab-df-container\">\n",
              "      <div>\n",
              "<style scoped>\n",
              "    .dataframe tbody tr th:only-of-type {\n",
              "        vertical-align: middle;\n",
              "    }\n",
              "\n",
              "    .dataframe tbody tr th {\n",
              "        vertical-align: top;\n",
              "    }\n",
              "\n",
              "    .dataframe thead th {\n",
              "        text-align: right;\n",
              "    }\n",
              "</style>\n",
              "<table border=\"1\" class=\"dataframe\">\n",
              "  <thead>\n",
              "    <tr style=\"text-align: right;\">\n",
              "      <th></th>\n",
              "      <th>alcohol</th>\n",
              "      <th>malic_acid</th>\n",
              "      <th>ash</th>\n",
              "      <th>alcalinity_of_ash</th>\n",
              "      <th>magnesium</th>\n",
              "      <th>total_phenols</th>\n",
              "      <th>flavanoids</th>\n",
              "      <th>nonflavanoid_phenols</th>\n",
              "      <th>proanthocyanins</th>\n",
              "      <th>color_intensity</th>\n",
              "      <th>hue</th>\n",
              "      <th>od280/od315_of_diluted_wines</th>\n",
              "      <th>proline</th>\n",
              "    </tr>\n",
              "  </thead>\n",
              "  <tbody>\n",
              "    <tr>\n",
              "      <th>0</th>\n",
              "      <td>14.23</td>\n",
              "      <td>1.71</td>\n",
              "      <td>2.43</td>\n",
              "      <td>15.6</td>\n",
              "      <td>127.0</td>\n",
              "      <td>2.80</td>\n",
              "      <td>3.06</td>\n",
              "      <td>0.28</td>\n",
              "      <td>2.29</td>\n",
              "      <td>5.64</td>\n",
              "      <td>1.04</td>\n",
              "      <td>3.92</td>\n",
              "      <td>1065.0</td>\n",
              "    </tr>\n",
              "    <tr>\n",
              "      <th>1</th>\n",
              "      <td>13.20</td>\n",
              "      <td>1.78</td>\n",
              "      <td>2.14</td>\n",
              "      <td>11.2</td>\n",
              "      <td>100.0</td>\n",
              "      <td>2.65</td>\n",
              "      <td>2.76</td>\n",
              "      <td>0.26</td>\n",
              "      <td>1.28</td>\n",
              "      <td>4.38</td>\n",
              "      <td>1.05</td>\n",
              "      <td>3.40</td>\n",
              "      <td>1050.0</td>\n",
              "    </tr>\n",
              "    <tr>\n",
              "      <th>2</th>\n",
              "      <td>13.16</td>\n",
              "      <td>2.36</td>\n",
              "      <td>2.67</td>\n",
              "      <td>18.6</td>\n",
              "      <td>101.0</td>\n",
              "      <td>2.80</td>\n",
              "      <td>3.24</td>\n",
              "      <td>0.30</td>\n",
              "      <td>2.81</td>\n",
              "      <td>5.68</td>\n",
              "      <td>1.03</td>\n",
              "      <td>3.17</td>\n",
              "      <td>1185.0</td>\n",
              "    </tr>\n",
              "    <tr>\n",
              "      <th>3</th>\n",
              "      <td>14.37</td>\n",
              "      <td>1.95</td>\n",
              "      <td>2.50</td>\n",
              "      <td>16.8</td>\n",
              "      <td>113.0</td>\n",
              "      <td>3.85</td>\n",
              "      <td>3.49</td>\n",
              "      <td>0.24</td>\n",
              "      <td>2.18</td>\n",
              "      <td>7.80</td>\n",
              "      <td>0.86</td>\n",
              "      <td>3.45</td>\n",
              "      <td>1480.0</td>\n",
              "    </tr>\n",
              "    <tr>\n",
              "      <th>4</th>\n",
              "      <td>13.24</td>\n",
              "      <td>2.59</td>\n",
              "      <td>2.87</td>\n",
              "      <td>21.0</td>\n",
              "      <td>118.0</td>\n",
              "      <td>2.80</td>\n",
              "      <td>2.69</td>\n",
              "      <td>0.39</td>\n",
              "      <td>1.82</td>\n",
              "      <td>4.32</td>\n",
              "      <td>1.04</td>\n",
              "      <td>2.93</td>\n",
              "      <td>735.0</td>\n",
              "    </tr>\n",
              "  </tbody>\n",
              "</table>\n",
              "</div>\n",
              "      <button class=\"colab-df-convert\" onclick=\"convertToInteractive('df-96d65bbe-977c-49e8-8d38-5e00e6260bcc')\"\n",
              "              title=\"Convert this dataframe to an interactive table.\"\n",
              "              style=\"display:none;\">\n",
              "        \n",
              "  <svg xmlns=\"http://www.w3.org/2000/svg\" height=\"24px\"viewBox=\"0 0 24 24\"\n",
              "       width=\"24px\">\n",
              "    <path d=\"M0 0h24v24H0V0z\" fill=\"none\"/>\n",
              "    <path d=\"M18.56 5.44l.94 2.06.94-2.06 2.06-.94-2.06-.94-.94-2.06-.94 2.06-2.06.94zm-11 1L8.5 8.5l.94-2.06 2.06-.94-2.06-.94L8.5 2.5l-.94 2.06-2.06.94zm10 10l.94 2.06.94-2.06 2.06-.94-2.06-.94-.94-2.06-.94 2.06-2.06.94z\"/><path d=\"M17.41 7.96l-1.37-1.37c-.4-.4-.92-.59-1.43-.59-.52 0-1.04.2-1.43.59L10.3 9.45l-7.72 7.72c-.78.78-.78 2.05 0 2.83L4 21.41c.39.39.9.59 1.41.59.51 0 1.02-.2 1.41-.59l7.78-7.78 2.81-2.81c.8-.78.8-2.07 0-2.86zM5.41 20L4 18.59l7.72-7.72 1.47 1.35L5.41 20z\"/>\n",
              "  </svg>\n",
              "      </button>\n",
              "      \n",
              "  <style>\n",
              "    .colab-df-container {\n",
              "      display:flex;\n",
              "      flex-wrap:wrap;\n",
              "      gap: 12px;\n",
              "    }\n",
              "\n",
              "    .colab-df-convert {\n",
              "      background-color: #E8F0FE;\n",
              "      border: none;\n",
              "      border-radius: 50%;\n",
              "      cursor: pointer;\n",
              "      display: none;\n",
              "      fill: #1967D2;\n",
              "      height: 32px;\n",
              "      padding: 0 0 0 0;\n",
              "      width: 32px;\n",
              "    }\n",
              "\n",
              "    .colab-df-convert:hover {\n",
              "      background-color: #E2EBFA;\n",
              "      box-shadow: 0px 1px 2px rgba(60, 64, 67, 0.3), 0px 1px 3px 1px rgba(60, 64, 67, 0.15);\n",
              "      fill: #174EA6;\n",
              "    }\n",
              "\n",
              "    [theme=dark] .colab-df-convert {\n",
              "      background-color: #3B4455;\n",
              "      fill: #D2E3FC;\n",
              "    }\n",
              "\n",
              "    [theme=dark] .colab-df-convert:hover {\n",
              "      background-color: #434B5C;\n",
              "      box-shadow: 0px 1px 3px 1px rgba(0, 0, 0, 0.15);\n",
              "      filter: drop-shadow(0px 1px 2px rgba(0, 0, 0, 0.3));\n",
              "      fill: #FFFFFF;\n",
              "    }\n",
              "  </style>\n",
              "\n",
              "      <script>\n",
              "        const buttonEl =\n",
              "          document.querySelector('#df-96d65bbe-977c-49e8-8d38-5e00e6260bcc button.colab-df-convert');\n",
              "        buttonEl.style.display =\n",
              "          google.colab.kernel.accessAllowed ? 'block' : 'none';\n",
              "\n",
              "        async function convertToInteractive(key) {\n",
              "          const element = document.querySelector('#df-96d65bbe-977c-49e8-8d38-5e00e6260bcc');\n",
              "          const dataTable =\n",
              "            await google.colab.kernel.invokeFunction('convertToInteractive',\n",
              "                                                     [key], {});\n",
              "          if (!dataTable) return;\n",
              "\n",
              "          const docLinkHtml = 'Like what you see? Visit the ' +\n",
              "            '<a target=\"_blank\" href=https://colab.research.google.com/notebooks/data_table.ipynb>data table notebook</a>'\n",
              "            + ' to learn more about interactive tables.';\n",
              "          element.innerHTML = '';\n",
              "          dataTable['output_type'] = 'display_data';\n",
              "          await google.colab.output.renderOutput(dataTable, element);\n",
              "          const docLink = document.createElement('div');\n",
              "          docLink.innerHTML = docLinkHtml;\n",
              "          element.appendChild(docLink);\n",
              "        }\n",
              "      </script>\n",
              "    </div>\n",
              "  </div>\n",
              "  "
            ]
          },
          "metadata": {},
          "execution_count": 3
        }
      ]
    },
    {
      "cell_type": "code",
      "source": [
        "X.shape"
      ],
      "metadata": {
        "colab": {
          "base_uri": "https://localhost:8080/"
        },
        "id": "epEZ9LhGkts9",
        "outputId": "5ecd8ec5-d916-4791-eb32-bd96ab8cc26f"
      },
      "execution_count": null,
      "outputs": [
        {
          "output_type": "execute_result",
          "data": {
            "text/plain": [
              "(178, 13)"
            ]
          },
          "metadata": {},
          "execution_count": 4
        }
      ]
    },
    {
      "cell_type": "code",
      "source": [
        "print(X.shape)\n",
        "print(y.shape)"
      ],
      "metadata": {
        "colab": {
          "base_uri": "https://localhost:8080/"
        },
        "id": "vRg7_83VhyUi",
        "outputId": "a7650971-a8c8-4711-93b4-cec1c7080407"
      },
      "execution_count": null,
      "outputs": [
        {
          "output_type": "stream",
          "name": "stdout",
          "text": [
            "(178, 13)\n",
            "(178,)\n"
          ]
        }
      ]
    },
    {
      "cell_type": "code",
      "source": [
        "X.describe()"
      ],
      "metadata": {
        "colab": {
          "base_uri": "https://localhost:8080/",
          "height": 364
        },
        "id": "CJIwnooJwN2K",
        "outputId": "d6968069-2237-4bfc-db42-ab258915c208"
      },
      "execution_count": null,
      "outputs": [
        {
          "output_type": "execute_result",
          "data": {
            "text/plain": [
              "          alcohol  malic_acid         ash  alcalinity_of_ash   magnesium  \\\n",
              "count  178.000000  178.000000  178.000000         178.000000  178.000000   \n",
              "mean    13.000618    2.336348    2.366517          19.494944   99.741573   \n",
              "std      0.811827    1.117146    0.274344           3.339564   14.282484   \n",
              "min     11.030000    0.740000    1.360000          10.600000   70.000000   \n",
              "25%     12.362500    1.602500    2.210000          17.200000   88.000000   \n",
              "50%     13.050000    1.865000    2.360000          19.500000   98.000000   \n",
              "75%     13.677500    3.082500    2.557500          21.500000  107.000000   \n",
              "max     14.830000    5.800000    3.230000          30.000000  162.000000   \n",
              "\n",
              "       total_phenols  flavanoids  nonflavanoid_phenols  proanthocyanins  \\\n",
              "count     178.000000  178.000000            178.000000       178.000000   \n",
              "mean        2.295112    2.029270              0.361854         1.590899   \n",
              "std         0.625851    0.998859              0.124453         0.572359   \n",
              "min         0.980000    0.340000              0.130000         0.410000   \n",
              "25%         1.742500    1.205000              0.270000         1.250000   \n",
              "50%         2.355000    2.135000              0.340000         1.555000   \n",
              "75%         2.800000    2.875000              0.437500         1.950000   \n",
              "max         3.880000    5.080000              0.660000         3.580000   \n",
              "\n",
              "       color_intensity         hue  od280/od315_of_diluted_wines      proline  \n",
              "count       178.000000  178.000000                    178.000000   178.000000  \n",
              "mean          5.058090    0.957449                      2.611685   746.893258  \n",
              "std           2.318286    0.228572                      0.709990   314.907474  \n",
              "min           1.280000    0.480000                      1.270000   278.000000  \n",
              "25%           3.220000    0.782500                      1.937500   500.500000  \n",
              "50%           4.690000    0.965000                      2.780000   673.500000  \n",
              "75%           6.200000    1.120000                      3.170000   985.000000  \n",
              "max          13.000000    1.710000                      4.000000  1680.000000  "
            ],
            "text/html": [
              "\n",
              "  <div id=\"df-6021e3e2-8e80-41f8-8f7d-15eb49f63e0c\">\n",
              "    <div class=\"colab-df-container\">\n",
              "      <div>\n",
              "<style scoped>\n",
              "    .dataframe tbody tr th:only-of-type {\n",
              "        vertical-align: middle;\n",
              "    }\n",
              "\n",
              "    .dataframe tbody tr th {\n",
              "        vertical-align: top;\n",
              "    }\n",
              "\n",
              "    .dataframe thead th {\n",
              "        text-align: right;\n",
              "    }\n",
              "</style>\n",
              "<table border=\"1\" class=\"dataframe\">\n",
              "  <thead>\n",
              "    <tr style=\"text-align: right;\">\n",
              "      <th></th>\n",
              "      <th>alcohol</th>\n",
              "      <th>malic_acid</th>\n",
              "      <th>ash</th>\n",
              "      <th>alcalinity_of_ash</th>\n",
              "      <th>magnesium</th>\n",
              "      <th>total_phenols</th>\n",
              "      <th>flavanoids</th>\n",
              "      <th>nonflavanoid_phenols</th>\n",
              "      <th>proanthocyanins</th>\n",
              "      <th>color_intensity</th>\n",
              "      <th>hue</th>\n",
              "      <th>od280/od315_of_diluted_wines</th>\n",
              "      <th>proline</th>\n",
              "    </tr>\n",
              "  </thead>\n",
              "  <tbody>\n",
              "    <tr>\n",
              "      <th>count</th>\n",
              "      <td>178.000000</td>\n",
              "      <td>178.000000</td>\n",
              "      <td>178.000000</td>\n",
              "      <td>178.000000</td>\n",
              "      <td>178.000000</td>\n",
              "      <td>178.000000</td>\n",
              "      <td>178.000000</td>\n",
              "      <td>178.000000</td>\n",
              "      <td>178.000000</td>\n",
              "      <td>178.000000</td>\n",
              "      <td>178.000000</td>\n",
              "      <td>178.000000</td>\n",
              "      <td>178.000000</td>\n",
              "    </tr>\n",
              "    <tr>\n",
              "      <th>mean</th>\n",
              "      <td>13.000618</td>\n",
              "      <td>2.336348</td>\n",
              "      <td>2.366517</td>\n",
              "      <td>19.494944</td>\n",
              "      <td>99.741573</td>\n",
              "      <td>2.295112</td>\n",
              "      <td>2.029270</td>\n",
              "      <td>0.361854</td>\n",
              "      <td>1.590899</td>\n",
              "      <td>5.058090</td>\n",
              "      <td>0.957449</td>\n",
              "      <td>2.611685</td>\n",
              "      <td>746.893258</td>\n",
              "    </tr>\n",
              "    <tr>\n",
              "      <th>std</th>\n",
              "      <td>0.811827</td>\n",
              "      <td>1.117146</td>\n",
              "      <td>0.274344</td>\n",
              "      <td>3.339564</td>\n",
              "      <td>14.282484</td>\n",
              "      <td>0.625851</td>\n",
              "      <td>0.998859</td>\n",
              "      <td>0.124453</td>\n",
              "      <td>0.572359</td>\n",
              "      <td>2.318286</td>\n",
              "      <td>0.228572</td>\n",
              "      <td>0.709990</td>\n",
              "      <td>314.907474</td>\n",
              "    </tr>\n",
              "    <tr>\n",
              "      <th>min</th>\n",
              "      <td>11.030000</td>\n",
              "      <td>0.740000</td>\n",
              "      <td>1.360000</td>\n",
              "      <td>10.600000</td>\n",
              "      <td>70.000000</td>\n",
              "      <td>0.980000</td>\n",
              "      <td>0.340000</td>\n",
              "      <td>0.130000</td>\n",
              "      <td>0.410000</td>\n",
              "      <td>1.280000</td>\n",
              "      <td>0.480000</td>\n",
              "      <td>1.270000</td>\n",
              "      <td>278.000000</td>\n",
              "    </tr>\n",
              "    <tr>\n",
              "      <th>25%</th>\n",
              "      <td>12.362500</td>\n",
              "      <td>1.602500</td>\n",
              "      <td>2.210000</td>\n",
              "      <td>17.200000</td>\n",
              "      <td>88.000000</td>\n",
              "      <td>1.742500</td>\n",
              "      <td>1.205000</td>\n",
              "      <td>0.270000</td>\n",
              "      <td>1.250000</td>\n",
              "      <td>3.220000</td>\n",
              "      <td>0.782500</td>\n",
              "      <td>1.937500</td>\n",
              "      <td>500.500000</td>\n",
              "    </tr>\n",
              "    <tr>\n",
              "      <th>50%</th>\n",
              "      <td>13.050000</td>\n",
              "      <td>1.865000</td>\n",
              "      <td>2.360000</td>\n",
              "      <td>19.500000</td>\n",
              "      <td>98.000000</td>\n",
              "      <td>2.355000</td>\n",
              "      <td>2.135000</td>\n",
              "      <td>0.340000</td>\n",
              "      <td>1.555000</td>\n",
              "      <td>4.690000</td>\n",
              "      <td>0.965000</td>\n",
              "      <td>2.780000</td>\n",
              "      <td>673.500000</td>\n",
              "    </tr>\n",
              "    <tr>\n",
              "      <th>75%</th>\n",
              "      <td>13.677500</td>\n",
              "      <td>3.082500</td>\n",
              "      <td>2.557500</td>\n",
              "      <td>21.500000</td>\n",
              "      <td>107.000000</td>\n",
              "      <td>2.800000</td>\n",
              "      <td>2.875000</td>\n",
              "      <td>0.437500</td>\n",
              "      <td>1.950000</td>\n",
              "      <td>6.200000</td>\n",
              "      <td>1.120000</td>\n",
              "      <td>3.170000</td>\n",
              "      <td>985.000000</td>\n",
              "    </tr>\n",
              "    <tr>\n",
              "      <th>max</th>\n",
              "      <td>14.830000</td>\n",
              "      <td>5.800000</td>\n",
              "      <td>3.230000</td>\n",
              "      <td>30.000000</td>\n",
              "      <td>162.000000</td>\n",
              "      <td>3.880000</td>\n",
              "      <td>5.080000</td>\n",
              "      <td>0.660000</td>\n",
              "      <td>3.580000</td>\n",
              "      <td>13.000000</td>\n",
              "      <td>1.710000</td>\n",
              "      <td>4.000000</td>\n",
              "      <td>1680.000000</td>\n",
              "    </tr>\n",
              "  </tbody>\n",
              "</table>\n",
              "</div>\n",
              "      <button class=\"colab-df-convert\" onclick=\"convertToInteractive('df-6021e3e2-8e80-41f8-8f7d-15eb49f63e0c')\"\n",
              "              title=\"Convert this dataframe to an interactive table.\"\n",
              "              style=\"display:none;\">\n",
              "        \n",
              "  <svg xmlns=\"http://www.w3.org/2000/svg\" height=\"24px\"viewBox=\"0 0 24 24\"\n",
              "       width=\"24px\">\n",
              "    <path d=\"M0 0h24v24H0V0z\" fill=\"none\"/>\n",
              "    <path d=\"M18.56 5.44l.94 2.06.94-2.06 2.06-.94-2.06-.94-.94-2.06-.94 2.06-2.06.94zm-11 1L8.5 8.5l.94-2.06 2.06-.94-2.06-.94L8.5 2.5l-.94 2.06-2.06.94zm10 10l.94 2.06.94-2.06 2.06-.94-2.06-.94-.94-2.06-.94 2.06-2.06.94z\"/><path d=\"M17.41 7.96l-1.37-1.37c-.4-.4-.92-.59-1.43-.59-.52 0-1.04.2-1.43.59L10.3 9.45l-7.72 7.72c-.78.78-.78 2.05 0 2.83L4 21.41c.39.39.9.59 1.41.59.51 0 1.02-.2 1.41-.59l7.78-7.78 2.81-2.81c.8-.78.8-2.07 0-2.86zM5.41 20L4 18.59l7.72-7.72 1.47 1.35L5.41 20z\"/>\n",
              "  </svg>\n",
              "      </button>\n",
              "      \n",
              "  <style>\n",
              "    .colab-df-container {\n",
              "      display:flex;\n",
              "      flex-wrap:wrap;\n",
              "      gap: 12px;\n",
              "    }\n",
              "\n",
              "    .colab-df-convert {\n",
              "      background-color: #E8F0FE;\n",
              "      border: none;\n",
              "      border-radius: 50%;\n",
              "      cursor: pointer;\n",
              "      display: none;\n",
              "      fill: #1967D2;\n",
              "      height: 32px;\n",
              "      padding: 0 0 0 0;\n",
              "      width: 32px;\n",
              "    }\n",
              "\n",
              "    .colab-df-convert:hover {\n",
              "      background-color: #E2EBFA;\n",
              "      box-shadow: 0px 1px 2px rgba(60, 64, 67, 0.3), 0px 1px 3px 1px rgba(60, 64, 67, 0.15);\n",
              "      fill: #174EA6;\n",
              "    }\n",
              "\n",
              "    [theme=dark] .colab-df-convert {\n",
              "      background-color: #3B4455;\n",
              "      fill: #D2E3FC;\n",
              "    }\n",
              "\n",
              "    [theme=dark] .colab-df-convert:hover {\n",
              "      background-color: #434B5C;\n",
              "      box-shadow: 0px 1px 3px 1px rgba(0, 0, 0, 0.15);\n",
              "      filter: drop-shadow(0px 1px 2px rgba(0, 0, 0, 0.3));\n",
              "      fill: #FFFFFF;\n",
              "    }\n",
              "  </style>\n",
              "\n",
              "      <script>\n",
              "        const buttonEl =\n",
              "          document.querySelector('#df-6021e3e2-8e80-41f8-8f7d-15eb49f63e0c button.colab-df-convert');\n",
              "        buttonEl.style.display =\n",
              "          google.colab.kernel.accessAllowed ? 'block' : 'none';\n",
              "\n",
              "        async function convertToInteractive(key) {\n",
              "          const element = document.querySelector('#df-6021e3e2-8e80-41f8-8f7d-15eb49f63e0c');\n",
              "          const dataTable =\n",
              "            await google.colab.kernel.invokeFunction('convertToInteractive',\n",
              "                                                     [key], {});\n",
              "          if (!dataTable) return;\n",
              "\n",
              "          const docLinkHtml = 'Like what you see? Visit the ' +\n",
              "            '<a target=\"_blank\" href=https://colab.research.google.com/notebooks/data_table.ipynb>data table notebook</a>'\n",
              "            + ' to learn more about interactive tables.';\n",
              "          element.innerHTML = '';\n",
              "          dataTable['output_type'] = 'display_data';\n",
              "          await google.colab.output.renderOutput(dataTable, element);\n",
              "          const docLink = document.createElement('div');\n",
              "          docLink.innerHTML = docLinkHtml;\n",
              "          element.appendChild(docLink);\n",
              "        }\n",
              "      </script>\n",
              "    </div>\n",
              "  </div>\n",
              "  "
            ]
          },
          "metadata": {},
          "execution_count": 6
        }
      ]
    },
    {
      "cell_type": "code",
      "source": [
        "plt.figure(figsize = (12, 12))\n",
        "sns.heatmap(X.corr(), annot=True, cmap='PiYG')\n",
        "plt.show()"
      ],
      "metadata": {
        "colab": {
          "base_uri": "https://localhost:8080/",
          "height": 664
        },
        "id": "xUCBaq6MwViA",
        "outputId": "596da92f-9b6a-4e79-eb08-d8a9b67e46ca"
      },
      "execution_count": null,
      "outputs": [
        {
          "output_type": "display_data",
          "data": {
            "text/plain": [
              "<Figure size 864x864 with 2 Axes>"
            ],
            "image/png": "[encoded data removed]"
          },
          "metadata": {
            "needs_background": "light"
          }
        }
      ]
    },
    {
      "cell_type": "code",
      "source": [
        "X = X.drop(['ash'], axis=1)"
      ],
      "metadata": {
        "id": "BWI_Y4aOmSkQ"
      },
      "execution_count": null,
      "outputs": []
    },
    {
      "cell_type": "code",
      "source": [
        "X.head(2)"
      ],
      "metadata": {
        "colab": {
          "base_uri": "https://localhost:8080/",
          "height": 176
        },
        "id": "_MqB_346oX6U",
        "outputId": "f25657a3-3a79-450a-a0d1-940f9b1089ce"
      },
      "execution_count": null,
      "outputs": [
        {
          "output_type": "execute_result",
          "data": {
            "text/plain": [
              "   alcohol  malic_acid  alcalinity_of_ash  magnesium  total_phenols  \\\n",
              "0    14.23        1.71               15.6      127.0           2.80   \n",
              "1    13.20        1.78               11.2      100.0           2.65   \n",
              "\n",
              "   flavanoids  nonflavanoid_phenols  proanthocyanins  color_intensity   hue  \\\n",
              "0        3.06                  0.28             2.29             5.64  1.04   \n",
              "1        2.76                  0.26             1.28             4.38  1.05   \n",
              "\n",
              "   od280/od315_of_diluted_wines  proline  \n",
              "0                          3.92   1065.0  \n",
              "1                          3.40   1050.0  "
            ],
            "text/html": [
              "\n",
              "  <div id=\"df-e6737984-8655-4abf-9f70-53a81f45c2da\">\n",
              "    <div class=\"colab-df-container\">\n",
              "      <div>\n",
              "<style scoped>\n",
              "    .dataframe tbody tr th:only-of-type {\n",
              "        vertical-align: middle;\n",
              "    }\n",
              "\n",
              "    .dataframe tbody tr th {\n",
              "        vertical-align: top;\n",
              "    }\n",
              "\n",
              "    .dataframe thead th {\n",
              "        text-align: right;\n",
              "    }\n",
              "</style>\n",
              "<table border=\"1\" class=\"dataframe\">\n",
              "  <thead>\n",
              "    <tr style=\"text-align: right;\">\n",
              "      <th></th>\n",
              "      <th>alcohol</th>\n",
              "      <th>malic_acid</th>\n",
              "      <th>alcalinity_of_ash</th>\n",
              "      <th>magnesium</th>\n",
              "      <th>total_phenols</th>\n",
              "      <th>flavanoids</th>\n",
              "      <th>nonflavanoid_phenols</th>\n",
              "      <th>proanthocyanins</th>\n",
              "      <th>color_intensity</th>\n",
              "      <th>hue</th>\n",
              "      <th>od280/od315_of_diluted_wines</th>\n",
              "      <th>proline</th>\n",
              "    </tr>\n",
              "  </thead>\n",
              "  <tbody>\n",
              "    <tr>\n",
              "      <th>0</th>\n",
              "      <td>14.23</td>\n",
              "      <td>1.71</td>\n",
              "      <td>15.6</td>\n",
              "      <td>127.0</td>\n",
              "      <td>2.80</td>\n",
              "      <td>3.06</td>\n",
              "      <td>0.28</td>\n",
              "      <td>2.29</td>\n",
              "      <td>5.64</td>\n",
              "      <td>1.04</td>\n",
              "      <td>3.92</td>\n",
              "      <td>1065.0</td>\n",
              "    </tr>\n",
              "    <tr>\n",
              "      <th>1</th>\n",
              "      <td>13.20</td>\n",
              "      <td>1.78</td>\n",
              "      <td>11.2</td>\n",
              "      <td>100.0</td>\n",
              "      <td>2.65</td>\n",
              "      <td>2.76</td>\n",
              "      <td>0.26</td>\n",
              "      <td>1.28</td>\n",
              "      <td>4.38</td>\n",
              "      <td>1.05</td>\n",
              "      <td>3.40</td>\n",
              "      <td>1050.0</td>\n",
              "    </tr>\n",
              "  </tbody>\n",
              "</table>\n",
              "</div>\n",
              "      <button class=\"colab-df-convert\" onclick=\"convertToInteractive('df-e6737984-8655-4abf-9f70-53a81f45c2da')\"\n",
              "              title=\"Convert this dataframe to an interactive table.\"\n",
              "              style=\"display:none;\">\n",
              "        \n",
              "  <svg xmlns=\"http://www.w3.org/2000/svg\" height=\"24px\"viewBox=\"0 0 24 24\"\n",
              "       width=\"24px\">\n",
              "    <path d=\"M0 0h24v24H0V0z\" fill=\"none\"/>\n",
              "    <path d=\"M18.56 5.44l.94 2.06.94-2.06 2.06-.94-2.06-.94-.94-2.06-.94 2.06-2.06.94zm-11 1L8.5 8.5l.94-2.06 2.06-.94-2.06-.94L8.5 2.5l-.94 2.06-2.06.94zm10 10l.94 2.06.94-2.06 2.06-.94-2.06-.94-.94-2.06-.94 2.06-2.06.94z\"/><path d=\"M17.41 7.96l-1.37-1.37c-.4-.4-.92-.59-1.43-.59-.52 0-1.04.2-1.43.59L10.3 9.45l-7.72 7.72c-.78.78-.78 2.05 0 2.83L4 21.41c.39.39.9.59 1.41.59.51 0 1.02-.2 1.41-.59l7.78-7.78 2.81-2.81c.8-.78.8-2.07 0-2.86zM5.41 20L4 18.59l7.72-7.72 1.47 1.35L5.41 20z\"/>\n",
              "  </svg>\n",
              "      </button>\n",
              "      \n",
              "  <style>\n",
              "    .colab-df-container {\n",
              "      display:flex;\n",
              "      flex-wrap:wrap;\n",
              "      gap: 12px;\n",
              "    }\n",
              "\n",
              "    .colab-df-convert {\n",
              "      background-color: #E8F0FE;\n",
              "      border: none;\n",
              "      border-radius: 50%;\n",
              "      cursor: pointer;\n",
              "      display: none;\n",
              "      fill: #1967D2;\n",
              "      height: 32px;\n",
              "      padding: 0 0 0 0;\n",
              "      width: 32px;\n",
              "    }\n",
              "\n",
              "    .colab-df-convert:hover {\n",
              "      background-color: #E2EBFA;\n",
              "      box-shadow: 0px 1px 2px rgba(60, 64, 67, 0.3), 0px 1px 3px 1px rgba(60, 64, 67, 0.15);\n",
              "      fill: #174EA6;\n",
              "    }\n",
              "\n",
              "    [theme=dark] .colab-df-convert {\n",
              "      background-color: #3B4455;\n",
              "      fill: #D2E3FC;\n",
              "    }\n",
              "\n",
              "    [theme=dark] .colab-df-convert:hover {\n",
              "      background-color: #434B5C;\n",
              "      box-shadow: 0px 1px 3px 1px rgba(0, 0, 0, 0.15);\n",
              "      filter: drop-shadow(0px 1px 2px rgba(0, 0, 0, 0.3));\n",
              "      fill: #FFFFFF;\n",
              "    }\n",
              "  </style>\n",
              "\n",
              "      <script>\n",
              "        const buttonEl =\n",
              "          document.querySelector('#df-e6737984-8655-4abf-9f70-53a81f45c2da button.colab-df-convert');\n",
              "        buttonEl.style.display =\n",
              "          google.colab.kernel.accessAllowed ? 'block' : 'none';\n",
              "\n",
              "        async function convertToInteractive(key) {\n",
              "          const element = document.querySelector('#df-e6737984-8655-4abf-9f70-53a81f45c2da');\n",
              "          const dataTable =\n",
              "            await google.colab.kernel.invokeFunction('convertToInteractive',\n",
              "                                                     [key], {});\n",
              "          if (!dataTable) return;\n",
              "\n",
              "          const docLinkHtml = 'Like what you see? Visit the ' +\n",
              "            '<a target=\"_blank\" href=https://colab.research.google.com/notebooks/data_table.ipynb>data table notebook</a>'\n",
              "            + ' to learn more about interactive tables.';\n",
              "          element.innerHTML = '';\n",
              "          dataTable['output_type'] = 'display_data';\n",
              "          await google.colab.output.renderOutput(dataTable, element);\n",
              "          const docLink = document.createElement('div');\n",
              "          docLink.innerHTML = docLinkHtml;\n",
              "          element.appendChild(docLink);\n",
              "        }\n",
              "      </script>\n",
              "    </div>\n",
              "  </div>\n",
              "  "
            ]
          },
          "metadata": {},
          "execution_count": 9
        }
      ]
    },
    {
      "cell_type": "code",
      "source": [
        "plt.figure(figsize = (12, 12))\n",
        "sns.heatmap(X.corr(), annot=True, cmap='PiYG')\n",
        "plt.show()"
      ],
      "metadata": {
        "colab": {
          "base_uri": "https://localhost:8080/",
          "height": 664
        },
        "id": "z-HTEtPpofop",
        "outputId": "ff196f36-9629-4b8e-86f2-8bbb59b5ea80"
      },
      "execution_count": null,
      "outputs": [
        {
          "output_type": "display_data",
          "data": {
            "text/plain": [
              "<Figure size 864x864 with 2 Axes>"
            ],
            "image/png": "[encoded data removed]"
          },
          "metadata": {
            "needs_background": "light"
          }
        }
      ]
    },
    {
      "cell_type": "code",
      "source": [
        "X.describe()"
      ],
      "metadata": {
        "colab": {
          "base_uri": "https://localhost:8080/",
          "height": 364
        },
        "id": "R1N0lXToo8TD",
        "outputId": "6f8dd3e2-0a16-4f63-84f4-600ea7e7c661"
      },
      "execution_count": null,
      "outputs": [
        {
          "output_type": "execute_result",
          "data": {
            "text/plain": [
              "          alcohol  malic_acid  alcalinity_of_ash   magnesium  total_phenols  \\\n",
              "count  178.000000  178.000000         178.000000  178.000000     178.000000   \n",
              "mean    13.000618    2.336348          19.494944   99.741573       2.295112   \n",
              "std      0.811827    1.117146           3.339564   14.282484       0.625851   \n",
              "min     11.030000    0.740000          10.600000   70.000000       0.980000   \n",
              "25%     12.362500    1.602500          17.200000   88.000000       1.742500   \n",
              "50%     13.050000    1.865000          19.500000   98.000000       2.355000   \n",
              "75%     13.677500    3.082500          21.500000  107.000000       2.800000   \n",
              "max     14.830000    5.800000          30.000000  162.000000       3.880000   \n",
              "\n",
              "       flavanoids  nonflavanoid_phenols  proanthocyanins  color_intensity  \\\n",
              "count  178.000000            178.000000       178.000000       178.000000   \n",
              "mean     2.029270              0.361854         1.590899         5.058090   \n",
              "std      0.998859              0.124453         0.572359         2.318286   \n",
              "min      0.340000              0.130000         0.410000         1.280000   \n",
              "25%      1.205000              0.270000         1.250000         3.220000   \n",
              "50%      2.135000              0.340000         1.555000         4.690000   \n",
              "75%      2.875000              0.437500         1.950000         6.200000   \n",
              "max      5.080000              0.660000         3.580000        13.000000   \n",
              "\n",
              "              hue  od280/od315_of_diluted_wines      proline  \n",
              "count  178.000000                    178.000000   178.000000  \n",
              "mean     0.957449                      2.611685   746.893258  \n",
              "std      0.228572                      0.709990   314.907474  \n",
              "min      0.480000                      1.270000   278.000000  \n",
              "25%      0.782500                      1.937500   500.500000  \n",
              "50%      0.965000                      2.780000   673.500000  \n",
              "75%      1.120000                      3.170000   985.000000  \n",
              "max      1.710000                      4.000000  1680.000000  "
            ],
            "text/html": [
              "\n",
              "  <div id=\"df-42adf0b3-5065-4429-9303-a6386478b44d\">\n",
              "    <div class=\"colab-df-container\">\n",
              "      <div>\n",
              "<style scoped>\n",
              "    .dataframe tbody tr th:only-of-type {\n",
              "        vertical-align: middle;\n",
              "    }\n",
              "\n",
              "    .dataframe tbody tr th {\n",
              "        vertical-align: top;\n",
              "    }\n",
              "\n",
              "    .dataframe thead th {\n",
              "        text-align: right;\n",
              "    }\n",
              "</style>\n",
              "<table border=\"1\" class=\"dataframe\">\n",
              "  <thead>\n",
              "    <tr style=\"text-align: right;\">\n",
              "      <th></th>\n",
              "      <th>alcohol</th>\n",
              "      <th>malic_acid</th>\n",
              "      <th>alcalinity_of_ash</th>\n",
              "      <th>magnesium</th>\n",
              "      <th>total_phenols</th>\n",
              "      <th>flavanoids</th>\n",
              "      <th>nonflavanoid_phenols</th>\n",
              "      <th>proanthocyanins</th>\n",
              "      <th>color_intensity</th>\n",
              "      <th>hue</th>\n",
              "      <th>od280/od315_of_diluted_wines</th>\n",
              "      <th>proline</th>\n",
              "    </tr>\n",
              "  </thead>\n",
              "  <tbody>\n",
              "    <tr>\n",
              "      <th>count</th>\n",
              "      <td>178.000000</td>\n",
              "      <td>178.000000</td>\n",
              "      <td>178.000000</td>\n",
              "      <td>178.000000</td>\n",
              "      <td>178.000000</td>\n",
              "      <td>178.000000</td>\n",
              "      <td>178.000000</td>\n",
              "      <td>178.000000</td>\n",
              "      <td>178.000000</td>\n",
              "      <td>178.000000</td>\n",
              "      <td>178.000000</td>\n",
              "      <td>178.000000</td>\n",
              "    </tr>\n",
              "    <tr>\n",
              "      <th>mean</th>\n",
              "      <td>13.000618</td>\n",
              "      <td>2.336348</td>\n",
              "      <td>19.494944</td>\n",
              "      <td>99.741573</td>\n",
              "      <td>2.295112</td>\n",
              "      <td>2.029270</td>\n",
              "      <td>0.361854</td>\n",
              "      <td>1.590899</td>\n",
              "      <td>5.058090</td>\n",
              "      <td>0.957449</td>\n",
              "      <td>2.611685</td>\n",
              "      <td>746.893258</td>\n",
              "    </tr>\n",
              "    <tr>\n",
              "      <th>std</th>\n",
              "      <td>0.811827</td>\n",
              "      <td>1.117146</td>\n",
              "      <td>3.339564</td>\n",
              "      <td>14.282484</td>\n",
              "      <td>0.625851</td>\n",
              "      <td>0.998859</td>\n",
              "      <td>0.124453</td>\n",
              "      <td>0.572359</td>\n",
              "      <td>2.318286</td>\n",
              "      <td>0.228572</td>\n",
              "      <td>0.709990</td>\n",
              "      <td>314.907474</td>\n",
              "    </tr>\n",
              "    <tr>\n",
              "      <th>min</th>\n",
              "      <td>11.030000</td>\n",
              "      <td>0.740000</td>\n",
              "      <td>10.600000</td>\n",
              "      <td>70.000000</td>\n",
              "      <td>0.980000</td>\n",
              "      <td>0.340000</td>\n",
              "      <td>0.130000</td>\n",
              "      <td>0.410000</td>\n",
              "      <td>1.280000</td>\n",
              "      <td>0.480000</td>\n",
              "      <td>1.270000</td>\n",
              "      <td>278.000000</td>\n",
              "    </tr>\n",
              "    <tr>\n",
              "      <th>25%</th>\n",
              "      <td>12.362500</td>\n",
              "      <td>1.602500</td>\n",
              "      <td>17.200000</td>\n",
              "      <td>88.000000</td>\n",
              "      <td>1.742500</td>\n",
              "      <td>1.205000</td>\n",
              "      <td>0.270000</td>\n",
              "      <td>1.250000</td>\n",
              "      <td>3.220000</td>\n",
              "      <td>0.782500</td>\n",
              "      <td>1.937500</td>\n",
              "      <td>500.500000</td>\n",
              "    </tr>\n",
              "    <tr>\n",
              "      <th>50%</th>\n",
              "      <td>13.050000</td>\n",
              "      <td>1.865000</td>\n",
              "      <td>19.500000</td>\n",
              "      <td>98.000000</td>\n",
              "      <td>2.355000</td>\n",
              "      <td>2.135000</td>\n",
              "      <td>0.340000</td>\n",
              "      <td>1.555000</td>\n",
              "      <td>4.690000</td>\n",
              "      <td>0.965000</td>\n",
              "      <td>2.780000</td>\n",
              "      <td>673.500000</td>\n",
              "    </tr>\n",
              "    <tr>\n",
              "      <th>75%</th>\n",
              "      <td>13.677500</td>\n",
              "      <td>3.082500</td>\n",
              "      <td>21.500000</td>\n",
              "      <td>107.000000</td>\n",
              "      <td>2.800000</td>\n",
              "      <td>2.875000</td>\n",
              "      <td>0.437500</td>\n",
              "      <td>1.950000</td>\n",
              "      <td>6.200000</td>\n",
              "      <td>1.120000</td>\n",
              "      <td>3.170000</td>\n",
              "      <td>985.000000</td>\n",
              "    </tr>\n",
              "    <tr>\n",
              "      <th>max</th>\n",
              "      <td>14.830000</td>\n",
              "      <td>5.800000</td>\n",
              "      <td>30.000000</td>\n",
              "      <td>162.000000</td>\n",
              "      <td>3.880000</td>\n",
              "      <td>5.080000</td>\n",
              "      <td>0.660000</td>\n",
              "      <td>3.580000</td>\n",
              "      <td>13.000000</td>\n",
              "      <td>1.710000</td>\n",
              "      <td>4.000000</td>\n",
              "      <td>1680.000000</td>\n",
              "    </tr>\n",
              "  </tbody>\n",
              "</table>\n",
              "</div>\n",
              "      <button class=\"colab-df-convert\" onclick=\"convertToInteractive('df-42adf0b3-5065-4429-9303-a6386478b44d')\"\n",
              "              title=\"Convert this dataframe to an interactive table.\"\n",
              "              style=\"display:none;\">\n",
              "        \n",
              "  <svg xmlns=\"http://www.w3.org/2000/svg\" height=\"24px\"viewBox=\"0 0 24 24\"\n",
              "       width=\"24px\">\n",
              "    <path d=\"M0 0h24v24H0V0z\" fill=\"none\"/>\n",
              "    <path d=\"M18.56 5.44l.94 2.06.94-2.06 2.06-.94-2.06-.94-.94-2.06-.94 2.06-2.06.94zm-11 1L8.5 8.5l.94-2.06 2.06-.94-2.06-.94L8.5 2.5l-.94 2.06-2.06.94zm10 10l.94 2.06.94-2.06 2.06-.94-2.06-.94-.94-2.06-.94 2.06-2.06.94z\"/><path d=\"M17.41 7.96l-1.37-1.37c-.4-.4-.92-.59-1.43-.59-.52 0-1.04.2-1.43.59L10.3 9.45l-7.72 7.72c-.78.78-.78 2.05 0 2.83L4 21.41c.39.39.9.59 1.41.59.51 0 1.02-.2 1.41-.59l7.78-7.78 2.81-2.81c.8-.78.8-2.07 0-2.86zM5.41 20L4 18.59l7.72-7.72 1.47 1.35L5.41 20z\"/>\n",
              "  </svg>\n",
              "      </button>\n",
              "      \n",
              "  <style>\n",
              "    .colab-df-container {\n",
              "      display:flex;\n",
              "      flex-wrap:wrap;\n",
              "      gap: 12px;\n",
              "    }\n",
              "\n",
              "    .colab-df-convert {\n",
              "      background-color: #E8F0FE;\n",
              "      border: none;\n",
              "      border-radius: 50%;\n",
              "      cursor: pointer;\n",
              "      display: none;\n",
              "      fill: #1967D2;\n",
              "      height: 32px;\n",
              "      padding: 0 0 0 0;\n",
              "      width: 32px;\n",
              "    }\n",
              "\n",
              "    .colab-df-convert:hover {\n",
              "      background-color: #E2EBFA;\n",
              "      box-shadow: 0px 1px 2px rgba(60, 64, 67, 0.3), 0px 1px 3px 1px rgba(60, 64, 67, 0.15);\n",
              "      fill: #174EA6;\n",
              "    }\n",
              "\n",
              "    [theme=dark] .colab-df-convert {\n",
              "      background-color: #3B4455;\n",
              "      fill: #D2E3FC;\n",
              "    }\n",
              "\n",
              "    [theme=dark] .colab-df-convert:hover {\n",
              "      background-color: #434B5C;\n",
              "      box-shadow: 0px 1px 3px 1px rgba(0, 0, 0, 0.15);\n",
              "      filter: drop-shadow(0px 1px 2px rgba(0, 0, 0, 0.3));\n",
              "      fill: #FFFFFF;\n",
              "    }\n",
              "  </style>\n",
              "\n",
              "      <script>\n",
              "        const buttonEl =\n",
              "          document.querySelector('#df-42adf0b3-5065-4429-9303-a6386478b44d button.colab-df-convert');\n",
              "        buttonEl.style.display =\n",
              "          google.colab.kernel.accessAllowed ? 'block' : 'none';\n",
              "\n",
              "        async function convertToInteractive(key) {\n",
              "          const element = document.querySelector('#df-42adf0b3-5065-4429-9303-a6386478b44d');\n",
              "          const dataTable =\n",
              "            await google.colab.kernel.invokeFunction('convertToInteractive',\n",
              "                                                     [key], {});\n",
              "          if (!dataTable) return;\n",
              "\n",
              "          const docLinkHtml = 'Like what you see? Visit the ' +\n",
              "            '<a target=\"_blank\" href=https://colab.research.google.com/notebooks/data_table.ipynb>data table notebook</a>'\n",
              "            + ' to learn more about interactive tables.';\n",
              "          element.innerHTML = '';\n",
              "          dataTable['output_type'] = 'display_data';\n",
              "          await google.colab.output.renderOutput(dataTable, element);\n",
              "          const docLink = document.createElement('div');\n",
              "          docLink.innerHTML = docLinkHtml;\n",
              "          element.appendChild(docLink);\n",
              "        }\n",
              "      </script>\n",
              "    </div>\n",
              "  </div>\n",
              "  "
            ]
          },
          "metadata": {},
          "execution_count": 11
        }
      ]
    },
    {
      "cell_type": "code",
      "source": [
        "X_train, X_test, y_train, y_test = train_test_split(X, y, random_state=42, test_size=0.3)\n",
        "print(X_train.shape)\n",
        "print(X_test.shape)\n",
        "print(y_train.shape)\n",
        "print(y_test.shape)"
      ],
      "metadata": {
        "colab": {
          "base_uri": "https://localhost:8080/"
        },
        "id": "RzcQERJNujU9",
        "outputId": "d660a298-a010-4e5d-e3e2-9209bbdead89"
      },
      "execution_count": null,
      "outputs": [
        {
          "output_type": "stream",
          "name": "stdout",
          "text": [
            "(124, 12)\n",
            "(54, 12)\n",
            "(124,)\n",
            "(54,)\n"
          ]
        }
      ]
    },
    {
      "cell_type": "code",
      "source": [
        "scal = StandardScaler()\n",
        "X_train = scal.fit_transform(X_train)\n",
        "X_test =  scal.transform(X_test)"
      ],
      "metadata": {
        "id": "b7Y2IETm765G"
      },
      "execution_count": null,
      "outputs": []
    },
    {
      "cell_type": "code",
      "source": [
        "ridge = RidgeClassifier(alpha=100, random_state=42)\n",
        "\n",
        "ridge.fit(X_train, y_train)"
      ],
      "metadata": {
        "colab": {
          "base_uri": "https://localhost:8080/"
        },
        "id": "W8o5c8NzwC55",
        "outputId": "fdda17ff-049a-44dd-89b6-5b4ecbd8df1d"
      },
      "execution_count": null,
      "outputs": [
        {
          "output_type": "execute_result",
          "data": {
            "text/plain": [
              "RidgeClassifier(alpha=100, random_state=42)"
            ]
          },
          "metadata": {},
          "execution_count": 14
        }
      ]
    },
    {
      "cell_type": "code",
      "source": [
        "y_test_pred = ridge.predict(X_test)\n",
        "y_train_pred = ridge.predict(X_train)\n",
        "\n",
        "print(f'Test Error : {ridge.score(X_train,y_train)}')\n",
        "# print(f'Test Error : {ridge.score(y_train, y_train_pred)}')"
      ],
      "metadata": {
        "colab": {
          "base_uri": "https://localhost:8080/"
        },
        "id": "2XgrIIAgp2cs",
        "outputId": "7b033fef-6316-448a-f969-ae90199a1d7a"
      },
      "execution_count": null,
      "outputs": [
        {
          "output_type": "stream",
          "name": "stdout",
          "text": [
            "Test Error : 0.9758064516129032\n"
          ]
        }
      ]
    },
    {
      "cell_type": "code",
      "source": [
        ""
      ],
      "metadata": {
        "id": "Myv2CnB5qdG5"
      },
      "execution_count": null,
      "outputs": []
    },
    {
      "cell_type": "markdown",
      "source": [
        "## Digit Classifier"
      ],
      "metadata": {
        "id": "kcAWQKqu_Zjd"
      }
    },
    {
      "cell_type": "code",
      "source": [
        "from sklearn.datasets import fetch_openml\n",
        "from sklearn.linear_model import Perceptron"
      ],
      "metadata": {
        "id": "6VeTAiIs_1IR"
      },
      "execution_count": 82,
      "outputs": []
    },
    {
      "cell_type": "markdown",
      "source": [
        "Handwritten digit classifier<br>\n",
        "Initially we do One Vs All classification.<br>\n",
        "That is we will predict a digit id $0$ or not."
      ],
      "metadata": {
        "id": "9oJWu--T_lkw"
      }
    },
    {
      "cell_type": "code",
      "source": [
        "# Returns pandas dataframe\n",
        "X, y = fetch_openml('mnist_784', version=1, return_X_y=True)"
      ],
      "metadata": {
        "id": "LeY2wZn2_bF6"
      },
      "execution_count": 83,
      "outputs": []
    },
    {
      "cell_type": "markdown",
      "source": [
        "COnvert X and y into numpy array"
      ],
      "metadata": {
        "id": "S8cu0mz9BBHQ"
      }
    },
    {
      "cell_type": "code",
      "source": [
        "X = X.to_numpy()\n",
        "y = y.to_numpy()"
      ],
      "metadata": {
        "id": "mgORO0HIA_-H"
      },
      "execution_count": 84,
      "outputs": []
    },
    {
      "cell_type": "code",
      "source": [
        "target_names = np.unique(y)\n",
        "print(f'Number of samples : {X.shape[0]}')\n",
        "print(f'Number of features : {X.shape[1]}')\n",
        "print(f'Range of features : {np.min(X)} - {np.max(X)}')\n",
        "print(f'Number of classes : {len(target_names)}')\n",
        "print(f'Labels : {target_names}')"
      ],
      "metadata": {
        "colab": {
          "base_uri": "https://localhost:8080/"
        },
        "id": "tOyU-p5RAtlP",
        "outputId": "6643f05d-b63d-4908-ea72-346e797e208c"
      },
      "execution_count": 85,
      "outputs": [
        {
          "output_type": "stream",
          "name": "stdout",
          "text": [
            "Number of samples : 70000\n",
            "Number of features : 784\n",
            "Range of features : 0.0 - 255.0\n",
            "Number of classes : 10\n",
            "Labels : ['0' '1' '2' '3' '4' '5' '6' '7' '8' '9']\n"
          ]
        }
      ]
    },
    {
      "cell_type": "markdown",
      "source": [
        "As features range from $0$ to $255$ so we will normalize the features and bring sown the features in $0$ to $1$."
      ],
      "metadata": {
        "id": "cR0SzQEZCErj"
      }
    },
    {
      "cell_type": "code",
      "source": [
        "X = MinMaxScaler().fit_transform(X)\n",
        "print(f'Range of features : {np.min(X)} - {np.max(X)}')"
      ],
      "metadata": {
        "colab": {
          "base_uri": "https://localhost:8080/"
        },
        "id": "1kdO4EqcBUlC",
        "outputId": "b4c5a3ce-25ad-4dec-b5db-b686010978d2"
      },
      "execution_count": 86,
      "outputs": [
        {
          "output_type": "stream",
          "name": "stdout",
          "text": [
            "Range of features : 0.0 - 1.0\n"
          ]
        }
      ]
    },
    {
      "cell_type": "markdown",
      "source": [
        "**Data Visualization**<br>\n",
        "Each image is $28$ X $28$ pixels in dimentions. In the dataset these are stored in the form of an array consisting $784$ entries with each entry in the matrix corresponding to the value of corresponding pixel."
      ],
      "metadata": {
        "id": "bjF-Gt66CcVc"
      }
    },
    {
      "cell_type": "code",
      "source": [
        "num_images = 6\n",
        "factor = 2\n",
        "fig, ax = plt.subplots(nrows=factor, ncols = factor+1, figsize=(6, 6))\n",
        "\n",
        "idx_offset = 0 # plot images starting from starting offset\n",
        "for i in range(factor):\n",
        "    index = idx_offset + i*factor\n",
        "    for j in range(factor+1):\n",
        "        ax[i, j].imshow(X[index+j].reshape(28, 28), cmap='Oranges_r')\n",
        "        ax[i, j].set_title('Label:{0}'.format(str(y[index+j])))\n",
        "        ax[i, j].set_axis_off()"
      ],
      "metadata": {
        "colab": {
          "base_uri": "https://localhost:8080/",
          "height": 323
        },
        "id": "u4VN2i2mCaCM",
        "outputId": "5ba3c4de-370f-42b2-815c-c6fa1e07c4f5"
      },
      "execution_count": 87,
      "outputs": [
        {
          "output_type": "display_data",
          "data": {
            "text/plain": [
              "<Figure size 432x432 with 6 Axes>"
            ],
            "image/png": "[encoded data removed]"
          },
          "metadata": {
            "needs_background": "light"
          }
        }
      ]
    },
    {
      "cell_type": "markdown",
      "source": [
        "Splitting of data"
      ],
      "metadata": {
        "id": "YFLxAYrEFxIJ"
      }
    },
    {
      "cell_type": "code",
      "source": [
        "X_train, X_test, y_train, y_test = X[:60000], X[60000:], y[:60000], y[60000:]\n"
      ],
      "metadata": {
        "id": "PyH-PwsHDa7R"
      },
      "execution_count": 88,
      "outputs": []
    },
    {
      "cell_type": "code",
      "source": [
        "print(X_train.shape)\n",
        "print(X_test.shape)\n",
        "print(y_train.shape)\n",
        "print(y_test.shape)"
      ],
      "metadata": {
        "colab": {
          "base_uri": "https://localhost:8080/"
        },
        "id": "Qp-J9s4oGQPB",
        "outputId": "772bf883-1fd7-4b68-ccc3-ab11b4065c06"
      },
      "execution_count": 89,
      "outputs": [
        {
          "output_type": "stream",
          "name": "stdout",
          "text": [
            "(60000, 784)\n",
            "(10000, 784)\n",
            "(60000,)\n",
            "(10000,)\n"
          ]
        }
      ]
    },
    {
      "cell_type": "markdown",
      "source": [
        "**Modify labels**\n",
        "- Since the original label vector contains 10 classes, we need to modify the number of classes to 2.\n",
        "\n",
        "- Therefore, the label 0 will be changed 1 and all the other labels (1-9) will be changed to -1.\n",
        "\n",
        "- We will name the label vectors as ```y_train_0``` and ```y_test_0```."
      ],
      "metadata": {
        "id": "TOuILl1zLP_B"
      }
    },
    {
      "cell_type": "code",
      "source": [
        "# initialize new variable names with all -1\n",
        "y_train_0 = -1*np.ones(len(y_train))\n",
        "y_test_0 = -1*np.ones(len(y_test))\n",
        "\n",
        "# find indices of digit 0 image\n",
        "indx_0 = np.where(y_train=='0') \n",
        "\n",
        "# remember original labels are of type str not int, so use those indices to modify y_train_0 & y_test_0\n",
        "\n",
        "y_train_0[indx_0] = 1\n",
        "indx_0 = np.where(y_test =='0')\n",
        "y_test_0[indx_0] = 1"
      ],
      "metadata": {
        "id": "G1ZDAf51GGgP"
      },
      "execution_count": 90,
      "outputs": []
    },
    {
      "cell_type": "markdown",
      "source": [
        "Again display images to check whether labels have changed"
      ],
      "metadata": {
        "id": "xWKY2Zr0MMRJ"
      }
    },
    {
      "cell_type": "code",
      "source": [
        "num_images = 6\n",
        "factor = 2\n",
        "\n",
        "fig,ax = plt.subplots(nrows=factor, ncols=factor+1,figsize=(6,6))\n",
        "# take \"num_images\" starting from the index \"idx_offset\"\n",
        "idx_offset = 0 \n",
        "\n",
        "for i in range(factor):\n",
        "    index = idx_offset + i*(factor)\n",
        "    for j in range(factor+1):\n",
        "        ax[i,j].imshow(X[index+j].reshape(28,28), cmap='Oranges_r')\n",
        "        ax[i,j].set_title('Label : {0}'.format(str(y_train_0[index+j])))\n",
        "        ax[i,j].set_axis_off()"
      ],
      "metadata": {
        "colab": {
          "base_uri": "https://localhost:8080/",
          "height": 323
        },
        "id": "bw8Eg90tMF5H",
        "outputId": "ffc5daf8-7f11-4652-bbfb-6eac9bb870b0"
      },
      "execution_count": 91,
      "outputs": [
        {
          "output_type": "display_data",
          "data": {
            "text/plain": [
              "<Figure size 432x432 with 6 Axes>"
            ],
            "image/png": "[encoded data removed]"
          },
          "metadata": {
            "needs_background": "light"
          }
        }
      ]
    },
    {
      "cell_type": "markdown",
      "source": [
        "**Perceptron Model**\n",
        "\n",
        "1. **Training data**\n",
        "- consists of features and labels $(X, y)$\n",
        "- $y$ is a discrete number.\n",
        "\n",
        "2. **Model** : \n",
        "\n",
        "\\begin{align}\n",
        "        h_w : y &= g(w^T x)\\\\\n",
        "        &= g(w_0 + w_1 x_1 + ....+w_m x_m)\n",
        "    \\end{align}\n",
        "where,<br>\n",
        "- $w$ is weight vector\n",
        "- $g(.)$ is the signum function.\n",
        "\n",
        "3. **Loss Function**:\n",
        "\n",
        "\n",
        "\\begin{align}\n",
        "    \\text e^{(i)}& =\\begin{cases} 0 , \\ \\ \\text { if} \\ \\ {\\hat y}^{(i)} = y^{(i)} \\\\ -\\mathbf {w^Tx^{(i)}}y^{(i)}, \\text { otherwise} (i.e. {\\hat y}^{(i)} \\ne y^{(i)})\\end{cases}\n",
        "\\end{align}\n",
        "\n",
        "![image.png](data:image/png;base64,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)"
      ],
      "metadata": {
        "id": "NpVA2FQsSCFk"
      }
    },
    {
      "cell_type": "markdown",
      "source": [
        "**Parameters of Perceptron Loss**\n",
        "\n",
        "- Let's quickly take a look into the important parameters of the Perceptron()<br>\n",
        "```class sklearn.linear_model.Perceptron (*,penalty=None, alpha = 0.0001, l1_ratio=0.15, fit_intercept = True, max_iter=1000,tol=0.001, shuffle=True, verbose=0, eta0=1.0, n_jobs=None, random_state=0, early_stopping=False, validation_fraction=0.1, n_iter_no_change=5,class_weight=None, warm_start=False)```.\n",
        "\n",
        "- We need not to pay attention to all the arguments and their default values.\n",
        "\n",
        "- Internally, the API uses the perceptron loss (i.e. it calls Hinge(0,0), where 0.0 is a threshold) and uses SGD to update the weights.\n",
        "\n",
        "- The other way of deploying perceptron is to use the general ```linear_model.SGDClassifier``` with ```loss='perceptron'```\n",
        "\n",
        "- The above loss is termed as hard Hinge-loss (as scores pass through the sign function) and hence we can't use SGD.\n",
        "\n",
        "- Whereas, sklearn implements hinge-loss with the following definition: $max(0, - w(x^i)y^i)$and by default calls SGD to minimize the loss."
      ],
      "metadata": {
        "id": "iCLVvv1uW6N_"
      }
    },
    {
      "cell_type": "markdown",
      "source": [
        "**Training and fitting of Model**<br>\n"
      ],
      "metadata": {
        "id": "TnC9nNWtXr-s"
      }
    },
    {
      "cell_type": "code",
      "source": [
        "bin_clf = Perceptron(max_iter=100, random_state=1729)"
      ],
      "metadata": {
        "id": "LqILR6LZMkv6"
      },
      "execution_count": 92,
      "outputs": []
    },
    {
      "cell_type": "code",
      "source": [
        "bin_clf.fit(X_train, y_train_0)\n",
        "\n",
        "print(f'Weight dimentions : {bin_clf.coef_.shape}')\n",
        "print(f'Bias : {bin_clf.intercept_}')\n",
        "print(f'Loss function : {bin_clf.loss_function_}')"
      ],
      "metadata": {
        "colab": {
          "base_uri": "https://localhost:8080/"
        },
        "id": "Mk4J5Jl4YF2f",
        "outputId": "c010fce2-fd04-47b0-896a-833e805d3ef9"
      },
      "execution_count": 93,
      "outputs": [
        {
          "output_type": "stream",
          "name": "stdout",
          "text": [
            "Weight dimentions : (1, 784)\n",
            "Bias : [-108.]\n",
            "Loss function : <sklearn.linear_model._sgd_fast.Hinge object at 0x7fd84c2228f0>\n"
          ]
        }
      ]
    },
    {
      "cell_type": "markdown",
      "source": [
        "Make predictions of training set and check accuracy."
      ],
      "metadata": {
        "id": "S3zob2xsYiJ9"
      }
    },
    {
      "cell_type": "code",
      "source": [
        "y_hat_train_0 = bin_clf.predict(X_train)\n",
        "print(f'Training accuracy : {bin_clf.score(X_train, y_train_0)}')"
      ],
      "metadata": {
        "colab": {
          "base_uri": "https://localhost:8080/"
        },
        "id": "NapJmyK6YKT0",
        "outputId": "8e477222-e5ee-430f-e341-175c3f88bd06"
      },
      "execution_count": 94,
      "outputs": [
        {
          "output_type": "stream",
          "name": "stdout",
          "text": [
            "Training accuracy : 0.99095\n"
          ]
        }
      ]
    },
    {
      "cell_type": "markdown",
      "source": [
        "Let's check test accuracy"
      ],
      "metadata": {
        "id": "Y1GmFaHAY4vI"
      }
    },
    {
      "cell_type": "code",
      "source": [
        "print(f'test accuracy : {bin_clf.score(X_test, y_test_0)}')"
      ],
      "metadata": {
        "colab": {
          "base_uri": "https://localhost:8080/"
        },
        "id": "LmAj4V53Y296",
        "outputId": "b1f9e7e5-cbdb-4298-f847-9e8e374be57e"
      },
      "execution_count": 95,
      "outputs": [
        {
          "output_type": "stream",
          "name": "stdout",
          "text": [
            "test accuracy : 0.989\n"
          ]
        }
      ]
    },
    {
      "cell_type": "markdown",
      "source": [
        "Display Predictions"
      ],
      "metadata": {
        "id": "YeUSCD5DZLsJ"
      }
    },
    {
      "cell_type": "code",
      "source": [
        "y_hat_test_0 = bin_clf.predict(X_test)\n",
        "\n",
        "num_images = 6\n",
        "factor = 2\n",
        "\n",
        "fig,ax = plt.subplots(nrows=factor, ncols=factor+1,figsize=(6,6))\n",
        "# take \"num_images\" starting from the index \"idx_offset\"\n",
        "idx_offset = 0 \n",
        "\n",
        "for i in range(factor):\n",
        "    index = idx_offset + i*(factor)\n",
        "    for j in range(factor+1):\n",
        "        ax[i,j].imshow(X_test[index+j].reshape(28,28), cmap='Oranges_r')\n",
        "        ax[i,j].set_title('Label : {0}'.format(str(y_hat_test_0[index+j])))\n",
        "        ax[i,j].set_axis_off()"
      ],
      "metadata": {
        "colab": {
          "base_uri": "https://localhost:8080/",
          "height": 323
        },
        "id": "GNYRndyTZDvp",
        "outputId": "9b7007b6-7744-4111-c656-7e9dd5b56815"
      },
      "execution_count": 96,
      "outputs": [
        {
          "output_type": "display_data",
          "data": {
            "text/plain": [
              "<Figure size 432x432 with 6 Axes>"
            ],
            "image/png": "[encoded data removed]"
          },
          "metadata": {
            "needs_background": "light"
          }
        }
      ]
    },
    {
      "cell_type": "markdown",
      "source": [
        "Only display correct predictions"
      ],
      "metadata": {
        "id": "NLrKOVZmZez0"
      }
    },
    {
      "cell_type": "code",
      "source": [
        "index_0 = np.where(y_test_0 == 1)\n",
        "\n",
        "zeroImage = X_test[index_0[0]]\n",
        "zeroLabel = y_hat_test_0[index_0[0]]\n",
        "\n",
        "num_images = 6\n",
        "factor = 2\n",
        "\n",
        "fig,ax = plt.subplots(nrows=factor, ncols=factor+1,figsize=(6,6))\n",
        "# take \"num_images\" starting from the index \"idx_offset\"\n",
        "idx_offset = 0 \n",
        "\n",
        "for i in range(factor):\n",
        "    index = idx_offset + i*(factor)\n",
        "    for j in range(factor+1):\n",
        "        ax[i,j].imshow(zeroImage[index+j].reshape(28,28), cmap='Oranges_r')\n",
        "        ax[i,j].set_title('Label : {0}'.format(str(zeroLabel[index+j])))\n",
        "        ax[i,j].set_axis_off()"
      ],
      "metadata": {
        "colab": {
          "base_uri": "https://localhost:8080/",
          "height": 323
        },
        "id": "_qCpPtXBZZcB",
        "outputId": "f9fd5933-782b-4fd6-e197-afcc80f5adb7"
      },
      "execution_count": 97,
      "outputs": [
        {
          "output_type": "display_data",
          "data": {
            "text/plain": [
              "<Figure size 432x432 with 6 Axes>"
            ],
            "image/png": "[encoded data removed]"
          },
          "metadata": {
            "needs_background": "light"
          }
        }
      ]
    },
    {
      "cell_type": "markdown",
      "source": [
        "Get number of misclassified images"
      ],
      "metadata": {
        "id": "HD4Wshseacpc"
      }
    },
    {
      "cell_type": "code",
      "source": [
        "num_misClassified = np.count_nonzero(zeroLabel == -1)\n",
        "\n",
        "num_correctClassified = len(zeroLabel) - num_misClassified\n",
        "\n",
        "accuracy = num_correctClassified/ len(zeroLabel)\n",
        "print(accuracy)"
      ],
      "metadata": {
        "colab": {
          "base_uri": "https://localhost:8080/"
        },
        "id": "sRHChKo8aZPM",
        "outputId": "a2ebc57d-1f95-49cc-c31e-d46166540114"
      },
      "execution_count": 98,
      "outputs": [
        {
          "output_type": "stream",
          "name": "stdout",
          "text": [
            "0.9193877551020408\n"
          ]
        }
      ]
    },
    {
      "cell_type": "code",
      "source": [
        "y_hat_train_0 = bin_clf.predict(X_train)\n",
        "cm_display = ConfusionMatrixDisplay.from_predictions(y_train_0, \n",
        "                                        y_hat_train_0,\n",
        "                                        values_format='.5g')"
      ],
      "metadata": {
        "colab": {
          "base_uri": "https://localhost:8080/",
          "height": 279
        },
        "id": "eMM6XV5lax94",
        "outputId": "10abde64-a70d-4ac6-d3d5-87ca324c5149"
      },
      "execution_count": 99,
      "outputs": [
        {
          "output_type": "display_data",
          "data": {
            "text/plain": [
              "<Figure size 432x288 with 2 Axes>"
            ],
            "image/png": "[encoded data removed]"
          },
          "metadata": {
            "needs_background": "light"
          }
        }
      ]
    },
    {
      "cell_type": "code",
      "source": [
        "print(classification_report(y_train_0,y_hat_train_0))"
      ],
      "metadata": {
        "colab": {
          "base_uri": "https://localhost:8080/"
        },
        "id": "asxWyLfvrrl8",
        "outputId": "c85905b7-15e8-4f6c-8b37-509ec87116c8"
      },
      "execution_count": 100,
      "outputs": [
        {
          "output_type": "stream",
          "name": "stdout",
          "text": [
            "              precision    recall  f1-score   support\n",
            "\n",
            "        -1.0       0.99      1.00      0.99     54077\n",
            "         1.0       0.98      0.93      0.95      5923\n",
            "\n",
            "    accuracy                           0.99     60000\n",
            "   macro avg       0.99      0.96      0.97     60000\n",
            "weighted avg       0.99      0.99      0.99     60000\n",
            "\n"
          ]
        }
      ]
    },
    {
      "cell_type": "markdown",
      "source": [
        "**Cross validation**<br>\n",
        "We will apply cross validation in order to check whether our model predicted correct labels or not."
      ],
      "metadata": {
        "id": "ssGzY-X4v8kb"
      }
    },
    {
      "cell_type": "code",
      "source": [
        "bin_clf = Perceptron(max_iter=100, random_state=1729)\n",
        "\n",
        "scores = cross_validate(bin_clf, X_train, y_train_0, cv=5, \n",
        "                        scoring = ['precision', 'recall', 'f1'],\n",
        "                        return_estimator=True)\n",
        "\n",
        "for key in scores.keys():\n",
        "    print(f'{key} : {scores[key]}')"
      ],
      "metadata": {
        "colab": {
          "base_uri": "https://localhost:8080/"
        },
        "id": "mSTPku1Wv5QN",
        "outputId": "cab23a4d-c90d-4cb8-bcd6-701adc52bfe5"
      },
      "execution_count": 106,
      "outputs": [
        {
          "output_type": "stream",
          "name": "stdout",
          "text": [
            "fit_time : [1.17745471 2.37194896 2.10750079 1.39581656 1.79982924]\n",
            "score_time : [0.07774043 0.0747118  0.07841539 0.06500983 0.07924438]\n",
            "estimator : [Perceptron(max_iter=100, random_state=1729), Perceptron(max_iter=100, random_state=1729), Perceptron(max_iter=100, random_state=1729), Perceptron(max_iter=100, random_state=1729), Perceptron(max_iter=100, random_state=1729)]\n",
            "test_precision : [0.95890411 0.98828125 0.95319149 0.95090439 0.96200345]\n",
            "test_recall : [0.94594595 0.85472973 0.94514768 0.93164557 0.94008439]\n",
            "test_f1 : [0.95238095 0.91666667 0.94915254 0.94117647 0.95091763]\n"
          ]
        }
      ]
    },
    {
      "cell_type": "code",
      "source": [
        "# Print al cross validation results in a data freme\n",
        "CV_df = pd.DataFrame(scores)\n",
        "# CV_df.reset_index(inplace=True, drop=True)\n",
        "CV_df"
      ],
      "metadata": {
        "colab": {
          "base_uri": "https://localhost:8080/",
          "height": 206
        },
        "id": "Yr8M6bV_xDd0",
        "outputId": "400ad747-74cd-48c4-ef43-a51df0bd62b2"
      },
      "execution_count": 111,
      "outputs": [
        {
          "output_type": "execute_result",
          "data": {
            "text/plain": [
              "   fit_time  score_time                                    estimator  \\\n",
              "0  1.177455    0.077740  Perceptron(max_iter=100, random_state=1729)   \n",
              "1  2.371949    0.074712  Perceptron(max_iter=100, random_state=1729)   \n",
              "2  2.107501    0.078415  Perceptron(max_iter=100, random_state=1729)   \n",
              "3  1.395817    0.065010  Perceptron(max_iter=100, random_state=1729)   \n",
              "4  1.799829    0.079244  Perceptron(max_iter=100, random_state=1729)   \n",
              "\n",
              "   test_precision  test_recall   test_f1  \n",
              "0        0.958904     0.945946  0.952381  \n",
              "1        0.988281     0.854730  0.916667  \n",
              "2        0.953191     0.945148  0.949153  \n",
              "3        0.950904     0.931646  0.941176  \n",
              "4        0.962003     0.940084  0.950918  "
            ],
            "text/html": [
              "\n",
              "  <div id=\"df-35a2e66d-86c1-4f4a-beec-e2c5d39435b8\">\n",
              "    <div class=\"colab-df-container\">\n",
              "      <div>\n",
              "<style scoped>\n",
              "    .dataframe tbody tr th:only-of-type {\n",
              "        vertical-align: middle;\n",
              "    }\n",
              "\n",
              "    .dataframe tbody tr th {\n",
              "        vertical-align: top;\n",
              "    }\n",
              "\n",
              "    .dataframe thead th {\n",
              "        text-align: right;\n",
              "    }\n",
              "</style>\n",
              "<table border=\"1\" class=\"dataframe\">\n",
              "  <thead>\n",
              "    <tr style=\"text-align: right;\">\n",
              "      <th></th>\n",
              "      <th>fit_time</th>\n",
              "      <th>score_time</th>\n",
              "      <th>estimator</th>\n",
              "      <th>test_precision</th>\n",
              "      <th>test_recall</th>\n",
              "      <th>test_f1</th>\n",
              "    </tr>\n",
              "  </thead>\n",
              "  <tbody>\n",
              "    <tr>\n",
              "      <th>0</th>\n",
              "      <td>1.177455</td>\n",
              "      <td>0.077740</td>\n",
              "      <td>Perceptron(max_iter=100, random_state=1729)</td>\n",
              "      <td>0.958904</td>\n",
              "      <td>0.945946</td>\n",
              "      <td>0.952381</td>\n",
              "    </tr>\n",
              "    <tr>\n",
              "      <th>1</th>\n",
              "      <td>2.371949</td>\n",
              "      <td>0.074712</td>\n",
              "      <td>Perceptron(max_iter=100, random_state=1729)</td>\n",
              "      <td>0.988281</td>\n",
              "      <td>0.854730</td>\n",
              "      <td>0.916667</td>\n",
              "    </tr>\n",
              "    <tr>\n",
              "      <th>2</th>\n",
              "      <td>2.107501</td>\n",
              "      <td>0.078415</td>\n",
              "      <td>Perceptron(max_iter=100, random_state=1729)</td>\n",
              "      <td>0.953191</td>\n",
              "      <td>0.945148</td>\n",
              "      <td>0.949153</td>\n",
              "    </tr>\n",
              "    <tr>\n",
              "      <th>3</th>\n",
              "      <td>1.395817</td>\n",
              "      <td>0.065010</td>\n",
              "      <td>Perceptron(max_iter=100, random_state=1729)</td>\n",
              "      <td>0.950904</td>\n",
              "      <td>0.931646</td>\n",
              "      <td>0.941176</td>\n",
              "    </tr>\n",
              "    <tr>\n",
              "      <th>4</th>\n",
              "      <td>1.799829</td>\n",
              "      <td>0.079244</td>\n",
              "      <td>Perceptron(max_iter=100, random_state=1729)</td>\n",
              "      <td>0.962003</td>\n",
              "      <td>0.940084</td>\n",
              "      <td>0.950918</td>\n",
              "    </tr>\n",
              "  </tbody>\n",
              "</table>\n",
              "</div>\n",
              "      <button class=\"colab-df-convert\" onclick=\"convertToInteractive('df-35a2e66d-86c1-4f4a-beec-e2c5d39435b8')\"\n",
              "              title=\"Convert this dataframe to an interactive table.\"\n",
              "              style=\"display:none;\">\n",
              "        \n",
              "  <svg xmlns=\"http://www.w3.org/2000/svg\" height=\"24px\"viewBox=\"0 0 24 24\"\n",
              "       width=\"24px\">\n",
              "    <path d=\"M0 0h24v24H0V0z\" fill=\"none\"/>\n",
              "    <path d=\"M18.56 5.44l.94 2.06.94-2.06 2.06-.94-2.06-.94-.94-2.06-.94 2.06-2.06.94zm-11 1L8.5 8.5l.94-2.06 2.06-.94-2.06-.94L8.5 2.5l-.94 2.06-2.06.94zm10 10l.94 2.06.94-2.06 2.06-.94-2.06-.94-.94-2.06-.94 2.06-2.06.94z\"/><path d=\"M17.41 7.96l-1.37-1.37c-.4-.4-.92-.59-1.43-.59-.52 0-1.04.2-1.43.59L10.3 9.45l-7.72 7.72c-.78.78-.78 2.05 0 2.83L4 21.41c.39.39.9.59 1.41.59.51 0 1.02-.2 1.41-.59l7.78-7.78 2.81-2.81c.8-.78.8-2.07 0-2.86zM5.41 20L4 18.59l7.72-7.72 1.47 1.35L5.41 20z\"/>\n",
              "  </svg>\n",
              "      </button>\n",
              "      \n",
              "  <style>\n",
              "    .colab-df-container {\n",
              "      display:flex;\n",
              "      flex-wrap:wrap;\n",
              "      gap: 12px;\n",
              "    }\n",
              "\n",
              "    .colab-df-convert {\n",
              "      background-color: #E8F0FE;\n",
              "      border: none;\n",
              "      border-radius: 50%;\n",
              "      cursor: pointer;\n",
              "      display: none;\n",
              "      fill: #1967D2;\n",
              "      height: 32px;\n",
              "      padding: 0 0 0 0;\n",
              "      width: 32px;\n",
              "    }\n",
              "\n",
              "    .colab-df-convert:hover {\n",
              "      background-color: #E2EBFA;\n",
              "      box-shadow: 0px 1px 2px rgba(60, 64, 67, 0.3), 0px 1px 3px 1px rgba(60, 64, 67, 0.15);\n",
              "      fill: #174EA6;\n",
              "    }\n",
              "\n",
              "    [theme=dark] .colab-df-convert {\n",
              "      background-color: #3B4455;\n",
              "      fill: #D2E3FC;\n",
              "    }\n",
              "\n",
              "    [theme=dark] .colab-df-convert:hover {\n",
              "      background-color: #434B5C;\n",
              "      box-shadow: 0px 1px 3px 1px rgba(0, 0, 0, 0.15);\n",
              "      filter: drop-shadow(0px 1px 2px rgba(0, 0, 0, 0.3));\n",
              "      fill: #FFFFFF;\n",
              "    }\n",
              "  </style>\n",
              "\n",
              "      <script>\n",
              "        const buttonEl =\n",
              "          document.querySelector('#df-35a2e66d-86c1-4f4a-beec-e2c5d39435b8 button.colab-df-convert');\n",
              "        buttonEl.style.display =\n",
              "          google.colab.kernel.accessAllowed ? 'block' : 'none';\n",
              "\n",
              "        async function convertToInteractive(key) {\n",
              "          const element = document.querySelector('#df-35a2e66d-86c1-4f4a-beec-e2c5d39435b8');\n",
              "          const dataTable =\n",
              "            await google.colab.kernel.invokeFunction('convertToInteractive',\n",
              "                                                     [key], {});\n",
              "          if (!dataTable) return;\n",
              "\n",
              "          const docLinkHtml = 'Like what you see? Visit the ' +\n",
              "            '<a target=\"_blank\" href=https://colab.research.google.com/notebooks/data_table.ipynb>data table notebook</a>'\n",
              "            + ' to learn more about interactive tables.';\n",
              "          element.innerHTML = '';\n",
              "          dataTable['output_type'] = 'display_data';\n",
              "          await google.colab.output.renderOutput(dataTable, element);\n",
              "          const docLink = document.createElement('div');\n",
              "          docLink.innerHTML = docLinkHtml;\n",
              "          element.appendChild(docLink);\n",
              "        }\n",
              "      </script>\n",
              "    </div>\n",
              "  </div>\n",
              "  "
            ]
          },
          "metadata": {},
          "execution_count": 111
        }
      ]
    },
    {
      "cell_type": "code",
      "source": [
        "# Summarixe the mean and standard deviation of precision, recall and f1 score\n",
        "CV_df[['test_precision', 'test_recall', 'test_f1']].describe()"
      ],
      "metadata": {
        "colab": {
          "base_uri": "https://localhost:8080/",
          "height": 300
        },
        "id": "bZ01FU3eyORH",
        "outputId": "f938b648-c458-46b6-c716-853b19e07f43"
      },
      "execution_count": 121,
      "outputs": [
        {
          "output_type": "execute_result",
          "data": {
            "text/plain": [
              "       test_precision  test_recall   test_f1\n",
              "count        5.000000     5.000000  5.000000\n",
              "mean         0.962657     0.923511  0.942059\n",
              "std          0.014990     0.038869  0.014840\n",
              "min          0.950904     0.854730  0.916667\n",
              "25%          0.953191     0.931646  0.941176\n",
              "50%          0.958904     0.940084  0.949153\n",
              "75%          0.962003     0.945148  0.950918\n",
              "max          0.988281     0.945946  0.952381"
            ],
            "text/html": [
              "\n",
              "  <div id=\"df-aa43f595-bed8-4a71-8446-2f8b98992ec2\">\n",
              "    <div class=\"colab-df-container\">\n",
              "      <div>\n",
              "<style scoped>\n",
              "    .dataframe tbody tr th:only-of-type {\n",
              "        vertical-align: middle;\n",
              "    }\n",
              "\n",
              "    .dataframe tbody tr th {\n",
              "        vertical-align: top;\n",
              "    }\n",
              "\n",
              "    .dataframe thead th {\n",
              "        text-align: right;\n",
              "    }\n",
              "</style>\n",
              "<table border=\"1\" class=\"dataframe\">\n",
              "  <thead>\n",
              "    <tr style=\"text-align: right;\">\n",
              "      <th></th>\n",
              "      <th>test_precision</th>\n",
              "      <th>test_recall</th>\n",
              "      <th>test_f1</th>\n",
              "    </tr>\n",
              "  </thead>\n",
              "  <tbody>\n",
              "    <tr>\n",
              "      <th>count</th>\n",
              "      <td>5.000000</td>\n",
              "      <td>5.000000</td>\n",
              "      <td>5.000000</td>\n",
              "    </tr>\n",
              "    <tr>\n",
              "      <th>mean</th>\n",
              "      <td>0.962657</td>\n",
              "      <td>0.923511</td>\n",
              "      <td>0.942059</td>\n",
              "    </tr>\n",
              "    <tr>\n",
              "      <th>std</th>\n",
              "      <td>0.014990</td>\n",
              "      <td>0.038869</td>\n",
              "      <td>0.014840</td>\n",
              "    </tr>\n",
              "    <tr>\n",
              "      <th>min</th>\n",
              "      <td>0.950904</td>\n",
              "      <td>0.854730</td>\n",
              "      <td>0.916667</td>\n",
              "    </tr>\n",
              "    <tr>\n",
              "      <th>25%</th>\n",
              "      <td>0.953191</td>\n",
              "      <td>0.931646</td>\n",
              "      <td>0.941176</td>\n",
              "    </tr>\n",
              "    <tr>\n",
              "      <th>50%</th>\n",
              "      <td>0.958904</td>\n",
              "      <td>0.940084</td>\n",
              "      <td>0.949153</td>\n",
              "    </tr>\n",
              "    <tr>\n",
              "      <th>75%</th>\n",
              "      <td>0.962003</td>\n",
              "      <td>0.945148</td>\n",
              "      <td>0.950918</td>\n",
              "    </tr>\n",
              "    <tr>\n",
              "      <th>max</th>\n",
              "      <td>0.988281</td>\n",
              "      <td>0.945946</td>\n",
              "      <td>0.952381</td>\n",
              "    </tr>\n",
              "  </tbody>\n",
              "</table>\n",
              "</div>\n",
              "      <button class=\"colab-df-convert\" onclick=\"convertToInteractive('df-aa43f595-bed8-4a71-8446-2f8b98992ec2')\"\n",
              "              title=\"Convert this dataframe to an interactive table.\"\n",
              "              style=\"display:none;\">\n",
              "        \n",
              "  <svg xmlns=\"http://www.w3.org/2000/svg\" height=\"24px\"viewBox=\"0 0 24 24\"\n",
              "       width=\"24px\">\n",
              "    <path d=\"M0 0h24v24H0V0z\" fill=\"none\"/>\n",
              "    <path d=\"M18.56 5.44l.94 2.06.94-2.06 2.06-.94-2.06-.94-.94-2.06-.94 2.06-2.06.94zm-11 1L8.5 8.5l.94-2.06 2.06-.94-2.06-.94L8.5 2.5l-.94 2.06-2.06.94zm10 10l.94 2.06.94-2.06 2.06-.94-2.06-.94-.94-2.06-.94 2.06-2.06.94z\"/><path d=\"M17.41 7.96l-1.37-1.37c-.4-.4-.92-.59-1.43-.59-.52 0-1.04.2-1.43.59L10.3 9.45l-7.72 7.72c-.78.78-.78 2.05 0 2.83L4 21.41c.39.39.9.59 1.41.59.51 0 1.02-.2 1.41-.59l7.78-7.78 2.81-2.81c.8-.78.8-2.07 0-2.86zM5.41 20L4 18.59l7.72-7.72 1.47 1.35L5.41 20z\"/>\n",
              "  </svg>\n",
              "      </button>\n",
              "      \n",
              "  <style>\n",
              "    .colab-df-container {\n",
              "      display:flex;\n",
              "      flex-wrap:wrap;\n",
              "      gap: 12px;\n",
              "    }\n",
              "\n",
              "    .colab-df-convert {\n",
              "      background-color: #E8F0FE;\n",
              "      border: none;\n",
              "      border-radius: 50%;\n",
              "      cursor: pointer;\n",
              "      display: none;\n",
              "      fill: #1967D2;\n",
              "      height: 32px;\n",
              "      padding: 0 0 0 0;\n",
              "      width: 32px;\n",
              "    }\n",
              "\n",
              "    .colab-df-convert:hover {\n",
              "      background-color: #E2EBFA;\n",
              "      box-shadow: 0px 1px 2px rgba(60, 64, 67, 0.3), 0px 1px 3px 1px rgba(60, 64, 67, 0.15);\n",
              "      fill: #174EA6;\n",
              "    }\n",
              "\n",
              "    [theme=dark] .colab-df-convert {\n",
              "      background-color: #3B4455;\n",
              "      fill: #D2E3FC;\n",
              "    }\n",
              "\n",
              "    [theme=dark] .colab-df-convert:hover {\n",
              "      background-color: #434B5C;\n",
              "      box-shadow: 0px 1px 3px 1px rgba(0, 0, 0, 0.15);\n",
              "      filter: drop-shadow(0px 1px 2px rgba(0, 0, 0, 0.3));\n",
              "      fill: #FFFFFF;\n",
              "    }\n",
              "  </style>\n",
              "\n",
              "      <script>\n",
              "        const buttonEl =\n",
              "          document.querySelector('#df-aa43f595-bed8-4a71-8446-2f8b98992ec2 button.colab-df-convert');\n",
              "        buttonEl.style.display =\n",
              "          google.colab.kernel.accessAllowed ? 'block' : 'none';\n",
              "\n",
              "        async function convertToInteractive(key) {\n",
              "          const element = document.querySelector('#df-aa43f595-bed8-4a71-8446-2f8b98992ec2');\n",
              "          const dataTable =\n",
              "            await google.colab.kernel.invokeFunction('convertToInteractive',\n",
              "                                                     [key], {});\n",
              "          if (!dataTable) return;\n",
              "\n",
              "          const docLinkHtml = 'Like what you see? Visit the ' +\n",
              "            '<a target=\"_blank\" href=https://colab.research.google.com/notebooks/data_table.ipynb>data table notebook</a>'\n",
              "            + ' to learn more about interactive tables.';\n",
              "          element.innerHTML = '';\n",
              "          dataTable['output_type'] = 'display_data';\n",
              "          await google.colab.output.renderOutput(dataTable, element);\n",
              "          const docLink = document.createElement('div');\n",
              "          docLink.innerHTML = docLinkHtml;\n",
              "          element.appendChild(docLink);\n",
              "        }\n",
              "      </script>\n",
              "    </div>\n",
              "  </div>\n",
              "  "
            ]
          },
          "metadata": {},
          "execution_count": 121
        }
      ]
    },
    {
      "cell_type": "markdown",
      "source": [
        "Now let's plot confusion matrix from the extimator that we have obtained from cross validation"
      ],
      "metadata": {
        "id": "lAXnG9mS0u8r"
      }
    },
    {
      "cell_type": "code",
      "source": [
        "bin_clf = scores['estimator'][0]\n",
        "y_hat_test_0 = bin_clf.predict(X_test)\n",
        "\n",
        "cm_display = ConfusionMatrixDisplay.from_predictions(\n",
        "    y_test_0, y_hat_test_0, values_format='.5g')"
      ],
      "metadata": {
        "colab": {
          "base_uri": "https://localhost:8080/",
          "height": 279
        },
        "id": "UjRpGWUK0uoh",
        "outputId": "3ef5bdde-b465-4021-fa2d-c95d2211a975"
      },
      "execution_count": 123,
      "outputs": [
        {
          "output_type": "display_data",
          "data": {
            "text/plain": [
              "<Figure size 432x288 with 2 Axes>"
            ],
            "image/png": "[encoded data removed]"
          },
          "metadata": {
            "needs_background": "light"
          }
        }
      ]
    },
    {
      "cell_type": "markdown",
      "source": [
        "**Precision recall trade off**<br>\n",
        "We try to visualize the distribution of linear combination of weight vectors and feature vectors.<br>\n",
        "Basically we plot the linear combination before applying non linear activation function."
      ],
      "metadata": {
        "id": "FcVdJ8p75uwa"
      }
    },
    {
      "cell_type": "code",
      "source": [
        "bin_clf = Perceptron(random_state=1729)\n",
        "bin_clf.fit(X_train, y_train_0)\n",
        "\n",
        "# get linear combination\n",
        "y_score = bin_clf.decision_function(X_train)\n",
        "sns.histplot(y_score)\n",
        "plt.show()"
      ],
      "metadata": {
        "colab": {
          "base_uri": "https://localhost:8080/",
          "height": 265
        },
        "id": "EcfImB37zcGB",
        "outputId": "93689629-c2a5-44b6-d920-76dc48cf6ed7"
      },
      "execution_count": 126,
      "outputs": [
        {
          "output_type": "display_data",
          "data": {
            "text/plain": [
              "<Figure size 432x288 with 1 Axes>"
            ],
            "image/png": "[encoded data removed]"
          },
          "metadata": {
            "needs_background": "light"
          }
        }
      ]
    },
    {
      "cell_type": "markdown",
      "source": [
        "The reason for so many negative values than the positives is : Class-Imbalance.\n",
        "\n",
        "- Suppose threshold takes the value of -600, then all the samples having score greater than -600 is set to 1 ( +ve label ) and less than it is set to -1 ( -ve label ).\n",
        "\n",
        "- Therefore, the number of False Positives will be increased. This will in turn reduce the precision score to a greater extent.\n",
        "\n",
        "- On the otherhand, if the threshold takes the value of say 400, Then, the number of False negatives will be increase and hence the recall will reduce to a greater extent."
      ],
      "metadata": {
        "id": "1CqSzc7e7bC1"
      }
    },
    {
      "cell_type": "code",
      "source": [
        ""
      ],
      "metadata": {
        "id": "59rLD2lH6vbb"
      },
      "execution_count": null,
      "outputs": []
    }
  ]
}