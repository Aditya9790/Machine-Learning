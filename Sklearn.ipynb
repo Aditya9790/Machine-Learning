{
  "nbformat": 4,
  "nbformat_minor": 0,
  "metadata": {
    "colab": {
      "name": "Sklearn.ipynb",
      "provenance": [],
      "authorship_tag": "ABX9TyOe/hf9CSPUSnx17u5EHxIo"
    },
    "kernelspec": {
      "name": "python3",
      "display_name": "Python 3"
    },
    "language_info": {
      "name": "python"
    }
  },
  "cells": [
    {
      "cell_type": "markdown",
      "source": [
        "Data Transformation Using Scikit-learn<br>\n",
        "https://scikit-learn.org/stable/data_transforms.html"
      ],
      "metadata": {
        "id": "iqx5lyO5IA_x"
      }
    },
    {
      "cell_type": "code",
      "source": [
        "import pandas as pd\n",
        "import numpy as np"
      ],
      "metadata": {
        "id": "NPb6SAg42yOZ"
      },
      "execution_count": 2,
      "outputs": []
    },
    {
      "cell_type": "code",
      "execution_count": null,
      "metadata": {
        "colab": {
          "base_uri": "https://localhost:8080/"
        },
        "id": "H_zWUO7B1LLK",
        "outputId": "0f1f7770-bfc8-46b0-cd5c-73cf74e6d283"
      },
      "outputs": [
        {
          "output_type": "execute_result",
          "data": {
            "text/plain": [
              "sklearn.utils.Bunch"
            ]
          },
          "metadata": {},
          "execution_count": 2
        }
      ],
      "source": [
        "from sklearn.datasets import load_breast_cancer\n",
        "data = load_breast_cancer()\n",
        "type(data)"
      ]
    },
    {
      "cell_type": "code",
      "source": [
        "data.keys()"
      ],
      "metadata": {
        "colab": {
          "base_uri": "https://localhost:8080/"
        },
        "id": "_7V71QVa2Pdt",
        "outputId": "31e7ce96-4c4a-4f79-9d8c-6bde0b035100"
      },
      "execution_count": null,
      "outputs": [
        {
          "output_type": "execute_result",
          "data": {
            "text/plain": [
              "dict_keys(['data', 'target', 'frame', 'target_names', 'DESCR', 'feature_names', 'filename', 'data_module'])"
            ]
          },
          "metadata": {},
          "execution_count": 22
        }
      ]
    },
    {
      "cell_type": "code",
      "source": [
        "# Output variables\n",
        "data.target_names"
      ],
      "metadata": {
        "colab": {
          "base_uri": "https://localhost:8080/"
        },
        "id": "tuUMasfW28-c",
        "outputId": "845b5e02-6575-4394-b75c-661b097a903b"
      },
      "execution_count": null,
      "outputs": [
        {
          "output_type": "execute_result",
          "data": {
            "text/plain": [
              "array(['malignant', 'benign'], dtype='<U9')"
            ]
          },
          "metadata": {},
          "execution_count": 23
        }
      ]
    },
    {
      "cell_type": "code",
      "source": [
        "# name of columns\n",
        "data.feature_names"
      ],
      "metadata": {
        "colab": {
          "base_uri": "https://localhost:8080/"
        },
        "id": "x7v6Oa5K3uBL",
        "outputId": "dd264d9f-aa1f-4efd-af0e-43a130ce91fe"
      },
      "execution_count": null,
      "outputs": [
        {
          "output_type": "execute_result",
          "data": {
            "text/plain": [
              "array(['mean radius', 'mean texture', 'mean perimeter', 'mean area',\n",
              "       'mean smoothness', 'mean compactness', 'mean concavity',\n",
              "       'mean concave points', 'mean symmetry', 'mean fractal dimension',\n",
              "       'radius error', 'texture error', 'perimeter error', 'area error',\n",
              "       'smoothness error', 'compactness error', 'concavity error',\n",
              "       'concave points error', 'symmetry error',\n",
              "       'fractal dimension error', 'worst radius', 'worst texture',\n",
              "       'worst perimeter', 'worst area', 'worst smoothness',\n",
              "       'worst compactness', 'worst concavity', 'worst concave points',\n",
              "       'worst symmetry', 'worst fractal dimension'], dtype='<U23')"
            ]
          },
          "metadata": {},
          "execution_count": 24
        }
      ]
    },
    {
      "cell_type": "code",
      "source": [
        "data.data_module"
      ],
      "metadata": {
        "colab": {
          "base_uri": "https://localhost:8080/",
          "height": 35
        },
        "id": "GeQmxrmO88NF",
        "outputId": "72167f02-efd2-447d-d879-e52a30386c1a"
      },
      "execution_count": null,
      "outputs": [
        {
          "output_type": "execute_result",
          "data": {
            "text/plain": [
              "'sklearn.datasets.data'"
            ],
            "application/vnd.google.colaboratory.intrinsic+json": {
              "type": "string"
            }
          },
          "metadata": {},
          "execution_count": 45
        }
      ]
    },
    {
      "cell_type": "code",
      "source": [
        "data.filename"
      ],
      "metadata": {
        "colab": {
          "base_uri": "https://localhost:8080/",
          "height": 35
        },
        "id": "bG-DKOIi4CoK",
        "outputId": "60b5f336-8497-4cd7-d247-5011cd5252e0"
      },
      "execution_count": null,
      "outputs": [
        {
          "output_type": "execute_result",
          "data": {
            "text/plain": [
              "'breast_cancer.csv'"
            ],
            "application/vnd.google.colaboratory.intrinsic+json": {
              "type": "string"
            }
          },
          "metadata": {},
          "execution_count": 25
        }
      ]
    },
    {
      "cell_type": "code",
      "source": [
        "df = pd.DataFrame(data.data, columns = data.feature_names)\n",
        "df['target'] = data.target\n",
        "df.head()"
      ],
      "metadata": {
        "colab": {
          "base_uri": "https://localhost:8080/",
          "height": 334
        },
        "id": "L6NeA8-x4G2H",
        "outputId": "97eacfbf-5681-4966-b037-7ecdf60d3188"
      },
      "execution_count": null,
      "outputs": [
        {
          "output_type": "execute_result",
          "data": {
            "text/plain": [
              "   mean radius  mean texture  mean perimeter  mean area  mean smoothness  \\\n",
              "0        17.99         10.38          122.80     1001.0          0.11840   \n",
              "1        20.57         17.77          132.90     1326.0          0.08474   \n",
              "2        19.69         21.25          130.00     1203.0          0.10960   \n",
              "3        11.42         20.38           77.58      386.1          0.14250   \n",
              "4        20.29         14.34          135.10     1297.0          0.10030   \n",
              "\n",
              "   mean compactness  mean concavity  mean concave points  mean symmetry  \\\n",
              "0           0.27760          0.3001              0.14710         0.2419   \n",
              "1           0.07864          0.0869              0.07017         0.1812   \n",
              "2           0.15990          0.1974              0.12790         0.2069   \n",
              "3           0.28390          0.2414              0.10520         0.2597   \n",
              "4           0.13280          0.1980              0.10430         0.1809   \n",
              "\n",
              "   mean fractal dimension  ...  worst texture  worst perimeter  worst area  \\\n",
              "0                 0.07871  ...          17.33           184.60      2019.0   \n",
              "1                 0.05667  ...          23.41           158.80      1956.0   \n",
              "2                 0.05999  ...          25.53           152.50      1709.0   \n",
              "3                 0.09744  ...          26.50            98.87       567.7   \n",
              "4                 0.05883  ...          16.67           152.20      1575.0   \n",
              "\n",
              "   worst smoothness  worst compactness  worst concavity  worst concave points  \\\n",
              "0            0.1622             0.6656           0.7119                0.2654   \n",
              "1            0.1238             0.1866           0.2416                0.1860   \n",
              "2            0.1444             0.4245           0.4504                0.2430   \n",
              "3            0.2098             0.8663           0.6869                0.2575   \n",
              "4            0.1374             0.2050           0.4000                0.1625   \n",
              "\n",
              "   worst symmetry  worst fractal dimension  target  \n",
              "0          0.4601                  0.11890       0  \n",
              "1          0.2750                  0.08902       0  \n",
              "2          0.3613                  0.08758       0  \n",
              "3          0.6638                  0.17300       0  \n",
              "4          0.2364                  0.07678       0  \n",
              "\n",
              "[5 rows x 31 columns]"
            ],
            "text/html": [
              "\n",
              "  <div id=\"df-1465ffd0-31d9-4f7b-aac2-06d6a839b540\">\n",
              "    <div class=\"colab-df-container\">\n",
              "      <div>\n",
              "<style scoped>\n",
              "    .dataframe tbody tr th:only-of-type {\n",
              "        vertical-align: middle;\n",
              "    }\n",
              "\n",
              "    .dataframe tbody tr th {\n",
              "        vertical-align: top;\n",
              "    }\n",
              "\n",
              "    .dataframe thead th {\n",
              "        text-align: right;\n",
              "    }\n",
              "</style>\n",
              "<table border=\"1\" class=\"dataframe\">\n",
              "  <thead>\n",
              "    <tr style=\"text-align: right;\">\n",
              "      <th></th>\n",
              "      <th>mean radius</th>\n",
              "      <th>mean texture</th>\n",
              "      <th>mean perimeter</th>\n",
              "      <th>mean area</th>\n",
              "      <th>mean smoothness</th>\n",
              "      <th>mean compactness</th>\n",
              "      <th>mean concavity</th>\n",
              "      <th>mean concave points</th>\n",
              "      <th>mean symmetry</th>\n",
              "      <th>mean fractal dimension</th>\n",
              "      <th>...</th>\n",
              "      <th>worst texture</th>\n",
              "      <th>worst perimeter</th>\n",
              "      <th>worst area</th>\n",
              "      <th>worst smoothness</th>\n",
              "      <th>worst compactness</th>\n",
              "      <th>worst concavity</th>\n",
              "      <th>worst concave points</th>\n",
              "      <th>worst symmetry</th>\n",
              "      <th>worst fractal dimension</th>\n",
              "      <th>target</th>\n",
              "    </tr>\n",
              "  </thead>\n",
              "  <tbody>\n",
              "    <tr>\n",
              "      <th>0</th>\n",
              "      <td>17.99</td>\n",
              "      <td>10.38</td>\n",
              "      <td>122.80</td>\n",
              "      <td>1001.0</td>\n",
              "      <td>0.11840</td>\n",
              "      <td>0.27760</td>\n",
              "      <td>0.3001</td>\n",
              "      <td>0.14710</td>\n",
              "      <td>0.2419</td>\n",
              "      <td>0.07871</td>\n",
              "      <td>...</td>\n",
              "      <td>17.33</td>\n",
              "      <td>184.60</td>\n",
              "      <td>2019.0</td>\n",
              "      <td>0.1622</td>\n",
              "      <td>0.6656</td>\n",
              "      <td>0.7119</td>\n",
              "      <td>0.2654</td>\n",
              "      <td>0.4601</td>\n",
              "      <td>0.11890</td>\n",
              "      <td>0</td>\n",
              "    </tr>\n",
              "    <tr>\n",
              "      <th>1</th>\n",
              "      <td>20.57</td>\n",
              "      <td>17.77</td>\n",
              "      <td>132.90</td>\n",
              "      <td>1326.0</td>\n",
              "      <td>0.08474</td>\n",
              "      <td>0.07864</td>\n",
              "      <td>0.0869</td>\n",
              "      <td>0.07017</td>\n",
              "      <td>0.1812</td>\n",
              "      <td>0.05667</td>\n",
              "      <td>...</td>\n",
              "      <td>23.41</td>\n",
              "      <td>158.80</td>\n",
              "      <td>1956.0</td>\n",
              "      <td>0.1238</td>\n",
              "      <td>0.1866</td>\n",
              "      <td>0.2416</td>\n",
              "      <td>0.1860</td>\n",
              "      <td>0.2750</td>\n",
              "      <td>0.08902</td>\n",
              "      <td>0</td>\n",
              "    </tr>\n",
              "    <tr>\n",
              "      <th>2</th>\n",
              "      <td>19.69</td>\n",
              "      <td>21.25</td>\n",
              "      <td>130.00</td>\n",
              "      <td>1203.0</td>\n",
              "      <td>0.10960</td>\n",
              "      <td>0.15990</td>\n",
              "      <td>0.1974</td>\n",
              "      <td>0.12790</td>\n",
              "      <td>0.2069</td>\n",
              "      <td>0.05999</td>\n",
              "      <td>...</td>\n",
              "      <td>25.53</td>\n",
              "      <td>152.50</td>\n",
              "      <td>1709.0</td>\n",
              "      <td>0.1444</td>\n",
              "      <td>0.4245</td>\n",
              "      <td>0.4504</td>\n",
              "      <td>0.2430</td>\n",
              "      <td>0.3613</td>\n",
              "      <td>0.08758</td>\n",
              "      <td>0</td>\n",
              "    </tr>\n",
              "    <tr>\n",
              "      <th>3</th>\n",
              "      <td>11.42</td>\n",
              "      <td>20.38</td>\n",
              "      <td>77.58</td>\n",
              "      <td>386.1</td>\n",
              "      <td>0.14250</td>\n",
              "      <td>0.28390</td>\n",
              "      <td>0.2414</td>\n",
              "      <td>0.10520</td>\n",
              "      <td>0.2597</td>\n",
              "      <td>0.09744</td>\n",
              "      <td>...</td>\n",
              "      <td>26.50</td>\n",
              "      <td>98.87</td>\n",
              "      <td>567.7</td>\n",
              "      <td>0.2098</td>\n",
              "      <td>0.8663</td>\n",
              "      <td>0.6869</td>\n",
              "      <td>0.2575</td>\n",
              "      <td>0.6638</td>\n",
              "      <td>0.17300</td>\n",
              "      <td>0</td>\n",
              "    </tr>\n",
              "    <tr>\n",
              "      <th>4</th>\n",
              "      <td>20.29</td>\n",
              "      <td>14.34</td>\n",
              "      <td>135.10</td>\n",
              "      <td>1297.0</td>\n",
              "      <td>0.10030</td>\n",
              "      <td>0.13280</td>\n",
              "      <td>0.1980</td>\n",
              "      <td>0.10430</td>\n",
              "      <td>0.1809</td>\n",
              "      <td>0.05883</td>\n",
              "      <td>...</td>\n",
              "      <td>16.67</td>\n",
              "      <td>152.20</td>\n",
              "      <td>1575.0</td>\n",
              "      <td>0.1374</td>\n",
              "      <td>0.2050</td>\n",
              "      <td>0.4000</td>\n",
              "      <td>0.1625</td>\n",
              "      <td>0.2364</td>\n",
              "      <td>0.07678</td>\n",
              "      <td>0</td>\n",
              "    </tr>\n",
              "  </tbody>\n",
              "</table>\n",
              "<p>5 rows × 31 columns</p>\n",
              "</div>\n",
              "      <button class=\"colab-df-convert\" onclick=\"convertToInteractive('df-1465ffd0-31d9-4f7b-aac2-06d6a839b540')\"\n",
              "              title=\"Convert this dataframe to an interactive table.\"\n",
              "              style=\"display:none;\">\n",
              "        \n",
              "  <svg xmlns=\"http://www.w3.org/2000/svg\" height=\"24px\"viewBox=\"0 0 24 24\"\n",
              "       width=\"24px\">\n",
              "    <path d=\"M0 0h24v24H0V0z\" fill=\"none\"/>\n",
              "    <path d=\"M18.56 5.44l.94 2.06.94-2.06 2.06-.94-2.06-.94-.94-2.06-.94 2.06-2.06.94zm-11 1L8.5 8.5l.94-2.06 2.06-.94-2.06-.94L8.5 2.5l-.94 2.06-2.06.94zm10 10l.94 2.06.94-2.06 2.06-.94-2.06-.94-.94-2.06-.94 2.06-2.06.94z\"/><path d=\"M17.41 7.96l-1.37-1.37c-.4-.4-.92-.59-1.43-.59-.52 0-1.04.2-1.43.59L10.3 9.45l-7.72 7.72c-.78.78-.78 2.05 0 2.83L4 21.41c.39.39.9.59 1.41.59.51 0 1.02-.2 1.41-.59l7.78-7.78 2.81-2.81c.8-.78.8-2.07 0-2.86zM5.41 20L4 18.59l7.72-7.72 1.47 1.35L5.41 20z\"/>\n",
              "  </svg>\n",
              "      </button>\n",
              "      \n",
              "  <style>\n",
              "    .colab-df-container {\n",
              "      display:flex;\n",
              "      flex-wrap:wrap;\n",
              "      gap: 12px;\n",
              "    }\n",
              "\n",
              "    .colab-df-convert {\n",
              "      background-color: #E8F0FE;\n",
              "      border: none;\n",
              "      border-radius: 50%;\n",
              "      cursor: pointer;\n",
              "      display: none;\n",
              "      fill: #1967D2;\n",
              "      height: 32px;\n",
              "      padding: 0 0 0 0;\n",
              "      width: 32px;\n",
              "    }\n",
              "\n",
              "    .colab-df-convert:hover {\n",
              "      background-color: #E2EBFA;\n",
              "      box-shadow: 0px 1px 2px rgba(60, 64, 67, 0.3), 0px 1px 3px 1px rgba(60, 64, 67, 0.15);\n",
              "      fill: #174EA6;\n",
              "    }\n",
              "\n",
              "    [theme=dark] .colab-df-convert {\n",
              "      background-color: #3B4455;\n",
              "      fill: #D2E3FC;\n",
              "    }\n",
              "\n",
              "    [theme=dark] .colab-df-convert:hover {\n",
              "      background-color: #434B5C;\n",
              "      box-shadow: 0px 1px 3px 1px rgba(0, 0, 0, 0.15);\n",
              "      filter: drop-shadow(0px 1px 2px rgba(0, 0, 0, 0.3));\n",
              "      fill: #FFFFFF;\n",
              "    }\n",
              "  </style>\n",
              "\n",
              "      <script>\n",
              "        const buttonEl =\n",
              "          document.querySelector('#df-1465ffd0-31d9-4f7b-aac2-06d6a839b540 button.colab-df-convert');\n",
              "        buttonEl.style.display =\n",
              "          google.colab.kernel.accessAllowed ? 'block' : 'none';\n",
              "\n",
              "        async function convertToInteractive(key) {\n",
              "          const element = document.querySelector('#df-1465ffd0-31d9-4f7b-aac2-06d6a839b540');\n",
              "          const dataTable =\n",
              "            await google.colab.kernel.invokeFunction('convertToInteractive',\n",
              "                                                     [key], {});\n",
              "          if (!dataTable) return;\n",
              "\n",
              "          const docLinkHtml = 'Like what you see? Visit the ' +\n",
              "            '<a target=\"_blank\" href=https://colab.research.google.com/notebooks/data_table.ipynb>data table notebook</a>'\n",
              "            + ' to learn more about interactive tables.';\n",
              "          element.innerHTML = '';\n",
              "          dataTable['output_type'] = 'display_data';\n",
              "          await google.colab.output.renderOutput(dataTable, element);\n",
              "          const docLink = document.createElement('div');\n",
              "          docLink.innerHTML = docLinkHtml;\n",
              "          element.appendChild(docLink);\n",
              "        }\n",
              "      </script>\n",
              "    </div>\n",
              "  </div>\n",
              "  "
            ]
          },
          "metadata": {},
          "execution_count": 29
        }
      ]
    },
    {
      "cell_type": "code",
      "source": [
        "df.shape"
      ],
      "metadata": {
        "colab": {
          "base_uri": "https://localhost:8080/"
        },
        "id": "1gDJ4kVJ4Mdp",
        "outputId": "86299beb-54fa-4f46-f17f-65af93cdcc8f"
      },
      "execution_count": null,
      "outputs": [
        {
          "output_type": "execute_result",
          "data": {
            "text/plain": [
              "(569, 31)"
            ]
          },
          "metadata": {},
          "execution_count": 31
        }
      ]
    },
    {
      "cell_type": "code",
      "source": [
        "# 0 == Begning\n",
        "# 1 = mMlignant\n",
        "begnine = df[df['target'] == 0] # begnine\n",
        "malignant = df[df['target'] == 1] # malignant\n",
        "print(f'Begnine cases : {begnine.shape[0]}')\n",
        "print(f'Malignant cases : {malignant.shape[0]}')"
      ],
      "metadata": {
        "colab": {
          "base_uri": "https://localhost:8080/"
        },
        "id": "QhXMfffp5lC3",
        "outputId": "2c58d2ac-3955-4d2d-8e41-a29ae2a24636"
      },
      "execution_count": null,
      "outputs": [
        {
          "output_type": "stream",
          "name": "stdout",
          "text": [
            "Begnine cases : 212\n",
            "Malignant cases : 357\n"
          ]
        }
      ]
    },
    {
      "cell_type": "code",
      "source": [
        "from sklearn.datasets import fetch_california_housing\n",
        "house_data = fetch_california_housing()\n",
        "\n",
        "house_df = pd.DataFrame(house_data.data, columns = house_data.feature_names)\n",
        "house_df.head()"
      ],
      "metadata": {
        "colab": {
          "base_uri": "https://localhost:8080/",
          "height": 206
        },
        "id": "b99YiZYK6oJb",
        "outputId": "6a94cf9a-a512-40b9-ecb0-1b596ae440ea"
      },
      "execution_count": null,
      "outputs": [
        {
          "output_type": "execute_result",
          "data": {
            "text/plain": [
              "   MedInc  HouseAge  AveRooms  AveBedrms  Population  AveOccup  Latitude  \\\n",
              "0  8.3252      41.0  6.984127   1.023810       322.0  2.555556     37.88   \n",
              "1  8.3014      21.0  6.238137   0.971880      2401.0  2.109842     37.86   \n",
              "2  7.2574      52.0  8.288136   1.073446       496.0  2.802260     37.85   \n",
              "3  5.6431      52.0  5.817352   1.073059       558.0  2.547945     37.85   \n",
              "4  3.8462      52.0  6.281853   1.081081       565.0  2.181467     37.85   \n",
              "\n",
              "   Longitude  \n",
              "0    -122.23  \n",
              "1    -122.22  \n",
              "2    -122.24  \n",
              "3    -122.25  \n",
              "4    -122.25  "
            ],
            "text/html": [
              "\n",
              "  <div id=\"df-23f88a48-542e-45b6-b966-9f9ef317c524\">\n",
              "    <div class=\"colab-df-container\">\n",
              "      <div>\n",
              "<style scoped>\n",
              "    .dataframe tbody tr th:only-of-type {\n",
              "        vertical-align: middle;\n",
              "    }\n",
              "\n",
              "    .dataframe tbody tr th {\n",
              "        vertical-align: top;\n",
              "    }\n",
              "\n",
              "    .dataframe thead th {\n",
              "        text-align: right;\n",
              "    }\n",
              "</style>\n",
              "<table border=\"1\" class=\"dataframe\">\n",
              "  <thead>\n",
              "    <tr style=\"text-align: right;\">\n",
              "      <th></th>\n",
              "      <th>MedInc</th>\n",
              "      <th>HouseAge</th>\n",
              "      <th>AveRooms</th>\n",
              "      <th>AveBedrms</th>\n",
              "      <th>Population</th>\n",
              "      <th>AveOccup</th>\n",
              "      <th>Latitude</th>\n",
              "      <th>Longitude</th>\n",
              "    </tr>\n",
              "  </thead>\n",
              "  <tbody>\n",
              "    <tr>\n",
              "      <th>0</th>\n",
              "      <td>8.3252</td>\n",
              "      <td>41.0</td>\n",
              "      <td>6.984127</td>\n",
              "      <td>1.023810</td>\n",
              "      <td>322.0</td>\n",
              "      <td>2.555556</td>\n",
              "      <td>37.88</td>\n",
              "      <td>-122.23</td>\n",
              "    </tr>\n",
              "    <tr>\n",
              "      <th>1</th>\n",
              "      <td>8.3014</td>\n",
              "      <td>21.0</td>\n",
              "      <td>6.238137</td>\n",
              "      <td>0.971880</td>\n",
              "      <td>2401.0</td>\n",
              "      <td>2.109842</td>\n",
              "      <td>37.86</td>\n",
              "      <td>-122.22</td>\n",
              "    </tr>\n",
              "    <tr>\n",
              "      <th>2</th>\n",
              "      <td>7.2574</td>\n",
              "      <td>52.0</td>\n",
              "      <td>8.288136</td>\n",
              "      <td>1.073446</td>\n",
              "      <td>496.0</td>\n",
              "      <td>2.802260</td>\n",
              "      <td>37.85</td>\n",
              "      <td>-122.24</td>\n",
              "    </tr>\n",
              "    <tr>\n",
              "      <th>3</th>\n",
              "      <td>5.6431</td>\n",
              "      <td>52.0</td>\n",
              "      <td>5.817352</td>\n",
              "      <td>1.073059</td>\n",
              "      <td>558.0</td>\n",
              "      <td>2.547945</td>\n",
              "      <td>37.85</td>\n",
              "      <td>-122.25</td>\n",
              "    </tr>\n",
              "    <tr>\n",
              "      <th>4</th>\n",
              "      <td>3.8462</td>\n",
              "      <td>52.0</td>\n",
              "      <td>6.281853</td>\n",
              "      <td>1.081081</td>\n",
              "      <td>565.0</td>\n",
              "      <td>2.181467</td>\n",
              "      <td>37.85</td>\n",
              "      <td>-122.25</td>\n",
              "    </tr>\n",
              "  </tbody>\n",
              "</table>\n",
              "</div>\n",
              "      <button class=\"colab-df-convert\" onclick=\"convertToInteractive('df-23f88a48-542e-45b6-b966-9f9ef317c524')\"\n",
              "              title=\"Convert this dataframe to an interactive table.\"\n",
              "              style=\"display:none;\">\n",
              "        \n",
              "  <svg xmlns=\"http://www.w3.org/2000/svg\" height=\"24px\"viewBox=\"0 0 24 24\"\n",
              "       width=\"24px\">\n",
              "    <path d=\"M0 0h24v24H0V0z\" fill=\"none\"/>\n",
              "    <path d=\"M18.56 5.44l.94 2.06.94-2.06 2.06-.94-2.06-.94-.94-2.06-.94 2.06-2.06.94zm-11 1L8.5 8.5l.94-2.06 2.06-.94-2.06-.94L8.5 2.5l-.94 2.06-2.06.94zm10 10l.94 2.06.94-2.06 2.06-.94-2.06-.94-.94-2.06-.94 2.06-2.06.94z\"/><path d=\"M17.41 7.96l-1.37-1.37c-.4-.4-.92-.59-1.43-.59-.52 0-1.04.2-1.43.59L10.3 9.45l-7.72 7.72c-.78.78-.78 2.05 0 2.83L4 21.41c.39.39.9.59 1.41.59.51 0 1.02-.2 1.41-.59l7.78-7.78 2.81-2.81c.8-.78.8-2.07 0-2.86zM5.41 20L4 18.59l7.72-7.72 1.47 1.35L5.41 20z\"/>\n",
              "  </svg>\n",
              "      </button>\n",
              "      \n",
              "  <style>\n",
              "    .colab-df-container {\n",
              "      display:flex;\n",
              "      flex-wrap:wrap;\n",
              "      gap: 12px;\n",
              "    }\n",
              "\n",
              "    .colab-df-convert {\n",
              "      background-color: #E8F0FE;\n",
              "      border: none;\n",
              "      border-radius: 50%;\n",
              "      cursor: pointer;\n",
              "      display: none;\n",
              "      fill: #1967D2;\n",
              "      height: 32px;\n",
              "      padding: 0 0 0 0;\n",
              "      width: 32px;\n",
              "    }\n",
              "\n",
              "    .colab-df-convert:hover {\n",
              "      background-color: #E2EBFA;\n",
              "      box-shadow: 0px 1px 2px rgba(60, 64, 67, 0.3), 0px 1px 3px 1px rgba(60, 64, 67, 0.15);\n",
              "      fill: #174EA6;\n",
              "    }\n",
              "\n",
              "    [theme=dark] .colab-df-convert {\n",
              "      background-color: #3B4455;\n",
              "      fill: #D2E3FC;\n",
              "    }\n",
              "\n",
              "    [theme=dark] .colab-df-convert:hover {\n",
              "      background-color: #434B5C;\n",
              "      box-shadow: 0px 1px 3px 1px rgba(0, 0, 0, 0.15);\n",
              "      filter: drop-shadow(0px 1px 2px rgba(0, 0, 0, 0.3));\n",
              "      fill: #FFFFFF;\n",
              "    }\n",
              "  </style>\n",
              "\n",
              "      <script>\n",
              "        const buttonEl =\n",
              "          document.querySelector('#df-23f88a48-542e-45b6-b966-9f9ef317c524 button.colab-df-convert');\n",
              "        buttonEl.style.display =\n",
              "          google.colab.kernel.accessAllowed ? 'block' : 'none';\n",
              "\n",
              "        async function convertToInteractive(key) {\n",
              "          const element = document.querySelector('#df-23f88a48-542e-45b6-b966-9f9ef317c524');\n",
              "          const dataTable =\n",
              "            await google.colab.kernel.invokeFunction('convertToInteractive',\n",
              "                                                     [key], {});\n",
              "          if (!dataTable) return;\n",
              "\n",
              "          const docLinkHtml = 'Like what you see? Visit the ' +\n",
              "            '<a target=\"_blank\" href=https://colab.research.google.com/notebooks/data_table.ipynb>data table notebook</a>'\n",
              "            + ' to learn more about interactive tables.';\n",
              "          element.innerHTML = '';\n",
              "          dataTable['output_type'] = 'display_data';\n",
              "          await google.colab.output.renderOutput(dataTable, element);\n",
              "          const docLink = document.createElement('div');\n",
              "          docLink.innerHTML = docLinkHtml;\n",
              "          element.appendChild(docLink);\n",
              "        }\n",
              "      </script>\n",
              "    </div>\n",
              "  </div>\n",
              "  "
            ]
          },
          "metadata": {},
          "execution_count": 48
        }
      ]
    },
    {
      "cell_type": "code",
      "source": [
        "house_df.shape"
      ],
      "metadata": {
        "colab": {
          "base_uri": "https://localhost:8080/"
        },
        "id": "665Ln-IE95mp",
        "outputId": "fbd3efeb-9e30-4f10-aa92-b7fd726cd05c"
      },
      "execution_count": null,
      "outputs": [
        {
          "output_type": "execute_result",
          "data": {
            "text/plain": [
              "(20640, 8)"
            ]
          },
          "metadata": {},
          "execution_count": 49
        }
      ]
    },
    {
      "cell_type": "code",
      "source": [
        "house_data.target[:5]"
      ],
      "metadata": {
        "colab": {
          "base_uri": "https://localhost:8080/"
        },
        "id": "XSFOy0dR9_j0",
        "outputId": "7cffe19d-5516-43fc-c121-012a0f5c2e46"
      },
      "execution_count": null,
      "outputs": [
        {
          "output_type": "execute_result",
          "data": {
            "text/plain": [
              "array([4.526, 3.585, 3.521, 3.413, 3.422])"
            ]
          },
          "metadata": {},
          "execution_count": 51
        }
      ]
    },
    {
      "cell_type": "code",
      "source": [
        "house_data.target_names"
      ],
      "metadata": {
        "colab": {
          "base_uri": "https://localhost:8080/"
        },
        "id": "Mq1Y4Nai-MeO",
        "outputId": "96acf396-424b-4a21-e833-91d180ee9eac"
      },
      "execution_count": null,
      "outputs": [
        {
          "output_type": "execute_result",
          "data": {
            "text/plain": [
              "['MedHouseVal']"
            ]
          },
          "metadata": {},
          "execution_count": 52
        }
      ]
    },
    {
      "cell_type": "code",
      "source": [
        "w1=5\n",
        "w0=6\n",
        "n=200\n",
        "\n",
        "X=10*np.random.rand(n, )\n",
        "\n",
        "y=w0+w1+X+np.random.randn(n, )\n",
        "\n",
        "print(\"Shape of feature matrix\",X.shape)\n",
        "print(\"Shape of label vector\",y.shape)\n",
        "\n",
        "from sklearn.model_selection import train_test_split \n",
        "X_train, X_test, y_train,y_test = train_test_split(X,y, test_size=0.2, random_state=36)\n",
        "\n",
        "print(\"shape of training feature matrix\", X_train.shape)\n",
        "\n",
        "print(\"shape of test feature matrix\",X_test.shape)\n",
        "print(\"shape of training label\",y_train.shape)\n",
        "\n",
        "print(\"shape of test label\",y_test.shape)"
      ],
      "metadata": {
        "id": "arF2_NAo-bBt",
        "colab": {
          "base_uri": "https://localhost:8080/"
        },
        "outputId": "115c2196-e6de-452b-a77e-7373cfa4f4c5"
      },
      "execution_count": null,
      "outputs": [
        {
          "output_type": "stream",
          "name": "stdout",
          "text": [
            "Shape of feature matrix (200,)\n",
            "Shape of label vector (200,)\n",
            "shape of training feature matrix (160,)\n",
            "shape of test feature matrix (40,)\n",
            "shape of training label (160,)\n",
            "shape of test label (40,)\n"
          ]
        }
      ]
    },
    {
      "cell_type": "markdown",
      "source": [
        "### 1) Feature Extraction\n",
        "\n",
        "1. Dictionary vectorizer : sklearn.feature_extraction has DIctVectorizer()"
      ],
      "metadata": {
        "id": "oDyD7o28wMd6"
      }
    },
    {
      "cell_type": "code",
      "source": [
        "import sklearn.feature_extraction as fextract"
      ],
      "metadata": {
        "id": "5dDB3lk63wWr"
      },
      "execution_count": null,
      "outputs": []
    },
    {
      "cell_type": "code",
      "source": [
        "data = [{'age':4, 'height':96.0},\n",
        "        {'age':1, 'height':90.0},\n",
        "        {'age':3, 'height':89.0},\n",
        "        {'age':2, 'height':100.0}]\n",
        "df = fextract.DictVectorizer(sparse=False)\n",
        "transformed_feature = df.fit_transform(data)"
      ],
      "metadata": {
        "id": "Jeja_gCBu4oT"
      },
      "execution_count": null,
      "outputs": []
    },
    {
      "cell_type": "code",
      "source": [
        "transformed_feature"
      ],
      "metadata": {
        "id": "OLR6-Woe3rup",
        "colab": {
          "base_uri": "https://localhost:8080/"
        },
        "outputId": "67724032-2aab-48be-8312-f719db3fce0b"
      },
      "execution_count": null,
      "outputs": [
        {
          "output_type": "execute_result",
          "data": {
            "text/plain": [
              "array([[  4.,  96.],\n",
              "       [  1.,  90.],\n",
              "       [  3.,  89.],\n",
              "       [  2., 100.]])"
            ]
          },
          "metadata": {},
          "execution_count": 15
        }
      ]
    },
    {
      "cell_type": "code",
      "source": [
        "from sklearn.impute import SimpleImputer\n",
        "X = np.array([[7, 1], [np.nan, 8], [2, np.nan], [9, 6]])\n",
        "print(f'X is :\\n {X}')\n",
        "imputer = SimpleImputer(strategy='mean')\n",
        "print(f'X after imputing :\\n {imputer.fit_transform(X)}')"
      ],
      "metadata": {
        "colab": {
          "base_uri": "https://localhost:8080/"
        },
        "id": "lFeR63Pr4e9F",
        "outputId": "20229547-572d-4598-c01d-d6836b44346d"
      },
      "execution_count": null,
      "outputs": [
        {
          "output_type": "stream",
          "name": "stdout",
          "text": [
            "X is :\n",
            " [[ 7.  1.]\n",
            " [nan  8.]\n",
            " [ 2. nan]\n",
            " [ 9.  6.]]\n",
            "X after imputing :\n",
            " [[7. 1.]\n",
            " [6. 8.]\n",
            " [2. 5.]\n",
            " [9. 6.]]\n"
          ]
        }
      ]
    },
    {
      "cell_type": "code",
      "source": [
        "from sklearn.impute import KNNImputer\n",
        "X = np.array([[1,2,np.nan], [3,4,3], [np.nan, 6, 5], [8, 8, 7]])\n",
        "print(f'X is :\\n {X}')\n",
        "KNN = KNNImputer(n_neighbors=2, weights='uniform')\n",
        "print(f'X after imputing :\\n {KNN.fit_transform(X)}')"
      ],
      "metadata": {
        "colab": {
          "base_uri": "https://localhost:8080/"
        },
        "id": "lU5eQr0G71K-",
        "outputId": "bfbb7d33-ef79-451e-a293-25b831b27ffa"
      },
      "execution_count": null,
      "outputs": [
        {
          "output_type": "stream",
          "name": "stdout",
          "text": [
            "X is :\n",
            " [[ 1.  2. nan]\n",
            " [ 3.  4.  3.]\n",
            " [nan  6.  5.]\n",
            " [ 8.  8.  7.]]\n",
            "X after imputing :\n",
            " [[1.  2.  4. ]\n",
            " [3.  4.  3. ]\n",
            " [5.5 6.  5. ]\n",
            " [8.  8.  7. ]]\n"
          ]
        }
      ]
    },
    {
      "cell_type": "code",
      "source": [
        "from pandas.core.common import random_state\n",
        "from sklearn.preprocessing import StandardScaler\n",
        "np.random.seed(0)\n",
        "arr = np.random.randint(100, 200, [5, 1])\n",
        "print(f'Unscaled arr :\\n {arr}')\n",
        "scaler = StandardScaler()\n",
        "print(f'Scaled arr :\\n{scaler.fit_transform(arr)}')"
      ],
      "metadata": {
        "colab": {
          "base_uri": "https://localhost:8080/"
        },
        "id": "nFyn6k62_G82",
        "outputId": "4d6f5c11-7c31-4145-adf0-8b08ec93050c"
      },
      "execution_count": null,
      "outputs": [
        {
          "output_type": "stream",
          "name": "stdout",
          "text": [
            "Unscaled arr :\n",
            " [[144]\n",
            " [147]\n",
            " [164]\n",
            " [167]\n",
            " [167]]\n",
            "Scaled arr :\n",
            "[[-1.36001851]\n",
            " [-1.06436231]\n",
            " [ 0.61102281]\n",
            " [ 0.90667901]\n",
            " [ 0.90667901]]\n"
          ]
        }
      ]
    },
    {
      "cell_type": "code",
      "source": [
        "from sklearn.preprocessing import MinMaxScaler\n",
        "np.random.seed(0)\n",
        "arr = np.random.randint(100, 200, [5, 1])\n",
        "print(f'Unscaled arr :\\n {arr}')\n",
        "scaler = MinMaxScaler()\n",
        "print(f'Scaled arr :\\n{scaler.fit_transform(arr)}')"
      ],
      "metadata": {
        "colab": {
          "base_uri": "https://localhost:8080/"
        },
        "id": "hlqMm0ADD93s",
        "outputId": "0a76da1a-5f37-4f35-9368-960f1f196a50"
      },
      "execution_count": null,
      "outputs": [
        {
          "output_type": "stream",
          "name": "stdout",
          "text": [
            "Unscaled arr :\n",
            " [[144]\n",
            " [147]\n",
            " [164]\n",
            " [167]\n",
            " [167]]\n",
            "Scaled arr :\n",
            "[[0.        ]\n",
            " [0.13043478]\n",
            " [0.86956522]\n",
            " [1.        ]\n",
            " [1.        ]]\n"
          ]
        }
      ]
    },
    {
      "cell_type": "code",
      "source": [
        "from sklearn.preprocessing import MaxAbsScaler\n",
        "np.random.seed(0)\n",
        "arr = np.random.randint(-100, 200, [5, 1])\n",
        "print(f'Unscaled arr :\\n {arr}')\n",
        "scaler = MaxAbsScaler()\n",
        "print(f'Scaled arr :\\n{scaler.fit_transform(arr)}')"
      ],
      "metadata": {
        "colab": {
          "base_uri": "https://localhost:8080/"
        },
        "id": "VLtx3f4_GVfA",
        "outputId": "2d45fb9d-39e6-4ff3-ca2d-3330077ba9d6"
      },
      "execution_count": 12,
      "outputs": [
        {
          "output_type": "stream",
          "name": "stdout",
          "text": [
            "Unscaled arr :\n",
            " [[ 72]\n",
            " [-53]\n",
            " [ 17]\n",
            " [ 92]\n",
            " [151]]\n",
            "Scaled arr :\n",
            "[[ 0.47682119]\n",
            " [-0.35099338]\n",
            " [ 0.11258278]\n",
            " [ 0.60927152]\n",
            " [ 1.        ]]\n"
          ]
        }
      ]
    },
    {
      "cell_type": "code",
      "source": [
        "from sklearn.preprocessing import FunctionTransformer\n",
        "np.random.seed(0)\n",
        "arr = np.random.randint(1, 100, [4, 2])\n",
        "print(f'Unscaled arr :\\n {arr}')\n",
        "transform = FunctionTransformer(np.log2)\n",
        "print(f'Scaled arr :\\n{transform.fit_transform(arr)}')"
      ],
      "metadata": {
        "id": "POg3gKdfHckj",
        "colab": {
          "base_uri": "https://localhost:8080/"
        },
        "outputId": "5e8f6a05-74dd-40e7-f443-c6a0a4d1b310"
      },
      "execution_count": null,
      "outputs": [
        {
          "output_type": "stream",
          "name": "stdout",
          "text": [
            "Unscaled arr :\n",
            " [[45 48]\n",
            " [65 68]\n",
            " [68 10]\n",
            " [84 22]]\n",
            "Scaled arr :\n",
            "[[5.4918531  5.5849625 ]\n",
            " [6.02236781 6.08746284]\n",
            " [6.08746284 3.32192809]\n",
            " [6.39231742 4.45943162]]\n"
          ]
        }
      ]
    },
    {
      "cell_type": "code",
      "source": [
        "from sklearn.preprocessing import PolynomialFeatures\n",
        "np.random.seed(0)\n",
        "arr = np.random.randint(1, 100, [1, 2])\n",
        "print(f'Unscaled arr :\\n {arr}')\n",
        "polyfeatures = PolynomialFeatures(degree=2)\n",
        "print(f'Scaled arr :\\n{polyfeatures.fit_transform(arr)}')"
      ],
      "metadata": {
        "colab": {
          "base_uri": "https://localhost:8080/"
        },
        "id": "7-J-1KXr5R_W",
        "outputId": "ecee5f8f-717f-4998-e1a9-e2d745bba887"
      },
      "execution_count": null,
      "outputs": [
        {
          "output_type": "stream",
          "name": "stdout",
          "text": [
            "Unscaled arr :\n",
            " [[45 48]]\n",
            "Scaled arr :\n",
            "[[1.000e+00 4.500e+01 4.800e+01 2.025e+03 2.160e+03 2.304e+03]]\n"
          ]
        }
      ]
    },
    {
      "cell_type": "code",
      "source": [
        "from sklearn.preprocessing import KBinsDiscretizer\n",
        "arr = np.array([[0.0], [0.125], [0.25], [0.375], [0.5], [0.675], [0.75], [0.875], [1.0]])\n",
        "print(f'Unscaled arr :\\n {arr}')\n",
        "bins = KBinsDiscretizer(n_bins=5, strategy='uniform', encode='ordinal')\n",
        "print(f'Scaled arr :\\n{bins.fit_transform(arr)}')"
      ],
      "metadata": {
        "colab": {
          "base_uri": "https://localhost:8080/"
        },
        "id": "_egbilry53-v",
        "outputId": "3b2e54cd-41d0-48ff-d379-06ee36e925df"
      },
      "execution_count": null,
      "outputs": [
        {
          "output_type": "stream",
          "name": "stdout",
          "text": [
            "Unscaled arr :\n",
            " [[0.   ]\n",
            " [0.125]\n",
            " [0.25 ]\n",
            " [0.375]\n",
            " [0.5  ]\n",
            " [0.675]\n",
            " [0.75 ]\n",
            " [0.875]\n",
            " [1.   ]]\n",
            "Scaled arr :\n",
            "[[0.]\n",
            " [0.]\n",
            " [1.]\n",
            " [1.]\n",
            " [2.]\n",
            " [3.]\n",
            " [3.]\n",
            " [4.]\n",
            " [4.]]\n"
          ]
        }
      ]
    },
    {
      "cell_type": "code",
      "source": [
        "a = np.array([[1], [2], [3]])\n",
        "ft = FunctionTransformer(np.mean)\n",
        "ft.fit_transform(a)"
      ],
      "metadata": {
        "colab": {
          "base_uri": "https://localhost:8080/"
        },
        "id": "KQ3uok4g6fDQ",
        "outputId": "90f7d219-a663-4b35-841b-0243a5e29f0f"
      },
      "execution_count": null,
      "outputs": [
        {
          "output_type": "execute_result",
          "data": {
            "text/plain": [
              "2.0"
            ]
          },
          "metadata": {},
          "execution_count": 21
        }
      ]
    },
    {
      "cell_type": "markdown",
      "source": [
        "### Categorical Transformations"
      ],
      "metadata": {
        "id": "JMZueVbE_1aC"
      }
    },
    {
      "cell_type": "markdown",
      "source": [
        "**One Hot Encoder**<br>\n",
        "Encodes categorical variables or lables as one-hot array.\n",
        "\n",
        "Only one variable is marked as 1 and rest are 0. A sparse matrix is created."
      ],
      "metadata": {
        "id": "Zlt2bkiUTbvk"
      }
    },
    {
      "cell_type": "code",
      "source": [
        "from sklearn.preprocessing import OneHotEncoder\n",
        "arr = np.array([[1], [3], [1], [2]])\n",
        "print(f'Array before one hot encoding : \\n{arr}')\n",
        "one_hot = OneHotEncoder()\n",
        "one_hot_fit = one_hot.fit_transform(arr).toarray()\n",
        "print(f'Array after one hot encoding : \\n{one_hot_fit}')"
      ],
      "metadata": {
        "colab": {
          "base_uri": "https://localhost:8080/"
        },
        "id": "jpvVU9bO_vOS",
        "outputId": "80d6ba68-b927-42fc-8e06-b37cd7620ab6"
      },
      "execution_count": 14,
      "outputs": [
        {
          "output_type": "stream",
          "name": "stdout",
          "text": [
            "Array before one hot encoding : \n",
            "[[1]\n",
            " [3]\n",
            " [1]\n",
            " [2]]\n",
            "Array after one hot encoding : \n",
            "[[1. 0. 0.]\n",
            " [0. 0. 1.]\n",
            " [1. 0. 0.]\n",
            " [0. 1. 0.]]\n"
          ]
        }
      ]
    },
    {
      "cell_type": "markdown",
      "source": [
        "**LabelEncoder**<br>\n",
        "Encodes target with labels with values between 0 and K-1<br>\n",
        "where K is number of distinct values.<br>\n",
        "1 encoded as 0, 2 as 1, 6 as 2 and 8 as 3"
      ],
      "metadata": {
        "id": "QcYo6sqS8FAh"
      }
    },
    {
      "cell_type": "code",
      "source": [
        "from sklearn.preprocessing import LabelEncoder\n",
        "arr = np.array([[1], [2], [6], [1], [8], [6]])\n",
        "print(f'Array before one encoding : \\n{arr}')\n",
        "label = LabelEncoder()\n",
        "print(f'Array after one hot encoding : \\n{label.fit_transform(arr)}')"
      ],
      "metadata": {
        "colab": {
          "base_uri": "https://localhost:8080/"
        },
        "id": "xM27Z54GTows",
        "outputId": "0ae8af18-bca2-4c84-f178-42b83d02a24c"
      },
      "execution_count": null,
      "outputs": [
        {
          "output_type": "stream",
          "name": "stdout",
          "text": [
            "Array before one encoding : \n",
            "[[1]\n",
            " [2]\n",
            " [6]\n",
            " [1]\n",
            " [8]\n",
            " [6]]\n",
            "Array after one hot encoding : \n",
            "[0 1 2 0 3 2]\n"
          ]
        },
        {
          "output_type": "stream",
          "name": "stderr",
          "text": [
            "/usr/local/lib/python3.7/dist-packages/sklearn/preprocessing/_label.py:115: DataConversionWarning: A column-vector y was passed when a 1d array was expected. Please change the shape of y to (n_samples, ), for example using ravel().\n",
            "  y = column_or_1d(y, warn=True)\n"
          ]
        }
      ]
    },
    {
      "cell_type": "markdown",
      "source": [
        "**Ordinal Encoder**<br>\n",
        "Encodes target with labels with values between 0 and K-1\n",
        "where K is number of distinct values.<br>\n",
        "It can also operate on multidimentional data.\n"
      ],
      "metadata": {
        "id": "6lg9Baco_0Bx"
      }
    },
    {
      "cell_type": "code",
      "source": [
        "from sklearn.preprocessing import OrdinalEncoder\n",
        "arr = np.array([[1, 'male'], [2,'female'], [6, 'female'], [1, 'male'], [8, 'male'], [6, 'female']])\n",
        "print(f'Array before one encoding : \\n{arr}')\n",
        "label = OrdinalEncoder()\n",
        "print(f'Array after one hot encoding : \\n{label.fit_transform(arr)}')"
      ],
      "metadata": {
        "colab": {
          "base_uri": "https://localhost:8080/"
        },
        "id": "wDbwPB4f9FOS",
        "outputId": "9cd7907f-e43f-4ed4-edf2-0a1f208a4c38"
      },
      "execution_count": null,
      "outputs": [
        {
          "output_type": "stream",
          "name": "stdout",
          "text": [
            "Array before one encoding : \n",
            "[['1' 'male']\n",
            " ['2' 'female']\n",
            " ['6' 'female']\n",
            " ['1' 'male']\n",
            " ['8' 'male']\n",
            " ['6' 'female']]\n",
            "Array after one hot encoding : \n",
            "[[0. 1.]\n",
            " [1. 0.]\n",
            " [2. 0.]\n",
            " [0. 1.]\n",
            " [3. 1.]\n",
            " [2. 0.]]\n"
          ]
        }
      ]
    },
    {
      "cell_type": "markdown",
      "source": [
        "### Filters\n",
        "1. Filter based\n",
        "2. Wrapper Based\n",
        "\n",
        "Can be accessed by sklearn.feature_selection"
      ],
      "metadata": {
        "id": "e5TF-WoUkRM2"
      }
    },
    {
      "cell_type": "code",
      "source": [
        "# Variance Threshold\n",
        "from sklearn.feature_selection import VarianceThreshold\n",
        "x = np.array([[1,1,1], [1,3,4], [1,2,4]])\n",
        "var = VarianceThreshold()\n",
        "print(x)\n",
        "print(\"After variance threshold applied:\")\n",
        "print(var.fit_transform(x))"
      ],
      "metadata": {
        "id": "K0TrAHWd9uUo",
        "colab": {
          "base_uri": "https://localhost:8080/"
        },
        "outputId": "e76cc8aa-1a27-4339-dc0a-b146c5116c44"
      },
      "execution_count": 3,
      "outputs": [
        {
          "output_type": "stream",
          "name": "stdout",
          "text": [
            "[[1 1 1]\n",
            " [1 3 4]\n",
            " [1 2 4]]\n",
            "After variance threshold applied:\n",
            "[[1 1]\n",
            " [3 4]\n",
            " [2 4]]\n"
          ]
        }
      ]
    },
    {
      "cell_type": "code",
      "source": [
        "print(f'Variance of column {x[:, 0]} is : {np.var(x[:, 0])}')\n",
        "print(f'Variance of column {x[:, 1]} is : {np.var(x[:, 1])}')\n",
        "print(f'Variance of column {x[:, 2]} is : {np.var(x[:, 2])}')"
      ],
      "metadata": {
        "colab": {
          "base_uri": "https://localhost:8080/"
        },
        "id": "40ss-G15nkBR",
        "outputId": "256ddb8f-97fd-45c0-bd7c-e93ab8213655"
      },
      "execution_count": 7,
      "outputs": [
        {
          "output_type": "stream",
          "name": "stdout",
          "text": [
            "Variance of column [1 1 1] is : 0.0\n",
            "Variance of column [1 3 2] is : 0.6666666666666666\n",
            "Variance of column [1 4 4] is : 2.0\n"
          ]
        }
      ]
    },
    {
      "cell_type": "code",
      "source": [
        "# Removes columns/features below a given threshold variance\n",
        "var1 = VarianceThreshold(0.65)\n",
        "var1.fit_transform(x)"
      ],
      "metadata": {
        "colab": {
          "base_uri": "https://localhost:8080/"
        },
        "id": "0qujwLki5-dq",
        "outputId": "19c6cc1a-502e-4995-d89e-b3bdc86b34b0"
      },
      "execution_count": 9,
      "outputs": [
        {
          "output_type": "execute_result",
          "data": {
            "text/plain": [
              "array([[1, 1],\n",
              "       [3, 4],\n",
              "       [2, 4]])"
            ]
          },
          "metadata": {},
          "execution_count": 9
        }
      ]
    },
    {
      "cell_type": "markdown",
      "source": [
        "### Column Transformer"
      ],
      "metadata": {
        "id": "t21o_1lipNq1"
      }
    },
    {
      "cell_type": "code",
      "source": [
        "from sklearn.compose import ColumnTransformer\n",
        "X = np.array([[20.0, 'male'], [11.2,'female'], [15.6, 'female'], [13.0, 'male'], [18.6, 'male'], [16.4, 'female']])\n",
        "column_trans = ColumnTransformer(\n",
        "    [('ageScaler', MaxAbsScaler(), [0]),\n",
        "     ('genderEncoder', OneHotEncoder(dtype='int'), [1])],\n",
        "     remainder='drop', verbose_feature_names_out=True)\n",
        "\n",
        "column_trans.fit_transform(X)"
      ],
      "metadata": {
        "id": "-JjFSUSv6qjy",
        "colab": {
          "base_uri": "https://localhost:8080/"
        },
        "outputId": "0111a6b2-9aa3-4947-b728-aa722f8c64b8"
      },
      "execution_count": 15,
      "outputs": [
        {
          "output_type": "execute_result",
          "data": {
            "text/plain": [
              "array([[1.  , 0.  , 1.  ],\n",
              "       [0.56, 1.  , 0.  ],\n",
              "       [0.78, 1.  , 0.  ],\n",
              "       [0.65, 0.  , 1.  ],\n",
              "       [0.93, 0.  , 1.  ],\n",
              "       [0.82, 1.  , 0.  ]])"
            ]
          },
          "metadata": {},
          "execution_count": 15
        }
      ]
    },
    {
      "cell_type": "markdown",
      "source": [
        "### Transforming target Regressor"
      ],
      "metadata": {
        "id": "TglgSk7mtvg0"
      }
    },
    {
      "cell_type": "code",
      "source": [
        "from sklearn.compose import TransformedTargetRegressor\n",
        "from sklearn.linear_model import LinearRegression\n",
        "\n",
        "tt = TransformedTargetRegressor(regressor=LinearRegression(),\n",
        "                                func = np.log, inverse_func=np.exp)\n",
        "\n",
        "X = np.arange(5).reshape(-1, 1)\n",
        "y = np.exp(2*X).reshape(-1)\n",
        "tt.fit(X, y)"
      ],
      "metadata": {
        "colab": {
          "base_uri": "https://localhost:8080/"
        },
        "id": "0lnfEbrLpu2n",
        "outputId": "f0f066ed-9a62-47cb-99e2-53acd6d8d981"
      },
      "execution_count": 21,
      "outputs": [
        {
          "output_type": "execute_result",
          "data": {
            "text/plain": [
              "TransformedTargetRegressor(func=<ufunc 'log'>, inverse_func=<ufunc 'exp'>,\n",
              "                           regressor=LinearRegression())"
            ]
          },
          "metadata": {},
          "execution_count": 21
        }
      ]
    },
    {
      "cell_type": "code",
      "source": [
        "tt.get_params()"
      ],
      "metadata": {
        "colab": {
          "base_uri": "https://localhost:8080/"
        },
        "id": "Qj4aP5q7uMwS",
        "outputId": "1ede0e91-c224-460e-b464-390de0b14316"
      },
      "execution_count": 22,
      "outputs": [
        {
          "output_type": "execute_result",
          "data": {
            "text/plain": [
              "{'check_inverse': True,\n",
              " 'func': <ufunc 'log'>,\n",
              " 'inverse_func': <ufunc 'exp'>,\n",
              " 'regressor': LinearRegression(),\n",
              " 'regressor__copy_X': True,\n",
              " 'regressor__fit_intercept': True,\n",
              " 'regressor__n_jobs': None,\n",
              " 'regressor__normalize': 'deprecated',\n",
              " 'regressor__positive': False,\n",
              " 'transformer': None}"
            ]
          },
          "metadata": {},
          "execution_count": 22
        }
      ]
    },
    {
      "cell_type": "markdown",
      "source": [
        "### Pipeline and Chaining Transformers"
      ],
      "metadata": {
        "id": "MuA9bN8OYBmu"
      }
    },
    {
      "cell_type": "code",
      "source": [
        ""
      ],
      "metadata": {
        "id": "cYjZ3aDZvCQ4"
      },
      "execution_count": null,
      "outputs": []
    }
  ]
}